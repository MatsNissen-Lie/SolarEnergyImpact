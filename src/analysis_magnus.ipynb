{
 "cells": [
  {
   "cell_type": "code",
   "execution_count": 278,
   "metadata": {},
   "outputs": [
    {
     "name": "stdout",
     "output_type": "stream",
     "text": [
      "The autoreload extension is already loaded. To reload it, use:\n",
      "  %reload_ext autoreload\n"
     ]
    }
   ],
   "source": [
    "%load_ext autoreload"
   ]
  },
  {
   "cell_type": "code",
   "execution_count": 279,
   "metadata": {},
   "outputs": [],
   "source": [
    "import pandas as pd\n",
    "import matplotlib.pyplot as plt\n",
    "import seaborn as sns\n",
    "import numpy as np\n",
    "\n",
    "\n",
    "pd.set_option('display.max_rows', 300)\n",
    "pd.set_option('display.max_columns', None)"
   ]
  },
  {
   "cell_type": "code",
   "execution_count": 280,
   "metadata": {},
   "outputs": [],
   "source": [
    "%autoreload\n",
    "from pipeline import Pipeline, BuilingIdsEnum\n",
    "from utils import plot_energy_usage, ColumnParam\n",
    "pipe = Pipeline()"
   ]
  },
  {
   "cell_type": "code",
   "execution_count": 281,
   "metadata": {},
   "outputs": [
    {
     "name": "stdout",
     "output_type": "stream",
     "text": [
      "columns: ['timestamp', 'value_import', 'value_export', 'solar_consumption', 'net_consumption', 'net_consumption_per_sqm', 'predicted_consumption', 'building', 'property_id', 'area', 'temperature', 'wind_speed', 'wind_direction', 'cloud_fraction', 'precipitation', 'spot_price_nok']\n"
     ]
    }
   ],
   "source": [
    "main_df = pipe.get_data(BuilingIdsEnum.MAIN)\n",
    "print(\"columns:\", list(main_df.columns))\n",
    "# ['timestamp', 'value_import', 'property_id', 'building', 'area', 'value_export', 'solar_consumption', 'temperature', 'wind_speed', 'wind_direction', 'cloud_fraction', 'precipitation']"
   ]
  },
  {
   "cell_type": "code",
   "execution_count": 282,
   "metadata": {},
   "outputs": [
    {
     "data": {
      "text/html": [
       "<div>\n",
       "<style scoped>\n",
       "    .dataframe tbody tr th:only-of-type {\n",
       "        vertical-align: middle;\n",
       "    }\n",
       "\n",
       "    .dataframe tbody tr th {\n",
       "        vertical-align: top;\n",
       "    }\n",
       "\n",
       "    .dataframe thead th {\n",
       "        text-align: right;\n",
       "    }\n",
       "</style>\n",
       "<table border=\"1\" class=\"dataframe\">\n",
       "  <thead>\n",
       "    <tr style=\"text-align: right;\">\n",
       "      <th></th>\n",
       "      <th>timestamp</th>\n",
       "      <th>value_import</th>\n",
       "      <th>value_export</th>\n",
       "      <th>solar_consumption</th>\n",
       "      <th>net_consumption</th>\n",
       "      <th>net_consumption_per_sqm</th>\n",
       "      <th>predicted_consumption</th>\n",
       "      <th>building</th>\n",
       "      <th>property_id</th>\n",
       "      <th>area</th>\n",
       "      <th>temperature</th>\n",
       "      <th>wind_speed</th>\n",
       "      <th>wind_direction</th>\n",
       "      <th>cloud_fraction</th>\n",
       "      <th>precipitation</th>\n",
       "      <th>spot_price_nok</th>\n",
       "    </tr>\n",
       "  </thead>\n",
       "  <tbody>\n",
       "    <tr>\n",
       "      <th>0</th>\n",
       "      <td>2023-07-01 00:00:00</td>\n",
       "      <td>27.5</td>\n",
       "      <td>0.0</td>\n",
       "      <td>0.000000</td>\n",
       "      <td>27.500000</td>\n",
       "      <td>0.022936</td>\n",
       "      <td>40.197586</td>\n",
       "      <td>main building</td>\n",
       "      <td>10724</td>\n",
       "      <td>1199</td>\n",
       "      <td>13.6</td>\n",
       "      <td>1.6</td>\n",
       "      <td>251.5</td>\n",
       "      <td>0.5</td>\n",
       "      <td>0.0</td>\n",
       "      <td>1.137242</td>\n",
       "    </tr>\n",
       "    <tr>\n",
       "      <th>1</th>\n",
       "      <td>2023-07-01 01:00:00</td>\n",
       "      <td>27.1</td>\n",
       "      <td>0.0</td>\n",
       "      <td>0.000000</td>\n",
       "      <td>27.100000</td>\n",
       "      <td>0.022602</td>\n",
       "      <td>39.341590</td>\n",
       "      <td>main building</td>\n",
       "      <td>10724</td>\n",
       "      <td>1199</td>\n",
       "      <td>13.2</td>\n",
       "      <td>2.0</td>\n",
       "      <td>246.5</td>\n",
       "      <td>0.4</td>\n",
       "      <td>0.0</td>\n",
       "      <td>1.075944</td>\n",
       "    </tr>\n",
       "    <tr>\n",
       "      <th>2</th>\n",
       "      <td>2023-07-01 02:00:00</td>\n",
       "      <td>26.8</td>\n",
       "      <td>0.0</td>\n",
       "      <td>0.000000</td>\n",
       "      <td>26.800000</td>\n",
       "      <td>0.022352</td>\n",
       "      <td>26.925701</td>\n",
       "      <td>main building</td>\n",
       "      <td>10724</td>\n",
       "      <td>1199</td>\n",
       "      <td>12.3</td>\n",
       "      <td>1.6</td>\n",
       "      <td>260.4</td>\n",
       "      <td>0.3</td>\n",
       "      <td>0.0</td>\n",
       "      <td>0.970594</td>\n",
       "    </tr>\n",
       "    <tr>\n",
       "      <th>3</th>\n",
       "      <td>2023-07-01 03:00:00</td>\n",
       "      <td>25.9</td>\n",
       "      <td>0.0</td>\n",
       "      <td>0.000000</td>\n",
       "      <td>25.900000</td>\n",
       "      <td>0.021601</td>\n",
       "      <td>25.161346</td>\n",
       "      <td>main building</td>\n",
       "      <td>10724</td>\n",
       "      <td>1199</td>\n",
       "      <td>11.9</td>\n",
       "      <td>0.6</td>\n",
       "      <td>285.0</td>\n",
       "      <td>0.9</td>\n",
       "      <td>0.0</td>\n",
       "      <td>0.908986</td>\n",
       "    </tr>\n",
       "    <tr>\n",
       "      <th>4</th>\n",
       "      <td>2023-07-01 04:00:00</td>\n",
       "      <td>26.4</td>\n",
       "      <td>0.0</td>\n",
       "      <td>0.000000</td>\n",
       "      <td>26.400000</td>\n",
       "      <td>0.022018</td>\n",
       "      <td>28.009222</td>\n",
       "      <td>main building</td>\n",
       "      <td>10724</td>\n",
       "      <td>1199</td>\n",
       "      <td>11.9</td>\n",
       "      <td>0.2</td>\n",
       "      <td>295.8</td>\n",
       "      <td>0.8</td>\n",
       "      <td>0.0</td>\n",
       "      <td>0.765118</td>\n",
       "    </tr>\n",
       "    <tr>\n",
       "      <th>...</th>\n",
       "      <td>...</td>\n",
       "      <td>...</td>\n",
       "      <td>...</td>\n",
       "      <td>...</td>\n",
       "      <td>...</td>\n",
       "      <td>...</td>\n",
       "      <td>...</td>\n",
       "      <td>...</td>\n",
       "      <td>...</td>\n",
       "      <td>...</td>\n",
       "      <td>...</td>\n",
       "      <td>...</td>\n",
       "      <td>...</td>\n",
       "      <td>...</td>\n",
       "      <td>...</td>\n",
       "      <td>...</td>\n",
       "    </tr>\n",
       "    <tr>\n",
       "      <th>10338</th>\n",
       "      <td>2024-09-03 18:00:00</td>\n",
       "      <td>37.4</td>\n",
       "      <td>0.0</td>\n",
       "      <td>0.184148</td>\n",
       "      <td>37.584148</td>\n",
       "      <td>0.031346</td>\n",
       "      <td>42.476562</td>\n",
       "      <td>main building</td>\n",
       "      <td>10724</td>\n",
       "      <td>1199</td>\n",
       "      <td>17.8</td>\n",
       "      <td>2.5</td>\n",
       "      <td>140.8</td>\n",
       "      <td>1.0</td>\n",
       "      <td>1.4</td>\n",
       "      <td>0.662337</td>\n",
       "    </tr>\n",
       "    <tr>\n",
       "      <th>10339</th>\n",
       "      <td>2024-09-03 19:00:00</td>\n",
       "      <td>29.2</td>\n",
       "      <td>0.0</td>\n",
       "      <td>0.157455</td>\n",
       "      <td>29.357455</td>\n",
       "      <td>0.024485</td>\n",
       "      <td>41.309350</td>\n",
       "      <td>main building</td>\n",
       "      <td>10724</td>\n",
       "      <td>1199</td>\n",
       "      <td>17.8</td>\n",
       "      <td>1.8</td>\n",
       "      <td>112.6</td>\n",
       "      <td>1.0</td>\n",
       "      <td>2.5</td>\n",
       "      <td>0.664547</td>\n",
       "    </tr>\n",
       "    <tr>\n",
       "      <th>10340</th>\n",
       "      <td>2024-09-03 20:00:00</td>\n",
       "      <td>28.9</td>\n",
       "      <td>0.0</td>\n",
       "      <td>0.017115</td>\n",
       "      <td>28.917115</td>\n",
       "      <td>0.024118</td>\n",
       "      <td>41.650190</td>\n",
       "      <td>main building</td>\n",
       "      <td>10724</td>\n",
       "      <td>1199</td>\n",
       "      <td>17.7</td>\n",
       "      <td>1.1</td>\n",
       "      <td>75.1</td>\n",
       "      <td>1.0</td>\n",
       "      <td>2.6</td>\n",
       "      <td>0.663151</td>\n",
       "    </tr>\n",
       "    <tr>\n",
       "      <th>10341</th>\n",
       "      <td>2024-09-03 21:00:00</td>\n",
       "      <td>35.0</td>\n",
       "      <td>0.0</td>\n",
       "      <td>0.018016</td>\n",
       "      <td>35.018016</td>\n",
       "      <td>0.029206</td>\n",
       "      <td>40.362083</td>\n",
       "      <td>main building</td>\n",
       "      <td>10724</td>\n",
       "      <td>1199</td>\n",
       "      <td>18.0</td>\n",
       "      <td>3.4</td>\n",
       "      <td>111.0</td>\n",
       "      <td>1.0</td>\n",
       "      <td>2.9</td>\n",
       "      <td>0.662221</td>\n",
       "    </tr>\n",
       "    <tr>\n",
       "      <th>10342</th>\n",
       "      <td>2024-09-03 22:00:00</td>\n",
       "      <td>52.1</td>\n",
       "      <td>0.0</td>\n",
       "      <td>0.000000</td>\n",
       "      <td>52.100000</td>\n",
       "      <td>0.043453</td>\n",
       "      <td>40.534622</td>\n",
       "      <td>main building</td>\n",
       "      <td>10724</td>\n",
       "      <td>1199</td>\n",
       "      <td>17.9</td>\n",
       "      <td>3.0</td>\n",
       "      <td>131.6</td>\n",
       "      <td>1.0</td>\n",
       "      <td>2.7</td>\n",
       "      <td>0.659081</td>\n",
       "    </tr>\n",
       "  </tbody>\n",
       "</table>\n",
       "<p>10343 rows × 16 columns</p>\n",
       "</div>"
      ],
      "text/plain": [
       "                timestamp  value_import  value_export  solar_consumption  \\\n",
       "0     2023-07-01 00:00:00          27.5           0.0           0.000000   \n",
       "1     2023-07-01 01:00:00          27.1           0.0           0.000000   \n",
       "2     2023-07-01 02:00:00          26.8           0.0           0.000000   \n",
       "3     2023-07-01 03:00:00          25.9           0.0           0.000000   \n",
       "4     2023-07-01 04:00:00          26.4           0.0           0.000000   \n",
       "...                   ...           ...           ...                ...   \n",
       "10338 2024-09-03 18:00:00          37.4           0.0           0.184148   \n",
       "10339 2024-09-03 19:00:00          29.2           0.0           0.157455   \n",
       "10340 2024-09-03 20:00:00          28.9           0.0           0.017115   \n",
       "10341 2024-09-03 21:00:00          35.0           0.0           0.018016   \n",
       "10342 2024-09-03 22:00:00          52.1           0.0           0.000000   \n",
       "\n",
       "       net_consumption  net_consumption_per_sqm  predicted_consumption  \\\n",
       "0            27.500000                 0.022936              40.197586   \n",
       "1            27.100000                 0.022602              39.341590   \n",
       "2            26.800000                 0.022352              26.925701   \n",
       "3            25.900000                 0.021601              25.161346   \n",
       "4            26.400000                 0.022018              28.009222   \n",
       "...                ...                      ...                    ...   \n",
       "10338        37.584148                 0.031346              42.476562   \n",
       "10339        29.357455                 0.024485              41.309350   \n",
       "10340        28.917115                 0.024118              41.650190   \n",
       "10341        35.018016                 0.029206              40.362083   \n",
       "10342        52.100000                 0.043453              40.534622   \n",
       "\n",
       "            building  property_id  area  temperature  wind_speed  \\\n",
       "0      main building        10724  1199         13.6         1.6   \n",
       "1      main building        10724  1199         13.2         2.0   \n",
       "2      main building        10724  1199         12.3         1.6   \n",
       "3      main building        10724  1199         11.9         0.6   \n",
       "4      main building        10724  1199         11.9         0.2   \n",
       "...              ...          ...   ...          ...         ...   \n",
       "10338  main building        10724  1199         17.8         2.5   \n",
       "10339  main building        10724  1199         17.8         1.8   \n",
       "10340  main building        10724  1199         17.7         1.1   \n",
       "10341  main building        10724  1199         18.0         3.4   \n",
       "10342  main building        10724  1199         17.9         3.0   \n",
       "\n",
       "       wind_direction  cloud_fraction  precipitation  spot_price_nok  \n",
       "0               251.5             0.5            0.0        1.137242  \n",
       "1               246.5             0.4            0.0        1.075944  \n",
       "2               260.4             0.3            0.0        0.970594  \n",
       "3               285.0             0.9            0.0        0.908986  \n",
       "4               295.8             0.8            0.0        0.765118  \n",
       "...               ...             ...            ...             ...  \n",
       "10338           140.8             1.0            1.4        0.662337  \n",
       "10339           112.6             1.0            2.5        0.664547  \n",
       "10340            75.1             1.0            2.6        0.663151  \n",
       "10341           111.0             1.0            2.9        0.662221  \n",
       "10342           131.6             1.0            2.7        0.659081  \n",
       "\n",
       "[10343 rows x 16 columns]"
      ]
     },
     "execution_count": 282,
     "metadata": {},
     "output_type": "execute_result"
    }
   ],
   "source": [
    "main_df"
   ]
  },
  {
   "cell_type": "code",
   "execution_count": 283,
   "metadata": {},
   "outputs": [
    {
     "data": {
      "text/html": [
       "<div>\n",
       "<style scoped>\n",
       "    .dataframe tbody tr th:only-of-type {\n",
       "        vertical-align: middle;\n",
       "    }\n",
       "\n",
       "    .dataframe tbody tr th {\n",
       "        vertical-align: top;\n",
       "    }\n",
       "\n",
       "    .dataframe thead th {\n",
       "        text-align: right;\n",
       "    }\n",
       "</style>\n",
       "<table border=\"1\" class=\"dataframe\">\n",
       "  <thead>\n",
       "    <tr style=\"text-align: right;\">\n",
       "      <th></th>\n",
       "      <th>timestamp</th>\n",
       "      <th>value_import</th>\n",
       "      <th>value_export</th>\n",
       "      <th>solar_consumption</th>\n",
       "      <th>net_consumption</th>\n",
       "      <th>net_consumption_per_sqm</th>\n",
       "      <th>predicted_consumption</th>\n",
       "      <th>building</th>\n",
       "      <th>property_id</th>\n",
       "      <th>area</th>\n",
       "      <th>temperature</th>\n",
       "      <th>wind_speed</th>\n",
       "      <th>wind_direction</th>\n",
       "      <th>cloud_fraction</th>\n",
       "      <th>precipitation</th>\n",
       "      <th>spot_price_nok</th>\n",
       "      <th>Cost_Net_Of_Sun</th>\n",
       "      <th>Cost_Gross</th>\n",
       "      <th>Gross_Consumption</th>\n",
       "      <th>Pred_Cost</th>\n",
       "    </tr>\n",
       "  </thead>\n",
       "  <tbody>\n",
       "    <tr>\n",
       "      <th>0</th>\n",
       "      <td>2023-07-01 00:00:00</td>\n",
       "      <td>27.5</td>\n",
       "      <td>0.0</td>\n",
       "      <td>0.000000</td>\n",
       "      <td>27.500000</td>\n",
       "      <td>0.022936</td>\n",
       "      <td>40.197586</td>\n",
       "      <td>main building</td>\n",
       "      <td>10724</td>\n",
       "      <td>1199</td>\n",
       "      <td>13.6</td>\n",
       "      <td>1.6</td>\n",
       "      <td>251.5</td>\n",
       "      <td>0.5</td>\n",
       "      <td>0.0</td>\n",
       "      <td>1.137242</td>\n",
       "      <td>31.274152</td>\n",
       "      <td>31.274152</td>\n",
       "      <td>27.500000</td>\n",
       "      <td>45.714379</td>\n",
       "    </tr>\n",
       "    <tr>\n",
       "      <th>1</th>\n",
       "      <td>2023-07-01 01:00:00</td>\n",
       "      <td>27.1</td>\n",
       "      <td>0.0</td>\n",
       "      <td>0.000000</td>\n",
       "      <td>27.100000</td>\n",
       "      <td>0.022602</td>\n",
       "      <td>39.341590</td>\n",
       "      <td>main building</td>\n",
       "      <td>10724</td>\n",
       "      <td>1199</td>\n",
       "      <td>13.2</td>\n",
       "      <td>2.0</td>\n",
       "      <td>246.5</td>\n",
       "      <td>0.4</td>\n",
       "      <td>0.0</td>\n",
       "      <td>1.075944</td>\n",
       "      <td>29.158077</td>\n",
       "      <td>29.158077</td>\n",
       "      <td>27.100000</td>\n",
       "      <td>42.329340</td>\n",
       "    </tr>\n",
       "    <tr>\n",
       "      <th>2</th>\n",
       "      <td>2023-07-01 02:00:00</td>\n",
       "      <td>26.8</td>\n",
       "      <td>0.0</td>\n",
       "      <td>0.000000</td>\n",
       "      <td>26.800000</td>\n",
       "      <td>0.022352</td>\n",
       "      <td>26.925701</td>\n",
       "      <td>main building</td>\n",
       "      <td>10724</td>\n",
       "      <td>1199</td>\n",
       "      <td>12.3</td>\n",
       "      <td>1.6</td>\n",
       "      <td>260.4</td>\n",
       "      <td>0.3</td>\n",
       "      <td>0.0</td>\n",
       "      <td>0.970594</td>\n",
       "      <td>26.011911</td>\n",
       "      <td>26.011911</td>\n",
       "      <td>26.800000</td>\n",
       "      <td>26.133916</td>\n",
       "    </tr>\n",
       "    <tr>\n",
       "      <th>3</th>\n",
       "      <td>2023-07-01 03:00:00</td>\n",
       "      <td>25.9</td>\n",
       "      <td>0.0</td>\n",
       "      <td>0.000000</td>\n",
       "      <td>25.900000</td>\n",
       "      <td>0.021601</td>\n",
       "      <td>25.161346</td>\n",
       "      <td>main building</td>\n",
       "      <td>10724</td>\n",
       "      <td>1199</td>\n",
       "      <td>11.9</td>\n",
       "      <td>0.6</td>\n",
       "      <td>285.0</td>\n",
       "      <td>0.9</td>\n",
       "      <td>0.0</td>\n",
       "      <td>0.908986</td>\n",
       "      <td>23.542733</td>\n",
       "      <td>23.542733</td>\n",
       "      <td>25.900000</td>\n",
       "      <td>22.871307</td>\n",
       "    </tr>\n",
       "    <tr>\n",
       "      <th>4</th>\n",
       "      <td>2023-07-01 04:00:00</td>\n",
       "      <td>26.4</td>\n",
       "      <td>0.0</td>\n",
       "      <td>0.000000</td>\n",
       "      <td>26.400000</td>\n",
       "      <td>0.022018</td>\n",
       "      <td>28.009222</td>\n",
       "      <td>main building</td>\n",
       "      <td>10724</td>\n",
       "      <td>1199</td>\n",
       "      <td>11.9</td>\n",
       "      <td>0.2</td>\n",
       "      <td>295.8</td>\n",
       "      <td>0.8</td>\n",
       "      <td>0.0</td>\n",
       "      <td>0.765118</td>\n",
       "      <td>20.199109</td>\n",
       "      <td>20.199109</td>\n",
       "      <td>26.400000</td>\n",
       "      <td>21.430354</td>\n",
       "    </tr>\n",
       "    <tr>\n",
       "      <th>...</th>\n",
       "      <td>...</td>\n",
       "      <td>...</td>\n",
       "      <td>...</td>\n",
       "      <td>...</td>\n",
       "      <td>...</td>\n",
       "      <td>...</td>\n",
       "      <td>...</td>\n",
       "      <td>...</td>\n",
       "      <td>...</td>\n",
       "      <td>...</td>\n",
       "      <td>...</td>\n",
       "      <td>...</td>\n",
       "      <td>...</td>\n",
       "      <td>...</td>\n",
       "      <td>...</td>\n",
       "      <td>...</td>\n",
       "      <td>...</td>\n",
       "      <td>...</td>\n",
       "      <td>...</td>\n",
       "      <td>...</td>\n",
       "    </tr>\n",
       "    <tr>\n",
       "      <th>10338</th>\n",
       "      <td>2024-09-03 18:00:00</td>\n",
       "      <td>37.4</td>\n",
       "      <td>0.0</td>\n",
       "      <td>0.184148</td>\n",
       "      <td>37.584148</td>\n",
       "      <td>0.031346</td>\n",
       "      <td>42.476562</td>\n",
       "      <td>main building</td>\n",
       "      <td>10724</td>\n",
       "      <td>1199</td>\n",
       "      <td>17.8</td>\n",
       "      <td>2.5</td>\n",
       "      <td>140.8</td>\n",
       "      <td>1.0</td>\n",
       "      <td>1.4</td>\n",
       "      <td>0.662337</td>\n",
       "      <td>24.771409</td>\n",
       "      <td>24.893377</td>\n",
       "      <td>37.584148</td>\n",
       "      <td>28.133804</td>\n",
       "    </tr>\n",
       "    <tr>\n",
       "      <th>10339</th>\n",
       "      <td>2024-09-03 19:00:00</td>\n",
       "      <td>29.2</td>\n",
       "      <td>0.0</td>\n",
       "      <td>0.157455</td>\n",
       "      <td>29.357455</td>\n",
       "      <td>0.024485</td>\n",
       "      <td>41.309350</td>\n",
       "      <td>main building</td>\n",
       "      <td>10724</td>\n",
       "      <td>1199</td>\n",
       "      <td>17.8</td>\n",
       "      <td>1.8</td>\n",
       "      <td>112.6</td>\n",
       "      <td>1.0</td>\n",
       "      <td>2.5</td>\n",
       "      <td>0.664547</td>\n",
       "      <td>19.404758</td>\n",
       "      <td>19.509394</td>\n",
       "      <td>29.357455</td>\n",
       "      <td>27.451984</td>\n",
       "    </tr>\n",
       "    <tr>\n",
       "      <th>10340</th>\n",
       "      <td>2024-09-03 20:00:00</td>\n",
       "      <td>28.9</td>\n",
       "      <td>0.0</td>\n",
       "      <td>0.017115</td>\n",
       "      <td>28.917115</td>\n",
       "      <td>0.024118</td>\n",
       "      <td>41.650190</td>\n",
       "      <td>main building</td>\n",
       "      <td>10724</td>\n",
       "      <td>1199</td>\n",
       "      <td>17.7</td>\n",
       "      <td>1.1</td>\n",
       "      <td>75.1</td>\n",
       "      <td>1.0</td>\n",
       "      <td>2.6</td>\n",
       "      <td>0.663151</td>\n",
       "      <td>19.165067</td>\n",
       "      <td>19.176416</td>\n",
       "      <td>28.917115</td>\n",
       "      <td>27.620369</td>\n",
       "    </tr>\n",
       "    <tr>\n",
       "      <th>10341</th>\n",
       "      <td>2024-09-03 21:00:00</td>\n",
       "      <td>35.0</td>\n",
       "      <td>0.0</td>\n",
       "      <td>0.018016</td>\n",
       "      <td>35.018016</td>\n",
       "      <td>0.029206</td>\n",
       "      <td>40.362083</td>\n",
       "      <td>main building</td>\n",
       "      <td>10724</td>\n",
       "      <td>1199</td>\n",
       "      <td>18.0</td>\n",
       "      <td>3.4</td>\n",
       "      <td>111.0</td>\n",
       "      <td>1.0</td>\n",
       "      <td>2.9</td>\n",
       "      <td>0.662221</td>\n",
       "      <td>23.177731</td>\n",
       "      <td>23.189661</td>\n",
       "      <td>35.018016</td>\n",
       "      <td>26.728614</td>\n",
       "    </tr>\n",
       "    <tr>\n",
       "      <th>10342</th>\n",
       "      <td>2024-09-03 22:00:00</td>\n",
       "      <td>52.1</td>\n",
       "      <td>0.0</td>\n",
       "      <td>0.000000</td>\n",
       "      <td>52.100000</td>\n",
       "      <td>0.043453</td>\n",
       "      <td>40.534622</td>\n",
       "      <td>main building</td>\n",
       "      <td>10724</td>\n",
       "      <td>1199</td>\n",
       "      <td>17.9</td>\n",
       "      <td>3.0</td>\n",
       "      <td>131.6</td>\n",
       "      <td>1.0</td>\n",
       "      <td>2.7</td>\n",
       "      <td>0.659081</td>\n",
       "      <td>34.338134</td>\n",
       "      <td>34.338134</td>\n",
       "      <td>52.100000</td>\n",
       "      <td>26.715610</td>\n",
       "    </tr>\n",
       "  </tbody>\n",
       "</table>\n",
       "<p>10343 rows × 20 columns</p>\n",
       "</div>"
      ],
      "text/plain": [
       "                timestamp  value_import  value_export  solar_consumption  \\\n",
       "0     2023-07-01 00:00:00          27.5           0.0           0.000000   \n",
       "1     2023-07-01 01:00:00          27.1           0.0           0.000000   \n",
       "2     2023-07-01 02:00:00          26.8           0.0           0.000000   \n",
       "3     2023-07-01 03:00:00          25.9           0.0           0.000000   \n",
       "4     2023-07-01 04:00:00          26.4           0.0           0.000000   \n",
       "...                   ...           ...           ...                ...   \n",
       "10338 2024-09-03 18:00:00          37.4           0.0           0.184148   \n",
       "10339 2024-09-03 19:00:00          29.2           0.0           0.157455   \n",
       "10340 2024-09-03 20:00:00          28.9           0.0           0.017115   \n",
       "10341 2024-09-03 21:00:00          35.0           0.0           0.018016   \n",
       "10342 2024-09-03 22:00:00          52.1           0.0           0.000000   \n",
       "\n",
       "       net_consumption  net_consumption_per_sqm  predicted_consumption  \\\n",
       "0            27.500000                 0.022936              40.197586   \n",
       "1            27.100000                 0.022602              39.341590   \n",
       "2            26.800000                 0.022352              26.925701   \n",
       "3            25.900000                 0.021601              25.161346   \n",
       "4            26.400000                 0.022018              28.009222   \n",
       "...                ...                      ...                    ...   \n",
       "10338        37.584148                 0.031346              42.476562   \n",
       "10339        29.357455                 0.024485              41.309350   \n",
       "10340        28.917115                 0.024118              41.650190   \n",
       "10341        35.018016                 0.029206              40.362083   \n",
       "10342        52.100000                 0.043453              40.534622   \n",
       "\n",
       "            building  property_id  area  temperature  wind_speed  \\\n",
       "0      main building        10724  1199         13.6         1.6   \n",
       "1      main building        10724  1199         13.2         2.0   \n",
       "2      main building        10724  1199         12.3         1.6   \n",
       "3      main building        10724  1199         11.9         0.6   \n",
       "4      main building        10724  1199         11.9         0.2   \n",
       "...              ...          ...   ...          ...         ...   \n",
       "10338  main building        10724  1199         17.8         2.5   \n",
       "10339  main building        10724  1199         17.8         1.8   \n",
       "10340  main building        10724  1199         17.7         1.1   \n",
       "10341  main building        10724  1199         18.0         3.4   \n",
       "10342  main building        10724  1199         17.9         3.0   \n",
       "\n",
       "       wind_direction  cloud_fraction  precipitation  spot_price_nok  \\\n",
       "0               251.5             0.5            0.0        1.137242   \n",
       "1               246.5             0.4            0.0        1.075944   \n",
       "2               260.4             0.3            0.0        0.970594   \n",
       "3               285.0             0.9            0.0        0.908986   \n",
       "4               295.8             0.8            0.0        0.765118   \n",
       "...               ...             ...            ...             ...   \n",
       "10338           140.8             1.0            1.4        0.662337   \n",
       "10339           112.6             1.0            2.5        0.664547   \n",
       "10340            75.1             1.0            2.6        0.663151   \n",
       "10341           111.0             1.0            2.9        0.662221   \n",
       "10342           131.6             1.0            2.7        0.659081   \n",
       "\n",
       "       Cost_Net_Of_Sun  Cost_Gross  Gross_Consumption  Pred_Cost  \n",
       "0            31.274152   31.274152          27.500000  45.714379  \n",
       "1            29.158077   29.158077          27.100000  42.329340  \n",
       "2            26.011911   26.011911          26.800000  26.133916  \n",
       "3            23.542733   23.542733          25.900000  22.871307  \n",
       "4            20.199109   20.199109          26.400000  21.430354  \n",
       "...                ...         ...                ...        ...  \n",
       "10338        24.771409   24.893377          37.584148  28.133804  \n",
       "10339        19.404758   19.509394          29.357455  27.451984  \n",
       "10340        19.165067   19.176416          28.917115  27.620369  \n",
       "10341        23.177731   23.189661          35.018016  26.728614  \n",
       "10342        34.338134   34.338134          52.100000  26.715610  \n",
       "\n",
       "[10343 rows x 20 columns]"
      ]
     },
     "execution_count": 283,
     "metadata": {},
     "output_type": "execute_result"
    }
   ],
   "source": [
    "#Finding the cost for each hour\n",
    "main_df['Cost_Net_Of_Sun']=(main_df['value_import']-main_df['value_export'])*main_df['spot_price_nok']\n",
    "main_df['Cost_Gross']=(main_df['value_import']+main_df['solar_consumption'])*main_df['spot_price_nok']\n",
    "main_df['Gross_Consumption']=main_df['value_import']+main_df['solar_consumption']\n",
    "main_df['Pred_Cost']=main_df['predicted_consumption']*main_df['spot_price_nok']\n",
    "\n",
    "main_df"
   ]
  },
  {
   "cell_type": "code",
   "execution_count": 284,
   "metadata": {},
   "outputs": [
    {
     "data": {
      "application/vnd.plotly.v1+json": {
       "config": {
        "plotlyServerURL": "https://plot.ly"
       },
       "data": [
        {
         "line": {
          "color": "rgba(255, 0, 0, 0.9)"
         },
         "mode": "lines",
         "name": "main building",
         "type": "scatter",
         "x": [
          "2023-08-31T00:00:00",
          "2023-09-30T00:00:00",
          "2023-10-31T00:00:00",
          "2023-11-30T00:00:00",
          "2023-12-31T00:00:00",
          "2024-01-31T00:00:00",
          "2024-02-29T00:00:00",
          "2024-03-31T00:00:00",
          "2024-04-30T00:00:00",
          "2024-05-31T00:00:00",
          "2024-06-30T00:00:00",
          "2024-07-31T00:00:00",
          "2024-08-31T00:00:00"
         ],
         "y": [
          22179,
          23088.59,
          24697.43,
          27018.01,
          30256.4,
          31376.9,
          24775.56,
          22989.2,
          19065.4,
          16361.7,
          17280.8,
          20978.3,
          23460.9
         ]
        },
        {
         "line": {
          "color": "rgba(0, 0, 255, 0.9)"
         },
         "mode": "lines",
         "name": "building a",
         "type": "scatter",
         "x": [
          "2023-08-31T00:00:00",
          "2023-09-30T00:00:00",
          "2023-10-31T00:00:00",
          "2023-11-30T00:00:00",
          "2023-12-31T00:00:00",
          "2024-01-31T00:00:00",
          "2024-02-29T00:00:00",
          "2024-03-31T00:00:00",
          "2024-04-30T00:00:00",
          "2024-05-31T00:00:00",
          "2024-06-30T00:00:00",
          "2024-07-31T00:00:00",
          "2024-08-31T00:00:00"
         ],
         "y": [
          25384.8,
          22357.8,
          21420.5,
          22667,
          24428.6,
          25453.8,
          22909.4,
          23305.56,
          22440.2,
          26163,
          24714.6,
          29900,
          25404.4
         ]
        },
        {
         "line": {
          "color": "rgba(0, 128, 0, 0.9)"
         },
         "mode": "lines",
         "name": "building b",
         "type": "scatter",
         "x": [
          "2023-08-31T00:00:00",
          "2023-09-30T00:00:00",
          "2023-10-31T00:00:00",
          "2023-11-30T00:00:00",
          "2023-12-31T00:00:00",
          "2024-01-31T00:00:00",
          "2024-02-29T00:00:00",
          "2024-03-31T00:00:00",
          "2024-04-30T00:00:00",
          "2024-05-31T00:00:00",
          "2024-06-30T00:00:00",
          "2024-07-31T00:00:00",
          "2024-08-31T00:00:00"
         ],
         "y": [
          20469.4,
          19310.56,
          20869.36,
          22739.36,
          26557.36,
          27557.68,
          22394.56,
          21510.17,
          16893.2,
          17021.76,
          16411.28,
          19167.2,
          19327.05
         ]
        },
        {
         "line": {
          "color": "rgba(255, 165, 0, 0.9)"
         },
         "mode": "lines",
         "name": "building c",
         "type": "scatter",
         "x": [
          "2023-08-31T00:00:00",
          "2023-09-30T00:00:00",
          "2023-10-31T00:00:00",
          "2023-11-30T00:00:00",
          "2023-12-31T00:00:00",
          "2024-01-31T00:00:00",
          "2024-02-29T00:00:00",
          "2024-03-31T00:00:00",
          "2024-04-30T00:00:00",
          "2024-05-31T00:00:00",
          "2024-06-30T00:00:00",
          "2024-07-31T00:00:00",
          "2024-08-31T00:00:00"
         ],
         "y": [
          37984.4,
          33962.3,
          30359.33,
          29463.16,
          30308.04,
          30963.9,
          28799.28,
          29229.72,
          28654.7,
          31222.9,
          30601.03,
          32335,
          31832.53
         ]
        }
       ],
       "layout": {
        "height": 600,
        "hovermode": "x unified",
        "showlegend": true,
        "template": {
         "data": {
          "bar": [
           {
            "error_x": {
             "color": "#2a3f5f"
            },
            "error_y": {
             "color": "#2a3f5f"
            },
            "marker": {
             "line": {
              "color": "#E5ECF6",
              "width": 0.5
             },
             "pattern": {
              "fillmode": "overlay",
              "size": 10,
              "solidity": 0.2
             }
            },
            "type": "bar"
           }
          ],
          "barpolar": [
           {
            "marker": {
             "line": {
              "color": "#E5ECF6",
              "width": 0.5
             },
             "pattern": {
              "fillmode": "overlay",
              "size": 10,
              "solidity": 0.2
             }
            },
            "type": "barpolar"
           }
          ],
          "carpet": [
           {
            "aaxis": {
             "endlinecolor": "#2a3f5f",
             "gridcolor": "white",
             "linecolor": "white",
             "minorgridcolor": "white",
             "startlinecolor": "#2a3f5f"
            },
            "baxis": {
             "endlinecolor": "#2a3f5f",
             "gridcolor": "white",
             "linecolor": "white",
             "minorgridcolor": "white",
             "startlinecolor": "#2a3f5f"
            },
            "type": "carpet"
           }
          ],
          "choropleth": [
           {
            "colorbar": {
             "outlinewidth": 0,
             "ticks": ""
            },
            "type": "choropleth"
           }
          ],
          "contour": [
           {
            "colorbar": {
             "outlinewidth": 0,
             "ticks": ""
            },
            "colorscale": [
             [
              0,
              "#0d0887"
             ],
             [
              0.1111111111111111,
              "#46039f"
             ],
             [
              0.2222222222222222,
              "#7201a8"
             ],
             [
              0.3333333333333333,
              "#9c179e"
             ],
             [
              0.4444444444444444,
              "#bd3786"
             ],
             [
              0.5555555555555556,
              "#d8576b"
             ],
             [
              0.6666666666666666,
              "#ed7953"
             ],
             [
              0.7777777777777778,
              "#fb9f3a"
             ],
             [
              0.8888888888888888,
              "#fdca26"
             ],
             [
              1,
              "#f0f921"
             ]
            ],
            "type": "contour"
           }
          ],
          "contourcarpet": [
           {
            "colorbar": {
             "outlinewidth": 0,
             "ticks": ""
            },
            "type": "contourcarpet"
           }
          ],
          "heatmap": [
           {
            "colorbar": {
             "outlinewidth": 0,
             "ticks": ""
            },
            "colorscale": [
             [
              0,
              "#0d0887"
             ],
             [
              0.1111111111111111,
              "#46039f"
             ],
             [
              0.2222222222222222,
              "#7201a8"
             ],
             [
              0.3333333333333333,
              "#9c179e"
             ],
             [
              0.4444444444444444,
              "#bd3786"
             ],
             [
              0.5555555555555556,
              "#d8576b"
             ],
             [
              0.6666666666666666,
              "#ed7953"
             ],
             [
              0.7777777777777778,
              "#fb9f3a"
             ],
             [
              0.8888888888888888,
              "#fdca26"
             ],
             [
              1,
              "#f0f921"
             ]
            ],
            "type": "heatmap"
           }
          ],
          "heatmapgl": [
           {
            "colorbar": {
             "outlinewidth": 0,
             "ticks": ""
            },
            "colorscale": [
             [
              0,
              "#0d0887"
             ],
             [
              0.1111111111111111,
              "#46039f"
             ],
             [
              0.2222222222222222,
              "#7201a8"
             ],
             [
              0.3333333333333333,
              "#9c179e"
             ],
             [
              0.4444444444444444,
              "#bd3786"
             ],
             [
              0.5555555555555556,
              "#d8576b"
             ],
             [
              0.6666666666666666,
              "#ed7953"
             ],
             [
              0.7777777777777778,
              "#fb9f3a"
             ],
             [
              0.8888888888888888,
              "#fdca26"
             ],
             [
              1,
              "#f0f921"
             ]
            ],
            "type": "heatmapgl"
           }
          ],
          "histogram": [
           {
            "marker": {
             "pattern": {
              "fillmode": "overlay",
              "size": 10,
              "solidity": 0.2
             }
            },
            "type": "histogram"
           }
          ],
          "histogram2d": [
           {
            "colorbar": {
             "outlinewidth": 0,
             "ticks": ""
            },
            "colorscale": [
             [
              0,
              "#0d0887"
             ],
             [
              0.1111111111111111,
              "#46039f"
             ],
             [
              0.2222222222222222,
              "#7201a8"
             ],
             [
              0.3333333333333333,
              "#9c179e"
             ],
             [
              0.4444444444444444,
              "#bd3786"
             ],
             [
              0.5555555555555556,
              "#d8576b"
             ],
             [
              0.6666666666666666,
              "#ed7953"
             ],
             [
              0.7777777777777778,
              "#fb9f3a"
             ],
             [
              0.8888888888888888,
              "#fdca26"
             ],
             [
              1,
              "#f0f921"
             ]
            ],
            "type": "histogram2d"
           }
          ],
          "histogram2dcontour": [
           {
            "colorbar": {
             "outlinewidth": 0,
             "ticks": ""
            },
            "colorscale": [
             [
              0,
              "#0d0887"
             ],
             [
              0.1111111111111111,
              "#46039f"
             ],
             [
              0.2222222222222222,
              "#7201a8"
             ],
             [
              0.3333333333333333,
              "#9c179e"
             ],
             [
              0.4444444444444444,
              "#bd3786"
             ],
             [
              0.5555555555555556,
              "#d8576b"
             ],
             [
              0.6666666666666666,
              "#ed7953"
             ],
             [
              0.7777777777777778,
              "#fb9f3a"
             ],
             [
              0.8888888888888888,
              "#fdca26"
             ],
             [
              1,
              "#f0f921"
             ]
            ],
            "type": "histogram2dcontour"
           }
          ],
          "mesh3d": [
           {
            "colorbar": {
             "outlinewidth": 0,
             "ticks": ""
            },
            "type": "mesh3d"
           }
          ],
          "parcoords": [
           {
            "line": {
             "colorbar": {
              "outlinewidth": 0,
              "ticks": ""
             }
            },
            "type": "parcoords"
           }
          ],
          "pie": [
           {
            "automargin": true,
            "type": "pie"
           }
          ],
          "scatter": [
           {
            "fillpattern": {
             "fillmode": "overlay",
             "size": 10,
             "solidity": 0.2
            },
            "type": "scatter"
           }
          ],
          "scatter3d": [
           {
            "line": {
             "colorbar": {
              "outlinewidth": 0,
              "ticks": ""
             }
            },
            "marker": {
             "colorbar": {
              "outlinewidth": 0,
              "ticks": ""
             }
            },
            "type": "scatter3d"
           }
          ],
          "scattercarpet": [
           {
            "marker": {
             "colorbar": {
              "outlinewidth": 0,
              "ticks": ""
             }
            },
            "type": "scattercarpet"
           }
          ],
          "scattergeo": [
           {
            "marker": {
             "colorbar": {
              "outlinewidth": 0,
              "ticks": ""
             }
            },
            "type": "scattergeo"
           }
          ],
          "scattergl": [
           {
            "marker": {
             "colorbar": {
              "outlinewidth": 0,
              "ticks": ""
             }
            },
            "type": "scattergl"
           }
          ],
          "scattermapbox": [
           {
            "marker": {
             "colorbar": {
              "outlinewidth": 0,
              "ticks": ""
             }
            },
            "type": "scattermapbox"
           }
          ],
          "scatterpolar": [
           {
            "marker": {
             "colorbar": {
              "outlinewidth": 0,
              "ticks": ""
             }
            },
            "type": "scatterpolar"
           }
          ],
          "scatterpolargl": [
           {
            "marker": {
             "colorbar": {
              "outlinewidth": 0,
              "ticks": ""
             }
            },
            "type": "scatterpolargl"
           }
          ],
          "scatterternary": [
           {
            "marker": {
             "colorbar": {
              "outlinewidth": 0,
              "ticks": ""
             }
            },
            "type": "scatterternary"
           }
          ],
          "surface": [
           {
            "colorbar": {
             "outlinewidth": 0,
             "ticks": ""
            },
            "colorscale": [
             [
              0,
              "#0d0887"
             ],
             [
              0.1111111111111111,
              "#46039f"
             ],
             [
              0.2222222222222222,
              "#7201a8"
             ],
             [
              0.3333333333333333,
              "#9c179e"
             ],
             [
              0.4444444444444444,
              "#bd3786"
             ],
             [
              0.5555555555555556,
              "#d8576b"
             ],
             [
              0.6666666666666666,
              "#ed7953"
             ],
             [
              0.7777777777777778,
              "#fb9f3a"
             ],
             [
              0.8888888888888888,
              "#fdca26"
             ],
             [
              1,
              "#f0f921"
             ]
            ],
            "type": "surface"
           }
          ],
          "table": [
           {
            "cells": {
             "fill": {
              "color": "#EBF0F8"
             },
             "line": {
              "color": "white"
             }
            },
            "header": {
             "fill": {
              "color": "#C8D4E3"
             },
             "line": {
              "color": "white"
             }
            },
            "type": "table"
           }
          ]
         },
         "layout": {
          "annotationdefaults": {
           "arrowcolor": "#2a3f5f",
           "arrowhead": 0,
           "arrowwidth": 1
          },
          "autotypenumbers": "strict",
          "coloraxis": {
           "colorbar": {
            "outlinewidth": 0,
            "ticks": ""
           }
          },
          "colorscale": {
           "diverging": [
            [
             0,
             "#8e0152"
            ],
            [
             0.1,
             "#c51b7d"
            ],
            [
             0.2,
             "#de77ae"
            ],
            [
             0.3,
             "#f1b6da"
            ],
            [
             0.4,
             "#fde0ef"
            ],
            [
             0.5,
             "#f7f7f7"
            ],
            [
             0.6,
             "#e6f5d0"
            ],
            [
             0.7,
             "#b8e186"
            ],
            [
             0.8,
             "#7fbc41"
            ],
            [
             0.9,
             "#4d9221"
            ],
            [
             1,
             "#276419"
            ]
           ],
           "sequential": [
            [
             0,
             "#0d0887"
            ],
            [
             0.1111111111111111,
             "#46039f"
            ],
            [
             0.2222222222222222,
             "#7201a8"
            ],
            [
             0.3333333333333333,
             "#9c179e"
            ],
            [
             0.4444444444444444,
             "#bd3786"
            ],
            [
             0.5555555555555556,
             "#d8576b"
            ],
            [
             0.6666666666666666,
             "#ed7953"
            ],
            [
             0.7777777777777778,
             "#fb9f3a"
            ],
            [
             0.8888888888888888,
             "#fdca26"
            ],
            [
             1,
             "#f0f921"
            ]
           ],
           "sequentialminus": [
            [
             0,
             "#0d0887"
            ],
            [
             0.1111111111111111,
             "#46039f"
            ],
            [
             0.2222222222222222,
             "#7201a8"
            ],
            [
             0.3333333333333333,
             "#9c179e"
            ],
            [
             0.4444444444444444,
             "#bd3786"
            ],
            [
             0.5555555555555556,
             "#d8576b"
            ],
            [
             0.6666666666666666,
             "#ed7953"
            ],
            [
             0.7777777777777778,
             "#fb9f3a"
            ],
            [
             0.8888888888888888,
             "#fdca26"
            ],
            [
             1,
             "#f0f921"
            ]
           ]
          },
          "colorway": [
           "#636efa",
           "#EF553B",
           "#00cc96",
           "#ab63fa",
           "#FFA15A",
           "#19d3f3",
           "#FF6692",
           "#B6E880",
           "#FF97FF",
           "#FECB52"
          ],
          "font": {
           "color": "#2a3f5f"
          },
          "geo": {
           "bgcolor": "white",
           "lakecolor": "white",
           "landcolor": "#E5ECF6",
           "showlakes": true,
           "showland": true,
           "subunitcolor": "white"
          },
          "hoverlabel": {
           "align": "left"
          },
          "hovermode": "closest",
          "mapbox": {
           "style": "light"
          },
          "paper_bgcolor": "white",
          "plot_bgcolor": "#E5ECF6",
          "polar": {
           "angularaxis": {
            "gridcolor": "white",
            "linecolor": "white",
            "ticks": ""
           },
           "bgcolor": "#E5ECF6",
           "radialaxis": {
            "gridcolor": "white",
            "linecolor": "white",
            "ticks": ""
           }
          },
          "scene": {
           "xaxis": {
            "backgroundcolor": "#E5ECF6",
            "gridcolor": "white",
            "gridwidth": 2,
            "linecolor": "white",
            "showbackground": true,
            "ticks": "",
            "zerolinecolor": "white"
           },
           "yaxis": {
            "backgroundcolor": "#E5ECF6",
            "gridcolor": "white",
            "gridwidth": 2,
            "linecolor": "white",
            "showbackground": true,
            "ticks": "",
            "zerolinecolor": "white"
           },
           "zaxis": {
            "backgroundcolor": "#E5ECF6",
            "gridcolor": "white",
            "gridwidth": 2,
            "linecolor": "white",
            "showbackground": true,
            "ticks": "",
            "zerolinecolor": "white"
           }
          },
          "shapedefaults": {
           "line": {
            "color": "#2a3f5f"
           }
          },
          "ternary": {
           "aaxis": {
            "gridcolor": "white",
            "linecolor": "white",
            "ticks": ""
           },
           "baxis": {
            "gridcolor": "white",
            "linecolor": "white",
            "ticks": ""
           },
           "bgcolor": "#E5ECF6",
           "caxis": {
            "gridcolor": "white",
            "linecolor": "white",
            "ticks": ""
           }
          },
          "title": {
           "x": 0.05
          },
          "xaxis": {
           "automargin": true,
           "gridcolor": "white",
           "linecolor": "white",
           "ticks": "",
           "title": {
            "standoff": 15
           },
           "zerolinecolor": "white",
           "zerolinewidth": 2
          },
          "yaxis": {
           "automargin": true,
           "gridcolor": "white",
           "linecolor": "white",
           "ticks": "",
           "title": {
            "standoff": 15
           },
           "zerolinecolor": "white",
           "zerolinewidth": 2
          }
         }
        },
        "title": {
         "text": "monthly Energy Usage Comparison"
        },
        "xaxis": {
         "rangeselector": {
          "buttons": [
           {
            "count": 1,
            "label": "1d",
            "step": "day",
            "stepmode": "backward"
           },
           {
            "count": 7,
            "label": "1w",
            "step": "day",
            "stepmode": "backward"
           },
           {
            "count": 1,
            "label": "1m",
            "step": "month",
            "stepmode": "backward"
           },
           {
            "step": "all"
           }
          ]
         },
         "rangeslider": {
          "visible": true
         },
         "title": {
          "text": "Datetime"
         },
         "type": "date"
        },
        "yaxis": {
         "title": {
          "text": "Energy [kWh]"
         }
        }
       }
      }
     },
     "metadata": {},
     "output_type": "display_data"
    }
   ],
   "source": [
    "merged_df, cols =pipe.select_and_merge_datasets([\"value_import\"], periode=\"m\")\n",
    "merged_df = merged_df.iloc[1:-1]\n",
    "    \n",
    "plot_energy_usage(merged_df, cols,\n",
    "                    titel=\"monthly Energy Usage Comparison\",\n",
    "                    yaxis_title=\"Energy [kWh]\",\n",
    "                    tozeroy=False,\n",
    "                    dark_mode=True,\n",
    "                    )"
   ]
  },
  {
   "cell_type": "code",
   "execution_count": 285,
   "metadata": {},
   "outputs": [
    {
     "name": "stdout",
     "output_type": "stream",
     "text": [
      "226585.2546681037\n",
      "265795.57054763567\n"
     ]
    },
    {
     "data": {
      "application/vnd.plotly.v1+json": {
       "config": {
        "plotlyServerURL": "https://plot.ly"
       },
       "data": [
        {
         "line": {
          "color": "rgba(255, 0, 0, 0.9)"
         },
         "mode": "lines",
         "name": "Cost: Net of Sun",
         "type": "scatter",
         "x": [
          "2023-07-01",
          "2023-07-02",
          "2023-07-03",
          "2023-07-04",
          "2023-07-05",
          "2023-07-06",
          "2023-07-07",
          "2023-07-08",
          "2023-07-09",
          "2023-07-10",
          "2023-07-11",
          "2023-07-12",
          "2023-07-13",
          "2023-07-14",
          "2023-07-15",
          "2023-07-16",
          "2023-07-17",
          "2023-07-18",
          "2023-07-19",
          "2023-07-20",
          "2023-07-21",
          "2023-07-22",
          "2023-07-23",
          "2023-07-24",
          "2023-07-25",
          "2023-07-26",
          "2023-07-27",
          "2023-07-28",
          "2023-07-29",
          "2023-07-30",
          "2023-07-31",
          "2023-08-01",
          "2023-08-02",
          "2023-08-03",
          "2023-08-04",
          "2023-08-05",
          "2023-08-06",
          "2023-08-07",
          "2023-08-08",
          "2023-08-09",
          "2023-08-10",
          "2023-08-11",
          "2023-08-12",
          "2023-08-13",
          "2023-08-14",
          "2023-08-15",
          "2023-08-16",
          "2023-08-17",
          "2023-08-18",
          "2023-08-19",
          "2023-08-20",
          "2023-08-21",
          "2023-08-22",
          "2023-08-23",
          "2023-08-24",
          "2023-08-25",
          "2023-08-26",
          "2023-08-27",
          "2023-08-28",
          "2023-08-29",
          "2023-08-30",
          "2023-08-31",
          "2023-09-01",
          "2023-09-02",
          "2023-09-03",
          "2023-09-04",
          "2023-09-05",
          "2023-09-06",
          "2023-09-07",
          "2023-09-08",
          "2023-09-09",
          "2023-09-10",
          "2023-09-11",
          "2023-09-12",
          "2023-09-13",
          "2023-09-14",
          "2023-09-15",
          "2023-09-16",
          "2023-09-17",
          "2023-09-18",
          "2023-09-19",
          "2023-09-20",
          "2023-09-21",
          "2023-09-22",
          "2023-09-23",
          "2023-09-24",
          "2023-09-25",
          "2023-09-26",
          "2023-09-27",
          "2023-09-28",
          "2023-09-29",
          "2023-09-30",
          "2023-10-01",
          "2023-10-02",
          "2023-10-03",
          "2023-10-04",
          "2023-10-05",
          "2023-10-06",
          "2023-10-07",
          "2023-10-08",
          "2023-10-09",
          "2023-10-10",
          "2023-10-11",
          "2023-10-12",
          "2023-10-13",
          "2023-10-14",
          "2023-10-15",
          "2023-10-16",
          "2023-10-17",
          "2023-10-18",
          "2023-10-19",
          "2023-10-20",
          "2023-10-21",
          "2023-10-22",
          "2023-10-23",
          "2023-10-24",
          "2023-10-25",
          "2023-10-26",
          "2023-10-27",
          "2023-10-28",
          "2023-10-29",
          "2023-10-30",
          "2023-10-31",
          "2023-11-01",
          "2023-11-02",
          "2023-11-03",
          "2023-11-04",
          "2023-11-05",
          "2023-11-06",
          "2023-11-07",
          "2023-11-08",
          "2023-11-09",
          "2023-11-10",
          "2023-11-11",
          "2023-11-12",
          "2023-11-13",
          "2023-11-14",
          "2023-11-15",
          "2023-11-16",
          "2023-11-17",
          "2023-11-18",
          "2023-11-19",
          "2023-11-20",
          "2023-11-21",
          "2023-11-22",
          "2023-11-23",
          "2023-11-24",
          "2023-11-25",
          "2023-11-26",
          "2023-11-27",
          "2023-11-28",
          "2023-11-29",
          "2023-11-30",
          "2023-12-01",
          "2023-12-02",
          "2023-12-03",
          "2023-12-04",
          "2023-12-05",
          "2023-12-06",
          "2023-12-07",
          "2023-12-08",
          "2023-12-09",
          "2023-12-10",
          "2023-12-11",
          "2023-12-12",
          "2023-12-13",
          "2023-12-14",
          "2023-12-15",
          "2023-12-16",
          "2023-12-17",
          "2023-12-18",
          "2023-12-19",
          "2023-12-20",
          "2023-12-21",
          "2023-12-22",
          "2023-12-23",
          "2023-12-24",
          "2023-12-25",
          "2023-12-26",
          "2023-12-27",
          "2023-12-28",
          "2023-12-29",
          "2023-12-30",
          "2023-12-31",
          "2024-01-01",
          "2024-01-02",
          "2024-01-03",
          "2024-01-04",
          "2024-01-05",
          "2024-01-06",
          "2024-01-07",
          "2024-01-08",
          "2024-01-09",
          "2024-01-10",
          "2024-01-11",
          "2024-01-12",
          "2024-01-13",
          "2024-01-14",
          "2024-01-15",
          "2024-01-16",
          "2024-01-17",
          "2024-01-18",
          "2024-01-19",
          "2024-01-20",
          "2024-01-21",
          "2024-01-22",
          "2024-01-23",
          "2024-01-24",
          "2024-01-25",
          "2024-01-26",
          "2024-01-27",
          "2024-01-28",
          "2024-01-29",
          "2024-01-30",
          "2024-01-31",
          "2024-02-01",
          "2024-02-02",
          "2024-02-03",
          "2024-02-04",
          "2024-02-05",
          "2024-02-06",
          "2024-02-07",
          "2024-02-08",
          "2024-02-09",
          "2024-02-10",
          "2024-02-11",
          "2024-02-12",
          "2024-02-13",
          "2024-02-14",
          "2024-02-15",
          "2024-02-16",
          "2024-02-17",
          "2024-02-18",
          "2024-02-19",
          "2024-02-20",
          "2024-02-21",
          "2024-02-22",
          "2024-02-23",
          "2024-02-24",
          "2024-02-25",
          "2024-02-26",
          "2024-02-27",
          "2024-02-28",
          "2024-02-29",
          "2024-03-01",
          "2024-03-02",
          "2024-03-03",
          "2024-03-04",
          "2024-03-05",
          "2024-03-06",
          "2024-03-07",
          "2024-03-08",
          "2024-03-09",
          "2024-03-10",
          "2024-03-11",
          "2024-03-12",
          "2024-03-13",
          "2024-03-14",
          "2024-03-15",
          "2024-03-16",
          "2024-03-17",
          "2024-03-18",
          "2024-03-19",
          "2024-03-20",
          "2024-03-21",
          "2024-03-22",
          "2024-03-23",
          "2024-03-24",
          "2024-03-25",
          "2024-03-26",
          "2024-03-27",
          "2024-03-28",
          "2024-03-29",
          "2024-03-30",
          "2024-03-31",
          "2024-04-01",
          "2024-04-02",
          "2024-04-03",
          "2024-04-04",
          "2024-04-05",
          "2024-04-06",
          "2024-04-07",
          "2024-04-08",
          "2024-04-09",
          "2024-04-10",
          "2024-04-11",
          "2024-04-12",
          "2024-04-13",
          "2024-04-14",
          "2024-04-15",
          "2024-04-16",
          "2024-04-17",
          "2024-04-18",
          "2024-04-19",
          "2024-04-20",
          "2024-04-21",
          "2024-04-22",
          "2024-04-23",
          "2024-04-24",
          "2024-04-25",
          "2024-04-26",
          "2024-04-27",
          "2024-04-28",
          "2024-04-29",
          "2024-04-30",
          "2024-05-01",
          "2024-05-02",
          "2024-05-03",
          "2024-05-04",
          "2024-05-05",
          "2024-05-06",
          "2024-05-07",
          "2024-05-08",
          "2024-05-09",
          "2024-05-10",
          "2024-05-11",
          "2024-05-12",
          "2024-05-13",
          "2024-05-14",
          "2024-05-15",
          "2024-05-16",
          "2024-05-17",
          "2024-05-18",
          "2024-05-19",
          "2024-05-20",
          "2024-05-21",
          "2024-05-22",
          "2024-05-23",
          "2024-05-24",
          "2024-05-25",
          "2024-05-26",
          "2024-05-27",
          "2024-05-28",
          "2024-05-29",
          "2024-05-30",
          "2024-05-31",
          "2024-06-01",
          "2024-06-02",
          "2024-06-03",
          "2024-06-04",
          "2024-06-05",
          "2024-06-06",
          "2024-06-07",
          "2024-06-08",
          "2024-06-09",
          "2024-06-10",
          "2024-06-11",
          "2024-06-12",
          "2024-06-13",
          "2024-06-14",
          "2024-06-15",
          "2024-06-16",
          "2024-06-17",
          "2024-06-18",
          "2024-06-19",
          "2024-06-20",
          "2024-06-21",
          "2024-06-22",
          "2024-06-23",
          "2024-06-24",
          "2024-06-25",
          "2024-06-26",
          "2024-06-27",
          "2024-06-28",
          "2024-06-29",
          "2024-06-30",
          "2024-07-01",
          "2024-07-02",
          "2024-07-03",
          "2024-07-04",
          "2024-07-05",
          "2024-07-06",
          "2024-07-07",
          "2024-07-08",
          "2024-07-09",
          "2024-07-10",
          "2024-07-11",
          "2024-07-12",
          "2024-07-13",
          "2024-07-14",
          "2024-07-15",
          "2024-07-16",
          "2024-07-17",
          "2024-07-18",
          "2024-07-19",
          "2024-07-20",
          "2024-07-21",
          "2024-07-22",
          "2024-07-23",
          "2024-07-24",
          "2024-07-25",
          "2024-07-26",
          "2024-07-27",
          "2024-07-28",
          "2024-07-29",
          "2024-07-30",
          "2024-07-31",
          "2024-08-01",
          "2024-08-02",
          "2024-08-03",
          "2024-08-04",
          "2024-08-05",
          "2024-08-06",
          "2024-08-07",
          "2024-08-08",
          "2024-08-09",
          "2024-08-10",
          "2024-08-11",
          "2024-08-12",
          "2024-08-13",
          "2024-08-14",
          "2024-08-15",
          "2024-08-16",
          "2024-08-17",
          "2024-08-18",
          "2024-08-19",
          "2024-08-20",
          "2024-08-21",
          "2024-08-22",
          "2024-08-23",
          "2024-08-24",
          "2024-08-25",
          "2024-08-26",
          "2024-08-27",
          "2024-08-28",
          "2024-08-29",
          "2024-08-30",
          "2024-08-31",
          "2024-09-01",
          "2024-09-02",
          "2024-09-03"
         ],
         "y": [
          446.81465890649633,
          90.0098251815655,
          384.8698795330154,
          683.5708568804223,
          475.32910103676863,
          771.2847638153951,
          620.3100403908047,
          535.0546034216464,
          268.9151230484836,
          896.0575927627158,
          731.5387272908877,
          604.0564220292863,
          532.4284198834537,
          460.39903890521043,
          318.0704133961248,
          67.07080984621705,
          230.70564562549012,
          363.2526396903545,
          490.67708345724174,
          406.75301162481514,
          478.8382428138765,
          525.5088246591389,
          177.77122022944678,
          636.2314110263148,
          419.84077545982996,
          497.6127827039125,
          553.5740509672879,
          552.5423209115711,
          504.48983542648904,
          218.17742586581858,
          498.67927901251556,
          498.31374672703186,
          448.51680783431823,
          350.76739399624626,
          463.48264564215,
          464.4309403025101,
          285.7393584690638,
          175.3296487867414,
          -30.7067913312,
          122.97654128968546,
          360.5075615753477,
          422.47145344779506,
          553.4619743573637,
          378.2506115893433,
          715.3676210630389,
          773.1410594492028,
          590.1963069549621,
          744.2723807174174,
          614.4498729596299,
          480.6575341736215,
          410.16706552544576,
          622.4556419661432,
          642.0502202837633,
          713.8190937293817,
          661.2941897614093,
          838.416384597761,
          783.91301418456,
          336.5149450611771,
          623.905853782398,
          642.7383167593,
          720.7473003392408,
          744.1584183572436,
          631.3694853690375,
          600.921523367768,
          404.1577183509306,
          678.2375581847008,
          669.8188575816743,
          772.6627261185422,
          720.7553930704264,
          736.4026563837919,
          695.3288980209569,
          356.9633406607089,
          827.0317556890384,
          639.6428427482837,
          562.7745652308774,
          657.3030212455067,
          668.634822892087,
          636.4916896172882,
          314.82119663391893,
          268.30432519117335,
          -6.8812427059,
          -8.63780234472,
          159.01473225473723,
          178.7036843276192,
          251.2976311153401,
          176.032140524693,
          82.78148446882369,
          255.52350456862396,
          486.1586350654524,
          320.87232113350404,
          374.9802906531124,
          174.7449107156672,
          252.00263667721097,
          415.44594435429235,
          112.18852978241898,
          17.24849363574,
          216.77553488845666,
          76.60269319411692,
          128.1886411569259,
          221.0578133677968,
          555.6132695993638,
          427.2924930789666,
          69.35378425982,
          344.34105270698643,
          315.7193520973762,
          45.9829743908,
          118.40719820909739,
          504.829541869089,
          533.452219615315,
          516.8966718294549,
          280.5326042584768,
          331.3658626653796,
          458.2011840576332,
          316.71124407890204,
          981.6499855350835,
          638.5104041639303,
          485.15980686632935,
          738.4297819569443,
          1024.1910847877132,
          826.2724657819887,
          308.36363223017634,
          832.1715916737073,
          1153.7363230858593,
          678.7486194600681,
          648.3404987636619,
          574.8408288452706,
          422.3051097729375,
          322.3190399734558,
          857.6614889399796,
          1018.7219312058634,
          825.604022419655,
          933.0555698653334,
          875.0166660481597,
          991.7166804700697,
          712.8910631903973,
          893.6570709091042,
          857.8879144416944,
          1102.8026642151533,
          1359.9987270376914,
          1314.980210664319,
          1005.9747520824657,
          627.2105330257493,
          1349.9944705375694,
          1366.9320442547935,
          878.5896450315463,
          643.2539088826454,
          770.0548311672844,
          1032.872430762631,
          805.7227165099614,
          1246.1744225264774,
          1525.3766364179278,
          1843.8994815865988,
          1980.9855714658443,
          2031.0178263199946,
          1432.40279527192,
          1007.7056540326533,
          1454.4102946117766,
          1505.7288712742982,
          1634.8484986824456,
          1325.978784075306,
          1282.9032096278424,
          950.4984581686441,
          637.589166867719,
          1118.7894639696965,
          1229.7233338066867,
          1141.4739759758986,
          1332.4931334318896,
          1051.0292180631304,
          685.6632897588929,
          425.0363097782844,
          708.7368594848306,
          723.2487223421525,
          681.080606805698,
          580.805921288252,
          529.917163726122,
          518.9971962914641,
          389.9534103836533,
          397.1366032072459,
          473.22639250306,
          839.7721788484497,
          630.7741558518692,
          665.9541337342731,
          729.5590585402407,
          509.11157362388997,
          395.5549025877393,
          782.0387684071079,
          840.3549424156001,
          1120.9919995583032,
          1178.4639105372753,
          1239.0207787951958,
          948.1560605385866,
          1303.4288896273945,
          1449.4254596160517,
          1418.1362196943624,
          1338.409008361721,
          1313.308816973299,
          864.0128127255323,
          645.636214444611,
          1071.4088498488168,
          1334.5626606255942,
          1241.0706589767224,
          1172.8173125848712,
          909.5226507766616,
          991.9086299096364,
          530.791704842067,
          632.9888070983974,
          587.4930999425902,
          496.6099666887823,
          793.128493118852,
          589.224256848558,
          582.6126342025,
          374.90752813545527,
          725.2541933833896,
          670.5849081951034,
          559.1108545857669,
          511.28613409420154,
          540.0809382890999,
          414.0188015081221,
          178.85920204492209,
          479.72383514445664,
          638.5242240325243,
          900.8216499934795,
          949.2842735122008,
          765.1545557962415,
          766.9767860944274,
          470.59046330402623,
          855.3291364914832,
          767.803757247422,
          732.4810772162584,
          740.9080230274144,
          587.455429559579,
          630.9310638764912,
          402.46985664090516,
          678.6648390583125,
          610.9340110078834,
          514.320830709523,
          504.4928572219241,
          455.7605161994599,
          497.69659028708753,
          358.1215549845833,
          555.7756779869203,
          565.4440098063607,
          454.09551404769695,
          498.1547361396503,
          570.7538700523437,
          562.5515930292398,
          353.849853792393,
          578.6828499032422,
          513.0228495566843,
          788.413393732023,
          611.3702674907665,
          535.7033666293135,
          544.3814875822853,
          345.32932952489335,
          496.7613797644935,
          815.3567369750277,
          663.2555008686592,
          531.3970747307819,
          500.6250260185323,
          477.32070103715927,
          342.48986169481947,
          548.0957945735167,
          631.9803005058125,
          661.5910019967275,
          674.70299361527,
          396.5136360405787,
          372.98469219714605,
          234.03826987699856,
          708.7785612926905,
          592.2112464327585,
          590.8077525762145,
          304.90943347255154,
          232.31726200737802,
          429.722082717248,
          312.1122353153024,
          186.2881924187931,
          419.5199928940151,
          510.3009870644821,
          654.1847941818819,
          528.9152049275726,
          434.41123509034986,
          83.57556117669291,
          420.652249897287,
          467.77817192448003,
          328.1031288528347,
          295.55548323562834,
          337.66830253500075,
          151.2186449960318,
          63.860513819031866,
          273.1911817046734,
          278.8193428204278,
          469.72126245605045,
          510.69474643657236,
          437.8295567635329,
          418.3334268932963,
          174.83183023413358,
          395.52804460928513,
          688.1775862570544,
          575.113982671772,
          551.0572286907272,
          663.3734783602509,
          445.75232689148766,
          178.9157660458994,
          454.1315842962648,
          440.63380472262435,
          136.80609509304287,
          221.9136966128434,
          236.60213472110513,
          294.7754822836296,
          172.24311706672043,
          546.0551512624482,
          525.8431880417005,
          535.6909981214172,
          222.7846756834812,
          325.2055803185136,
          243.81127119096064,
          121.94464574205223,
          141.6916705862433,
          114.72594627730425,
          143.2793125303181,
          116.06229921610043,
          73.06255267534823,
          78.84686592488796,
          127.03887775517288,
          84.48087020513378,
          259.1025975990414,
          270.869262544511,
          403.10199142833505,
          548.6633948441607,
          339.65282274354297,
          215.305642727709,
          517.4127016020017,
          459.278972518052,
          312.87327040185113,
          501.41391348299254,
          409.46675633839476,
          337.63295035756425,
          88.52568128822925,
          319.09545859295736,
          361.6500224018056,
          327.2673646955693,
          280.86544944327505,
          300.8037930309122,
          121.73148202206737,
          59.54904563146157,
          237.82434978951642,
          326.67082849024547,
          267.0341919141902,
          358.9822368504939,
          361.0880421191315,
          167.7264526731262,
          60.579339652533164,
          443.08830598127304,
          373.1199596635802,
          271.84352252654367,
          274.83254379785245,
          295.23801617423476,
          371.6807179860511,
          140.32931221761132,
          438.8082008057383,
          199.86850276868316,
          254.02071469313276,
          270.8117197476921,
          206.35666021824525,
          262.4665552522914,
          219.16457164916505,
          321.5966218248018,
          327.93586513324334,
          295.86508044613197,
          110.85186749175185,
          139.3527858134736,
          103.35737707362335,
          37.680951922527036,
          257.17252783444206,
          217.07517404371427,
          421.18244056012884,
          374.3064871779518,
          284.45263988345283,
          230.53642040489922,
          133.24406123785846,
          348.73801852016834,
          301.4367228088353,
          345.8028840027231,
          258.7855094069329,
          290.59632540610863,
          255.10780138157065,
          156.6297148724555,
          440.90182639421755,
          315.04148233496744,
          297.534420650421,
          320.14034113956933,
          496.46936651349347,
          400.25736145389715,
          208.80232313304737,
          380.05184251959207,
          517.5349756607543,
          342.1376877601206,
          413.60230181140366,
          453.75190326400775,
          500.91153554378616,
          266.2568471803758,
          499.07608547198953,
          487.6751872115728,
          537.6720841002942,
          459.40602021651387,
          170.9613148097106,
          125.55667618639913,
          195.27524727032352,
          339.06654099674074,
          464.44457519731117,
          643.2101448906195,
          483.16523328327037,
          449.911137483835,
          406.7194715911388,
          302.69973532944095,
          434.0229119861471,
          588.7909359663037,
          296.0963005042819,
          247.0276242023241,
          144.2363401743886,
          322.2906858111033,
          68.57145881895798,
          290.2606871977404,
          385.5785155357576,
          373.69545336197297,
          453.9343379475918,
          399.3023021765919,
          352.74577381972415,
          201.23925776330282,
          534.6584374256544,
          558.6313605855847
         ]
        },
        {
         "line": {
          "color": "rgba(0, 0, 255, 0.9)"
         },
         "mode": "lines",
         "name": "Total Cost",
         "type": "scatter",
         "x": [
          "2023-07-01",
          "2023-07-02",
          "2023-07-03",
          "2023-07-04",
          "2023-07-05",
          "2023-07-06",
          "2023-07-07",
          "2023-07-08",
          "2023-07-09",
          "2023-07-10",
          "2023-07-11",
          "2023-07-12",
          "2023-07-13",
          "2023-07-14",
          "2023-07-15",
          "2023-07-16",
          "2023-07-17",
          "2023-07-18",
          "2023-07-19",
          "2023-07-20",
          "2023-07-21",
          "2023-07-22",
          "2023-07-23",
          "2023-07-24",
          "2023-07-25",
          "2023-07-26",
          "2023-07-27",
          "2023-07-28",
          "2023-07-29",
          "2023-07-30",
          "2023-07-31",
          "2023-08-01",
          "2023-08-02",
          "2023-08-03",
          "2023-08-04",
          "2023-08-05",
          "2023-08-06",
          "2023-08-07",
          "2023-08-08",
          "2023-08-09",
          "2023-08-10",
          "2023-08-11",
          "2023-08-12",
          "2023-08-13",
          "2023-08-14",
          "2023-08-15",
          "2023-08-16",
          "2023-08-17",
          "2023-08-18",
          "2023-08-19",
          "2023-08-20",
          "2023-08-21",
          "2023-08-22",
          "2023-08-23",
          "2023-08-24",
          "2023-08-25",
          "2023-08-26",
          "2023-08-27",
          "2023-08-28",
          "2023-08-29",
          "2023-08-30",
          "2023-08-31",
          "2023-09-01",
          "2023-09-02",
          "2023-09-03",
          "2023-09-04",
          "2023-09-05",
          "2023-09-06",
          "2023-09-07",
          "2023-09-08",
          "2023-09-09",
          "2023-09-10",
          "2023-09-11",
          "2023-09-12",
          "2023-09-13",
          "2023-09-14",
          "2023-09-15",
          "2023-09-16",
          "2023-09-17",
          "2023-09-18",
          "2023-09-19",
          "2023-09-20",
          "2023-09-21",
          "2023-09-22",
          "2023-09-23",
          "2023-09-24",
          "2023-09-25",
          "2023-09-26",
          "2023-09-27",
          "2023-09-28",
          "2023-09-29",
          "2023-09-30",
          "2023-10-01",
          "2023-10-02",
          "2023-10-03",
          "2023-10-04",
          "2023-10-05",
          "2023-10-06",
          "2023-10-07",
          "2023-10-08",
          "2023-10-09",
          "2023-10-10",
          "2023-10-11",
          "2023-10-12",
          "2023-10-13",
          "2023-10-14",
          "2023-10-15",
          "2023-10-16",
          "2023-10-17",
          "2023-10-18",
          "2023-10-19",
          "2023-10-20",
          "2023-10-21",
          "2023-10-22",
          "2023-10-23",
          "2023-10-24",
          "2023-10-25",
          "2023-10-26",
          "2023-10-27",
          "2023-10-28",
          "2023-10-29",
          "2023-10-30",
          "2023-10-31",
          "2023-11-01",
          "2023-11-02",
          "2023-11-03",
          "2023-11-04",
          "2023-11-05",
          "2023-11-06",
          "2023-11-07",
          "2023-11-08",
          "2023-11-09",
          "2023-11-10",
          "2023-11-11",
          "2023-11-12",
          "2023-11-13",
          "2023-11-14",
          "2023-11-15",
          "2023-11-16",
          "2023-11-17",
          "2023-11-18",
          "2023-11-19",
          "2023-11-20",
          "2023-11-21",
          "2023-11-22",
          "2023-11-23",
          "2023-11-24",
          "2023-11-25",
          "2023-11-26",
          "2023-11-27",
          "2023-11-28",
          "2023-11-29",
          "2023-11-30",
          "2023-12-01",
          "2023-12-02",
          "2023-12-03",
          "2023-12-04",
          "2023-12-05",
          "2023-12-06",
          "2023-12-07",
          "2023-12-08",
          "2023-12-09",
          "2023-12-10",
          "2023-12-11",
          "2023-12-12",
          "2023-12-13",
          "2023-12-14",
          "2023-12-15",
          "2023-12-16",
          "2023-12-17",
          "2023-12-18",
          "2023-12-19",
          "2023-12-20",
          "2023-12-21",
          "2023-12-22",
          "2023-12-23",
          "2023-12-24",
          "2023-12-25",
          "2023-12-26",
          "2023-12-27",
          "2023-12-28",
          "2023-12-29",
          "2023-12-30",
          "2023-12-31",
          "2024-01-01",
          "2024-01-02",
          "2024-01-03",
          "2024-01-04",
          "2024-01-05",
          "2024-01-06",
          "2024-01-07",
          "2024-01-08",
          "2024-01-09",
          "2024-01-10",
          "2024-01-11",
          "2024-01-12",
          "2024-01-13",
          "2024-01-14",
          "2024-01-15",
          "2024-01-16",
          "2024-01-17",
          "2024-01-18",
          "2024-01-19",
          "2024-01-20",
          "2024-01-21",
          "2024-01-22",
          "2024-01-23",
          "2024-01-24",
          "2024-01-25",
          "2024-01-26",
          "2024-01-27",
          "2024-01-28",
          "2024-01-29",
          "2024-01-30",
          "2024-01-31",
          "2024-02-01",
          "2024-02-02",
          "2024-02-03",
          "2024-02-04",
          "2024-02-05",
          "2024-02-06",
          "2024-02-07",
          "2024-02-08",
          "2024-02-09",
          "2024-02-10",
          "2024-02-11",
          "2024-02-12",
          "2024-02-13",
          "2024-02-14",
          "2024-02-15",
          "2024-02-16",
          "2024-02-17",
          "2024-02-18",
          "2024-02-19",
          "2024-02-20",
          "2024-02-21",
          "2024-02-22",
          "2024-02-23",
          "2024-02-24",
          "2024-02-25",
          "2024-02-26",
          "2024-02-27",
          "2024-02-28",
          "2024-02-29",
          "2024-03-01",
          "2024-03-02",
          "2024-03-03",
          "2024-03-04",
          "2024-03-05",
          "2024-03-06",
          "2024-03-07",
          "2024-03-08",
          "2024-03-09",
          "2024-03-10",
          "2024-03-11",
          "2024-03-12",
          "2024-03-13",
          "2024-03-14",
          "2024-03-15",
          "2024-03-16",
          "2024-03-17",
          "2024-03-18",
          "2024-03-19",
          "2024-03-20",
          "2024-03-21",
          "2024-03-22",
          "2024-03-23",
          "2024-03-24",
          "2024-03-25",
          "2024-03-26",
          "2024-03-27",
          "2024-03-28",
          "2024-03-29",
          "2024-03-30",
          "2024-03-31",
          "2024-04-01",
          "2024-04-02",
          "2024-04-03",
          "2024-04-04",
          "2024-04-05",
          "2024-04-06",
          "2024-04-07",
          "2024-04-08",
          "2024-04-09",
          "2024-04-10",
          "2024-04-11",
          "2024-04-12",
          "2024-04-13",
          "2024-04-14",
          "2024-04-15",
          "2024-04-16",
          "2024-04-17",
          "2024-04-18",
          "2024-04-19",
          "2024-04-20",
          "2024-04-21",
          "2024-04-22",
          "2024-04-23",
          "2024-04-24",
          "2024-04-25",
          "2024-04-26",
          "2024-04-27",
          "2024-04-28",
          "2024-04-29",
          "2024-04-30",
          "2024-05-01",
          "2024-05-02",
          "2024-05-03",
          "2024-05-04",
          "2024-05-05",
          "2024-05-06",
          "2024-05-07",
          "2024-05-08",
          "2024-05-09",
          "2024-05-10",
          "2024-05-11",
          "2024-05-12",
          "2024-05-13",
          "2024-05-14",
          "2024-05-15",
          "2024-05-16",
          "2024-05-17",
          "2024-05-18",
          "2024-05-19",
          "2024-05-20",
          "2024-05-21",
          "2024-05-22",
          "2024-05-23",
          "2024-05-24",
          "2024-05-25",
          "2024-05-26",
          "2024-05-27",
          "2024-05-28",
          "2024-05-29",
          "2024-05-30",
          "2024-05-31",
          "2024-06-01",
          "2024-06-02",
          "2024-06-03",
          "2024-06-04",
          "2024-06-05",
          "2024-06-06",
          "2024-06-07",
          "2024-06-08",
          "2024-06-09",
          "2024-06-10",
          "2024-06-11",
          "2024-06-12",
          "2024-06-13",
          "2024-06-14",
          "2024-06-15",
          "2024-06-16",
          "2024-06-17",
          "2024-06-18",
          "2024-06-19",
          "2024-06-20",
          "2024-06-21",
          "2024-06-22",
          "2024-06-23",
          "2024-06-24",
          "2024-06-25",
          "2024-06-26",
          "2024-06-27",
          "2024-06-28",
          "2024-06-29",
          "2024-06-30",
          "2024-07-01",
          "2024-07-02",
          "2024-07-03",
          "2024-07-04",
          "2024-07-05",
          "2024-07-06",
          "2024-07-07",
          "2024-07-08",
          "2024-07-09",
          "2024-07-10",
          "2024-07-11",
          "2024-07-12",
          "2024-07-13",
          "2024-07-14",
          "2024-07-15",
          "2024-07-16",
          "2024-07-17",
          "2024-07-18",
          "2024-07-19",
          "2024-07-20",
          "2024-07-21",
          "2024-07-22",
          "2024-07-23",
          "2024-07-24",
          "2024-07-25",
          "2024-07-26",
          "2024-07-27",
          "2024-07-28",
          "2024-07-29",
          "2024-07-30",
          "2024-07-31",
          "2024-08-01",
          "2024-08-02",
          "2024-08-03",
          "2024-08-04",
          "2024-08-05",
          "2024-08-06",
          "2024-08-07",
          "2024-08-08",
          "2024-08-09",
          "2024-08-10",
          "2024-08-11",
          "2024-08-12",
          "2024-08-13",
          "2024-08-14",
          "2024-08-15",
          "2024-08-16",
          "2024-08-17",
          "2024-08-18",
          "2024-08-19",
          "2024-08-20",
          "2024-08-21",
          "2024-08-22",
          "2024-08-23",
          "2024-08-24",
          "2024-08-25",
          "2024-08-26",
          "2024-08-27",
          "2024-08-28",
          "2024-08-29",
          "2024-08-30",
          "2024-08-31",
          "2024-09-01",
          "2024-09-02",
          "2024-09-03"
         ],
         "y": [
          609.9367209852927,
          70.65645573775012,
          507.3864123084852,
          794.5952252796473,
          798.3801716450772,
          979.6204076169578,
          1088.2426122752722,
          899.787298861796,
          741.3390148058518,
          1011.5495806596084,
          881.0784842009921,
          742.1224730339467,
          833.1765683563389,
          878.4736531625708,
          337.03304507449366,
          24.29077232633513,
          302.4438784524065,
          665.3050047448669,
          778.2821137606711,
          611.4781849283759,
          859.7113036879607,
          714.9775392956388,
          222.58654317253612,
          709.740576624488,
          585.793261344195,
          662.1612304335949,
          905.9444863437376,
          902.5790986659845,
          753.5698537540976,
          259.13094345544107,
          730.6790408514136,
          747.6166763657861,
          649.0784257707063,
          470.72687049804466,
          615.4894294504727,
          783.8021490610022,
          387.60957521237214,
          178.19071983369633,
          -36.78381558958945,
          129.59802870736743,
          491.4487539091755,
          715.5012726149066,
          699.723843209126,
          460.0546879576613,
          841.4372981767178,
          842.6411273609039,
          959.7148353245291,
          1001.4840882793675,
          873.6368216873221,
          494.76499854604106,
          538.451811627672,
          910.1932972398483,
          931.1414742014434,
          982.2794958269409,
          997.0257056060705,
          920.8723200583192,
          882.9492632667418,
          657.4939692222213,
          909.9991049961067,
          953.005894975019,
          970.5199580187153,
          1013.4017593304302,
          943.1941743011503,
          860.7059334385475,
          469.96091840058926,
          982.4829613768298,
          961.1029649589419,
          910.46820016177,
          843.156381510697,
          855.828736645133,
          762.0595274658776,
          500.0872194001323,
          853.1069581059397,
          880.2818862177787,
          805.8595522552846,
          781.6205936817123,
          776.424759118949,
          723.5940878759993,
          459.76137407789804,
          270.8744408910393,
          -12.59317169603082,
          -10.32225525009296,
          161.47850379253202,
          236.47964532498247,
          307.378735706184,
          192.67517435231824,
          85.40344853797816,
          316.40753531037393,
          579.5114211207291,
          348.06845736229644,
          429.9561562051149,
          185.5216771047647,
          282.6934930456449,
          500.0252505114494,
          114.69606534876104,
          20.718590139084316,
          251.69112160008447,
          80.20879478574905,
          151.50211332189224,
          324.4935916174296,
          660.3609580471348,
          467.3818116350989,
          74.54453394674616,
          387.6590743538638,
          322.5866359106976,
          47.46713163435628,
          128.37921850634976,
          603.4433048917743,
          580.1166242909428,
          586.4264553091355,
          312.79333768695903,
          362.06011042603427,
          470.0555106317703,
          333.00605807898484,
          1059.2797192710361,
          666.9202042752182,
          514.402041655148,
          761.7578752809427,
          1068.073316144907,
          846.6768563829422,
          326.65235908268176,
          832.9460903864722,
          1154.4341817869267,
          679.0264739266985,
          648.6289840126219,
          587.1520201483794,
          429.372038563001,
          333.79255372750106,
          858.8454483809871,
          1075.0290451380138,
          856.255062060957,
          974.160530729263,
          897.1081629992602,
          1030.3415058649955,
          723.0087324204547,
          957.759464174088,
          872.9373039142032,
          1143.8663737330855,
          1381.4997175880035,
          1361.7246475966738,
          1048.8120489100036,
          637.3259121045893,
          1358.8526524877018,
          1415.5814119400939,
          880.1789673253875,
          672.8678942113328,
          799.5802872762637,
          1062.9684288359324,
          828.3765970763516,
          1264.2988028202792,
          1555.633791042448,
          1898.3589350797292,
          2051.516451798091,
          2053.0229986931704,
          1444.7256789616085,
          1027.9261645200277,
          1469.0987460916047,
          1518.9235589635616,
          1639.3149817510082,
          1416.6387684448791,
          1283.5755664473081,
          950.5450722986657,
          637.6287663880909,
          1118.8400506489659,
          1229.783768140383,
          1141.5275470937631,
          1332.553677453785,
          1051.3854370409892,
          685.7533014335673,
          429.7156189653388,
          722.4907527928268,
          743.0241839018277,
          692.5776940418052,
          581.6570075915974,
          532.9459049968103,
          519.4434266260532,
          389.97593696946706,
          397.24548965635296,
          473.25515083098975,
          839.8079302506194,
          630.8018221603811,
          665.9840733673121,
          729.5915827361288,
          509.14030149206025,
          395.5794450736038,
          782.0734409536959,
          840.3900692420663,
          1121.0412791614588,
          1178.5129962974158,
          1239.0707760133705,
          992.7283264588389,
          1304.168191206482,
          1449.4828587581437,
          1418.1939742097316,
          1338.465943756843,
          1313.364159203246,
          864.0490655294385,
          645.6755177750911,
          1071.4557194338743,
          1334.74892902549,
          1241.3242007837523,
          1198.7449491311959,
          932.0391501730826,
          992.0908630555674,
          530.9248797392905,
          633.1369324284665,
          592.339759384719,
          501.01361666901823,
          823.4757024152213,
          590.1756580702393,
          598.6428867933566,
          385.56121292149203,
          752.4230326944343,
          671.1706921555677,
          560.5191198630191,
          533.9171330851852,
          554.0627235105246,
          441.96318000116844,
          206.78395002406955,
          510.3052587021937,
          656.2262925497895,
          903.2417797500091,
          960.025503774653,
          770.1923821474198,
          782.8885246297784,
          477.269591493227,
          858.0644753815993,
          768.3244045245233,
          733.0986983373192,
          741.158177276356,
          587.5982057541455,
          631.6237875520391,
          402.59937054012255,
          679.2614993943264,
          611.4952813379774,
          514.6827190577591,
          521.0011460359331,
          480.8199437781179,
          530.5766432505187,
          394.13529542152145,
          660.0627459639259,
          621.2319641621649,
          535.3873682689687,
          503.6856401602734,
          582.1184531338208,
          576.5710830005102,
          353.9810260684912,
          673.1830070129421,
          632.497709598731,
          815.9993744105241,
          749.5348306266803,
          661.7277911032528,
          573.2894439860572,
          359.4970349661978,
          643.7395028278006,
          843.6072167802822,
          663.3613659515154,
          531.4903694331414,
          500.71383039780096,
          477.4022650816939,
          342.5825073208864,
          630.3585352162936,
          659.8288583971843,
          792.854506901189,
          764.6216704433001,
          558.3639958432411,
          397.8790149026109,
          346.2879125621795,
          794.7953426739278,
          637.5331853173661,
          618.9953997863048,
          353.9450994556009,
          265.5328518426353,
          457.38720986242856,
          378.75906130568876,
          370.6580159787619,
          507.0898663193459,
          735.5203028793769,
          684.6157349534885,
          534.5718354817233,
          453.1565180003472,
          69.00433014744053,
          550.5669593608571,
          509.7615122116805,
          463.75389637014143,
          449.928726055829,
          384.7140388984765,
          111.52095291025151,
          132.82055066453276,
          435.16027521905534,
          489.09162559694545,
          637.0549475904136,
          783.9735126986138,
          590.3036853486091,
          553.9488509949382,
          441.64529524117575,
          766.4208887850644,
          818.6336778294658,
          758.317316367581,
          768.9915758438908,
          865.9894581609416,
          635.9925109866989,
          199.0581457235455,
          611.4120239361106,
          521.8193685827048,
          166.1573696658589,
          302.0757450963082,
          416.7534599143762,
          431.70767596506874,
          230.84981197916824,
          658.8878738630316,
          797.2193301276483,
          843.2676460753115,
          307.8885382863619,
          434.72303696507123,
          308.63866091215175,
          120.68730363556236,
          225.8817798026287,
          141.98448465178174,
          203.12946757608245,
          169.14246829048412,
          182.26223187663055,
          187.31768541199102,
          157.8635860680862,
          193.72471113462544,
          462.03335021883487,
          407.17275313596843,
          612.2577316846506,
          656.0671230650088,
          457.0909995836613,
          241.78132542643795,
          675.6998746199738,
          635.7330594349353,
          560.6593855874777,
          642.0730108182661,
          702.0198226387397,
          453.94924273839763,
          106.71194135749485,
          599.7498233768578,
          571.0859176556436,
          485.00312631273965,
          541.6258152020827,
          475.01292374514577,
          147.854029689234,
          9.916328144012324,
          428.5138108232926,
          467.50547961466447,
          543.3104947432502,
          556.6142625981222,
          491.6007359844387,
          169.78209357929626,
          89.89581695224024,
          861.7290277547639,
          625.4636867502415,
          492.19773022647473,
          684.4490283939346,
          658.4296982769489,
          386.3778954693931,
          237.34434460327338,
          787.0919227279531,
          374.2595682571012,
          413.8791810591061,
          436.73978165766744,
          271.8552473401592,
          392.7457490633205,
          253.41086314729722,
          486.52757039457623,
          434.21969525509627,
          474.21087152641053,
          122.03935155077119,
          197.6112920356929,
          104.16257831696602,
          65.6219791770669,
          459.7387641280088,
          435.83329215447037,
          435.0557693573434,
          519.8975325445153,
          484.6528565952406,
          255.5994011751755,
          156.32067459957207,
          425.01076101847093,
          364.75288537079695,
          432.74189962620227,
          455.0083532584264,
          500.7192629091376,
          349.1498309092759,
          216.89396118730434,
          474.4322421988895,
          534.0008475858714,
          369.38830846109016,
          479.5607399191802,
          558.7957653984125,
          590.4132536424395,
          149.26478534215266,
          480.0394849826324,
          644.7620006215194,
          543.9437918068037,
          704.6506172263812,
          746.0861885293322,
          614.9867328539543,
          356.24608215152443,
          728.4753986247857,
          602.13689504224,
          638.9070970541761,
          637.6205968623792,
          179.7348797218915,
          78.59367355951053,
          153.52221433466616,
          523.6967259257042,
          594.2551366998989,
          699.5060793642989,
          552.9078683933493,
          672.3413280831008,
          584.8124786444184,
          391.03668909084735,
          647.3822026533869,
          623.0954526552106,
          322.530106156898,
          250.08522222599703,
          147.55097776974299,
          329.6228600221248,
          38.0551915748176,
          343.77606271904386,
          434.5649074617119,
          467.4610459914469,
          485.8903867280407,
          518.1415465806251,
          442.62111212793536,
          267.6027142946393,
          622.8448676583731,
          576.528214485939
         ]
        }
       ],
       "layout": {
        "height": 600,
        "hovermode": "x unified",
        "showlegend": true,
        "template": {
         "data": {
          "bar": [
           {
            "error_x": {
             "color": "#2a3f5f"
            },
            "error_y": {
             "color": "#2a3f5f"
            },
            "marker": {
             "line": {
              "color": "#E5ECF6",
              "width": 0.5
             },
             "pattern": {
              "fillmode": "overlay",
              "size": 10,
              "solidity": 0.2
             }
            },
            "type": "bar"
           }
          ],
          "barpolar": [
           {
            "marker": {
             "line": {
              "color": "#E5ECF6",
              "width": 0.5
             },
             "pattern": {
              "fillmode": "overlay",
              "size": 10,
              "solidity": 0.2
             }
            },
            "type": "barpolar"
           }
          ],
          "carpet": [
           {
            "aaxis": {
             "endlinecolor": "#2a3f5f",
             "gridcolor": "white",
             "linecolor": "white",
             "minorgridcolor": "white",
             "startlinecolor": "#2a3f5f"
            },
            "baxis": {
             "endlinecolor": "#2a3f5f",
             "gridcolor": "white",
             "linecolor": "white",
             "minorgridcolor": "white",
             "startlinecolor": "#2a3f5f"
            },
            "type": "carpet"
           }
          ],
          "choropleth": [
           {
            "colorbar": {
             "outlinewidth": 0,
             "ticks": ""
            },
            "type": "choropleth"
           }
          ],
          "contour": [
           {
            "colorbar": {
             "outlinewidth": 0,
             "ticks": ""
            },
            "colorscale": [
             [
              0,
              "#0d0887"
             ],
             [
              0.1111111111111111,
              "#46039f"
             ],
             [
              0.2222222222222222,
              "#7201a8"
             ],
             [
              0.3333333333333333,
              "#9c179e"
             ],
             [
              0.4444444444444444,
              "#bd3786"
             ],
             [
              0.5555555555555556,
              "#d8576b"
             ],
             [
              0.6666666666666666,
              "#ed7953"
             ],
             [
              0.7777777777777778,
              "#fb9f3a"
             ],
             [
              0.8888888888888888,
              "#fdca26"
             ],
             [
              1,
              "#f0f921"
             ]
            ],
            "type": "contour"
           }
          ],
          "contourcarpet": [
           {
            "colorbar": {
             "outlinewidth": 0,
             "ticks": ""
            },
            "type": "contourcarpet"
           }
          ],
          "heatmap": [
           {
            "colorbar": {
             "outlinewidth": 0,
             "ticks": ""
            },
            "colorscale": [
             [
              0,
              "#0d0887"
             ],
             [
              0.1111111111111111,
              "#46039f"
             ],
             [
              0.2222222222222222,
              "#7201a8"
             ],
             [
              0.3333333333333333,
              "#9c179e"
             ],
             [
              0.4444444444444444,
              "#bd3786"
             ],
             [
              0.5555555555555556,
              "#d8576b"
             ],
             [
              0.6666666666666666,
              "#ed7953"
             ],
             [
              0.7777777777777778,
              "#fb9f3a"
             ],
             [
              0.8888888888888888,
              "#fdca26"
             ],
             [
              1,
              "#f0f921"
             ]
            ],
            "type": "heatmap"
           }
          ],
          "heatmapgl": [
           {
            "colorbar": {
             "outlinewidth": 0,
             "ticks": ""
            },
            "colorscale": [
             [
              0,
              "#0d0887"
             ],
             [
              0.1111111111111111,
              "#46039f"
             ],
             [
              0.2222222222222222,
              "#7201a8"
             ],
             [
              0.3333333333333333,
              "#9c179e"
             ],
             [
              0.4444444444444444,
              "#bd3786"
             ],
             [
              0.5555555555555556,
              "#d8576b"
             ],
             [
              0.6666666666666666,
              "#ed7953"
             ],
             [
              0.7777777777777778,
              "#fb9f3a"
             ],
             [
              0.8888888888888888,
              "#fdca26"
             ],
             [
              1,
              "#f0f921"
             ]
            ],
            "type": "heatmapgl"
           }
          ],
          "histogram": [
           {
            "marker": {
             "pattern": {
              "fillmode": "overlay",
              "size": 10,
              "solidity": 0.2
             }
            },
            "type": "histogram"
           }
          ],
          "histogram2d": [
           {
            "colorbar": {
             "outlinewidth": 0,
             "ticks": ""
            },
            "colorscale": [
             [
              0,
              "#0d0887"
             ],
             [
              0.1111111111111111,
              "#46039f"
             ],
             [
              0.2222222222222222,
              "#7201a8"
             ],
             [
              0.3333333333333333,
              "#9c179e"
             ],
             [
              0.4444444444444444,
              "#bd3786"
             ],
             [
              0.5555555555555556,
              "#d8576b"
             ],
             [
              0.6666666666666666,
              "#ed7953"
             ],
             [
              0.7777777777777778,
              "#fb9f3a"
             ],
             [
              0.8888888888888888,
              "#fdca26"
             ],
             [
              1,
              "#f0f921"
             ]
            ],
            "type": "histogram2d"
           }
          ],
          "histogram2dcontour": [
           {
            "colorbar": {
             "outlinewidth": 0,
             "ticks": ""
            },
            "colorscale": [
             [
              0,
              "#0d0887"
             ],
             [
              0.1111111111111111,
              "#46039f"
             ],
             [
              0.2222222222222222,
              "#7201a8"
             ],
             [
              0.3333333333333333,
              "#9c179e"
             ],
             [
              0.4444444444444444,
              "#bd3786"
             ],
             [
              0.5555555555555556,
              "#d8576b"
             ],
             [
              0.6666666666666666,
              "#ed7953"
             ],
             [
              0.7777777777777778,
              "#fb9f3a"
             ],
             [
              0.8888888888888888,
              "#fdca26"
             ],
             [
              1,
              "#f0f921"
             ]
            ],
            "type": "histogram2dcontour"
           }
          ],
          "mesh3d": [
           {
            "colorbar": {
             "outlinewidth": 0,
             "ticks": ""
            },
            "type": "mesh3d"
           }
          ],
          "parcoords": [
           {
            "line": {
             "colorbar": {
              "outlinewidth": 0,
              "ticks": ""
             }
            },
            "type": "parcoords"
           }
          ],
          "pie": [
           {
            "automargin": true,
            "type": "pie"
           }
          ],
          "scatter": [
           {
            "fillpattern": {
             "fillmode": "overlay",
             "size": 10,
             "solidity": 0.2
            },
            "type": "scatter"
           }
          ],
          "scatter3d": [
           {
            "line": {
             "colorbar": {
              "outlinewidth": 0,
              "ticks": ""
             }
            },
            "marker": {
             "colorbar": {
              "outlinewidth": 0,
              "ticks": ""
             }
            },
            "type": "scatter3d"
           }
          ],
          "scattercarpet": [
           {
            "marker": {
             "colorbar": {
              "outlinewidth": 0,
              "ticks": ""
             }
            },
            "type": "scattercarpet"
           }
          ],
          "scattergeo": [
           {
            "marker": {
             "colorbar": {
              "outlinewidth": 0,
              "ticks": ""
             }
            },
            "type": "scattergeo"
           }
          ],
          "scattergl": [
           {
            "marker": {
             "colorbar": {
              "outlinewidth": 0,
              "ticks": ""
             }
            },
            "type": "scattergl"
           }
          ],
          "scattermapbox": [
           {
            "marker": {
             "colorbar": {
              "outlinewidth": 0,
              "ticks": ""
             }
            },
            "type": "scattermapbox"
           }
          ],
          "scatterpolar": [
           {
            "marker": {
             "colorbar": {
              "outlinewidth": 0,
              "ticks": ""
             }
            },
            "type": "scatterpolar"
           }
          ],
          "scatterpolargl": [
           {
            "marker": {
             "colorbar": {
              "outlinewidth": 0,
              "ticks": ""
             }
            },
            "type": "scatterpolargl"
           }
          ],
          "scatterternary": [
           {
            "marker": {
             "colorbar": {
              "outlinewidth": 0,
              "ticks": ""
             }
            },
            "type": "scatterternary"
           }
          ],
          "surface": [
           {
            "colorbar": {
             "outlinewidth": 0,
             "ticks": ""
            },
            "colorscale": [
             [
              0,
              "#0d0887"
             ],
             [
              0.1111111111111111,
              "#46039f"
             ],
             [
              0.2222222222222222,
              "#7201a8"
             ],
             [
              0.3333333333333333,
              "#9c179e"
             ],
             [
              0.4444444444444444,
              "#bd3786"
             ],
             [
              0.5555555555555556,
              "#d8576b"
             ],
             [
              0.6666666666666666,
              "#ed7953"
             ],
             [
              0.7777777777777778,
              "#fb9f3a"
             ],
             [
              0.8888888888888888,
              "#fdca26"
             ],
             [
              1,
              "#f0f921"
             ]
            ],
            "type": "surface"
           }
          ],
          "table": [
           {
            "cells": {
             "fill": {
              "color": "#EBF0F8"
             },
             "line": {
              "color": "white"
             }
            },
            "header": {
             "fill": {
              "color": "#C8D4E3"
             },
             "line": {
              "color": "white"
             }
            },
            "type": "table"
           }
          ]
         },
         "layout": {
          "annotationdefaults": {
           "arrowcolor": "#2a3f5f",
           "arrowhead": 0,
           "arrowwidth": 1
          },
          "autotypenumbers": "strict",
          "coloraxis": {
           "colorbar": {
            "outlinewidth": 0,
            "ticks": ""
           }
          },
          "colorscale": {
           "diverging": [
            [
             0,
             "#8e0152"
            ],
            [
             0.1,
             "#c51b7d"
            ],
            [
             0.2,
             "#de77ae"
            ],
            [
             0.3,
             "#f1b6da"
            ],
            [
             0.4,
             "#fde0ef"
            ],
            [
             0.5,
             "#f7f7f7"
            ],
            [
             0.6,
             "#e6f5d0"
            ],
            [
             0.7,
             "#b8e186"
            ],
            [
             0.8,
             "#7fbc41"
            ],
            [
             0.9,
             "#4d9221"
            ],
            [
             1,
             "#276419"
            ]
           ],
           "sequential": [
            [
             0,
             "#0d0887"
            ],
            [
             0.1111111111111111,
             "#46039f"
            ],
            [
             0.2222222222222222,
             "#7201a8"
            ],
            [
             0.3333333333333333,
             "#9c179e"
            ],
            [
             0.4444444444444444,
             "#bd3786"
            ],
            [
             0.5555555555555556,
             "#d8576b"
            ],
            [
             0.6666666666666666,
             "#ed7953"
            ],
            [
             0.7777777777777778,
             "#fb9f3a"
            ],
            [
             0.8888888888888888,
             "#fdca26"
            ],
            [
             1,
             "#f0f921"
            ]
           ],
           "sequentialminus": [
            [
             0,
             "#0d0887"
            ],
            [
             0.1111111111111111,
             "#46039f"
            ],
            [
             0.2222222222222222,
             "#7201a8"
            ],
            [
             0.3333333333333333,
             "#9c179e"
            ],
            [
             0.4444444444444444,
             "#bd3786"
            ],
            [
             0.5555555555555556,
             "#d8576b"
            ],
            [
             0.6666666666666666,
             "#ed7953"
            ],
            [
             0.7777777777777778,
             "#fb9f3a"
            ],
            [
             0.8888888888888888,
             "#fdca26"
            ],
            [
             1,
             "#f0f921"
            ]
           ]
          },
          "colorway": [
           "#636efa",
           "#EF553B",
           "#00cc96",
           "#ab63fa",
           "#FFA15A",
           "#19d3f3",
           "#FF6692",
           "#B6E880",
           "#FF97FF",
           "#FECB52"
          ],
          "font": {
           "color": "#2a3f5f"
          },
          "geo": {
           "bgcolor": "white",
           "lakecolor": "white",
           "landcolor": "#E5ECF6",
           "showlakes": true,
           "showland": true,
           "subunitcolor": "white"
          },
          "hoverlabel": {
           "align": "left"
          },
          "hovermode": "closest",
          "mapbox": {
           "style": "light"
          },
          "paper_bgcolor": "white",
          "plot_bgcolor": "#E5ECF6",
          "polar": {
           "angularaxis": {
            "gridcolor": "white",
            "linecolor": "white",
            "ticks": ""
           },
           "bgcolor": "#E5ECF6",
           "radialaxis": {
            "gridcolor": "white",
            "linecolor": "white",
            "ticks": ""
           }
          },
          "scene": {
           "xaxis": {
            "backgroundcolor": "#E5ECF6",
            "gridcolor": "white",
            "gridwidth": 2,
            "linecolor": "white",
            "showbackground": true,
            "ticks": "",
            "zerolinecolor": "white"
           },
           "yaxis": {
            "backgroundcolor": "#E5ECF6",
            "gridcolor": "white",
            "gridwidth": 2,
            "linecolor": "white",
            "showbackground": true,
            "ticks": "",
            "zerolinecolor": "white"
           },
           "zaxis": {
            "backgroundcolor": "#E5ECF6",
            "gridcolor": "white",
            "gridwidth": 2,
            "linecolor": "white",
            "showbackground": true,
            "ticks": "",
            "zerolinecolor": "white"
           }
          },
          "shapedefaults": {
           "line": {
            "color": "#2a3f5f"
           }
          },
          "ternary": {
           "aaxis": {
            "gridcolor": "white",
            "linecolor": "white",
            "ticks": ""
           },
           "baxis": {
            "gridcolor": "white",
            "linecolor": "white",
            "ticks": ""
           },
           "bgcolor": "#E5ECF6",
           "caxis": {
            "gridcolor": "white",
            "linecolor": "white",
            "ticks": ""
           }
          },
          "title": {
           "x": 0.05
          },
          "xaxis": {
           "automargin": true,
           "gridcolor": "white",
           "linecolor": "white",
           "ticks": "",
           "title": {
            "standoff": 15
           },
           "zerolinecolor": "white",
           "zerolinewidth": 2
          },
          "yaxis": {
           "automargin": true,
           "gridcolor": "white",
           "linecolor": "white",
           "ticks": "",
           "title": {
            "standoff": 15
           },
           "zerolinecolor": "white",
           "zerolinewidth": 2
          }
         }
        },
        "title": {
         "text": "Daily Energy Cost Comparison"
        },
        "xaxis": {
         "rangeselector": {
          "buttons": [
           {
            "count": 1,
            "label": "1d",
            "step": "day",
            "stepmode": "backward"
           },
           {
            "count": 7,
            "label": "1w",
            "step": "day",
            "stepmode": "backward"
           },
           {
            "count": 1,
            "label": "1m",
            "step": "month",
            "stepmode": "backward"
           },
           {
            "step": "all"
           }
          ]
         },
         "rangeslider": {
          "visible": true
         },
         "title": {
          "text": "Datetime"
         },
         "type": "date"
        },
        "yaxis": {
         "title": {
          "text": "NOK"
         }
        }
       }
      }
     },
     "metadata": {},
     "output_type": "display_data"
    }
   ],
   "source": [
    "daily_main=main_df.groupby(main_df['timestamp'].dt.date)[['Cost_Net_Of_Sun','Cost_Gross','Pred_Cost']].sum().reset_index()\n",
    "\n",
    "sumsol=daily_main['Cost_Net_Of_Sun'].sum()\n",
    "sumuten=daily_main['Cost_Gross'].sum()\n",
    "print(sumsol)\n",
    "print(sumuten)\n",
    "\n",
    "plot_cols =[\n",
    "    ColumnParam(\"Cost_Net_Of_Sun\", \"Cost: Net of Sun\"),\n",
    "    ColumnParam(\"Cost_Gross\", \"Total Cost\"),\n",
    "]\n",
    "\n",
    "\n",
    "plot_energy_usage(daily_main, plot_cols,\n",
    "                    titel=\"Daily Energy Cost Comparison\",\n",
    "                    yaxis_title=\"NOK\",\n",
    "                    tozeroy=False,\n",
    "                    dark_mode=True,\n",
    "                    )"
   ]
  },
  {
   "cell_type": "code",
   "execution_count": 286,
   "metadata": {},
   "outputs": [],
   "source": [
    "a_df = pipe.get_data(BuilingIdsEnum.A)\n",
    "b_df = pipe.get_data(BuilingIdsEnum.B)\n",
    "c_df = pipe.get_data(BuilingIdsEnum.C)\n",
    "\n",
    "#Finner kostnader til A, B og C\n",
    "a_df['Cost A']=a_df['net_consumption']*a_df['spot_price_nok']\n",
    "b_df['Cost B']=b_df['net_consumption']*b_df['spot_price_nok']\n",
    "c_df['Cost C']=c_df['net_consumption']*c_df['spot_price_nok']\n",
    "\n",
    "#Filtrerer for en cleanere merge\n",
    "filter_main=main_df[['timestamp', 'Cost_Net_Of_Sun','Pred_Cost', 'Cost_Gross']]\n",
    "filter_a=a_df[['timestamp', 'Cost A']]\n",
    "filter_b=b_df[['timestamp', 'Cost B']]\n",
    "filter_c=c_df[['timestamp', 'Cost C']]\n",
    "\n",
    "\n",
    "merged_df = pd.merge(filter_main, filter_a, on='timestamp', how='inner').merge(filter_b, on='timestamp').merge(filter_c, on='timestamp')\n",
    "\n",
    "daily_all=merged_df.groupby(merged_df['timestamp'].dt.date)[['Cost_Net_Of_Sun', 'Cost A', 'Cost B', 'Cost C', 'Pred_Cost', 'Cost_Gross']].sum().reset_index()\n",
    "\n"
   ]
  },
  {
   "cell_type": "markdown",
   "metadata": {},
   "source": [
    "1. Daily Cost"
   ]
  },
  {
   "cell_type": "code",
   "execution_count": 287,
   "metadata": {},
   "outputs": [
    {
     "data": {
      "application/vnd.plotly.v1+json": {
       "config": {
        "plotlyServerURL": "https://plot.ly"
       },
       "data": [
        {
         "line": {
          "color": "rgba(255, 0, 0, 0.9)"
         },
         "mode": "lines",
         "name": "Cost Main Building",
         "type": "scatter",
         "x": [
          "2023-07-01",
          "2023-07-02",
          "2023-07-03",
          "2023-07-04",
          "2023-07-05",
          "2023-07-06",
          "2023-07-07",
          "2023-07-08",
          "2023-07-09",
          "2023-07-10",
          "2023-07-11",
          "2023-07-12",
          "2023-07-13",
          "2023-07-14",
          "2023-07-15",
          "2023-07-16",
          "2023-07-17",
          "2023-07-18",
          "2023-07-19",
          "2023-07-20",
          "2023-07-21",
          "2023-07-22",
          "2023-07-23",
          "2023-07-24",
          "2023-07-25",
          "2023-07-26",
          "2023-07-27",
          "2023-07-28",
          "2023-07-29",
          "2023-07-30",
          "2023-07-31",
          "2023-08-01",
          "2023-08-02",
          "2023-08-03",
          "2023-08-04",
          "2023-08-05",
          "2023-08-06",
          "2023-08-07",
          "2023-08-08",
          "2023-08-09",
          "2023-08-10",
          "2023-08-11",
          "2023-08-12",
          "2023-08-13",
          "2023-08-14",
          "2023-08-15",
          "2023-08-16",
          "2023-08-17",
          "2023-08-18",
          "2023-08-19",
          "2023-08-20",
          "2023-08-21",
          "2023-08-22",
          "2023-08-23",
          "2023-08-24",
          "2023-08-25",
          "2023-08-26",
          "2023-08-27",
          "2023-08-28",
          "2023-08-29",
          "2023-08-30",
          "2023-08-31",
          "2023-09-01",
          "2023-09-02",
          "2023-09-03",
          "2023-09-04",
          "2023-09-05",
          "2023-09-06",
          "2023-09-07",
          "2023-09-08",
          "2023-09-09",
          "2023-09-10",
          "2023-09-11",
          "2023-09-12",
          "2023-09-13",
          "2023-09-14",
          "2023-09-15",
          "2023-09-16",
          "2023-09-17",
          "2023-09-18",
          "2023-09-19",
          "2023-09-20",
          "2023-09-21",
          "2023-09-22",
          "2023-09-23",
          "2023-09-24",
          "2023-09-25",
          "2023-09-26",
          "2023-09-27",
          "2023-09-28",
          "2023-09-29",
          "2023-09-30",
          "2023-10-01",
          "2023-10-02",
          "2023-10-03",
          "2023-10-04",
          "2023-10-05",
          "2023-10-06",
          "2023-10-07",
          "2023-10-08",
          "2023-10-09",
          "2023-10-10",
          "2023-10-11",
          "2023-10-12",
          "2023-10-13",
          "2023-10-14",
          "2023-10-15",
          "2023-10-16",
          "2023-10-17",
          "2023-10-18",
          "2023-10-19",
          "2023-10-20",
          "2023-10-21",
          "2023-10-22",
          "2023-10-23",
          "2023-10-24",
          "2023-10-25",
          "2023-10-26",
          "2023-10-27",
          "2023-10-28",
          "2023-10-29",
          "2023-10-30",
          "2023-10-31",
          "2023-11-01",
          "2023-11-02",
          "2023-11-03",
          "2023-11-04",
          "2023-11-05",
          "2023-11-06",
          "2023-11-07",
          "2023-11-08",
          "2023-11-09",
          "2023-11-10",
          "2023-11-11",
          "2023-11-12",
          "2023-11-13",
          "2023-11-14",
          "2023-11-15",
          "2023-11-16",
          "2023-11-17",
          "2023-11-18",
          "2023-11-19",
          "2023-11-20",
          "2023-11-21",
          "2023-11-22",
          "2023-11-23",
          "2023-11-24",
          "2023-11-25",
          "2023-11-26",
          "2023-11-27",
          "2023-11-28",
          "2023-11-29",
          "2023-11-30",
          "2023-12-01",
          "2023-12-02",
          "2023-12-03",
          "2023-12-04",
          "2023-12-05",
          "2023-12-06",
          "2023-12-07",
          "2023-12-08",
          "2023-12-09",
          "2023-12-10",
          "2023-12-11",
          "2023-12-12",
          "2023-12-13",
          "2023-12-14",
          "2023-12-15",
          "2023-12-16",
          "2023-12-17",
          "2023-12-18",
          "2023-12-19",
          "2023-12-20",
          "2023-12-21",
          "2023-12-22",
          "2023-12-23",
          "2023-12-24",
          "2023-12-25",
          "2023-12-26",
          "2023-12-27",
          "2023-12-28",
          "2023-12-29",
          "2023-12-30",
          "2023-12-31",
          "2024-01-01",
          "2024-01-02",
          "2024-01-03",
          "2024-01-04",
          "2024-01-05",
          "2024-01-06",
          "2024-01-07",
          "2024-01-08",
          "2024-01-09",
          "2024-01-10",
          "2024-01-11",
          "2024-01-12",
          "2024-01-13",
          "2024-01-14",
          "2024-01-15",
          "2024-01-16",
          "2024-01-17",
          "2024-01-18",
          "2024-01-19",
          "2024-01-20",
          "2024-01-21",
          "2024-01-22",
          "2024-01-23",
          "2024-01-24",
          "2024-01-25",
          "2024-01-26",
          "2024-01-27",
          "2024-01-28",
          "2024-01-29",
          "2024-01-30",
          "2024-01-31",
          "2024-02-01",
          "2024-02-02",
          "2024-02-03",
          "2024-02-04",
          "2024-02-05",
          "2024-02-06",
          "2024-02-07",
          "2024-02-08",
          "2024-02-09",
          "2024-02-10",
          "2024-02-11",
          "2024-02-12",
          "2024-02-13",
          "2024-02-14",
          "2024-02-15",
          "2024-02-16",
          "2024-02-17",
          "2024-02-18",
          "2024-02-19",
          "2024-02-20",
          "2024-02-21",
          "2024-02-22",
          "2024-02-23",
          "2024-02-24",
          "2024-02-25",
          "2024-02-26",
          "2024-02-27",
          "2024-02-28",
          "2024-02-29",
          "2024-03-01",
          "2024-03-02",
          "2024-03-03",
          "2024-03-04",
          "2024-03-05",
          "2024-03-06",
          "2024-03-07",
          "2024-03-08",
          "2024-03-09",
          "2024-03-10",
          "2024-03-11",
          "2024-03-12",
          "2024-03-13",
          "2024-03-14",
          "2024-03-15",
          "2024-03-16",
          "2024-03-17",
          "2024-03-18",
          "2024-03-19",
          "2024-03-20",
          "2024-03-21",
          "2024-03-22",
          "2024-03-23",
          "2024-03-24",
          "2024-03-25",
          "2024-03-26",
          "2024-03-27",
          "2024-03-28",
          "2024-03-29",
          "2024-03-30",
          "2024-03-31",
          "2024-04-01",
          "2024-04-02",
          "2024-04-03",
          "2024-04-04",
          "2024-04-05",
          "2024-04-06",
          "2024-04-07",
          "2024-04-08",
          "2024-04-09",
          "2024-04-10",
          "2024-04-11",
          "2024-04-12",
          "2024-04-13",
          "2024-04-14",
          "2024-04-15",
          "2024-04-16",
          "2024-04-17",
          "2024-04-18",
          "2024-04-19",
          "2024-04-20",
          "2024-04-21",
          "2024-04-22",
          "2024-04-23",
          "2024-04-24",
          "2024-04-25",
          "2024-04-26",
          "2024-04-27",
          "2024-04-28",
          "2024-04-29",
          "2024-04-30",
          "2024-05-01",
          "2024-05-02",
          "2024-05-03",
          "2024-05-04",
          "2024-05-05",
          "2024-05-06",
          "2024-05-07",
          "2024-05-08",
          "2024-05-09",
          "2024-05-10",
          "2024-05-11",
          "2024-05-12",
          "2024-05-13",
          "2024-05-14",
          "2024-05-15",
          "2024-05-16",
          "2024-05-17",
          "2024-05-18",
          "2024-05-19",
          "2024-05-20",
          "2024-05-21",
          "2024-05-22",
          "2024-05-23",
          "2024-05-24",
          "2024-05-25",
          "2024-05-26",
          "2024-05-27",
          "2024-05-28",
          "2024-05-29",
          "2024-05-30",
          "2024-05-31",
          "2024-06-01",
          "2024-06-02",
          "2024-06-03",
          "2024-06-04",
          "2024-06-05",
          "2024-06-06",
          "2024-06-07",
          "2024-06-08",
          "2024-06-09",
          "2024-06-10",
          "2024-06-11",
          "2024-06-12",
          "2024-06-13",
          "2024-06-14",
          "2024-06-15",
          "2024-06-16",
          "2024-06-17",
          "2024-06-18",
          "2024-06-19",
          "2024-06-20",
          "2024-06-21",
          "2024-06-22",
          "2024-06-23",
          "2024-06-24",
          "2024-06-25",
          "2024-06-26",
          "2024-06-27",
          "2024-06-28",
          "2024-06-29",
          "2024-06-30",
          "2024-07-01",
          "2024-07-02",
          "2024-07-03",
          "2024-07-04",
          "2024-07-05",
          "2024-07-06",
          "2024-07-07",
          "2024-07-08",
          "2024-07-09",
          "2024-07-10",
          "2024-07-11",
          "2024-07-12",
          "2024-07-13",
          "2024-07-14",
          "2024-07-15",
          "2024-07-16",
          "2024-07-17",
          "2024-07-18",
          "2024-07-19",
          "2024-07-20",
          "2024-07-21",
          "2024-07-22",
          "2024-07-23",
          "2024-07-24",
          "2024-07-25",
          "2024-07-26",
          "2024-07-27",
          "2024-07-28",
          "2024-07-29",
          "2024-07-30",
          "2024-07-31",
          "2024-08-01",
          "2024-08-02",
          "2024-08-03",
          "2024-08-04",
          "2024-08-05",
          "2024-08-06",
          "2024-08-07",
          "2024-08-08",
          "2024-08-09",
          "2024-08-10",
          "2024-08-11",
          "2024-08-12",
          "2024-08-13",
          "2024-08-14",
          "2024-08-15",
          "2024-08-16",
          "2024-08-17",
          "2024-08-18",
          "2024-08-19",
          "2024-08-20",
          "2024-08-21",
          "2024-08-22",
          "2024-08-23",
          "2024-08-24",
          "2024-08-25",
          "2024-08-26",
          "2024-08-27",
          "2024-08-28",
          "2024-08-29",
          "2024-08-30",
          "2024-08-31",
          "2024-09-01",
          "2024-09-02",
          "2024-09-03"
         ],
         "y": [
          446.81465890649633,
          90.0098251815655,
          384.8698795330154,
          683.5708568804223,
          475.32910103676863,
          771.2847638153951,
          620.3100403908047,
          535.0546034216464,
          268.9151230484836,
          896.0575927627158,
          731.5387272908877,
          604.0564220292863,
          532.4284198834537,
          460.39903890521043,
          318.0704133961248,
          67.07080984621705,
          230.70564562549012,
          363.2526396903545,
          490.67708345724174,
          406.75301162481514,
          478.8382428138765,
          525.5088246591389,
          177.77122022944678,
          636.2314110263148,
          419.84077545982996,
          497.6127827039125,
          553.5740509672879,
          552.5423209115711,
          504.48983542648904,
          218.17742586581858,
          498.67927901251556,
          498.31374672703186,
          448.51680783431823,
          350.76739399624626,
          463.48264564215,
          464.4309403025101,
          285.7393584690638,
          175.3296487867414,
          -30.7067913312,
          122.97654128968546,
          360.5075615753477,
          422.47145344779506,
          553.4619743573637,
          378.2506115893433,
          715.3676210630389,
          773.1410594492028,
          590.1963069549621,
          744.2723807174174,
          614.4498729596299,
          480.6575341736215,
          410.16706552544576,
          622.4556419661432,
          642.0502202837633,
          713.8190937293817,
          661.2941897614093,
          838.416384597761,
          783.91301418456,
          336.5149450611771,
          623.905853782398,
          642.7383167593,
          720.7473003392408,
          744.1584183572436,
          631.3694853690375,
          600.921523367768,
          404.1577183509306,
          678.2375581847008,
          669.8188575816743,
          772.6627261185422,
          720.7553930704264,
          736.4026563837919,
          695.3288980209569,
          356.9633406607089,
          827.0317556890384,
          639.6428427482837,
          562.7745652308774,
          657.3030212455067,
          668.634822892087,
          636.4916896172882,
          314.82119663391893,
          268.30432519117335,
          -6.8812427059,
          -8.63780234472,
          159.01473225473723,
          178.7036843276192,
          251.2976311153401,
          176.032140524693,
          82.78148446882369,
          255.52350456862396,
          486.1586350654524,
          320.87232113350404,
          374.9802906531124,
          174.7449107156672,
          252.00263667721097,
          415.44594435429235,
          112.18852978241898,
          17.24849363574,
          216.77553488845666,
          76.60269319411692,
          128.1886411569259,
          221.0578133677968,
          555.6132695993638,
          427.2924930789666,
          69.35378425982,
          344.34105270698643,
          315.7193520973762,
          45.9829743908,
          118.40719820909739,
          504.829541869089,
          533.452219615315,
          516.8966718294549,
          280.5326042584768,
          331.3658626653796,
          458.2011840576332,
          316.71124407890204,
          981.6499855350835,
          638.5104041639303,
          485.15980686632935,
          738.4297819569443,
          1024.1910847877132,
          826.2724657819887,
          308.36363223017634,
          832.1715916737073,
          1153.7363230858593,
          678.7486194600681,
          648.3404987636619,
          574.8408288452706,
          422.3051097729375,
          322.3190399734558,
          857.6614889399796,
          1018.7219312058634,
          825.604022419655,
          933.0555698653334,
          875.0166660481597,
          991.7166804700697,
          712.8910631903973,
          893.6570709091042,
          857.8879144416944,
          1102.8026642151533,
          1359.9987270376914,
          1314.980210664319,
          1005.9747520824657,
          627.2105330257493,
          1349.9944705375694,
          1366.9320442547935,
          878.5896450315463,
          643.2539088826454,
          770.0548311672844,
          1032.872430762631,
          805.7227165099614,
          1246.1744225264774,
          1525.3766364179278,
          1843.8994815865988,
          1980.9855714658443,
          2031.0178263199946,
          1432.40279527192,
          1007.7056540326533,
          1454.4102946117766,
          1505.7288712742982,
          1634.8484986824456,
          1325.978784075306,
          1282.9032096278424,
          950.4984581686441,
          637.589166867719,
          1118.7894639696965,
          1229.7233338066867,
          1141.4739759758986,
          1332.4931334318896,
          1051.0292180631304,
          685.6632897588929,
          425.0363097782844,
          708.7368594848306,
          723.2487223421525,
          681.080606805698,
          580.805921288252,
          529.917163726122,
          518.9971962914641,
          389.9534103836533,
          397.1366032072459,
          473.22639250306,
          839.7721788484497,
          630.7741558518692,
          665.9541337342731,
          729.5590585402407,
          509.11157362388997,
          395.5549025877393,
          782.0387684071079,
          840.3549424156001,
          1120.9919995583032,
          1178.4639105372753,
          1239.0207787951958,
          948.1560605385866,
          1303.4288896273945,
          1449.4254596160517,
          1418.1362196943624,
          1338.409008361721,
          1313.308816973299,
          864.0128127255323,
          645.636214444611,
          1071.4088498488168,
          1334.5626606255942,
          1241.0706589767224,
          1172.8173125848712,
          909.5226507766616,
          991.9086299096364,
          530.791704842067,
          632.9888070983974,
          587.4930999425902,
          496.6099666887823,
          793.128493118852,
          589.224256848558,
          582.6126342025,
          374.90752813545527,
          725.2541933833896,
          670.5849081951034,
          559.1108545857669,
          511.28613409420154,
          540.0809382890999,
          414.0188015081221,
          178.85920204492209,
          479.72383514445664,
          638.5242240325243,
          900.8216499934795,
          949.2842735122008,
          765.1545557962415,
          766.9767860944274,
          470.59046330402623,
          855.3291364914832,
          767.803757247422,
          732.4810772162584,
          740.9080230274144,
          587.455429559579,
          630.9310638764912,
          402.46985664090516,
          678.6648390583125,
          610.9340110078834,
          514.320830709523,
          504.4928572219241,
          455.7605161994599,
          497.69659028708753,
          358.1215549845833,
          555.7756779869203,
          565.4440098063607,
          454.09551404769695,
          498.1547361396503,
          570.7538700523437,
          562.5515930292398,
          353.849853792393,
          578.6828499032422,
          513.0228495566843,
          788.413393732023,
          611.3702674907665,
          535.7033666293135,
          544.3814875822853,
          345.32932952489335,
          496.7613797644935,
          815.3567369750277,
          663.2555008686592,
          531.3970747307819,
          500.6250260185323,
          477.32070103715927,
          342.48986169481947,
          548.0957945735167,
          631.9803005058125,
          661.5910019967275,
          674.70299361527,
          396.5136360405787,
          372.98469219714605,
          234.03826987699856,
          708.7785612926905,
          592.2112464327585,
          590.8077525762145,
          304.90943347255154,
          232.31726200737802,
          429.722082717248,
          312.1122353153024,
          186.2881924187931,
          419.5199928940151,
          510.3009870644821,
          654.1847941818819,
          528.9152049275726,
          434.41123509034986,
          83.57556117669291,
          420.652249897287,
          467.77817192448003,
          328.1031288528347,
          295.55548323562834,
          337.66830253500075,
          151.2186449960318,
          63.860513819031866,
          273.1911817046734,
          278.8193428204278,
          469.72126245605045,
          510.69474643657236,
          437.8295567635329,
          418.3334268932963,
          174.83183023413358,
          395.52804460928513,
          688.1775862570544,
          575.113982671772,
          551.0572286907272,
          663.3734783602509,
          445.75232689148766,
          178.9157660458994,
          454.1315842962648,
          440.63380472262435,
          136.80609509304287,
          221.9136966128434,
          236.60213472110513,
          294.7754822836296,
          172.24311706672043,
          546.0551512624482,
          525.8431880417005,
          535.6909981214172,
          222.7846756834812,
          325.2055803185136,
          243.81127119096064,
          121.94464574205223,
          141.6916705862433,
          114.72594627730425,
          143.2793125303181,
          116.06229921610043,
          73.06255267534823,
          78.84686592488796,
          127.03887775517288,
          84.48087020513378,
          259.1025975990414,
          270.869262544511,
          403.10199142833505,
          548.6633948441607,
          339.65282274354297,
          215.305642727709,
          517.4127016020017,
          459.278972518052,
          312.87327040185113,
          501.41391348299254,
          409.46675633839476,
          337.63295035756425,
          88.52568128822925,
          319.09545859295736,
          361.6500224018056,
          327.2673646955693,
          280.86544944327505,
          300.8037930309122,
          121.73148202206737,
          59.54904563146157,
          237.82434978951642,
          326.67082849024547,
          267.0341919141902,
          358.9822368504939,
          361.0880421191315,
          167.7264526731262,
          60.579339652533164,
          443.08830598127304,
          373.1199596635802,
          271.84352252654367,
          274.83254379785245,
          295.23801617423476,
          371.6807179860511,
          140.32931221761132,
          438.8082008057383,
          199.86850276868316,
          254.02071469313276,
          270.8117197476921,
          206.35666021824525,
          262.4665552522914,
          219.16457164916505,
          321.5966218248018,
          327.93586513324334,
          295.86508044613197,
          110.85186749175185,
          139.3527858134736,
          103.35737707362335,
          37.680951922527036,
          257.17252783444206,
          217.07517404371427,
          421.18244056012884,
          374.3064871779518,
          284.45263988345283,
          230.53642040489922,
          133.24406123785846,
          348.73801852016834,
          301.4367228088353,
          345.8028840027231,
          258.7855094069329,
          290.59632540610863,
          255.10780138157065,
          156.6297148724555,
          440.90182639421755,
          315.04148233496744,
          297.534420650421,
          320.14034113956933,
          496.46936651349347,
          400.25736145389715,
          208.80232313304737,
          380.05184251959207,
          517.5349756607543,
          342.1376877601206,
          413.60230181140366,
          453.75190326400775,
          500.91153554378616,
          266.2568471803758,
          499.07608547198953,
          487.6751872115728,
          537.6720841002942,
          459.40602021651387,
          170.9613148097106,
          125.55667618639913,
          195.27524727032352,
          339.06654099674074,
          464.44457519731117,
          643.2101448906195,
          483.16523328327037,
          449.911137483835,
          406.7194715911388,
          302.69973532944095,
          434.0229119861471,
          588.7909359663037,
          296.0963005042819,
          247.0276242023241,
          144.2363401743886,
          322.2906858111033,
          68.57145881895798,
          290.2606871977404,
          385.5785155357576,
          373.69545336197297,
          453.9343379475918,
          399.3023021765919,
          352.74577381972415,
          201.23925776330282,
          534.6584374256544,
          558.6313605855847
         ]
        },
        {
         "line": {
          "color": "rgba(0, 0, 255, 0.9)"
         },
         "mode": "lines",
         "name": "Cost Building A",
         "type": "scatter",
         "x": [
          "2023-07-01",
          "2023-07-02",
          "2023-07-03",
          "2023-07-04",
          "2023-07-05",
          "2023-07-06",
          "2023-07-07",
          "2023-07-08",
          "2023-07-09",
          "2023-07-10",
          "2023-07-11",
          "2023-07-12",
          "2023-07-13",
          "2023-07-14",
          "2023-07-15",
          "2023-07-16",
          "2023-07-17",
          "2023-07-18",
          "2023-07-19",
          "2023-07-20",
          "2023-07-21",
          "2023-07-22",
          "2023-07-23",
          "2023-07-24",
          "2023-07-25",
          "2023-07-26",
          "2023-07-27",
          "2023-07-28",
          "2023-07-29",
          "2023-07-30",
          "2023-07-31",
          "2023-08-01",
          "2023-08-02",
          "2023-08-03",
          "2023-08-04",
          "2023-08-05",
          "2023-08-06",
          "2023-08-07",
          "2023-08-08",
          "2023-08-09",
          "2023-08-10",
          "2023-08-11",
          "2023-08-12",
          "2023-08-13",
          "2023-08-14",
          "2023-08-15",
          "2023-08-16",
          "2023-08-17",
          "2023-08-18",
          "2023-08-19",
          "2023-08-20",
          "2023-08-21",
          "2023-08-22",
          "2023-08-23",
          "2023-08-24",
          "2023-08-25",
          "2023-08-26",
          "2023-08-27",
          "2023-08-28",
          "2023-08-29",
          "2023-08-30",
          "2023-08-31",
          "2023-09-01",
          "2023-09-02",
          "2023-09-03",
          "2023-09-04",
          "2023-09-05",
          "2023-09-06",
          "2023-09-07",
          "2023-09-08",
          "2023-09-09",
          "2023-09-10",
          "2023-09-11",
          "2023-09-12",
          "2023-09-13",
          "2023-09-14",
          "2023-09-15",
          "2023-09-16",
          "2023-09-17",
          "2023-09-18",
          "2023-09-19",
          "2023-09-20",
          "2023-09-21",
          "2023-09-22",
          "2023-09-23",
          "2023-09-24",
          "2023-09-25",
          "2023-09-26",
          "2023-09-27",
          "2023-09-28",
          "2023-09-29",
          "2023-09-30",
          "2023-10-01",
          "2023-10-02",
          "2023-10-03",
          "2023-10-04",
          "2023-10-05",
          "2023-10-06",
          "2023-10-07",
          "2023-10-08",
          "2023-10-09",
          "2023-10-10",
          "2023-10-11",
          "2023-10-12",
          "2023-10-13",
          "2023-10-14",
          "2023-10-15",
          "2023-10-16",
          "2023-10-17",
          "2023-10-18",
          "2023-10-19",
          "2023-10-20",
          "2023-10-21",
          "2023-10-22",
          "2023-10-23",
          "2023-10-24",
          "2023-10-25",
          "2023-10-26",
          "2023-10-27",
          "2023-10-28",
          "2023-10-29",
          "2023-10-30",
          "2023-10-31",
          "2023-11-01",
          "2023-11-02",
          "2023-11-03",
          "2023-11-04",
          "2023-11-05",
          "2023-11-06",
          "2023-11-07",
          "2023-11-08",
          "2023-11-09",
          "2023-11-10",
          "2023-11-11",
          "2023-11-12",
          "2023-11-13",
          "2023-11-14",
          "2023-11-15",
          "2023-11-16",
          "2023-11-17",
          "2023-11-18",
          "2023-11-19",
          "2023-11-20",
          "2023-11-21",
          "2023-11-22",
          "2023-11-23",
          "2023-11-24",
          "2023-11-25",
          "2023-11-26",
          "2023-11-27",
          "2023-11-28",
          "2023-11-29",
          "2023-11-30",
          "2023-12-01",
          "2023-12-02",
          "2023-12-03",
          "2023-12-04",
          "2023-12-05",
          "2023-12-06",
          "2023-12-07",
          "2023-12-08",
          "2023-12-09",
          "2023-12-10",
          "2023-12-11",
          "2023-12-12",
          "2023-12-13",
          "2023-12-14",
          "2023-12-15",
          "2023-12-16",
          "2023-12-17",
          "2023-12-18",
          "2023-12-19",
          "2023-12-20",
          "2023-12-21",
          "2023-12-22",
          "2023-12-23",
          "2023-12-24",
          "2023-12-25",
          "2023-12-26",
          "2023-12-27",
          "2023-12-28",
          "2023-12-29",
          "2023-12-30",
          "2023-12-31",
          "2024-01-01",
          "2024-01-02",
          "2024-01-03",
          "2024-01-04",
          "2024-01-05",
          "2024-01-06",
          "2024-01-07",
          "2024-01-08",
          "2024-01-09",
          "2024-01-10",
          "2024-01-11",
          "2024-01-12",
          "2024-01-13",
          "2024-01-14",
          "2024-01-15",
          "2024-01-16",
          "2024-01-17",
          "2024-01-18",
          "2024-01-19",
          "2024-01-20",
          "2024-01-21",
          "2024-01-22",
          "2024-01-23",
          "2024-01-24",
          "2024-01-25",
          "2024-01-26",
          "2024-01-27",
          "2024-01-28",
          "2024-01-29",
          "2024-01-30",
          "2024-01-31",
          "2024-02-01",
          "2024-02-02",
          "2024-02-03",
          "2024-02-04",
          "2024-02-05",
          "2024-02-06",
          "2024-02-07",
          "2024-02-08",
          "2024-02-09",
          "2024-02-10",
          "2024-02-11",
          "2024-02-12",
          "2024-02-13",
          "2024-02-14",
          "2024-02-15",
          "2024-02-16",
          "2024-02-17",
          "2024-02-18",
          "2024-02-19",
          "2024-02-20",
          "2024-02-21",
          "2024-02-22",
          "2024-02-23",
          "2024-02-24",
          "2024-02-25",
          "2024-02-26",
          "2024-02-27",
          "2024-02-28",
          "2024-02-29",
          "2024-03-01",
          "2024-03-02",
          "2024-03-03",
          "2024-03-04",
          "2024-03-05",
          "2024-03-06",
          "2024-03-07",
          "2024-03-08",
          "2024-03-09",
          "2024-03-10",
          "2024-03-11",
          "2024-03-12",
          "2024-03-13",
          "2024-03-14",
          "2024-03-15",
          "2024-03-16",
          "2024-03-17",
          "2024-03-18",
          "2024-03-19",
          "2024-03-20",
          "2024-03-21",
          "2024-03-22",
          "2024-03-23",
          "2024-03-24",
          "2024-03-25",
          "2024-03-26",
          "2024-03-27",
          "2024-03-28",
          "2024-03-29",
          "2024-03-30",
          "2024-03-31",
          "2024-04-01",
          "2024-04-02",
          "2024-04-03",
          "2024-04-04",
          "2024-04-05",
          "2024-04-06",
          "2024-04-07",
          "2024-04-08",
          "2024-04-09",
          "2024-04-10",
          "2024-04-11",
          "2024-04-12",
          "2024-04-13",
          "2024-04-14",
          "2024-04-15",
          "2024-04-16",
          "2024-04-17",
          "2024-04-18",
          "2024-04-19",
          "2024-04-20",
          "2024-04-21",
          "2024-04-22",
          "2024-04-23",
          "2024-04-24",
          "2024-04-25",
          "2024-04-26",
          "2024-04-27",
          "2024-04-28",
          "2024-04-29",
          "2024-04-30",
          "2024-05-01",
          "2024-05-02",
          "2024-05-03",
          "2024-05-04",
          "2024-05-05",
          "2024-05-06",
          "2024-05-07",
          "2024-05-08",
          "2024-05-09",
          "2024-05-10",
          "2024-05-11",
          "2024-05-12",
          "2024-05-13",
          "2024-05-14",
          "2024-05-15",
          "2024-05-16",
          "2024-05-17",
          "2024-05-18",
          "2024-05-19",
          "2024-05-20",
          "2024-05-21",
          "2024-05-22",
          "2024-05-23",
          "2024-05-24",
          "2024-05-25",
          "2024-05-26",
          "2024-05-27",
          "2024-05-28",
          "2024-05-29",
          "2024-05-30",
          "2024-05-31",
          "2024-06-01",
          "2024-06-02",
          "2024-06-03",
          "2024-06-04",
          "2024-06-05",
          "2024-06-06",
          "2024-06-07",
          "2024-06-08",
          "2024-06-09",
          "2024-06-10",
          "2024-06-11",
          "2024-06-12",
          "2024-06-13",
          "2024-06-14",
          "2024-06-15",
          "2024-06-16",
          "2024-06-17",
          "2024-06-18",
          "2024-06-19",
          "2024-06-20",
          "2024-06-21",
          "2024-06-22",
          "2024-06-23",
          "2024-06-24",
          "2024-06-25",
          "2024-06-26",
          "2024-06-27",
          "2024-06-28",
          "2024-06-29",
          "2024-06-30",
          "2024-07-01",
          "2024-07-02",
          "2024-07-03",
          "2024-07-04",
          "2024-07-05",
          "2024-07-06",
          "2024-07-07",
          "2024-07-08",
          "2024-07-09",
          "2024-07-10",
          "2024-07-11",
          "2024-07-12",
          "2024-07-13",
          "2024-07-14",
          "2024-07-15",
          "2024-07-16",
          "2024-07-17",
          "2024-07-18",
          "2024-07-19",
          "2024-07-20",
          "2024-07-21",
          "2024-07-22",
          "2024-07-23",
          "2024-07-24",
          "2024-07-25",
          "2024-07-26",
          "2024-07-27",
          "2024-07-28",
          "2024-07-29",
          "2024-07-30",
          "2024-07-31",
          "2024-08-01",
          "2024-08-02",
          "2024-08-03",
          "2024-08-04",
          "2024-08-05",
          "2024-08-06",
          "2024-08-07",
          "2024-08-08",
          "2024-08-09",
          "2024-08-10",
          "2024-08-11",
          "2024-08-12",
          "2024-08-13",
          "2024-08-14",
          "2024-08-15",
          "2024-08-16",
          "2024-08-17",
          "2024-08-18",
          "2024-08-19",
          "2024-08-20",
          "2024-08-21",
          "2024-08-22",
          "2024-08-23",
          "2024-08-24",
          "2024-08-25",
          "2024-08-26",
          "2024-08-27",
          "2024-08-28",
          "2024-08-29",
          "2024-08-30",
          "2024-08-31",
          "2024-09-01",
          "2024-09-02",
          "2024-09-03"
         ],
         "y": [
          520.2402303433244,
          53.138649714282074,
          507.750596731235,
          754.546780992989,
          770.258612303512,
          929.636688107456,
          934.5494004949888,
          740.4984144881186,
          445.68727004112463,
          1024.8481611334525,
          813.8865900212342,
          681.0261407111863,
          642.9211277057655,
          690.0331197057951,
          240.8036201903339,
          25.460621376070883,
          222.91995630685662,
          581.0535118466139,
          725.9845092576971,
          538.5874345041698,
          794.240082060732,
          733.3912816106216,
          146.2315383884685,
          695.8452149708038,
          516.2973625233385,
          665.0314154158856,
          762.0426753474825,
          787.5918763600364,
          676.8624960523535,
          177.21604400061122,
          691.3397667983746,
          673.73009842477,
          595.0907785881616,
          363.3500867227472,
          472.9045600843711,
          604.7954410822059,
          255.02458779870335,
          139.01228476871393,
          -28.055486502,
          92.34745043198912,
          380.76912208688117,
          584.0135332876205,
          608.8593456699434,
          276.82704854304205,
          765.1163287007512,
          741.415720350384,
          869.8500149834548,
          877.4752611830999,
          782.9759096917677,
          392.31993825878055,
          344.8550535779765,
          774.5409651087905,
          789.5913498269857,
          893.1616673759129,
          888.4700229263274,
          1107.778220589453,
          801.0746600318345,
          386.55252223709306,
          847.1162558235295,
          917.9790086445844,
          975.5776259053937,
          895.5468240811477,
          737.8585384767357,
          656.953217966682,
          318.0471223780956,
          766.2889241433335,
          775.5975257170469,
          897.5405612307243,
          798.6596205775841,
          830.1455395999654,
          720.1397812414798,
          347.28170883563786,
          728.7970627209777,
          683.6028582830193,
          618.9473228662158,
          618.3653608674888,
          611.6193067259702,
          557.8670688123053,
          267.7191255007093,
          205.48214965124737,
          -9.4612095684,
          -8.19148389144,
          128.3727802749854,
          180.45327751138544,
          233.26458794159845,
          127.3555454861178,
          64.01316316658539,
          255.36116615778988,
          446.94660513253297,
          258.5904710739342,
          350.9163066738495,
          138.54430339896564,
          182.21328431094227,
          386.7237138170002,
          84.24082144788834,
          16.258678322519998,
          186.62101644915833,
          58.79635724225404,
          115.32008324675007,
          278.16301802663617,
          486.04352113083434,
          353.50331604491487,
          58.78009157144,
          298.6879953619608,
          250.5985042852732,
          36.0896827322,
          77.79710666750098,
          450.5443127342012,
          477.79360193040645,
          490.31076558451485,
          249.04605453445595,
          291.6840274293648,
          369.54832000336376,
          316.83548935651584,
          822.4153316097129,
          522.4225174076028,
          525.359537719439,
          583.1740437098215,
          832.4864583795886,
          651.9612730562505,
          254.27229364315974,
          636.3840768570996,
          895.431908296735,
          595.7569290784421,
          542.0872147560146,
          484.81465460710353,
          352.07530429370354,
          303.6321013665146,
          694.9126526613522,
          877.9787952334236,
          710.7053107800959,
          808.2511419802902,
          725.9728297900824,
          840.8920301376412,
          694.954866527253,
          785.0368653053147,
          688.093574902715,
          950.3855459433076,
          1086.0314010458378,
          1107.0393666114317,
          822.514611878731,
          426.43449871092434,
          989.4184160154683,
          1135.4436092220822,
          746.2029193548149,
          577.4292554796572,
          652.5320024209568,
          855.8296503016351,
          714.1420665501936,
          1042.9489355592295,
          1171.1966100422396,
          1451.8443284933674,
          1650.6239113106858,
          1551.445948269793,
          1144.8947581791406,
          847.8479490419337,
          1097.8009863377595,
          1157.231168159747,
          1323.8637484910116,
          1122.6519777880756,
          1027.0781733832648,
          765.6408789396713,
          518.877377431945,
          847.7261226776362,
          1006.1501208233298,
          933.8621895053354,
          1040.0872056841524,
          878.9162577780347,
          561.7884695102836,
          362.3820244983918,
          583.6413071927285,
          603.9376273818111,
          563.6610288933259,
          468.1019213875555,
          450.2605093419149,
          419.61617481187227,
          299.5961072231995,
          323.2779742571137,
          404.82039066597264,
          650.975960418582,
          479.62699433538734,
          541.9674009529065,
          587.074689288096,
          407.51260276730153,
          323.51013882612415,
          604.9214665942746,
          646.3390621383501,
          901.087535741697,
          981.1323315130902,
          1018.8961393666748,
          722.7516083489556,
          1138.782335305233,
          1111.2208264500125,
          1084.7511920154827,
          1053.5157135186455,
          1053.2038203605687,
          681.8871908781708,
          504.28036035881405,
          853.9342719177342,
          1020.2575606888348,
          959.5948823370269,
          887.1503227874163,
          783.4012131601688,
          710.0433320437024,
          366.01073700294745,
          510.3113300850692,
          492.6267379247523,
          421.06524277290157,
          725.5593355764532,
          541.7312420333812,
          530.5569299646718,
          352.3438621243133,
          667.3986558348718,
          587.0458822188652,
          500.5112657266643,
          485.35689697060843,
          500.93286833444574,
          403.3125514548703,
          202.6365883869328,
          444.1968299937689,
          554.7223257630719,
          798.8416177088629,
          831.1536728565442,
          622.3762546700658,
          658.1401731415483,
          425.7182051426995,
          708.8711760257019,
          659.8348109352215,
          635.2853938251055,
          643.7690741034347,
          527.2401608724977,
          573.707322136953,
          340.6772694379283,
          593.6916566004247,
          549.9946902523193,
          472.54130206557846,
          495.8927124732622,
          451.4156389709336,
          489.12796197899934,
          372.4298343990014,
          590.874091071486,
          572.3204128762443,
          499.9250609485449,
          471.47904849392904,
          545.449881874809,
          533.6870587237108,
          391.5361007644345,
          601.3624280465677,
          578.8040925381833,
          746.6804201570654,
          680.4887526272798,
          603.9468298375515,
          493.54831149432357,
          299.09939444801796,
          553.4929913861189,
          692.257138884137,
          565.6794999106796,
          498.78307263093336,
          483.57755621451736,
          450.08768242416164,
          371.00477541960487,
          567.6780450417613,
          571.8194756341288,
          708.3908595474081,
          679.2477432387429,
          514.9876444155434,
          349.4339233377252,
          327.0712834743399,
          760.1354899372415,
          570.8096495163279,
          559.199247756586,
          342.59003461221045,
          256.0021261949908,
          407.4065757423008,
          339.3899996754573,
          307.1619346696712,
          426.5845728442671,
          636.4782087843058,
          567.5963671124188,
          452.4343778377535,
          384.81588731778317,
          65.9150212605987,
          478.5671505721555,
          429.53230912045956,
          398.8459919416325,
          381.8664128189461,
          329.70439748744076,
          104.7818482420024,
          106.33434721454637,
          370.3860101264121,
          413.42216546291934,
          546.340057934814,
          683.8456932875378,
          517.7485900596025,
          492.6966342911422,
          356.74552133470297,
          662.5487989997474,
          729.6754348382714,
          681.4808433362517,
          681.8962259590504,
          776.8710893930072,
          559.8898702886729,
          189.82673057729806,
          534.8996096125982,
          453.47214521219723,
          160.89278306451675,
          244.3739536941733,
          364.1572355880969,
          402.8932970564092,
          281.80447144617057,
          656.4538948378702,
          710.9583474714718,
          757.1854612694062,
          307.9374196851583,
          513.6675115199237,
          317.6284141857144,
          207.46636421022245,
          305.0404100617436,
          165.89054351100842,
          220.32974451815485,
          189.64728332505126,
          219.24717912976766,
          345.17783964804136,
          294.037387847248,
          261.4592051719169,
          584.9160220424114,
          500.2063408579293,
          545.6917066732537,
          607.7893738309796,
          427.2055536888074,
          242.67623415901008,
          554.862387752477,
          583.810769416984,
          459.36441235170565,
          559.0315981934682,
          625.6505487334678,
          401.32162380676067,
          102.30619240269239,
          546.1391277130615,
          521.9691492463612,
          427.91393874595065,
          487.03096738142256,
          432.60297336861896,
          176.17289947467222,
          45.823598230278265,
          409.1173392563896,
          426.47171327124374,
          482.0780257440325,
          602.2588946749763,
          386.7158132888187,
          138.5042384531698,
          82.9934103457345,
          756.9811398317981,
          530.3236369633461,
          471.3757156387653,
          632.9632930367168,
          596.2979646447457,
          336.54758883570156,
          223.65508410303423,
          855.7744252562354,
          386.75955145001717,
          372.9648619850263,
          374.0475542066044,
          232.58661824039427,
          338.06181703246693,
          378.23566449415233,
          616.1432822517451,
          556.3290081033572,
          412.2369346903506,
          315.64889180599033,
          355.0539190993316,
          264.98374555368383,
          52.98735528225664,
          585.8784278264104,
          367.14571487196037,
          360.03886036046606,
          420.57690932473076,
          397.8857869837617,
          217.83461593870862,
          143.75631135202903,
          339.98122339235994,
          304.8097088991603,
          370.82605481438827,
          396.9848291989146,
          434.06099794829277,
          308.19479484056376,
          200.5421824304817,
          382.9208336793602,
          446.2135126525198,
          326.45816075537726,
          404.4550649437046,
          525.1254393999722,
          503.047250076167,
          184.7429389124989,
          563.489401497765,
          577.0795562107612,
          498.57101689729166,
          601.35202881191,
          642.8906066246765,
          528.6784411886202,
          304.3623214036265,
          600.6845864947483,
          492.7929280417791,
          545.9523270697712,
          515.7358727840494,
          157.84124207882468,
          53.86650136851972,
          173.637143721692,
          473.37769598551546,
          535.9807508446278,
          565.7387067342489,
          461.30371807135543,
          557.501373484521,
          506.34275560086627,
          286.1665567465825,
          520.8951015776239,
          508.08891674180563,
          301.05489795655143,
          205.98804415964372,
          123.81431248456322,
          258.446975542517,
          41.00835341852481,
          281.26158891178187,
          344.5334519157157,
          381.0831129883037,
          384.005002098366,
          407.2033357425346,
          370.16478715038676,
          249.29435288712588,
          504.9150002108194,
          497.53043315527395
         ]
        },
        {
         "line": {
          "color": "rgba(0, 128, 0, 0.9)"
         },
         "mode": "lines",
         "name": "Cost Building B",
         "type": "scatter",
         "x": [
          "2023-07-01",
          "2023-07-02",
          "2023-07-03",
          "2023-07-04",
          "2023-07-05",
          "2023-07-06",
          "2023-07-07",
          "2023-07-08",
          "2023-07-09",
          "2023-07-10",
          "2023-07-11",
          "2023-07-12",
          "2023-07-13",
          "2023-07-14",
          "2023-07-15",
          "2023-07-16",
          "2023-07-17",
          "2023-07-18",
          "2023-07-19",
          "2023-07-20",
          "2023-07-21",
          "2023-07-22",
          "2023-07-23",
          "2023-07-24",
          "2023-07-25",
          "2023-07-26",
          "2023-07-27",
          "2023-07-28",
          "2023-07-29",
          "2023-07-30",
          "2023-07-31",
          "2023-08-01",
          "2023-08-02",
          "2023-08-03",
          "2023-08-04",
          "2023-08-05",
          "2023-08-06",
          "2023-08-07",
          "2023-08-08",
          "2023-08-09",
          "2023-08-10",
          "2023-08-11",
          "2023-08-12",
          "2023-08-13",
          "2023-08-14",
          "2023-08-15",
          "2023-08-16",
          "2023-08-17",
          "2023-08-18",
          "2023-08-19",
          "2023-08-20",
          "2023-08-21",
          "2023-08-22",
          "2023-08-23",
          "2023-08-24",
          "2023-08-25",
          "2023-08-26",
          "2023-08-27",
          "2023-08-28",
          "2023-08-29",
          "2023-08-30",
          "2023-08-31",
          "2023-09-01",
          "2023-09-02",
          "2023-09-03",
          "2023-09-04",
          "2023-09-05",
          "2023-09-06",
          "2023-09-07",
          "2023-09-08",
          "2023-09-09",
          "2023-09-10",
          "2023-09-11",
          "2023-09-12",
          "2023-09-13",
          "2023-09-14",
          "2023-09-15",
          "2023-09-16",
          "2023-09-17",
          "2023-09-18",
          "2023-09-19",
          "2023-09-20",
          "2023-09-21",
          "2023-09-22",
          "2023-09-23",
          "2023-09-24",
          "2023-09-25",
          "2023-09-26",
          "2023-09-27",
          "2023-09-28",
          "2023-09-29",
          "2023-09-30",
          "2023-10-01",
          "2023-10-02",
          "2023-10-03",
          "2023-10-04",
          "2023-10-05",
          "2023-10-06",
          "2023-10-07",
          "2023-10-08",
          "2023-10-09",
          "2023-10-10",
          "2023-10-11",
          "2023-10-12",
          "2023-10-13",
          "2023-10-14",
          "2023-10-15",
          "2023-10-16",
          "2023-10-17",
          "2023-10-18",
          "2023-10-19",
          "2023-10-20",
          "2023-10-21",
          "2023-10-22",
          "2023-10-23",
          "2023-10-24",
          "2023-10-25",
          "2023-10-26",
          "2023-10-27",
          "2023-10-28",
          "2023-10-29",
          "2023-10-30",
          "2023-10-31",
          "2023-11-01",
          "2023-11-02",
          "2023-11-03",
          "2023-11-04",
          "2023-11-05",
          "2023-11-06",
          "2023-11-07",
          "2023-11-08",
          "2023-11-09",
          "2023-11-10",
          "2023-11-11",
          "2023-11-12",
          "2023-11-13",
          "2023-11-14",
          "2023-11-15",
          "2023-11-16",
          "2023-11-17",
          "2023-11-18",
          "2023-11-19",
          "2023-11-20",
          "2023-11-21",
          "2023-11-22",
          "2023-11-23",
          "2023-11-24",
          "2023-11-25",
          "2023-11-26",
          "2023-11-27",
          "2023-11-28",
          "2023-11-29",
          "2023-11-30",
          "2023-12-01",
          "2023-12-02",
          "2023-12-03",
          "2023-12-04",
          "2023-12-05",
          "2023-12-06",
          "2023-12-07",
          "2023-12-08",
          "2023-12-09",
          "2023-12-10",
          "2023-12-11",
          "2023-12-12",
          "2023-12-13",
          "2023-12-14",
          "2023-12-15",
          "2023-12-16",
          "2023-12-17",
          "2023-12-18",
          "2023-12-19",
          "2023-12-20",
          "2023-12-21",
          "2023-12-22",
          "2023-12-23",
          "2023-12-24",
          "2023-12-25",
          "2023-12-26",
          "2023-12-27",
          "2023-12-28",
          "2023-12-29",
          "2023-12-30",
          "2023-12-31",
          "2024-01-01",
          "2024-01-02",
          "2024-01-03",
          "2024-01-04",
          "2024-01-05",
          "2024-01-06",
          "2024-01-07",
          "2024-01-08",
          "2024-01-09",
          "2024-01-10",
          "2024-01-11",
          "2024-01-12",
          "2024-01-13",
          "2024-01-14",
          "2024-01-15",
          "2024-01-16",
          "2024-01-17",
          "2024-01-18",
          "2024-01-19",
          "2024-01-20",
          "2024-01-21",
          "2024-01-22",
          "2024-01-23",
          "2024-01-24",
          "2024-01-25",
          "2024-01-26",
          "2024-01-27",
          "2024-01-28",
          "2024-01-29",
          "2024-01-30",
          "2024-01-31",
          "2024-02-01",
          "2024-02-02",
          "2024-02-03",
          "2024-02-04",
          "2024-02-05",
          "2024-02-06",
          "2024-02-07",
          "2024-02-08",
          "2024-02-09",
          "2024-02-10",
          "2024-02-11",
          "2024-02-12",
          "2024-02-13",
          "2024-02-14",
          "2024-02-15",
          "2024-02-16",
          "2024-02-17",
          "2024-02-18",
          "2024-02-19",
          "2024-02-20",
          "2024-02-21",
          "2024-02-22",
          "2024-02-23",
          "2024-02-24",
          "2024-02-25",
          "2024-02-26",
          "2024-02-27",
          "2024-02-28",
          "2024-02-29",
          "2024-03-01",
          "2024-03-02",
          "2024-03-03",
          "2024-03-04",
          "2024-03-05",
          "2024-03-06",
          "2024-03-07",
          "2024-03-08",
          "2024-03-09",
          "2024-03-10",
          "2024-03-11",
          "2024-03-12",
          "2024-03-13",
          "2024-03-14",
          "2024-03-15",
          "2024-03-16",
          "2024-03-17",
          "2024-03-18",
          "2024-03-19",
          "2024-03-20",
          "2024-03-21",
          "2024-03-22",
          "2024-03-23",
          "2024-03-24",
          "2024-03-25",
          "2024-03-26",
          "2024-03-27",
          "2024-03-28",
          "2024-03-29",
          "2024-03-30",
          "2024-03-31",
          "2024-04-01",
          "2024-04-02",
          "2024-04-03",
          "2024-04-04",
          "2024-04-05",
          "2024-04-06",
          "2024-04-07",
          "2024-04-08",
          "2024-04-09",
          "2024-04-10",
          "2024-04-11",
          "2024-04-12",
          "2024-04-13",
          "2024-04-14",
          "2024-04-15",
          "2024-04-16",
          "2024-04-17",
          "2024-04-18",
          "2024-04-19",
          "2024-04-20",
          "2024-04-21",
          "2024-04-22",
          "2024-04-23",
          "2024-04-24",
          "2024-04-25",
          "2024-04-26",
          "2024-04-27",
          "2024-04-28",
          "2024-04-29",
          "2024-04-30",
          "2024-05-01",
          "2024-05-02",
          "2024-05-03",
          "2024-05-04",
          "2024-05-05",
          "2024-05-06",
          "2024-05-07",
          "2024-05-08",
          "2024-05-09",
          "2024-05-10",
          "2024-05-11",
          "2024-05-12",
          "2024-05-13",
          "2024-05-14",
          "2024-05-15",
          "2024-05-16",
          "2024-05-17",
          "2024-05-18",
          "2024-05-19",
          "2024-05-20",
          "2024-05-21",
          "2024-05-22",
          "2024-05-23",
          "2024-05-24",
          "2024-05-25",
          "2024-05-26",
          "2024-05-27",
          "2024-05-28",
          "2024-05-29",
          "2024-05-30",
          "2024-05-31",
          "2024-06-01",
          "2024-06-02",
          "2024-06-03",
          "2024-06-04",
          "2024-06-05",
          "2024-06-06",
          "2024-06-07",
          "2024-06-08",
          "2024-06-09",
          "2024-06-10",
          "2024-06-11",
          "2024-06-12",
          "2024-06-13",
          "2024-06-14",
          "2024-06-15",
          "2024-06-16",
          "2024-06-17",
          "2024-06-18",
          "2024-06-19",
          "2024-06-20",
          "2024-06-21",
          "2024-06-22",
          "2024-06-23",
          "2024-06-24",
          "2024-06-25",
          "2024-06-26",
          "2024-06-27",
          "2024-06-28",
          "2024-06-29",
          "2024-06-30",
          "2024-07-01",
          "2024-07-02",
          "2024-07-03",
          "2024-07-04",
          "2024-07-05",
          "2024-07-06",
          "2024-07-07",
          "2024-07-08",
          "2024-07-09",
          "2024-07-10",
          "2024-07-11",
          "2024-07-12",
          "2024-07-13",
          "2024-07-14",
          "2024-07-15",
          "2024-07-16",
          "2024-07-17",
          "2024-07-18",
          "2024-07-19",
          "2024-07-20",
          "2024-07-21",
          "2024-07-22",
          "2024-07-23",
          "2024-07-24",
          "2024-07-25",
          "2024-07-26",
          "2024-07-27",
          "2024-07-28",
          "2024-07-29",
          "2024-07-30",
          "2024-07-31",
          "2024-08-01",
          "2024-08-02",
          "2024-08-03",
          "2024-08-04",
          "2024-08-05",
          "2024-08-06",
          "2024-08-07",
          "2024-08-08",
          "2024-08-09",
          "2024-08-10",
          "2024-08-11",
          "2024-08-12",
          "2024-08-13",
          "2024-08-14",
          "2024-08-15",
          "2024-08-16",
          "2024-08-17",
          "2024-08-18",
          "2024-08-19",
          "2024-08-20",
          "2024-08-21",
          "2024-08-22",
          "2024-08-23",
          "2024-08-24",
          "2024-08-25",
          "2024-08-26",
          "2024-08-27",
          "2024-08-28",
          "2024-08-29",
          "2024-08-30",
          "2024-08-31",
          "2024-09-01",
          "2024-09-02",
          "2024-09-03"
         ],
         "y": [
          406.3597934121067,
          85.79108989712975,
          351.66010008831563,
          568.1339289450035,
          539.080693971572,
          656.3916645621355,
          686.8417974142144,
          581.9014187865038,
          640.1096720086189,
          744.2386557485798,
          667.4632558093368,
          557.6037991060557,
          505.8088530849646,
          503.61609746082127,
          240.35057763402216,
          53.95147196598761,
          208.71281065434502,
          352.808084287803,
          468.55370789248934,
          399.06426141998725,
          502.26280208115054,
          460.3233558462747,
          212.38864089364017,
          489.2116003454162,
          388.07751307201397,
          409.37566134882053,
          455.4086037269626,
          555.2378386785759,
          451.91397389580914,
          254.00944426674153,
          437.4696808392533,
          463.14553505817935,
          463.2375766614612,
          309.0173435037665,
          448.1888384128488,
          504.5781831930744,
          384.39585831091733,
          140.99371724982512,
          -28.20423551928,
          101.32543295781149,
          332.9279597780968,
          436.99007849752263,
          454.04259025005325,
          433.6624013744829,
          592.5506962949617,
          629.7218675202665,
          573.4040270625012,
          617.6624625934147,
          552.4055310087248,
          357.31337915339276,
          530.8913461605231,
          551.3626699073291,
          560.7721531285315,
          636.4398711804786,
          618.4185572350427,
          686.0609900361723,
          623.0883374804442,
          566.0463265020895,
          538.9863868754013,
          547.5179437342372,
          590.248793613479,
          567.9874539703409,
          550.7466245092489,
          476.24701161233185,
          464.93668394921565,
          586.0798966321659,
          575.528009004119,
          513.7188257627836,
          532.9763517636901,
          601.7186108668185,
          547.7557881506219,
          509.6651832907158,
          646.6446122984686,
          529.047159979616,
          468.7850134205039,
          533.4535502302372,
          533.4308268895884,
          512.367301059093,
          364.295444953327,
          201.89606894445126,
          -6.080712924032,
          -8.002394138304,
          127.0990979965982,
          141.47726125708104,
          185.05495417363943,
          202.08066868954145,
          63.765186042326,
          210.37985050874624,
          380.36534544322166,
          246.43899947085225,
          309.0831051546719,
          126.14018294116039,
          286.2662913631747,
          340.38425884258396,
          94.86613357442752,
          13.321903616063999,
          169.152753311172,
          61.21424386125397,
          90.68885654686258,
          302.0077675966821,
          442.77624193451356,
          329.8280278902899,
          54.720023972928004,
          268.00794937555384,
          251.4278620925797,
          32.10720611216,
          128.98204395224352,
          426.875523100472,
          405.9811359415783,
          412.5713273894521,
          206.79967993614457,
          282.71186303718736,
          366.8890962532127,
          362.5870993587736,
          804.4667292071878,
          526.0206102881708,
          525.6797135676355,
          585.0328674040113,
          841.3541628394458,
          638.7933975886829,
          373.10774230192874,
          600.8852165630891,
          860.7716574233663,
          562.8708403788311,
          511.05891343681606,
          454.52775029536946,
          331.0320268311809,
          419.40348497620715,
          678.1645910917892,
          851.8634244793818,
          687.2057972263958,
          781.7306899012221,
          707.9047272050146,
          797.6203133607286,
          784.5012372140187,
          769.0906632580911,
          688.6636823818454,
          919.8409350496767,
          1066.1061029674397,
          1081.9860476936653,
          817.0944849527908,
          605.577166924495,
          986.3612588262923,
          1090.289478779776,
          733.3824423992553,
          546.0680839788045,
          639.1262276504973,
          830.4319530980113,
          1003.1558564294713,
          1036.875234038341,
          1151.8352560563721,
          1310.6424885074282,
          1545.4006316634766,
          1475.124772203344,
          1140.1509332543155,
          1182.5918788130134,
          1292.0379409357824,
          1381.0262370258815,
          1503.652304410923,
          1250.40562357945,
          1053.9337018629847,
          752.1542941568048,
          596.6957714039362,
          827.9676258691619,
          989.7295313828574,
          920.2956781820685,
          1103.9672029403928,
          938.4113367065664,
          611.5416999599055,
          464.9140914395645,
          574.5892959218077,
          600.5614858460463,
          553.922455009755,
          448.0081149749038,
          424.6020373126212,
          406.3293552754243,
          417.93096435069833,
          432.60884105086205,
          560.9301255118168,
          702.7356105615394,
          500.63331508281783,
          561.9045439956639,
          596.8801998768391,
          461.9447729197751,
          393.6961437812956,
          587.2683072595277,
          638.7285257621099,
          911.3348823242616,
          1138.1860294224257,
          1160.2339916013802,
          1076.852388308029,
          1280.988752909127,
          1147.7085805652653,
          1135.4445427811634,
          1100.2588048833247,
          1083.6786642588916,
          679.0858592138125,
          875.9354873492715,
          1563.605871807362,
          933.0943961414929,
          917.2807010392964,
          937.3863645559014,
          822.0273393025672,
          743.249578565905,
          544.1088286743344,
          478.21541720447703,
          441.6877278771402,
          383.01000479765594,
          651.0247394151064,
          481.9042959264831,
          468.0272334228208,
          435.00584064902705,
          610.9859113694081,
          585.5803042731102,
          487.82935129681107,
          452.13239569495516,
          468.2527008952927,
          347.6832075224142,
          262.02195341009804,
          420.59892014551883,
          554.1629894429853,
          788.0959483170509,
          855.8550414446469,
          663.1070135696242,
          627.7111195621926,
          528.1151389287987,
          661.0000302976925,
          645.8907558316644,
          619.9547466038774,
          614.6587034373222,
          489.43716374995023,
          539.8876926925295,
          460.4606392861101,
          569.5090874886412,
          526.3904173799045,
          434.8992768242931,
          434.61723771664293,
          393.1886775193575,
          408.75790646872105,
          449.2280501432256,
          521.8426870243198,
          573.9448699060929,
          483.8792053251718,
          443.32727235511993,
          497.90294347217116,
          458.68785450453106,
          437.8476779609923,
          553.8111605558579,
          523.4275089805683,
          664.9059223434833,
          599.9783374979527,
          544.497465814233,
          432.0760763780535,
          380.15149200781804,
          512.8655833581719,
          630.4630613329778,
          508.2704240776253,
          438.4180006632155,
          425.3176843683501,
          390.26780521205194,
          457.60379954323093,
          514.1037490640771,
          511.87029713521656,
          625.0504929218046,
          600.1117694062831,
          432.2704935636212,
          292.0887333271241,
          355.0264459723824,
          641.7451328737111,
          483.53032511313745,
          477.7826528615883,
          380.50515298918214,
          287.4471516529102,
          367.3270268872211,
          354.1080710113183,
          295.69153330728864,
          315.95733019049965,
          497.46731604907745,
          510.0894950922115,
          405.4398594672145,
          334.83862754231916,
          83.51961768448912,
          339.4369039109493,
          349.0661364218856,
          281.7834557189718,
          262.19427919126355,
          257.23737773184723,
          107.2994747067177,
          106.77590648017284,
          243.3763818183064,
          247.04823428763444,
          387.4727182263565,
          488.5569117006311,
          401.36654704251333,
          347.292349470339,
          300.5819559952683,
          381.8780065976316,
          537.6159543378666,
          503.58259230689083,
          501.56498592842075,
          577.4284662329106,
          400.23665597492567,
          208.96701831104977,
          389.0545184542493,
          356.0829327259585,
          162.6799061628191,
          173.16929313315998,
          233.86798015294625,
          244.79576110276528,
          239.24797391693193,
          491.65296890739705,
          535.2583182020419,
          547.3979252748097,
          312.2379904571038,
          307.9883100704326,
          223.9238596476035,
          145.989996547359,
          182.83044671491106,
          138.7142680340111,
          171.39000070795757,
          127.79292852635254,
          94.13511156075077,
          195.12063635477887,
          195.4089481881415,
          226.57802538140874,
          274.1447146057415,
          234.85666540133454,
          392.79377038309553,
          455.91752017825115,
          315.2119670252378,
          262.47134648561826,
          445.39583617265896,
          433.1776969006791,
          339.3851757111334,
          461.3321886844233,
          369.05512277395434,
          283.08070579693054,
          129.10445182833467,
          312.9600992125071,
          381.039066538793,
          319.17160782616736,
          331.833584449962,
          305.91719477468087,
          146.25488179826664,
          68.36072737490854,
          252.66770014904088,
          285.1990965865209,
          371.63392577774806,
          470.98391079124394,
          267.11523698533813,
          119.48406055289084,
          100.0712533926325,
          545.946945938024,
          325.6981671192126,
          298.7976334453306,
          322.4656957941363,
          325.7950155326114,
          263.09303060211914,
          212.88485333871282,
          496.09969566869233,
          240.22475616145303,
          240.3536071697276,
          253.4367968725216,
          193.34276588498412,
          232.8359773038432,
          183.20271610840848,
          286.95585653829386,
          276.481290666523,
          264.55076719884266,
          124.5861570666573,
          130.27813270684882,
          76.93616605631946,
          75.30302670498739,
          264.944906208036,
          241.316635732589,
          313.7218856620556,
          306.92530266301594,
          248.07755553791728,
          177.18539150078615,
          162.49880856974076,
          279.6300123439944,
          257.574415754071,
          293.58578101489445,
          274.25141771472124,
          270.5089533518913,
          235.57082218175594,
          230.51548062277476,
          352.891462338627,
          319.4338538418665,
          266.85222918485806,
          267.31414437049096,
          404.37366807306097,
          356.29343762106436,
          188.71641468543905,
          335.20473423672286,
          467.93960052689,
          340.0383538810796,
          364.2706785315882,
          421.49065569529415,
          400.25029007668564,
          334.5070475446522,
          414.0474010337525,
          404.20141743962085,
          447.1435887076616,
          369.0137669041876,
          137.69049289125445,
          70.84090396060625,
          195.0024886905424,
          347.0328261525582,
          369.81392052755086,
          474.32118716094874,
          387.79494567880903,
          358.15781333829597,
          332.56228862834064,
          310.83054123669757,
          371.4131550863024,
          456.6174439847197,
          267.0559430496011,
          197.194084834705,
          113.12247512545704,
          220.58561524908257,
          55.66994516119012,
          207.89068804054781,
          285.52638929512096,
          292.98431433469636,
          334.7154460896727,
          295.14396814707914,
          262.3159093390668,
          267.1779578252303,
          446.6130520384379,
          439.67009701469925
         ]
        },
        {
         "line": {
          "color": "rgba(255, 165, 0, 0.9)"
         },
         "mode": "lines",
         "name": "Cost Building C",
         "type": "scatter",
         "x": [
          "2023-07-01",
          "2023-07-02",
          "2023-07-03",
          "2023-07-04",
          "2023-07-05",
          "2023-07-06",
          "2023-07-07",
          "2023-07-08",
          "2023-07-09",
          "2023-07-10",
          "2023-07-11",
          "2023-07-12",
          "2023-07-13",
          "2023-07-14",
          "2023-07-15",
          "2023-07-16",
          "2023-07-17",
          "2023-07-18",
          "2023-07-19",
          "2023-07-20",
          "2023-07-21",
          "2023-07-22",
          "2023-07-23",
          "2023-07-24",
          "2023-07-25",
          "2023-07-26",
          "2023-07-27",
          "2023-07-28",
          "2023-07-29",
          "2023-07-30",
          "2023-07-31",
          "2023-08-01",
          "2023-08-02",
          "2023-08-03",
          "2023-08-04",
          "2023-08-05",
          "2023-08-06",
          "2023-08-07",
          "2023-08-08",
          "2023-08-09",
          "2023-08-10",
          "2023-08-11",
          "2023-08-12",
          "2023-08-13",
          "2023-08-14",
          "2023-08-15",
          "2023-08-16",
          "2023-08-17",
          "2023-08-18",
          "2023-08-19",
          "2023-08-20",
          "2023-08-21",
          "2023-08-22",
          "2023-08-23",
          "2023-08-24",
          "2023-08-25",
          "2023-08-26",
          "2023-08-27",
          "2023-08-28",
          "2023-08-29",
          "2023-08-30",
          "2023-08-31",
          "2023-09-01",
          "2023-09-02",
          "2023-09-03",
          "2023-09-04",
          "2023-09-05",
          "2023-09-06",
          "2023-09-07",
          "2023-09-08",
          "2023-09-09",
          "2023-09-10",
          "2023-09-11",
          "2023-09-12",
          "2023-09-13",
          "2023-09-14",
          "2023-09-15",
          "2023-09-16",
          "2023-09-17",
          "2023-09-18",
          "2023-09-19",
          "2023-09-20",
          "2023-09-21",
          "2023-09-22",
          "2023-09-23",
          "2023-09-24",
          "2023-09-25",
          "2023-09-26",
          "2023-09-27",
          "2023-09-28",
          "2023-09-29",
          "2023-09-30",
          "2023-10-01",
          "2023-10-02",
          "2023-10-03",
          "2023-10-04",
          "2023-10-05",
          "2023-10-06",
          "2023-10-07",
          "2023-10-08",
          "2023-10-09",
          "2023-10-10",
          "2023-10-11",
          "2023-10-12",
          "2023-10-13",
          "2023-10-14",
          "2023-10-15",
          "2023-10-16",
          "2023-10-17",
          "2023-10-18",
          "2023-10-19",
          "2023-10-20",
          "2023-10-21",
          "2023-10-22",
          "2023-10-23",
          "2023-10-24",
          "2023-10-25",
          "2023-10-26",
          "2023-10-27",
          "2023-10-28",
          "2023-10-29",
          "2023-10-30",
          "2023-10-31",
          "2023-11-01",
          "2023-11-02",
          "2023-11-03",
          "2023-11-04",
          "2023-11-05",
          "2023-11-06",
          "2023-11-07",
          "2023-11-08",
          "2023-11-09",
          "2023-11-10",
          "2023-11-11",
          "2023-11-12",
          "2023-11-13",
          "2023-11-14",
          "2023-11-15",
          "2023-11-16",
          "2023-11-17",
          "2023-11-18",
          "2023-11-19",
          "2023-11-20",
          "2023-11-21",
          "2023-11-22",
          "2023-11-23",
          "2023-11-24",
          "2023-11-25",
          "2023-11-26",
          "2023-11-27",
          "2023-11-28",
          "2023-11-29",
          "2023-11-30",
          "2023-12-01",
          "2023-12-02",
          "2023-12-03",
          "2023-12-04",
          "2023-12-05",
          "2023-12-06",
          "2023-12-07",
          "2023-12-08",
          "2023-12-09",
          "2023-12-10",
          "2023-12-11",
          "2023-12-12",
          "2023-12-13",
          "2023-12-14",
          "2023-12-15",
          "2023-12-16",
          "2023-12-17",
          "2023-12-18",
          "2023-12-19",
          "2023-12-20",
          "2023-12-21",
          "2023-12-22",
          "2023-12-23",
          "2023-12-24",
          "2023-12-25",
          "2023-12-26",
          "2023-12-27",
          "2023-12-28",
          "2023-12-29",
          "2023-12-30",
          "2023-12-31",
          "2024-01-01",
          "2024-01-02",
          "2024-01-03",
          "2024-01-04",
          "2024-01-05",
          "2024-01-06",
          "2024-01-07",
          "2024-01-08",
          "2024-01-09",
          "2024-01-10",
          "2024-01-11",
          "2024-01-12",
          "2024-01-13",
          "2024-01-14",
          "2024-01-15",
          "2024-01-16",
          "2024-01-17",
          "2024-01-18",
          "2024-01-19",
          "2024-01-20",
          "2024-01-21",
          "2024-01-22",
          "2024-01-23",
          "2024-01-24",
          "2024-01-25",
          "2024-01-26",
          "2024-01-27",
          "2024-01-28",
          "2024-01-29",
          "2024-01-30",
          "2024-01-31",
          "2024-02-01",
          "2024-02-02",
          "2024-02-03",
          "2024-02-04",
          "2024-02-05",
          "2024-02-06",
          "2024-02-07",
          "2024-02-08",
          "2024-02-09",
          "2024-02-10",
          "2024-02-11",
          "2024-02-12",
          "2024-02-13",
          "2024-02-14",
          "2024-02-15",
          "2024-02-16",
          "2024-02-17",
          "2024-02-18",
          "2024-02-19",
          "2024-02-20",
          "2024-02-21",
          "2024-02-22",
          "2024-02-23",
          "2024-02-24",
          "2024-02-25",
          "2024-02-26",
          "2024-02-27",
          "2024-02-28",
          "2024-02-29",
          "2024-03-01",
          "2024-03-02",
          "2024-03-03",
          "2024-03-04",
          "2024-03-05",
          "2024-03-06",
          "2024-03-07",
          "2024-03-08",
          "2024-03-09",
          "2024-03-10",
          "2024-03-11",
          "2024-03-12",
          "2024-03-13",
          "2024-03-14",
          "2024-03-15",
          "2024-03-16",
          "2024-03-17",
          "2024-03-18",
          "2024-03-19",
          "2024-03-20",
          "2024-03-21",
          "2024-03-22",
          "2024-03-23",
          "2024-03-24",
          "2024-03-25",
          "2024-03-26",
          "2024-03-27",
          "2024-03-28",
          "2024-03-29",
          "2024-03-30",
          "2024-03-31",
          "2024-04-01",
          "2024-04-02",
          "2024-04-03",
          "2024-04-04",
          "2024-04-05",
          "2024-04-06",
          "2024-04-07",
          "2024-04-08",
          "2024-04-09",
          "2024-04-10",
          "2024-04-11",
          "2024-04-12",
          "2024-04-13",
          "2024-04-14",
          "2024-04-15",
          "2024-04-16",
          "2024-04-17",
          "2024-04-18",
          "2024-04-19",
          "2024-04-20",
          "2024-04-21",
          "2024-04-22",
          "2024-04-23",
          "2024-04-24",
          "2024-04-25",
          "2024-04-26",
          "2024-04-27",
          "2024-04-28",
          "2024-04-29",
          "2024-04-30",
          "2024-05-01",
          "2024-05-02",
          "2024-05-03",
          "2024-05-04",
          "2024-05-05",
          "2024-05-06",
          "2024-05-07",
          "2024-05-08",
          "2024-05-09",
          "2024-05-10",
          "2024-05-11",
          "2024-05-12",
          "2024-05-13",
          "2024-05-14",
          "2024-05-15",
          "2024-05-16",
          "2024-05-17",
          "2024-05-18",
          "2024-05-19",
          "2024-05-20",
          "2024-05-21",
          "2024-05-22",
          "2024-05-23",
          "2024-05-24",
          "2024-05-25",
          "2024-05-26",
          "2024-05-27",
          "2024-05-28",
          "2024-05-29",
          "2024-05-30",
          "2024-05-31",
          "2024-06-01",
          "2024-06-02",
          "2024-06-03",
          "2024-06-04",
          "2024-06-05",
          "2024-06-06",
          "2024-06-07",
          "2024-06-08",
          "2024-06-09",
          "2024-06-10",
          "2024-06-11",
          "2024-06-12",
          "2024-06-13",
          "2024-06-14",
          "2024-06-15",
          "2024-06-16",
          "2024-06-17",
          "2024-06-18",
          "2024-06-19",
          "2024-06-20",
          "2024-06-21",
          "2024-06-22",
          "2024-06-23",
          "2024-06-24",
          "2024-06-25",
          "2024-06-26",
          "2024-06-27",
          "2024-06-28",
          "2024-06-29",
          "2024-06-30",
          "2024-07-01",
          "2024-07-02",
          "2024-07-03",
          "2024-07-04",
          "2024-07-05",
          "2024-07-06",
          "2024-07-07",
          "2024-07-08",
          "2024-07-09",
          "2024-07-10",
          "2024-07-11",
          "2024-07-12",
          "2024-07-13",
          "2024-07-14",
          "2024-07-15",
          "2024-07-16",
          "2024-07-17",
          "2024-07-18",
          "2024-07-19",
          "2024-07-20",
          "2024-07-21",
          "2024-07-22",
          "2024-07-23",
          "2024-07-24",
          "2024-07-25",
          "2024-07-26",
          "2024-07-27",
          "2024-07-28",
          "2024-07-29",
          "2024-07-30",
          "2024-07-31",
          "2024-08-01",
          "2024-08-02",
          "2024-08-03",
          "2024-08-04",
          "2024-08-05",
          "2024-08-06",
          "2024-08-07",
          "2024-08-08",
          "2024-08-09",
          "2024-08-10",
          "2024-08-11",
          "2024-08-12",
          "2024-08-13",
          "2024-08-14",
          "2024-08-15",
          "2024-08-16",
          "2024-08-17",
          "2024-08-18",
          "2024-08-19",
          "2024-08-20",
          "2024-08-21",
          "2024-08-22",
          "2024-08-23",
          "2024-08-24",
          "2024-08-25",
          "2024-08-26",
          "2024-08-27",
          "2024-08-28",
          "2024-08-29",
          "2024-08-30",
          "2024-08-31",
          "2024-09-01",
          "2024-09-02",
          "2024-09-03"
         ],
         "y": [
          735.5704707856831,
          97.13724199415441,
          569.4778360665407,
          895.5919079291203,
          903.4489432096268,
          1266.199247989302,
          1387.8161584071297,
          1223.02327961404,
          791.0105487942545,
          1366.4249585400132,
          1187.8385546383217,
          991.1351747410503,
          1030.497170168343,
          1048.987233084488,
          430.0343385195959,
          63.446041993964144,
          390.1292797053933,
          767.6435799322556,
          867.8495496615521,
          722.4707831556138,
          968.0424540361762,
          839.076852834813,
          262.5162577678608,
          869.6040237564755,
          777.4923053907877,
          793.9209811698737,
          1053.4275639871335,
          1151.0351843009557,
          948.8987472294039,
          332.4187252615354,
          893.7192675555907,
          939.9352350165193,
          871.9835493805008,
          640.4014269180634,
          829.2996164997732,
          995.0256242868819,
          450.6736084501939,
          239.64610472383333,
          -51.79757540685,
          147.5372926335504,
          557.9880899140588,
          846.9758436651239,
          907.0792310721376,
          515.3940721090428,
          1165.901971903181,
          1142.4583159793724,
          1308.8871181150007,
          1314.8223027881977,
          1209.8675662164942,
          662.7876714409526,
          631.8078946944098,
          1284.1153643789728,
          1204.3168651923968,
          1298.880779601666,
          1140.3191805247538,
          1136.1286172424807,
          1080.9006910217925,
          669.5605433195999,
          1133.7942383602917,
          1067.425107626834,
          1204.2213639069837,
          1152.9828360281897,
          1158.405458066989,
          973.5408511112275,
          547.4060800578535,
          1283.498296308299,
          1275.331396398243,
          1052.0213953931989,
          1052.2573488473645,
          1064.947491225025,
          963.8370813872997,
          587.9172066099817,
          1114.1740711594389,
          1067.1670621913331,
          889.9701906330672,
          873.5980968445714,
          936.8828699726323,
          881.9843343623127,
          447.0234789386421,
          344.7511498628062,
          -13.91855822266,
          -12.73054229202,
          213.35191498740738,
          269.95256846161055,
          335.88037433428934,
          213.55554913148595,
          110.80277714140739,
          404.08057280194635,
          728.2586372723001,
          435.8489448766421,
          560.4596067303785,
          212.5071614512672,
          311.0637256097857,
          619.092553389481,
          130.56338441491255,
          22.89327394676,
          275.1180878330353,
          90.4074169040652,
          167.05846828624686,
          344.78323595111425,
          708.0074236511932,
          520.3351731027778,
          85.12841895240001,
          427.98809026668584,
          362.2138088586526,
          50.6461806462,
          132.8530625740175,
          645.854511470103,
          655.2960854200899,
          637.458584971277,
          340.36791754990315,
          406.086526271073,
          519.0085137842036,
          345.75245763780475,
          1158.2077284313086,
          734.6437708743608,
          732.4128034617496,
          810.2037535440041,
          1161.5291397061333,
          901.250834353144,
          335.86656141988794,
          846.4201946498628,
          1181.6718026818473,
          776.3116193238928,
          706.2126606358108,
          623.3169657224877,
          461.1796028361058,
          385.56642181168576,
          929.472483433389,
          1160.118134199059,
          926.7890501204309,
          1058.2131323587641,
          955.4103779835172,
          1116.8702635072168,
          741.2961032799667,
          1054.9283072794763,
          928.150966333186,
          1240.7749445318955,
          1460.2292127801313,
          1452.482928130345,
          1087.74824325859,
          541.8981600353003,
          1322.2848581148419,
          1477.4102916966647,
          981.5499521388303,
          756.4745196457868,
          855.3033760953956,
          1140.3742174588579,
          887.5771978342236,
          1380.8933579118218,
          1521.8516914854258,
          1742.8438459502722,
          2097.023230460667,
          1955.6108429351925,
          1372.3803466136314,
          915.7353729985907,
          1425.7942160238856,
          1423.6425929882857,
          1613.315915032874,
          1392.2642311241793,
          1264.9083139028612,
          950.6918045104327,
          604.679373967641,
          1073.8712700959268,
          1258.9094572883796,
          1164.4604674934628,
          1312.0690610991355,
          1083.0530235213848,
          769.8739919367325,
          452.4262011906777,
          767.8244537160817,
          787.15582667849,
          720.1657507546172,
          592.0781404239219,
          551.1906618617716,
          510.050396513547,
          321.09565712081013,
          419.2674076519768,
          491.57810056419527,
          800.0655500390008,
          640.2275785378246,
          688.4327653731727,
          774.3967778669578,
          454.50908769431413,
          412.10497095349126,
          769.8495097817977,
          819.0115352549461,
          1094.8735631742916,
          1109.684406989106,
          1116.3181029350287,
          663.8335943442945,
          1296.4284924304013,
          1295.61105133551,
          1294.1498153303096,
          1311.2149241192574,
          1281.9504592161402,
          856.1251849893076,
          580.7112986121487,
          1066.4118837721505,
          1236.7383725448688,
          1153.5014516903748,
          1063.804194604649,
          934.5228162628954,
          899.0116056242547,
          425.4448634935104,
          666.8824369115198,
          642.2886074487463,
          542.1538686315757,
          923.532699039128,
          686.7368877997836,
          672.3780653332536,
          436.84213211938106,
          875.8788401701015,
          764.4772156671759,
          627.7080647390787,
          608.8861322229554,
          635.2980472796722,
          512.296772259224,
          241.88218678478287,
          573.6917810919858,
          710.2020858574432,
          974.1636372400469,
          1028.247297541149,
          785.2771454415682,
          808.0820183542489,
          471.69222621794364,
          884.8051969305506,
          839.797951047879,
          806.1497086027051,
          810.6372460368858,
          667.056780631978,
          765.6288719498683,
          450.04560683249025,
          753.1191070845133,
          697.781716448417,
          587.1972362440804,
          618.2314460230955,
          559.6217963553114,
          622.2419337436689,
          481.2703052023326,
          743.8124909831242,
          726.5878936120534,
          631.0262511851729,
          592.8500330088889,
          673.0935575579226,
          668.2677406854768,
          427.3128279583192,
          767.4171914041332,
          739.8059644537133,
          935.1934154147583,
          855.8530115262689,
          767.8521804629364,
          621.6120865492725,
          355.8005318353785,
          709.8737423451544,
          888.1860639516832,
          709.7971453620374,
          638.9203579530656,
          606.4913010288649,
          555.7286031588975,
          444.16947641494426,
          729.1881957417748,
          726.4299603520194,
          879.7156967039069,
          865.4812243890437,
          655.0327931621953,
          444.9715466413419,
          404.2738055041436,
          987.6755036497314,
          727.6009771489522,
          704.5953369231964,
          438.34719793821745,
          318.9159013385466,
          503.1925000854673,
          427.1692141907591,
          416.39310556034843,
          558.9016124874474,
          815.6077571156137,
          733.831821464937,
          569.9080541756134,
          498.40105508892594,
          93.2901656165158,
          624.1091094389939,
          576.0093548110365,
          536.5733128702096,
          484.55314056040794,
          402.7879201084558,
          128.20071660085077,
          132.47695150603886,
          477.31132892429747,
          538.2864744756114,
          702.32669357222,
          894.2127502414776,
          674.5413085827489,
          629.0305097815484,
          426.8140417333401,
          847.5478702937742,
          939.9232769416903,
          854.7518461611032,
          877.8035425589943,
          992.078293192949,
          709.8106594211962,
          222.00397335939783,
          691.6250191020457,
          596.8825904639561,
          187.1747466192361,
          329.39243276102974,
          491.75250010047966,
          487.7538095775081,
          270.3351238586906,
          738.5206961237687,
          907.496200642319,
          944.3383600244568,
          369.08664579876233,
          503.1011029510722,
          354.3360626705387,
          154.3404495904759,
          309.95900584211284,
          214.25383487768465,
          293.8258607861234,
          234.30623344986913,
          199.7931871691189,
          292.61671736066324,
          226.923297451959,
          307.62364390473783,
          611.3724788013963,
          503.84847399425416,
          799.8041382618334,
          819.0001639561114,
          582.2324544537539,
          286.17015821434177,
          805.4469669367019,
          834.0251783988116,
          603.401702738823,
          799.2496849120781,
          917.5573819107892,
          555.5843691088616,
          184.16466265239842,
          814.5413880218108,
          680.2125096380468,
          533.1890849766747,
          611.9507608274887,
          538.8967639277766,
          208.2721460310927,
          56.24165401458762,
          491.73305086108076,
          538.9609828957127,
          591.0988421052355,
          771.6328617699596,
          478.79952980728035,
          184.82803048114397,
          108.24927062517287,
          964.8995853363081,
          652.6484315207899,
          565.2263938473685,
          801.9616565918614,
          740.1842215647732,
          426.6273519895833,
          260.50403981396704,
          980.8621178921951,
          460.52425284620324,
          469.21634805873464,
          512.6970329928307,
          294.0591797047124,
          386.1709022445523,
          210.4005219208443,
          546.6835528838321,
          470.24160984531403,
          523.0826348931312,
          174.11467536287802,
          233.63784647405566,
          99.4781979616011,
          69.16549367379935,
          469.93465615696533,
          471.4203083429095,
          474.96921817049565,
          564.5821536090008,
          494.48230993917815,
          267.8499870016936,
          161.97359699572877,
          433.2864277318379,
          403.5976879944551,
          445.2525425642604,
          499.7908718398724,
          531.5173827421197,
          371.54937425857577,
          239.6911564938707,
          512.1801361362506,
          563.1263972251148,
          404.7209257151427,
          515.4762078847291,
          612.0915779229808,
          616.481594588427,
          205.27969370735556,
          549.10986762216,
          753.1186353260349,
          617.8507349657514,
          769.3139203073044,
          803.7826190143059,
          659.3897342983574,
          342.86555833463973,
          758.6082083912947,
          626.3027745039122,
          680.5769466451738,
          672.2212816903955,
          204.20973940623043,
          72.54717169634705,
          206.7520662679745,
          601.5372958045285,
          616.2618022042113,
          725.6127763765913,
          586.053875075313,
          696.8930450451165,
          638.3020505790008,
          345.72146146772246,
          659.0079899590555,
          683.2049640549654,
          381.7726040883154,
          279.033459165016,
          164.76366001369738,
          322.3029041013565,
          51.744352142718945,
          360.93876543385045,
          443.5921859565092,
          468.23063139492115,
          505.3634703237822,
          513.4337505660019,
          453.13093262794837,
          290.57338756579,
          641.2279143671647,
          653.8579421975538
         ]
        }
       ],
       "layout": {
        "height": 600,
        "hovermode": "x unified",
        "showlegend": true,
        "template": {
         "data": {
          "bar": [
           {
            "error_x": {
             "color": "#2a3f5f"
            },
            "error_y": {
             "color": "#2a3f5f"
            },
            "marker": {
             "line": {
              "color": "#E5ECF6",
              "width": 0.5
             },
             "pattern": {
              "fillmode": "overlay",
              "size": 10,
              "solidity": 0.2
             }
            },
            "type": "bar"
           }
          ],
          "barpolar": [
           {
            "marker": {
             "line": {
              "color": "#E5ECF6",
              "width": 0.5
             },
             "pattern": {
              "fillmode": "overlay",
              "size": 10,
              "solidity": 0.2
             }
            },
            "type": "barpolar"
           }
          ],
          "carpet": [
           {
            "aaxis": {
             "endlinecolor": "#2a3f5f",
             "gridcolor": "white",
             "linecolor": "white",
             "minorgridcolor": "white",
             "startlinecolor": "#2a3f5f"
            },
            "baxis": {
             "endlinecolor": "#2a3f5f",
             "gridcolor": "white",
             "linecolor": "white",
             "minorgridcolor": "white",
             "startlinecolor": "#2a3f5f"
            },
            "type": "carpet"
           }
          ],
          "choropleth": [
           {
            "colorbar": {
             "outlinewidth": 0,
             "ticks": ""
            },
            "type": "choropleth"
           }
          ],
          "contour": [
           {
            "colorbar": {
             "outlinewidth": 0,
             "ticks": ""
            },
            "colorscale": [
             [
              0,
              "#0d0887"
             ],
             [
              0.1111111111111111,
              "#46039f"
             ],
             [
              0.2222222222222222,
              "#7201a8"
             ],
             [
              0.3333333333333333,
              "#9c179e"
             ],
             [
              0.4444444444444444,
              "#bd3786"
             ],
             [
              0.5555555555555556,
              "#d8576b"
             ],
             [
              0.6666666666666666,
              "#ed7953"
             ],
             [
              0.7777777777777778,
              "#fb9f3a"
             ],
             [
              0.8888888888888888,
              "#fdca26"
             ],
             [
              1,
              "#f0f921"
             ]
            ],
            "type": "contour"
           }
          ],
          "contourcarpet": [
           {
            "colorbar": {
             "outlinewidth": 0,
             "ticks": ""
            },
            "type": "contourcarpet"
           }
          ],
          "heatmap": [
           {
            "colorbar": {
             "outlinewidth": 0,
             "ticks": ""
            },
            "colorscale": [
             [
              0,
              "#0d0887"
             ],
             [
              0.1111111111111111,
              "#46039f"
             ],
             [
              0.2222222222222222,
              "#7201a8"
             ],
             [
              0.3333333333333333,
              "#9c179e"
             ],
             [
              0.4444444444444444,
              "#bd3786"
             ],
             [
              0.5555555555555556,
              "#d8576b"
             ],
             [
              0.6666666666666666,
              "#ed7953"
             ],
             [
              0.7777777777777778,
              "#fb9f3a"
             ],
             [
              0.8888888888888888,
              "#fdca26"
             ],
             [
              1,
              "#f0f921"
             ]
            ],
            "type": "heatmap"
           }
          ],
          "heatmapgl": [
           {
            "colorbar": {
             "outlinewidth": 0,
             "ticks": ""
            },
            "colorscale": [
             [
              0,
              "#0d0887"
             ],
             [
              0.1111111111111111,
              "#46039f"
             ],
             [
              0.2222222222222222,
              "#7201a8"
             ],
             [
              0.3333333333333333,
              "#9c179e"
             ],
             [
              0.4444444444444444,
              "#bd3786"
             ],
             [
              0.5555555555555556,
              "#d8576b"
             ],
             [
              0.6666666666666666,
              "#ed7953"
             ],
             [
              0.7777777777777778,
              "#fb9f3a"
             ],
             [
              0.8888888888888888,
              "#fdca26"
             ],
             [
              1,
              "#f0f921"
             ]
            ],
            "type": "heatmapgl"
           }
          ],
          "histogram": [
           {
            "marker": {
             "pattern": {
              "fillmode": "overlay",
              "size": 10,
              "solidity": 0.2
             }
            },
            "type": "histogram"
           }
          ],
          "histogram2d": [
           {
            "colorbar": {
             "outlinewidth": 0,
             "ticks": ""
            },
            "colorscale": [
             [
              0,
              "#0d0887"
             ],
             [
              0.1111111111111111,
              "#46039f"
             ],
             [
              0.2222222222222222,
              "#7201a8"
             ],
             [
              0.3333333333333333,
              "#9c179e"
             ],
             [
              0.4444444444444444,
              "#bd3786"
             ],
             [
              0.5555555555555556,
              "#d8576b"
             ],
             [
              0.6666666666666666,
              "#ed7953"
             ],
             [
              0.7777777777777778,
              "#fb9f3a"
             ],
             [
              0.8888888888888888,
              "#fdca26"
             ],
             [
              1,
              "#f0f921"
             ]
            ],
            "type": "histogram2d"
           }
          ],
          "histogram2dcontour": [
           {
            "colorbar": {
             "outlinewidth": 0,
             "ticks": ""
            },
            "colorscale": [
             [
              0,
              "#0d0887"
             ],
             [
              0.1111111111111111,
              "#46039f"
             ],
             [
              0.2222222222222222,
              "#7201a8"
             ],
             [
              0.3333333333333333,
              "#9c179e"
             ],
             [
              0.4444444444444444,
              "#bd3786"
             ],
             [
              0.5555555555555556,
              "#d8576b"
             ],
             [
              0.6666666666666666,
              "#ed7953"
             ],
             [
              0.7777777777777778,
              "#fb9f3a"
             ],
             [
              0.8888888888888888,
              "#fdca26"
             ],
             [
              1,
              "#f0f921"
             ]
            ],
            "type": "histogram2dcontour"
           }
          ],
          "mesh3d": [
           {
            "colorbar": {
             "outlinewidth": 0,
             "ticks": ""
            },
            "type": "mesh3d"
           }
          ],
          "parcoords": [
           {
            "line": {
             "colorbar": {
              "outlinewidth": 0,
              "ticks": ""
             }
            },
            "type": "parcoords"
           }
          ],
          "pie": [
           {
            "automargin": true,
            "type": "pie"
           }
          ],
          "scatter": [
           {
            "fillpattern": {
             "fillmode": "overlay",
             "size": 10,
             "solidity": 0.2
            },
            "type": "scatter"
           }
          ],
          "scatter3d": [
           {
            "line": {
             "colorbar": {
              "outlinewidth": 0,
              "ticks": ""
             }
            },
            "marker": {
             "colorbar": {
              "outlinewidth": 0,
              "ticks": ""
             }
            },
            "type": "scatter3d"
           }
          ],
          "scattercarpet": [
           {
            "marker": {
             "colorbar": {
              "outlinewidth": 0,
              "ticks": ""
             }
            },
            "type": "scattercarpet"
           }
          ],
          "scattergeo": [
           {
            "marker": {
             "colorbar": {
              "outlinewidth": 0,
              "ticks": ""
             }
            },
            "type": "scattergeo"
           }
          ],
          "scattergl": [
           {
            "marker": {
             "colorbar": {
              "outlinewidth": 0,
              "ticks": ""
             }
            },
            "type": "scattergl"
           }
          ],
          "scattermapbox": [
           {
            "marker": {
             "colorbar": {
              "outlinewidth": 0,
              "ticks": ""
             }
            },
            "type": "scattermapbox"
           }
          ],
          "scatterpolar": [
           {
            "marker": {
             "colorbar": {
              "outlinewidth": 0,
              "ticks": ""
             }
            },
            "type": "scatterpolar"
           }
          ],
          "scatterpolargl": [
           {
            "marker": {
             "colorbar": {
              "outlinewidth": 0,
              "ticks": ""
             }
            },
            "type": "scatterpolargl"
           }
          ],
          "scatterternary": [
           {
            "marker": {
             "colorbar": {
              "outlinewidth": 0,
              "ticks": ""
             }
            },
            "type": "scatterternary"
           }
          ],
          "surface": [
           {
            "colorbar": {
             "outlinewidth": 0,
             "ticks": ""
            },
            "colorscale": [
             [
              0,
              "#0d0887"
             ],
             [
              0.1111111111111111,
              "#46039f"
             ],
             [
              0.2222222222222222,
              "#7201a8"
             ],
             [
              0.3333333333333333,
              "#9c179e"
             ],
             [
              0.4444444444444444,
              "#bd3786"
             ],
             [
              0.5555555555555556,
              "#d8576b"
             ],
             [
              0.6666666666666666,
              "#ed7953"
             ],
             [
              0.7777777777777778,
              "#fb9f3a"
             ],
             [
              0.8888888888888888,
              "#fdca26"
             ],
             [
              1,
              "#f0f921"
             ]
            ],
            "type": "surface"
           }
          ],
          "table": [
           {
            "cells": {
             "fill": {
              "color": "#EBF0F8"
             },
             "line": {
              "color": "white"
             }
            },
            "header": {
             "fill": {
              "color": "#C8D4E3"
             },
             "line": {
              "color": "white"
             }
            },
            "type": "table"
           }
          ]
         },
         "layout": {
          "annotationdefaults": {
           "arrowcolor": "#2a3f5f",
           "arrowhead": 0,
           "arrowwidth": 1
          },
          "autotypenumbers": "strict",
          "coloraxis": {
           "colorbar": {
            "outlinewidth": 0,
            "ticks": ""
           }
          },
          "colorscale": {
           "diverging": [
            [
             0,
             "#8e0152"
            ],
            [
             0.1,
             "#c51b7d"
            ],
            [
             0.2,
             "#de77ae"
            ],
            [
             0.3,
             "#f1b6da"
            ],
            [
             0.4,
             "#fde0ef"
            ],
            [
             0.5,
             "#f7f7f7"
            ],
            [
             0.6,
             "#e6f5d0"
            ],
            [
             0.7,
             "#b8e186"
            ],
            [
             0.8,
             "#7fbc41"
            ],
            [
             0.9,
             "#4d9221"
            ],
            [
             1,
             "#276419"
            ]
           ],
           "sequential": [
            [
             0,
             "#0d0887"
            ],
            [
             0.1111111111111111,
             "#46039f"
            ],
            [
             0.2222222222222222,
             "#7201a8"
            ],
            [
             0.3333333333333333,
             "#9c179e"
            ],
            [
             0.4444444444444444,
             "#bd3786"
            ],
            [
             0.5555555555555556,
             "#d8576b"
            ],
            [
             0.6666666666666666,
             "#ed7953"
            ],
            [
             0.7777777777777778,
             "#fb9f3a"
            ],
            [
             0.8888888888888888,
             "#fdca26"
            ],
            [
             1,
             "#f0f921"
            ]
           ],
           "sequentialminus": [
            [
             0,
             "#0d0887"
            ],
            [
             0.1111111111111111,
             "#46039f"
            ],
            [
             0.2222222222222222,
             "#7201a8"
            ],
            [
             0.3333333333333333,
             "#9c179e"
            ],
            [
             0.4444444444444444,
             "#bd3786"
            ],
            [
             0.5555555555555556,
             "#d8576b"
            ],
            [
             0.6666666666666666,
             "#ed7953"
            ],
            [
             0.7777777777777778,
             "#fb9f3a"
            ],
            [
             0.8888888888888888,
             "#fdca26"
            ],
            [
             1,
             "#f0f921"
            ]
           ]
          },
          "colorway": [
           "#636efa",
           "#EF553B",
           "#00cc96",
           "#ab63fa",
           "#FFA15A",
           "#19d3f3",
           "#FF6692",
           "#B6E880",
           "#FF97FF",
           "#FECB52"
          ],
          "font": {
           "color": "#2a3f5f"
          },
          "geo": {
           "bgcolor": "white",
           "lakecolor": "white",
           "landcolor": "#E5ECF6",
           "showlakes": true,
           "showland": true,
           "subunitcolor": "white"
          },
          "hoverlabel": {
           "align": "left"
          },
          "hovermode": "closest",
          "mapbox": {
           "style": "light"
          },
          "paper_bgcolor": "white",
          "plot_bgcolor": "#E5ECF6",
          "polar": {
           "angularaxis": {
            "gridcolor": "white",
            "linecolor": "white",
            "ticks": ""
           },
           "bgcolor": "#E5ECF6",
           "radialaxis": {
            "gridcolor": "white",
            "linecolor": "white",
            "ticks": ""
           }
          },
          "scene": {
           "xaxis": {
            "backgroundcolor": "#E5ECF6",
            "gridcolor": "white",
            "gridwidth": 2,
            "linecolor": "white",
            "showbackground": true,
            "ticks": "",
            "zerolinecolor": "white"
           },
           "yaxis": {
            "backgroundcolor": "#E5ECF6",
            "gridcolor": "white",
            "gridwidth": 2,
            "linecolor": "white",
            "showbackground": true,
            "ticks": "",
            "zerolinecolor": "white"
           },
           "zaxis": {
            "backgroundcolor": "#E5ECF6",
            "gridcolor": "white",
            "gridwidth": 2,
            "linecolor": "white",
            "showbackground": true,
            "ticks": "",
            "zerolinecolor": "white"
           }
          },
          "shapedefaults": {
           "line": {
            "color": "#2a3f5f"
           }
          },
          "ternary": {
           "aaxis": {
            "gridcolor": "white",
            "linecolor": "white",
            "ticks": ""
           },
           "baxis": {
            "gridcolor": "white",
            "linecolor": "white",
            "ticks": ""
           },
           "bgcolor": "#E5ECF6",
           "caxis": {
            "gridcolor": "white",
            "linecolor": "white",
            "ticks": ""
           }
          },
          "title": {
           "x": 0.05
          },
          "xaxis": {
           "automargin": true,
           "gridcolor": "white",
           "linecolor": "white",
           "ticks": "",
           "title": {
            "standoff": 15
           },
           "zerolinecolor": "white",
           "zerolinewidth": 2
          },
          "yaxis": {
           "automargin": true,
           "gridcolor": "white",
           "linecolor": "white",
           "ticks": "",
           "title": {
            "standoff": 15
           },
           "zerolinecolor": "white",
           "zerolinewidth": 2
          }
         }
        },
        "title": {
         "text": "Daily Cost Comparison"
        },
        "xaxis": {
         "rangeselector": {
          "buttons": [
           {
            "count": 1,
            "label": "1d",
            "step": "day",
            "stepmode": "backward"
           },
           {
            "count": 7,
            "label": "1w",
            "step": "day",
            "stepmode": "backward"
           },
           {
            "count": 1,
            "label": "1m",
            "step": "month",
            "stepmode": "backward"
           },
           {
            "step": "all"
           }
          ]
         },
         "rangeslider": {
          "visible": true
         },
         "title": {
          "text": "Datetime"
         },
         "type": "date"
        },
        "yaxis": {
         "title": {
          "text": "NOK"
         }
        }
       }
      }
     },
     "metadata": {},
     "output_type": "display_data"
    }
   ],
   "source": [
    "plot_cols_all =[\n",
    "    ColumnParam(\"Cost_Net_Of_Sun\", \"Cost Main Building\"),\n",
    "    ColumnParam(\"Cost A\", \"Cost Building A\"),\n",
    "    ColumnParam(\"Cost B\", \"Cost Building B\"),\n",
    "    ColumnParam(\"Cost C\", \"Cost Building C\"),\n",
    "]\n",
    "\n",
    "\n",
    "plot_energy_usage(daily_all, plot_cols_all,\n",
    "                    titel=\"Daily Cost Comparison\",\n",
    "                    yaxis_title=\"NOK\",\n",
    "                    tozeroy=False,\n",
    "                    dark_mode=True,\n",
    "                    )"
   ]
  },
  {
   "cell_type": "markdown",
   "metadata": {},
   "source": [
    "2. Weekly Cost"
   ]
  },
  {
   "cell_type": "code",
   "execution_count": 288,
   "metadata": {},
   "outputs": [
    {
     "data": {
      "application/vnd.plotly.v1+json": {
       "config": {
        "plotlyServerURL": "https://plot.ly"
       },
       "data": [
        {
         "line": {
          "color": "rgba(255, 0, 0, 0.9)"
         },
         "mode": "lines",
         "name": "Cost Main Building",
         "type": "scatter",
         "x": [
          "2023-07-02T00:00:00",
          "2023-07-09T00:00:00",
          "2023-07-16T00:00:00",
          "2023-07-23T00:00:00",
          "2023-07-30T00:00:00",
          "2023-08-06T00:00:00",
          "2023-08-13T00:00:00",
          "2023-08-20T00:00:00",
          "2023-08-27T00:00:00",
          "2023-09-03T00:00:00",
          "2023-09-10T00:00:00",
          "2023-09-17T00:00:00",
          "2023-09-24T00:00:00",
          "2023-10-01T00:00:00",
          "2023-10-08T00:00:00",
          "2023-10-15T00:00:00",
          "2023-10-22T00:00:00",
          "2023-10-29T00:00:00",
          "2023-11-05T00:00:00",
          "2023-11-12T00:00:00",
          "2023-11-19T00:00:00",
          "2023-11-26T00:00:00",
          "2023-12-03T00:00:00",
          "2023-12-10T00:00:00",
          "2023-12-17T00:00:00",
          "2023-12-24T00:00:00",
          "2023-12-31T00:00:00",
          "2024-01-07T00:00:00",
          "2024-01-14T00:00:00",
          "2024-01-21T00:00:00",
          "2024-01-28T00:00:00",
          "2024-02-04T00:00:00",
          "2024-02-11T00:00:00",
          "2024-02-18T00:00:00",
          "2024-02-25T00:00:00",
          "2024-03-03T00:00:00",
          "2024-03-10T00:00:00",
          "2024-03-17T00:00:00",
          "2024-03-24T00:00:00",
          "2024-03-31T00:00:00",
          "2024-04-07T00:00:00",
          "2024-04-14T00:00:00",
          "2024-04-21T00:00:00",
          "2024-04-28T00:00:00",
          "2024-05-05T00:00:00",
          "2024-05-12T00:00:00",
          "2024-05-19T00:00:00",
          "2024-05-26T00:00:00",
          "2024-06-02T00:00:00",
          "2024-06-09T00:00:00",
          "2024-06-16T00:00:00",
          "2024-06-23T00:00:00",
          "2024-06-30T00:00:00",
          "2024-07-07T00:00:00",
          "2024-07-14T00:00:00",
          "2024-07-21T00:00:00",
          "2024-07-28T00:00:00",
          "2024-08-04T00:00:00",
          "2024-08-11T00:00:00",
          "2024-08-18T00:00:00",
          "2024-08-25T00:00:00",
          "2024-09-01T00:00:00",
          "2024-09-08T00:00:00"
         ],
         "y": [
          536.8244840880618,
          3739.3343681265364,
          3609.6214241138955,
          2673.5066681003636,
          3382.468602361224,
          3009.930171983836,
          1982.2909997150766,
          4328.251840843318,
          4598.4634895841955,
          4367.998616325918,
          4630.169430020802,
          4306.699894057,
          1017.8334683629429,
          1947.0637832823945,
          1187.5076503797475,
          1876.7101243424104,
          2941.9893283742504,
          5002.577161322166,
          4632.46201157496,
          6214.667422139458,
          7162.511872376178,
          6847.420047146431,
          11067.562387621416,
          8791.957283308033,
          6984.208724784479,
          4132.739880322172,
          4245.534096309028,
          6504.581362839808,
          8332.357421442972,
          7252.08246756437,
          4056.964786035135,
          3599.1950321006057,
          4971.075787877357,
          4717.3783440595535,
          3619.9911994687736,
          3560.625254854605,
          3916.903544419208,
          3827.2062810894736,
          3519.90668880605,
          3170.8585738141433,
          2817.1959677537875,
          2064.836495260294,
          2563.421347308687,
          3497.918413526477,
          1957.1059147962305,
          2521.3355103605736,
          794.7075249653751,
          2121.176582092434,
          2626.6042459890855,
          1770.9626158180483,
          1779.9054414892369,
          2170.1323783471466,
          1851.496925134948,
          1336.640549705553,
          1917.9697511424474,
          1957.0969763987944,
          2479.1471216196132,
          2874.2470937400403,
          2475.6226152668037,
          3089.2168387723564,
          2101.036257463507,
          2456.756327802682,
          1093.289798011239
         ]
        },
        {
         "line": {
          "color": "rgba(0, 0, 255, 0.9)"
         },
         "mode": "lines",
         "name": "Cost Building A",
         "type": "scatter",
         "x": [
          "2023-07-02T00:00:00",
          "2023-07-09T00:00:00",
          "2023-07-16T00:00:00",
          "2023-07-23T00:00:00",
          "2023-07-30T00:00:00",
          "2023-08-06T00:00:00",
          "2023-08-13T00:00:00",
          "2023-08-20T00:00:00",
          "2023-08-27T00:00:00",
          "2023-09-03T00:00:00",
          "2023-09-10T00:00:00",
          "2023-09-17T00:00:00",
          "2023-09-24T00:00:00",
          "2023-10-01T00:00:00",
          "2023-10-08T00:00:00",
          "2023-10-15T00:00:00",
          "2023-10-22T00:00:00",
          "2023-10-29T00:00:00",
          "2023-11-05T00:00:00",
          "2023-11-12T00:00:00",
          "2023-11-19T00:00:00",
          "2023-11-26T00:00:00",
          "2023-12-03T00:00:00",
          "2023-12-10T00:00:00",
          "2023-12-17T00:00:00",
          "2023-12-24T00:00:00",
          "2023-12-31T00:00:00",
          "2024-01-07T00:00:00",
          "2024-01-14T00:00:00",
          "2024-01-21T00:00:00",
          "2024-01-28T00:00:00",
          "2024-02-04T00:00:00",
          "2024-02-11T00:00:00",
          "2024-02-18T00:00:00",
          "2024-02-25T00:00:00",
          "2024-03-03T00:00:00",
          "2024-03-10T00:00:00",
          "2024-03-17T00:00:00",
          "2024-03-24T00:00:00",
          "2024-03-31T00:00:00",
          "2024-04-07T00:00:00",
          "2024-04-14T00:00:00",
          "2024-04-21T00:00:00",
          "2024-04-28T00:00:00",
          "2024-05-05T00:00:00",
          "2024-05-12T00:00:00",
          "2024-05-19T00:00:00",
          "2024-05-26T00:00:00",
          "2024-06-02T00:00:00",
          "2024-06-09T00:00:00",
          "2024-06-16T00:00:00",
          "2024-06-23T00:00:00",
          "2024-06-30T00:00:00",
          "2024-07-07T00:00:00",
          "2024-07-14T00:00:00",
          "2024-07-21T00:00:00",
          "2024-07-28T00:00:00",
          "2024-08-04T00:00:00",
          "2024-08-11T00:00:00",
          "2024-08-18T00:00:00",
          "2024-08-25T00:00:00",
          "2024-09-01T00:00:00",
          "2024-09-08T00:00:00"
         ],
         "y": [
          573.3788800576065,
          5082.927763159424,
          4118.979380843838,
          3742.4083139751597,
          4280.887084670511,
          3656.235319499334,
          2053.7732982861903,
          4774.008226746215,
          5641.169408096397,
          5349.078593276168,
          5135.653661345772,
          4086.9181057766864,
          857.2756474054944,
          1696.5852999145998,
          1126.123688552207,
          1561.5002177941242,
          2645.7625715728227,
          4192.091455525575,
          3810.182189255613,
          5353.667627110139,
          5865.535864398263,
          5670.997919344808,
          8860.80244089639,
          7013.144310531475,
          5630.912390477164,
          3388.8146762324077,
          3395.2560126853596,
          5198.638282529167,
          6627.641438886927,
          5580.3923199378305,
          3574.194680481543,
          3347.1947089272585,
          4335.149079276562,
          4089.3852073368425,
          3425.093796740519,
          3605.2716547531586,
          4003.9302291489894,
          3614.8827168701528,
          3718.6289746896496,
          3235.5331234351147,
          2840.986369826798,
          2229.6324573971833,
          3381.184672497131,
          4282.188993392299,
          2442.493495674162,
          3471.297413179767,
          1739.370388041015,
          3169.9444364243086,
          3286.347532657556,
          2637.6526541603653,
          2528.1394350343653,
          3548.144423054108,
          2938.4304926648965,
          2573.383136786715,
          2493.116626658067,
          2355.399791524161,
          2772.9632004196,
          3716.423372634651,
          2540.510601559384,
          3386.4115574677176,
          1959.2966018812297,
          2417.5456316942145,
          1002.4454333660933
         ]
        },
        {
         "line": {
          "color": "rgba(0, 128, 0, 0.9)"
         },
         "mode": "lines",
         "name": "Cost Building B",
         "type": "scatter",
         "x": [
          "2023-07-02T00:00:00",
          "2023-07-09T00:00:00",
          "2023-07-16T00:00:00",
          "2023-07-23T00:00:00",
          "2023-07-30T00:00:00",
          "2023-08-06T00:00:00",
          "2023-08-13T00:00:00",
          "2023-08-20T00:00:00",
          "2023-08-27T00:00:00",
          "2023-09-03T00:00:00",
          "2023-09-10T00:00:00",
          "2023-09-17T00:00:00",
          "2023-09-24T00:00:00",
          "2023-10-01T00:00:00",
          "2023-10-08T00:00:00",
          "2023-10-15T00:00:00",
          "2023-10-22T00:00:00",
          "2023-10-29T00:00:00",
          "2023-11-05T00:00:00",
          "2023-11-12T00:00:00",
          "2023-11-19T00:00:00",
          "2023-11-26T00:00:00",
          "2023-12-03T00:00:00",
          "2023-12-10T00:00:00",
          "2023-12-17T00:00:00",
          "2023-12-24T00:00:00",
          "2023-12-31T00:00:00",
          "2024-01-07T00:00:00",
          "2024-01-14T00:00:00",
          "2024-01-21T00:00:00",
          "2024-01-28T00:00:00",
          "2024-02-04T00:00:00",
          "2024-02-11T00:00:00",
          "2024-02-18T00:00:00",
          "2024-02-25T00:00:00",
          "2024-03-03T00:00:00",
          "2024-03-10T00:00:00",
          "2024-03-17T00:00:00",
          "2024-03-24T00:00:00",
          "2024-03-31T00:00:00",
          "2024-04-07T00:00:00",
          "2024-04-14T00:00:00",
          "2024-04-21T00:00:00",
          "2024-04-28T00:00:00",
          "2024-05-05T00:00:00",
          "2024-05-12T00:00:00",
          "2024-05-19T00:00:00",
          "2024-05-26T00:00:00",
          "2024-06-02T00:00:00",
          "2024-06-09T00:00:00",
          "2024-06-16T00:00:00",
          "2024-06-23T00:00:00",
          "2024-06-30T00:00:00",
          "2024-07-07T00:00:00",
          "2024-07-14T00:00:00",
          "2024-07-21T00:00:00",
          "2024-07-28T00:00:00",
          "2024-08-04T00:00:00",
          "2024-08-11T00:00:00",
          "2024-08-18T00:00:00",
          "2024-08-25T00:00:00",
          "2024-09-01T00:00:00",
          "2024-09-08T00:00:00"
         ],
         "y": [
          492.15088330923646,
          4024.119275776364,
          3273.032710809768,
          2604.11366307569,
          3003.23463533434,
          3010.0330159795008,
          1871.7379445885122,
          3853.949309793785,
          4242.188905470088,
          3736.670898264255,
          3867.4426654709146,
          3588.023908830834,
          843.5249439989753,
          1622.4389609241532,
          1071.6359173490462,
          1507.8493553302685,
          2464.4157250168205,
          4294.455223197063,
          3740.54988990486,
          5288.990780478551,
          5948.359083228004,
          5828.815301162108,
          8842.62119453629,
          7829.905873375763,
          5856.827166480517,
          3425.9437086912567,
          3817.637408999314,
          5906.300268459029,
          7303.100691960856,
          6460.753080086859,
          3338.875259292711,
          3214.4858244620896,
          4437.646171410817,
          4031.2897318991463,
          3216.590653540786,
          3417.432510548399,
          3698.8479635779668,
          3363.2063585556234,
          3330.521981390509,
          2992.4455133890688,
          2443.0037793331,
          1703.793534161808,
          2415.695098541049,
          3111.273679689696,
          1798.8983656488303,
          2564.449369106748,
          1105.3923400869035,
          2161.9740094606877,
          2460.5311778681144,
          1865.5371619752855,
          1867.1551842354152,
          2294.681341770147,
          1839.4963151696304,
          1235.0913969384726,
          1714.6704858741407,
          1841.636882984103,
          2155.875210115407,
          2663.7013604929125,
          2037.9400596276257,
          2580.513522723201,
          1681.658662491058,
          1945.7546730714141,
          886.2831490531372
         ]
        },
        {
         "line": {
          "color": "rgba(255, 165, 0, 0.9)"
         },
         "mode": "lines",
         "name": "Cost Building C",
         "type": "scatter",
         "x": [
          "2023-07-02T00:00:00",
          "2023-07-09T00:00:00",
          "2023-07-16T00:00:00",
          "2023-07-23T00:00:00",
          "2023-07-30T00:00:00",
          "2023-08-06T00:00:00",
          "2023-08-13T00:00:00",
          "2023-08-20T00:00:00",
          "2023-08-27T00:00:00",
          "2023-09-03T00:00:00",
          "2023-09-10T00:00:00",
          "2023-09-17T00:00:00",
          "2023-09-24T00:00:00",
          "2023-10-01T00:00:00",
          "2023-10-08T00:00:00",
          "2023-10-15T00:00:00",
          "2023-10-22T00:00:00",
          "2023-10-29T00:00:00",
          "2023-11-05T00:00:00",
          "2023-11-12T00:00:00",
          "2023-11-19T00:00:00",
          "2023-11-26T00:00:00",
          "2023-12-03T00:00:00",
          "2023-12-10T00:00:00",
          "2023-12-17T00:00:00",
          "2023-12-24T00:00:00",
          "2023-12-31T00:00:00",
          "2024-01-07T00:00:00",
          "2024-01-14T00:00:00",
          "2024-01-21T00:00:00",
          "2024-01-28T00:00:00",
          "2024-02-04T00:00:00",
          "2024-02-11T00:00:00",
          "2024-02-18T00:00:00",
          "2024-02-25T00:00:00",
          "2024-03-03T00:00:00",
          "2024-03-10T00:00:00",
          "2024-03-17T00:00:00",
          "2024-03-24T00:00:00",
          "2024-03-31T00:00:00",
          "2024-04-07T00:00:00",
          "2024-04-14T00:00:00",
          "2024-04-21T00:00:00",
          "2024-04-28T00:00:00",
          "2024-05-05T00:00:00",
          "2024-05-12T00:00:00",
          "2024-05-19T00:00:00",
          "2024-05-26T00:00:00",
          "2024-06-02T00:00:00",
          "2024-06-09T00:00:00",
          "2024-06-16T00:00:00",
          "2024-06-23T00:00:00",
          "2024-06-30T00:00:00",
          "2024-07-07T00:00:00",
          "2024-07-14T00:00:00",
          "2024-07-21T00:00:00",
          "2024-07-28T00:00:00",
          "2024-08-04T00:00:00",
          "2024-08-11T00:00:00",
          "2024-08-18T00:00:00",
          "2024-08-25T00:00:00",
          "2024-09-01T00:00:00",
          "2024-09-08T00:00:00"
         ],
         "y": [
          832.7077127798375,
          7036.567922010014,
          6118.363471685776,
          4817.728757093665,
          5926.797531096166,
          5621.038328107523,
          3162.823058710897,
          7436.532841137609,
          7814.222041281662,
          7237.775935158369,
          7279.810216169411,
          6210.800104101998,
          1350.8424562629195,
          2763.0214258837273,
          1649.9164207256151,
          2287.172158051927,
          3549.8245971044544,
          5834.114591790589,
          4980.679267661693,
          6888.169544882344,
          7766.212762348924,
          7420.974412984601,
          10986.338688355601,
          8675.29644755016,
          7114.6634726257,
          4249.5608870692395,
          4268.477267727442,
          5985.675683432955,
          7916.191226033075,
          6779.4351879927035,
          4570.814697283388,
          4266.427259122991,
          5351.356191744386,
          5224.121362032357,
          4319.46354110142,
          4462.9507949909585,
          5043.534381646461,
          4553.166690214647,
          4705.093222494425,
          4107.49663127487,
          3686.3335715094017,
          2884.7105058959933,
          4342.523107311244,
          5443.919461929105,
          3054.916222482946,
          3971.2195178013935,
          1771.6781369375312,
          3910.0515115864287,
          4699.429946658463,
          3443.3043074374777,
          3165.302568545586,
          4412.051680664651,
          3313.9303556600726,
          2116.404011094611,
          2905.212230215972,
          2924.685443624992,
          3429.3565331800005,
          4495.431069868554,
          3221.218188601328,
          4210.382306552484,
          2541.8299335251254,
          3035.263123868803,
          1295.0858565647186
         ]
        }
       ],
       "layout": {
        "height": 600,
        "hovermode": "x unified",
        "showlegend": true,
        "template": {
         "data": {
          "bar": [
           {
            "error_x": {
             "color": "#2a3f5f"
            },
            "error_y": {
             "color": "#2a3f5f"
            },
            "marker": {
             "line": {
              "color": "#E5ECF6",
              "width": 0.5
             },
             "pattern": {
              "fillmode": "overlay",
              "size": 10,
              "solidity": 0.2
             }
            },
            "type": "bar"
           }
          ],
          "barpolar": [
           {
            "marker": {
             "line": {
              "color": "#E5ECF6",
              "width": 0.5
             },
             "pattern": {
              "fillmode": "overlay",
              "size": 10,
              "solidity": 0.2
             }
            },
            "type": "barpolar"
           }
          ],
          "carpet": [
           {
            "aaxis": {
             "endlinecolor": "#2a3f5f",
             "gridcolor": "white",
             "linecolor": "white",
             "minorgridcolor": "white",
             "startlinecolor": "#2a3f5f"
            },
            "baxis": {
             "endlinecolor": "#2a3f5f",
             "gridcolor": "white",
             "linecolor": "white",
             "minorgridcolor": "white",
             "startlinecolor": "#2a3f5f"
            },
            "type": "carpet"
           }
          ],
          "choropleth": [
           {
            "colorbar": {
             "outlinewidth": 0,
             "ticks": ""
            },
            "type": "choropleth"
           }
          ],
          "contour": [
           {
            "colorbar": {
             "outlinewidth": 0,
             "ticks": ""
            },
            "colorscale": [
             [
              0,
              "#0d0887"
             ],
             [
              0.1111111111111111,
              "#46039f"
             ],
             [
              0.2222222222222222,
              "#7201a8"
             ],
             [
              0.3333333333333333,
              "#9c179e"
             ],
             [
              0.4444444444444444,
              "#bd3786"
             ],
             [
              0.5555555555555556,
              "#d8576b"
             ],
             [
              0.6666666666666666,
              "#ed7953"
             ],
             [
              0.7777777777777778,
              "#fb9f3a"
             ],
             [
              0.8888888888888888,
              "#fdca26"
             ],
             [
              1,
              "#f0f921"
             ]
            ],
            "type": "contour"
           }
          ],
          "contourcarpet": [
           {
            "colorbar": {
             "outlinewidth": 0,
             "ticks": ""
            },
            "type": "contourcarpet"
           }
          ],
          "heatmap": [
           {
            "colorbar": {
             "outlinewidth": 0,
             "ticks": ""
            },
            "colorscale": [
             [
              0,
              "#0d0887"
             ],
             [
              0.1111111111111111,
              "#46039f"
             ],
             [
              0.2222222222222222,
              "#7201a8"
             ],
             [
              0.3333333333333333,
              "#9c179e"
             ],
             [
              0.4444444444444444,
              "#bd3786"
             ],
             [
              0.5555555555555556,
              "#d8576b"
             ],
             [
              0.6666666666666666,
              "#ed7953"
             ],
             [
              0.7777777777777778,
              "#fb9f3a"
             ],
             [
              0.8888888888888888,
              "#fdca26"
             ],
             [
              1,
              "#f0f921"
             ]
            ],
            "type": "heatmap"
           }
          ],
          "heatmapgl": [
           {
            "colorbar": {
             "outlinewidth": 0,
             "ticks": ""
            },
            "colorscale": [
             [
              0,
              "#0d0887"
             ],
             [
              0.1111111111111111,
              "#46039f"
             ],
             [
              0.2222222222222222,
              "#7201a8"
             ],
             [
              0.3333333333333333,
              "#9c179e"
             ],
             [
              0.4444444444444444,
              "#bd3786"
             ],
             [
              0.5555555555555556,
              "#d8576b"
             ],
             [
              0.6666666666666666,
              "#ed7953"
             ],
             [
              0.7777777777777778,
              "#fb9f3a"
             ],
             [
              0.8888888888888888,
              "#fdca26"
             ],
             [
              1,
              "#f0f921"
             ]
            ],
            "type": "heatmapgl"
           }
          ],
          "histogram": [
           {
            "marker": {
             "pattern": {
              "fillmode": "overlay",
              "size": 10,
              "solidity": 0.2
             }
            },
            "type": "histogram"
           }
          ],
          "histogram2d": [
           {
            "colorbar": {
             "outlinewidth": 0,
             "ticks": ""
            },
            "colorscale": [
             [
              0,
              "#0d0887"
             ],
             [
              0.1111111111111111,
              "#46039f"
             ],
             [
              0.2222222222222222,
              "#7201a8"
             ],
             [
              0.3333333333333333,
              "#9c179e"
             ],
             [
              0.4444444444444444,
              "#bd3786"
             ],
             [
              0.5555555555555556,
              "#d8576b"
             ],
             [
              0.6666666666666666,
              "#ed7953"
             ],
             [
              0.7777777777777778,
              "#fb9f3a"
             ],
             [
              0.8888888888888888,
              "#fdca26"
             ],
             [
              1,
              "#f0f921"
             ]
            ],
            "type": "histogram2d"
           }
          ],
          "histogram2dcontour": [
           {
            "colorbar": {
             "outlinewidth": 0,
             "ticks": ""
            },
            "colorscale": [
             [
              0,
              "#0d0887"
             ],
             [
              0.1111111111111111,
              "#46039f"
             ],
             [
              0.2222222222222222,
              "#7201a8"
             ],
             [
              0.3333333333333333,
              "#9c179e"
             ],
             [
              0.4444444444444444,
              "#bd3786"
             ],
             [
              0.5555555555555556,
              "#d8576b"
             ],
             [
              0.6666666666666666,
              "#ed7953"
             ],
             [
              0.7777777777777778,
              "#fb9f3a"
             ],
             [
              0.8888888888888888,
              "#fdca26"
             ],
             [
              1,
              "#f0f921"
             ]
            ],
            "type": "histogram2dcontour"
           }
          ],
          "mesh3d": [
           {
            "colorbar": {
             "outlinewidth": 0,
             "ticks": ""
            },
            "type": "mesh3d"
           }
          ],
          "parcoords": [
           {
            "line": {
             "colorbar": {
              "outlinewidth": 0,
              "ticks": ""
             }
            },
            "type": "parcoords"
           }
          ],
          "pie": [
           {
            "automargin": true,
            "type": "pie"
           }
          ],
          "scatter": [
           {
            "fillpattern": {
             "fillmode": "overlay",
             "size": 10,
             "solidity": 0.2
            },
            "type": "scatter"
           }
          ],
          "scatter3d": [
           {
            "line": {
             "colorbar": {
              "outlinewidth": 0,
              "ticks": ""
             }
            },
            "marker": {
             "colorbar": {
              "outlinewidth": 0,
              "ticks": ""
             }
            },
            "type": "scatter3d"
           }
          ],
          "scattercarpet": [
           {
            "marker": {
             "colorbar": {
              "outlinewidth": 0,
              "ticks": ""
             }
            },
            "type": "scattercarpet"
           }
          ],
          "scattergeo": [
           {
            "marker": {
             "colorbar": {
              "outlinewidth": 0,
              "ticks": ""
             }
            },
            "type": "scattergeo"
           }
          ],
          "scattergl": [
           {
            "marker": {
             "colorbar": {
              "outlinewidth": 0,
              "ticks": ""
             }
            },
            "type": "scattergl"
           }
          ],
          "scattermapbox": [
           {
            "marker": {
             "colorbar": {
              "outlinewidth": 0,
              "ticks": ""
             }
            },
            "type": "scattermapbox"
           }
          ],
          "scatterpolar": [
           {
            "marker": {
             "colorbar": {
              "outlinewidth": 0,
              "ticks": ""
             }
            },
            "type": "scatterpolar"
           }
          ],
          "scatterpolargl": [
           {
            "marker": {
             "colorbar": {
              "outlinewidth": 0,
              "ticks": ""
             }
            },
            "type": "scatterpolargl"
           }
          ],
          "scatterternary": [
           {
            "marker": {
             "colorbar": {
              "outlinewidth": 0,
              "ticks": ""
             }
            },
            "type": "scatterternary"
           }
          ],
          "surface": [
           {
            "colorbar": {
             "outlinewidth": 0,
             "ticks": ""
            },
            "colorscale": [
             [
              0,
              "#0d0887"
             ],
             [
              0.1111111111111111,
              "#46039f"
             ],
             [
              0.2222222222222222,
              "#7201a8"
             ],
             [
              0.3333333333333333,
              "#9c179e"
             ],
             [
              0.4444444444444444,
              "#bd3786"
             ],
             [
              0.5555555555555556,
              "#d8576b"
             ],
             [
              0.6666666666666666,
              "#ed7953"
             ],
             [
              0.7777777777777778,
              "#fb9f3a"
             ],
             [
              0.8888888888888888,
              "#fdca26"
             ],
             [
              1,
              "#f0f921"
             ]
            ],
            "type": "surface"
           }
          ],
          "table": [
           {
            "cells": {
             "fill": {
              "color": "#EBF0F8"
             },
             "line": {
              "color": "white"
             }
            },
            "header": {
             "fill": {
              "color": "#C8D4E3"
             },
             "line": {
              "color": "white"
             }
            },
            "type": "table"
           }
          ]
         },
         "layout": {
          "annotationdefaults": {
           "arrowcolor": "#2a3f5f",
           "arrowhead": 0,
           "arrowwidth": 1
          },
          "autotypenumbers": "strict",
          "coloraxis": {
           "colorbar": {
            "outlinewidth": 0,
            "ticks": ""
           }
          },
          "colorscale": {
           "diverging": [
            [
             0,
             "#8e0152"
            ],
            [
             0.1,
             "#c51b7d"
            ],
            [
             0.2,
             "#de77ae"
            ],
            [
             0.3,
             "#f1b6da"
            ],
            [
             0.4,
             "#fde0ef"
            ],
            [
             0.5,
             "#f7f7f7"
            ],
            [
             0.6,
             "#e6f5d0"
            ],
            [
             0.7,
             "#b8e186"
            ],
            [
             0.8,
             "#7fbc41"
            ],
            [
             0.9,
             "#4d9221"
            ],
            [
             1,
             "#276419"
            ]
           ],
           "sequential": [
            [
             0,
             "#0d0887"
            ],
            [
             0.1111111111111111,
             "#46039f"
            ],
            [
             0.2222222222222222,
             "#7201a8"
            ],
            [
             0.3333333333333333,
             "#9c179e"
            ],
            [
             0.4444444444444444,
             "#bd3786"
            ],
            [
             0.5555555555555556,
             "#d8576b"
            ],
            [
             0.6666666666666666,
             "#ed7953"
            ],
            [
             0.7777777777777778,
             "#fb9f3a"
            ],
            [
             0.8888888888888888,
             "#fdca26"
            ],
            [
             1,
             "#f0f921"
            ]
           ],
           "sequentialminus": [
            [
             0,
             "#0d0887"
            ],
            [
             0.1111111111111111,
             "#46039f"
            ],
            [
             0.2222222222222222,
             "#7201a8"
            ],
            [
             0.3333333333333333,
             "#9c179e"
            ],
            [
             0.4444444444444444,
             "#bd3786"
            ],
            [
             0.5555555555555556,
             "#d8576b"
            ],
            [
             0.6666666666666666,
             "#ed7953"
            ],
            [
             0.7777777777777778,
             "#fb9f3a"
            ],
            [
             0.8888888888888888,
             "#fdca26"
            ],
            [
             1,
             "#f0f921"
            ]
           ]
          },
          "colorway": [
           "#636efa",
           "#EF553B",
           "#00cc96",
           "#ab63fa",
           "#FFA15A",
           "#19d3f3",
           "#FF6692",
           "#B6E880",
           "#FF97FF",
           "#FECB52"
          ],
          "font": {
           "color": "#2a3f5f"
          },
          "geo": {
           "bgcolor": "white",
           "lakecolor": "white",
           "landcolor": "#E5ECF6",
           "showlakes": true,
           "showland": true,
           "subunitcolor": "white"
          },
          "hoverlabel": {
           "align": "left"
          },
          "hovermode": "closest",
          "mapbox": {
           "style": "light"
          },
          "paper_bgcolor": "white",
          "plot_bgcolor": "#E5ECF6",
          "polar": {
           "angularaxis": {
            "gridcolor": "white",
            "linecolor": "white",
            "ticks": ""
           },
           "bgcolor": "#E5ECF6",
           "radialaxis": {
            "gridcolor": "white",
            "linecolor": "white",
            "ticks": ""
           }
          },
          "scene": {
           "xaxis": {
            "backgroundcolor": "#E5ECF6",
            "gridcolor": "white",
            "gridwidth": 2,
            "linecolor": "white",
            "showbackground": true,
            "ticks": "",
            "zerolinecolor": "white"
           },
           "yaxis": {
            "backgroundcolor": "#E5ECF6",
            "gridcolor": "white",
            "gridwidth": 2,
            "linecolor": "white",
            "showbackground": true,
            "ticks": "",
            "zerolinecolor": "white"
           },
           "zaxis": {
            "backgroundcolor": "#E5ECF6",
            "gridcolor": "white",
            "gridwidth": 2,
            "linecolor": "white",
            "showbackground": true,
            "ticks": "",
            "zerolinecolor": "white"
           }
          },
          "shapedefaults": {
           "line": {
            "color": "#2a3f5f"
           }
          },
          "ternary": {
           "aaxis": {
            "gridcolor": "white",
            "linecolor": "white",
            "ticks": ""
           },
           "baxis": {
            "gridcolor": "white",
            "linecolor": "white",
            "ticks": ""
           },
           "bgcolor": "#E5ECF6",
           "caxis": {
            "gridcolor": "white",
            "linecolor": "white",
            "ticks": ""
           }
          },
          "title": {
           "x": 0.05
          },
          "xaxis": {
           "automargin": true,
           "gridcolor": "white",
           "linecolor": "white",
           "ticks": "",
           "title": {
            "standoff": 15
           },
           "zerolinecolor": "white",
           "zerolinewidth": 2
          },
          "yaxis": {
           "automargin": true,
           "gridcolor": "white",
           "linecolor": "white",
           "ticks": "",
           "title": {
            "standoff": 15
           },
           "zerolinecolor": "white",
           "zerolinewidth": 2
          }
         }
        },
        "title": {
         "text": "Weekly Cost Comparison"
        },
        "xaxis": {
         "rangeselector": {
          "buttons": [
           {
            "count": 1,
            "label": "1d",
            "step": "day",
            "stepmode": "backward"
           },
           {
            "count": 7,
            "label": "1w",
            "step": "day",
            "stepmode": "backward"
           },
           {
            "count": 1,
            "label": "1m",
            "step": "month",
            "stepmode": "backward"
           },
           {
            "step": "all"
           }
          ]
         },
         "rangeslider": {
          "visible": true
         },
         "title": {
          "text": "Datetime"
         },
         "type": "date"
        },
        "yaxis": {
         "title": {
          "text": "NOK"
         }
        }
       }
      }
     },
     "metadata": {},
     "output_type": "display_data"
    }
   ],
   "source": [
    "merged_df.set_index('timestamp', inplace=True)\n",
    "weekly_grouped = merged_df.groupby(pd.Grouper(freq='W')).sum().reset_index()\n",
    "\n",
    "plot_cols_all =[\n",
    "    ColumnParam(\"Cost_Net_Of_Sun\", \"Cost Main Building\"),\n",
    "    ColumnParam(\"Cost A\", \"Cost Building A\"),\n",
    "    ColumnParam(\"Cost B\", \"Cost Building B\"),\n",
    "    ColumnParam(\"Cost C\", \"Cost Building C\"),\n",
    "]\n",
    "\n",
    "\n",
    "plot_energy_usage(weekly_grouped, plot_cols_all,\n",
    "                    titel=\"Weekly Cost Comparison\",\n",
    "                    yaxis_title=\"NOK\",\n",
    "                    tozeroy=False,\n",
    "                    dark_mode=True,\n",
    "                    )"
   ]
  },
  {
   "cell_type": "markdown",
   "metadata": {},
   "source": [
    "3.  Monthly Cost"
   ]
  },
  {
   "cell_type": "code",
   "execution_count": 289,
   "metadata": {},
   "outputs": [
    {
     "data": {
      "application/vnd.plotly.v1+json": {
       "config": {
        "plotlyServerURL": "https://plot.ly"
       },
       "data": [
        {
         "line": {
          "color": "rgba(255, 0, 0, 0.9)"
         },
         "mode": "lines",
         "name": "Cost Main Building",
         "type": "scatter",
         "x": [
          "2023-07-31T00:00:00",
          "2023-08-31T00:00:00",
          "2023-09-30T00:00:00",
          "2023-10-31T00:00:00",
          "2023-11-30T00:00:00",
          "2023-12-31T00:00:00",
          "2024-01-31T00:00:00",
          "2024-02-29T00:00:00",
          "2024-03-31T00:00:00",
          "2024-04-30T00:00:00",
          "2024-05-31T00:00:00",
          "2024-06-30T00:00:00",
          "2024-07-31T00:00:00",
          "2024-08-31T00:00:00",
          "2024-09-30T00:00:00"
         ],
         "y": [
          14440.434825802597,
          16151.807112352093,
          13286.212666133664,
          13246.694815855351,
          29467.58955047431,
          28625.56626034828,
          28100.935994046544,
          17026.160345322656,
          15922.030405002852,
          11838.137612868135,
          8700.005757539016,
          7998.655992435173,
          8930.578904806875,
          11555.91536934162,
          1294.5290557745418
         ]
        },
        {
         "line": {
          "color": "rgba(0, 0, 255, 0.9)"
         },
         "mode": "lines",
         "name": "Cost Building A",
         "type": "scatter",
         "x": [
          "2023-07-31T00:00:00",
          "2023-08-31T00:00:00",
          "2023-09-30T00:00:00",
          "2023-10-31T00:00:00",
          "2023-11-30T00:00:00",
          "2023-12-31T00:00:00",
          "2024-01-31T00:00:00",
          "2024-02-29T00:00:00",
          "2024-03-31T00:00:00",
          "2024-04-30T00:00:00",
          "2024-05-31T00:00:00",
          "2024-06-30T00:00:00",
          "2024-07-31T00:00:00",
          "2024-08-31T00:00:00",
          "2024-09-30T00:00:00"
         ],
         "y": [
          18489.921189504916,
          19070.066200284415,
          13307.078308953123,
          11239.507202909506,
          24485.18140036051,
          22972.316045417272,
          22735.82252561587,
          15576.465601890985,
          16043.64808550686,
          13722.364247938207,
          12617.45369494256,
          12155.994821123188,
          11834.002729994361,
          12131.753437744253,
          1251.7397862532193
         ]
        },
        {
         "line": {
          "color": "rgba(0, 128, 0, 0.9)"
         },
         "mode": "lines",
         "name": "Cost Building B",
         "type": "scatter",
         "x": [
          "2023-07-31T00:00:00",
          "2023-08-31T00:00:00",
          "2023-09-30T00:00:00",
          "2023-10-31T00:00:00",
          "2023-11-30T00:00:00",
          "2023-12-31T00:00:00",
          "2024-01-31T00:00:00",
          "2024-02-29T00:00:00",
          "2024-03-31T00:00:00",
          "2024-04-30T00:00:00",
          "2024-05-31T00:00:00",
          "2024-06-30T00:00:00",
          "2024-07-31T00:00:00",
          "2024-08-31T00:00:00",
          "2024-09-30T00:00:00"
         ],
         "y": [
          13834.120849144652,
          14785.180073186091,
          11127.0945079325,
          11086.279386242828,
          24389.811791052685,
          24728.181741817523,
          24693.424866738784,
          15238.610848984214,
          14779.460292850863,
          10418.90354290586,
          8933.92265336581,
          8279.055160775742,
          8090.456664556816,
          9499.20763193629,
          1153.4611068783674
         ]
        },
        {
         "line": {
          "color": "rgba(255, 165, 0, 0.9)"
         },
         "mode": "lines",
         "name": "Cost Building C",
         "type": "scatter",
         "x": [
          "2023-07-31T00:00:00",
          "2023-08-31T00:00:00",
          "2023-09-30T00:00:00",
          "2023-10-31T00:00:00",
          "2023-11-30T00:00:00",
          "2023-12-31T00:00:00",
          "2024-01-31T00:00:00",
          "2024-02-29T00:00:00",
          "2024-03-31T00:00:00",
          "2024-04-30T00:00:00",
          "2024-05-31T00:00:00",
          "2024-06-30T00:00:00",
          "2024-07-31T00:00:00",
          "2024-08-31T00:00:00",
          "2024-09-30T00:00:00"
         ],
         "y": [
          25625.884662221048,
          27699.3205476044,
          19972.76286604434,
          15660.183490614081,
          31770.55611635404,
          28551.724637519954,
          27520.180915318477,
          19587.580902214035,
          20177.96505183212,
          17645.994256211747,
          15379.0386941395,
          15074.337944069048,
          13295.737456029523,
          15293.471996936558,
          1585.6592441305086
         ]
        }
       ],
       "layout": {
        "height": 600,
        "hovermode": "x unified",
        "showlegend": true,
        "template": {
         "data": {
          "bar": [
           {
            "error_x": {
             "color": "#2a3f5f"
            },
            "error_y": {
             "color": "#2a3f5f"
            },
            "marker": {
             "line": {
              "color": "#E5ECF6",
              "width": 0.5
             },
             "pattern": {
              "fillmode": "overlay",
              "size": 10,
              "solidity": 0.2
             }
            },
            "type": "bar"
           }
          ],
          "barpolar": [
           {
            "marker": {
             "line": {
              "color": "#E5ECF6",
              "width": 0.5
             },
             "pattern": {
              "fillmode": "overlay",
              "size": 10,
              "solidity": 0.2
             }
            },
            "type": "barpolar"
           }
          ],
          "carpet": [
           {
            "aaxis": {
             "endlinecolor": "#2a3f5f",
             "gridcolor": "white",
             "linecolor": "white",
             "minorgridcolor": "white",
             "startlinecolor": "#2a3f5f"
            },
            "baxis": {
             "endlinecolor": "#2a3f5f",
             "gridcolor": "white",
             "linecolor": "white",
             "minorgridcolor": "white",
             "startlinecolor": "#2a3f5f"
            },
            "type": "carpet"
           }
          ],
          "choropleth": [
           {
            "colorbar": {
             "outlinewidth": 0,
             "ticks": ""
            },
            "type": "choropleth"
           }
          ],
          "contour": [
           {
            "colorbar": {
             "outlinewidth": 0,
             "ticks": ""
            },
            "colorscale": [
             [
              0,
              "#0d0887"
             ],
             [
              0.1111111111111111,
              "#46039f"
             ],
             [
              0.2222222222222222,
              "#7201a8"
             ],
             [
              0.3333333333333333,
              "#9c179e"
             ],
             [
              0.4444444444444444,
              "#bd3786"
             ],
             [
              0.5555555555555556,
              "#d8576b"
             ],
             [
              0.6666666666666666,
              "#ed7953"
             ],
             [
              0.7777777777777778,
              "#fb9f3a"
             ],
             [
              0.8888888888888888,
              "#fdca26"
             ],
             [
              1,
              "#f0f921"
             ]
            ],
            "type": "contour"
           }
          ],
          "contourcarpet": [
           {
            "colorbar": {
             "outlinewidth": 0,
             "ticks": ""
            },
            "type": "contourcarpet"
           }
          ],
          "heatmap": [
           {
            "colorbar": {
             "outlinewidth": 0,
             "ticks": ""
            },
            "colorscale": [
             [
              0,
              "#0d0887"
             ],
             [
              0.1111111111111111,
              "#46039f"
             ],
             [
              0.2222222222222222,
              "#7201a8"
             ],
             [
              0.3333333333333333,
              "#9c179e"
             ],
             [
              0.4444444444444444,
              "#bd3786"
             ],
             [
              0.5555555555555556,
              "#d8576b"
             ],
             [
              0.6666666666666666,
              "#ed7953"
             ],
             [
              0.7777777777777778,
              "#fb9f3a"
             ],
             [
              0.8888888888888888,
              "#fdca26"
             ],
             [
              1,
              "#f0f921"
             ]
            ],
            "type": "heatmap"
           }
          ],
          "heatmapgl": [
           {
            "colorbar": {
             "outlinewidth": 0,
             "ticks": ""
            },
            "colorscale": [
             [
              0,
              "#0d0887"
             ],
             [
              0.1111111111111111,
              "#46039f"
             ],
             [
              0.2222222222222222,
              "#7201a8"
             ],
             [
              0.3333333333333333,
              "#9c179e"
             ],
             [
              0.4444444444444444,
              "#bd3786"
             ],
             [
              0.5555555555555556,
              "#d8576b"
             ],
             [
              0.6666666666666666,
              "#ed7953"
             ],
             [
              0.7777777777777778,
              "#fb9f3a"
             ],
             [
              0.8888888888888888,
              "#fdca26"
             ],
             [
              1,
              "#f0f921"
             ]
            ],
            "type": "heatmapgl"
           }
          ],
          "histogram": [
           {
            "marker": {
             "pattern": {
              "fillmode": "overlay",
              "size": 10,
              "solidity": 0.2
             }
            },
            "type": "histogram"
           }
          ],
          "histogram2d": [
           {
            "colorbar": {
             "outlinewidth": 0,
             "ticks": ""
            },
            "colorscale": [
             [
              0,
              "#0d0887"
             ],
             [
              0.1111111111111111,
              "#46039f"
             ],
             [
              0.2222222222222222,
              "#7201a8"
             ],
             [
              0.3333333333333333,
              "#9c179e"
             ],
             [
              0.4444444444444444,
              "#bd3786"
             ],
             [
              0.5555555555555556,
              "#d8576b"
             ],
             [
              0.6666666666666666,
              "#ed7953"
             ],
             [
              0.7777777777777778,
              "#fb9f3a"
             ],
             [
              0.8888888888888888,
              "#fdca26"
             ],
             [
              1,
              "#f0f921"
             ]
            ],
            "type": "histogram2d"
           }
          ],
          "histogram2dcontour": [
           {
            "colorbar": {
             "outlinewidth": 0,
             "ticks": ""
            },
            "colorscale": [
             [
              0,
              "#0d0887"
             ],
             [
              0.1111111111111111,
              "#46039f"
             ],
             [
              0.2222222222222222,
              "#7201a8"
             ],
             [
              0.3333333333333333,
              "#9c179e"
             ],
             [
              0.4444444444444444,
              "#bd3786"
             ],
             [
              0.5555555555555556,
              "#d8576b"
             ],
             [
              0.6666666666666666,
              "#ed7953"
             ],
             [
              0.7777777777777778,
              "#fb9f3a"
             ],
             [
              0.8888888888888888,
              "#fdca26"
             ],
             [
              1,
              "#f0f921"
             ]
            ],
            "type": "histogram2dcontour"
           }
          ],
          "mesh3d": [
           {
            "colorbar": {
             "outlinewidth": 0,
             "ticks": ""
            },
            "type": "mesh3d"
           }
          ],
          "parcoords": [
           {
            "line": {
             "colorbar": {
              "outlinewidth": 0,
              "ticks": ""
             }
            },
            "type": "parcoords"
           }
          ],
          "pie": [
           {
            "automargin": true,
            "type": "pie"
           }
          ],
          "scatter": [
           {
            "fillpattern": {
             "fillmode": "overlay",
             "size": 10,
             "solidity": 0.2
            },
            "type": "scatter"
           }
          ],
          "scatter3d": [
           {
            "line": {
             "colorbar": {
              "outlinewidth": 0,
              "ticks": ""
             }
            },
            "marker": {
             "colorbar": {
              "outlinewidth": 0,
              "ticks": ""
             }
            },
            "type": "scatter3d"
           }
          ],
          "scattercarpet": [
           {
            "marker": {
             "colorbar": {
              "outlinewidth": 0,
              "ticks": ""
             }
            },
            "type": "scattercarpet"
           }
          ],
          "scattergeo": [
           {
            "marker": {
             "colorbar": {
              "outlinewidth": 0,
              "ticks": ""
             }
            },
            "type": "scattergeo"
           }
          ],
          "scattergl": [
           {
            "marker": {
             "colorbar": {
              "outlinewidth": 0,
              "ticks": ""
             }
            },
            "type": "scattergl"
           }
          ],
          "scattermapbox": [
           {
            "marker": {
             "colorbar": {
              "outlinewidth": 0,
              "ticks": ""
             }
            },
            "type": "scattermapbox"
           }
          ],
          "scatterpolar": [
           {
            "marker": {
             "colorbar": {
              "outlinewidth": 0,
              "ticks": ""
             }
            },
            "type": "scatterpolar"
           }
          ],
          "scatterpolargl": [
           {
            "marker": {
             "colorbar": {
              "outlinewidth": 0,
              "ticks": ""
             }
            },
            "type": "scatterpolargl"
           }
          ],
          "scatterternary": [
           {
            "marker": {
             "colorbar": {
              "outlinewidth": 0,
              "ticks": ""
             }
            },
            "type": "scatterternary"
           }
          ],
          "surface": [
           {
            "colorbar": {
             "outlinewidth": 0,
             "ticks": ""
            },
            "colorscale": [
             [
              0,
              "#0d0887"
             ],
             [
              0.1111111111111111,
              "#46039f"
             ],
             [
              0.2222222222222222,
              "#7201a8"
             ],
             [
              0.3333333333333333,
              "#9c179e"
             ],
             [
              0.4444444444444444,
              "#bd3786"
             ],
             [
              0.5555555555555556,
              "#d8576b"
             ],
             [
              0.6666666666666666,
              "#ed7953"
             ],
             [
              0.7777777777777778,
              "#fb9f3a"
             ],
             [
              0.8888888888888888,
              "#fdca26"
             ],
             [
              1,
              "#f0f921"
             ]
            ],
            "type": "surface"
           }
          ],
          "table": [
           {
            "cells": {
             "fill": {
              "color": "#EBF0F8"
             },
             "line": {
              "color": "white"
             }
            },
            "header": {
             "fill": {
              "color": "#C8D4E3"
             },
             "line": {
              "color": "white"
             }
            },
            "type": "table"
           }
          ]
         },
         "layout": {
          "annotationdefaults": {
           "arrowcolor": "#2a3f5f",
           "arrowhead": 0,
           "arrowwidth": 1
          },
          "autotypenumbers": "strict",
          "coloraxis": {
           "colorbar": {
            "outlinewidth": 0,
            "ticks": ""
           }
          },
          "colorscale": {
           "diverging": [
            [
             0,
             "#8e0152"
            ],
            [
             0.1,
             "#c51b7d"
            ],
            [
             0.2,
             "#de77ae"
            ],
            [
             0.3,
             "#f1b6da"
            ],
            [
             0.4,
             "#fde0ef"
            ],
            [
             0.5,
             "#f7f7f7"
            ],
            [
             0.6,
             "#e6f5d0"
            ],
            [
             0.7,
             "#b8e186"
            ],
            [
             0.8,
             "#7fbc41"
            ],
            [
             0.9,
             "#4d9221"
            ],
            [
             1,
             "#276419"
            ]
           ],
           "sequential": [
            [
             0,
             "#0d0887"
            ],
            [
             0.1111111111111111,
             "#46039f"
            ],
            [
             0.2222222222222222,
             "#7201a8"
            ],
            [
             0.3333333333333333,
             "#9c179e"
            ],
            [
             0.4444444444444444,
             "#bd3786"
            ],
            [
             0.5555555555555556,
             "#d8576b"
            ],
            [
             0.6666666666666666,
             "#ed7953"
            ],
            [
             0.7777777777777778,
             "#fb9f3a"
            ],
            [
             0.8888888888888888,
             "#fdca26"
            ],
            [
             1,
             "#f0f921"
            ]
           ],
           "sequentialminus": [
            [
             0,
             "#0d0887"
            ],
            [
             0.1111111111111111,
             "#46039f"
            ],
            [
             0.2222222222222222,
             "#7201a8"
            ],
            [
             0.3333333333333333,
             "#9c179e"
            ],
            [
             0.4444444444444444,
             "#bd3786"
            ],
            [
             0.5555555555555556,
             "#d8576b"
            ],
            [
             0.6666666666666666,
             "#ed7953"
            ],
            [
             0.7777777777777778,
             "#fb9f3a"
            ],
            [
             0.8888888888888888,
             "#fdca26"
            ],
            [
             1,
             "#f0f921"
            ]
           ]
          },
          "colorway": [
           "#636efa",
           "#EF553B",
           "#00cc96",
           "#ab63fa",
           "#FFA15A",
           "#19d3f3",
           "#FF6692",
           "#B6E880",
           "#FF97FF",
           "#FECB52"
          ],
          "font": {
           "color": "#2a3f5f"
          },
          "geo": {
           "bgcolor": "white",
           "lakecolor": "white",
           "landcolor": "#E5ECF6",
           "showlakes": true,
           "showland": true,
           "subunitcolor": "white"
          },
          "hoverlabel": {
           "align": "left"
          },
          "hovermode": "closest",
          "mapbox": {
           "style": "light"
          },
          "paper_bgcolor": "white",
          "plot_bgcolor": "#E5ECF6",
          "polar": {
           "angularaxis": {
            "gridcolor": "white",
            "linecolor": "white",
            "ticks": ""
           },
           "bgcolor": "#E5ECF6",
           "radialaxis": {
            "gridcolor": "white",
            "linecolor": "white",
            "ticks": ""
           }
          },
          "scene": {
           "xaxis": {
            "backgroundcolor": "#E5ECF6",
            "gridcolor": "white",
            "gridwidth": 2,
            "linecolor": "white",
            "showbackground": true,
            "ticks": "",
            "zerolinecolor": "white"
           },
           "yaxis": {
            "backgroundcolor": "#E5ECF6",
            "gridcolor": "white",
            "gridwidth": 2,
            "linecolor": "white",
            "showbackground": true,
            "ticks": "",
            "zerolinecolor": "white"
           },
           "zaxis": {
            "backgroundcolor": "#E5ECF6",
            "gridcolor": "white",
            "gridwidth": 2,
            "linecolor": "white",
            "showbackground": true,
            "ticks": "",
            "zerolinecolor": "white"
           }
          },
          "shapedefaults": {
           "line": {
            "color": "#2a3f5f"
           }
          },
          "ternary": {
           "aaxis": {
            "gridcolor": "white",
            "linecolor": "white",
            "ticks": ""
           },
           "baxis": {
            "gridcolor": "white",
            "linecolor": "white",
            "ticks": ""
           },
           "bgcolor": "#E5ECF6",
           "caxis": {
            "gridcolor": "white",
            "linecolor": "white",
            "ticks": ""
           }
          },
          "title": {
           "x": 0.05
          },
          "xaxis": {
           "automargin": true,
           "gridcolor": "white",
           "linecolor": "white",
           "ticks": "",
           "title": {
            "standoff": 15
           },
           "zerolinecolor": "white",
           "zerolinewidth": 2
          },
          "yaxis": {
           "automargin": true,
           "gridcolor": "white",
           "linecolor": "white",
           "ticks": "",
           "title": {
            "standoff": 15
           },
           "zerolinecolor": "white",
           "zerolinewidth": 2
          }
         }
        },
        "title": {
         "text": "Monthly Cost Comparison"
        },
        "xaxis": {
         "rangeselector": {
          "buttons": [
           {
            "count": 1,
            "label": "1d",
            "step": "day",
            "stepmode": "backward"
           },
           {
            "count": 7,
            "label": "1w",
            "step": "day",
            "stepmode": "backward"
           },
           {
            "count": 1,
            "label": "1m",
            "step": "month",
            "stepmode": "backward"
           },
           {
            "step": "all"
           }
          ]
         },
         "rangeslider": {
          "visible": true
         },
         "title": {
          "text": "Datetime"
         },
         "type": "date"
        },
        "yaxis": {
         "title": {
          "text": "NOK"
         }
        }
       }
      }
     },
     "metadata": {},
     "output_type": "display_data"
    }
   ],
   "source": [
    "monthly_grouped = merged_df.groupby(pd.Grouper(freq='ME')).sum().reset_index()\n",
    "monthly_grouped\n",
    "plot_cols_all =[\n",
    "    ColumnParam(\"Cost_Net_Of_Sun\", \"Cost Main Building\"),\n",
    "    ColumnParam(\"Cost A\", \"Cost Building A\"),\n",
    "    ColumnParam(\"Cost B\", \"Cost Building B\"),\n",
    "    ColumnParam(\"Cost C\", \"Cost Building C\"),\n",
    "]\n",
    "\n",
    "\n",
    "plot_energy_usage(monthly_grouped, plot_cols_all,\n",
    "                    titel=\"Monthly Cost Comparison\",\n",
    "                    yaxis_title=\"NOK\",\n",
    "                    tozeroy=False,\n",
    "                    dark_mode=True,\n",
    "                    )"
   ]
  },
  {
   "cell_type": "code",
   "execution_count": 290,
   "metadata": {},
   "outputs": [
    {
     "data": {
      "text/html": [
       "<div>\n",
       "<style scoped>\n",
       "    .dataframe tbody tr th:only-of-type {\n",
       "        vertical-align: middle;\n",
       "    }\n",
       "\n",
       "    .dataframe tbody tr th {\n",
       "        vertical-align: top;\n",
       "    }\n",
       "\n",
       "    .dataframe thead th {\n",
       "        text-align: right;\n",
       "    }\n",
       "</style>\n",
       "<table border=\"1\" class=\"dataframe\">\n",
       "  <thead>\n",
       "    <tr style=\"text-align: right;\">\n",
       "      <th></th>\n",
       "      <th>timestamp</th>\n",
       "      <th>Cost_Net_Of_Sun</th>\n",
       "      <th>Pred_Cost</th>\n",
       "      <th>Cost_Gross</th>\n",
       "      <th>Cost A</th>\n",
       "      <th>Cost B</th>\n",
       "      <th>Cost C</th>\n",
       "      <th>Tariff_Cost_Net_Of_Sun</th>\n",
       "      <th>Tariff_Cost A</th>\n",
       "      <th>Tariff_Cost B</th>\n",
       "      <th>Tariff_Cost C</th>\n",
       "      <th>Prediction</th>\n",
       "      <th>Tariff_Gross</th>\n",
       "    </tr>\n",
       "  </thead>\n",
       "  <tbody>\n",
       "    <tr>\n",
       "      <th>0</th>\n",
       "      <td>2023-07-31</td>\n",
       "      <td>15162.456567</td>\n",
       "      <td>20561.310506</td>\n",
       "      <td>21905.154554</td>\n",
       "      <td>19414.417249</td>\n",
       "      <td>14525.826892</td>\n",
       "      <td>26907.178895</td>\n",
       "      <td>17661.656567</td>\n",
       "      <td>22177.617249</td>\n",
       "      <td>16370.306892</td>\n",
       "      <td>30567.978895</td>\n",
       "      <td>23048.055074</td>\n",
       "      <td>24785.237879</td>\n",
       "    </tr>\n",
       "    <tr>\n",
       "      <th>1</th>\n",
       "      <td>2023-08-31</td>\n",
       "      <td>16959.397468</td>\n",
       "      <td>21684.749654</td>\n",
       "      <td>23071.723333</td>\n",
       "      <td>20023.569510</td>\n",
       "      <td>15524.439077</td>\n",
       "      <td>29084.286575</td>\n",
       "      <td>19836.997468</td>\n",
       "      <td>22830.769510</td>\n",
       "      <td>17302.039077</td>\n",
       "      <td>32564.686575</td>\n",
       "      <td>24421.190306</td>\n",
       "      <td>26266.373189</td>\n",
       "    </tr>\n",
       "    <tr>\n",
       "      <th>2</th>\n",
       "      <td>2023-09-30</td>\n",
       "      <td>13950.523299</td>\n",
       "      <td>14786.081068</td>\n",
       "      <td>17283.562798</td>\n",
       "      <td>13972.432224</td>\n",
       "      <td>11683.449233</td>\n",
       "      <td>20971.401009</td>\n",
       "      <td>16352.923299</td>\n",
       "      <td>16735.632224</td>\n",
       "      <td>13559.609233</td>\n",
       "      <td>24333.001009</td>\n",
       "      <td>17045.549972</td>\n",
       "      <td>20238.830164</td>\n",
       "    </tr>\n",
       "    <tr>\n",
       "      <th>3</th>\n",
       "      <td>2023-10-31</td>\n",
       "      <td>13909.029557</td>\n",
       "      <td>12167.609030</td>\n",
       "      <td>15008.125051</td>\n",
       "      <td>11801.482563</td>\n",
       "      <td>11640.593356</td>\n",
       "      <td>16443.192665</td>\n",
       "      <td>20606.629557</td>\n",
       "      <td>16356.682563</td>\n",
       "      <td>15526.033356</td>\n",
       "      <td>23099.192665</td>\n",
       "      <td>16304.593206</td>\n",
       "      <td>21720.333349</td>\n",
       "    </tr>\n",
       "    <tr>\n",
       "      <th>4</th>\n",
       "      <td>2023-11-30</td>\n",
       "      <td>30940.969028</td>\n",
       "      <td>25704.152453</td>\n",
       "      <td>31799.103258</td>\n",
       "      <td>25709.440470</td>\n",
       "      <td>25609.302381</td>\n",
       "      <td>33359.083922</td>\n",
       "      <td>39500.169028</td>\n",
       "      <td>30347.840470</td>\n",
       "      <td>29644.502381</td>\n",
       "      <td>38819.083922</td>\n",
       "      <td>29716.621173</td>\n",
       "      <td>40358.619765</td>\n",
       "    </tr>\n",
       "    <tr>\n",
       "      <th>5</th>\n",
       "      <td>2023-12-31</td>\n",
       "      <td>30056.844573</td>\n",
       "      <td>24071.961239</td>\n",
       "      <td>30301.846009</td>\n",
       "      <td>24120.931848</td>\n",
       "      <td>25964.590829</td>\n",
       "      <td>29979.310869</td>\n",
       "      <td>39645.644573</td>\n",
       "      <td>28676.131848</td>\n",
       "      <td>30981.550829</td>\n",
       "      <td>35917.710869</td>\n",
       "      <td>28341.690599</td>\n",
       "      <td>39899.101845</td>\n",
       "    </tr>\n",
       "    <tr>\n",
       "      <th>6</th>\n",
       "      <td>2024-01-31</td>\n",
       "      <td>29505.982794</td>\n",
       "      <td>24174.317319</td>\n",
       "      <td>29707.212516</td>\n",
       "      <td>23872.613652</td>\n",
       "      <td>25928.096110</td>\n",
       "      <td>28896.189961</td>\n",
       "      <td>43639.582794</td>\n",
       "      <td>29135.013652</td>\n",
       "      <td>33798.816110</td>\n",
       "      <td>34886.589961</td>\n",
       "      <td>28937.049111</td>\n",
       "      <td>43840.812516</td>\n",
       "    </tr>\n",
       "    <tr>\n",
       "      <th>7</th>\n",
       "      <td>2024-02-29</td>\n",
       "      <td>17877.468363</td>\n",
       "      <td>16592.890619</td>\n",
       "      <td>18450.267870</td>\n",
       "      <td>16355.288882</td>\n",
       "      <td>16000.541391</td>\n",
       "      <td>20566.959947</td>\n",
       "      <td>24793.468363</td>\n",
       "      <td>20868.888882</td>\n",
       "      <td>20468.381391</td>\n",
       "      <td>26328.559947</td>\n",
       "      <td>20807.199939</td>\n",
       "      <td>25401.868313</td>\n",
       "    </tr>\n",
       "    <tr>\n",
       "      <th>8</th>\n",
       "      <td>2024-03-31</td>\n",
       "      <td>16718.131925</td>\n",
       "      <td>18054.548759</td>\n",
       "      <td>18520.361429</td>\n",
       "      <td>16845.830490</td>\n",
       "      <td>15518.433307</td>\n",
       "      <td>21186.863304</td>\n",
       "      <td>22510.931925</td>\n",
       "      <td>21297.030490</td>\n",
       "      <td>19495.393307</td>\n",
       "      <td>26501.263304</td>\n",
       "      <td>22141.299167</td>\n",
       "      <td>25266.713393</td>\n",
       "    </tr>\n",
       "    <tr>\n",
       "      <th>9</th>\n",
       "      <td>2024-04-30</td>\n",
       "      <td>12430.044494</td>\n",
       "      <td>15252.561088</td>\n",
       "      <td>16627.271219</td>\n",
       "      <td>14408.482460</td>\n",
       "      <td>10939.848720</td>\n",
       "      <td>18528.293969</td>\n",
       "      <td>14484.844494</td>\n",
       "      <td>16238.882460</td>\n",
       "      <td>12488.648720</td>\n",
       "      <td>20829.493969</td>\n",
       "      <td>16982.624632</td>\n",
       "      <td>18948.961505</td>\n",
       "    </tr>\n",
       "    <tr>\n",
       "      <th>10</th>\n",
       "      <td>2024-05-31</td>\n",
       "      <td>9135.006045</td>\n",
       "      <td>13728.757625</td>\n",
       "      <td>13159.388869</td>\n",
       "      <td>13248.326380</td>\n",
       "      <td>9380.618786</td>\n",
       "      <td>16147.990629</td>\n",
       "      <td>11849.806045</td>\n",
       "      <td>17137.926380</td>\n",
       "      <td>11073.738786</td>\n",
       "      <td>19518.390629</td>\n",
       "      <td>16253.980545</td>\n",
       "      <td>16807.651947</td>\n",
       "    </tr>\n",
       "    <tr>\n",
       "      <th>11</th>\n",
       "      <td>2024-06-30</td>\n",
       "      <td>8398.588792</td>\n",
       "      <td>13444.778199</td>\n",
       "      <td>13664.810846</td>\n",
       "      <td>12763.794562</td>\n",
       "      <td>8693.007919</td>\n",
       "      <td>15828.054841</td>\n",
       "      <td>11619.388792</td>\n",
       "      <td>16635.794562</td>\n",
       "      <td>10646.607919</td>\n",
       "      <td>19141.254841</td>\n",
       "      <td>16291.391639</td>\n",
       "      <td>17238.373373</td>\n",
       "    </tr>\n",
       "    <tr>\n",
       "      <th>12</th>\n",
       "      <td>2024-07-31</td>\n",
       "      <td>9377.107850</td>\n",
       "      <td>12240.582600</td>\n",
       "      <td>12810.388293</td>\n",
       "      <td>12425.702866</td>\n",
       "      <td>8494.979498</td>\n",
       "      <td>13960.524329</td>\n",
       "      <td>11999.507850</td>\n",
       "      <td>16535.302866</td>\n",
       "      <td>10385.219498</td>\n",
       "      <td>16763.324329</td>\n",
       "      <td>14911.999788</td>\n",
       "      <td>16200.785211</td>\n",
       "    </tr>\n",
       "    <tr>\n",
       "      <th>13</th>\n",
       "      <td>2024-08-31</td>\n",
       "      <td>12133.711138</td>\n",
       "      <td>13829.223891</td>\n",
       "      <td>15235.808445</td>\n",
       "      <td>12738.341110</td>\n",
       "      <td>9974.168014</td>\n",
       "      <td>16058.145597</td>\n",
       "      <td>14558.111138</td>\n",
       "      <td>16020.741110</td>\n",
       "      <td>11794.008014</td>\n",
       "      <td>19036.945597</td>\n",
       "      <td>15962.495119</td>\n",
       "      <td>18476.975817</td>\n",
       "    </tr>\n",
       "    <tr>\n",
       "      <th>14</th>\n",
       "      <td>2024-09-30</td>\n",
       "      <td>1359.255509</td>\n",
       "      <td>1409.393896</td>\n",
       "      <td>1540.324586</td>\n",
       "      <td>1314.326776</td>\n",
       "      <td>1211.134162</td>\n",
       "      <td>1664.942206</td>\n",
       "      <td>3651.655509</td>\n",
       "      <td>3241.526776</td>\n",
       "      <td>2883.134162</td>\n",
       "      <td>4247.742206</td>\n",
       "      <td>3278.362624</td>\n",
       "      <td>4082.467840</td>\n",
       "    </tr>\n",
       "  </tbody>\n",
       "</table>\n",
       "</div>"
      ],
      "text/plain": [
       "    timestamp  Cost_Net_Of_Sun     Pred_Cost    Cost_Gross        Cost A  \\\n",
       "0  2023-07-31     15162.456567  20561.310506  21905.154554  19414.417249   \n",
       "1  2023-08-31     16959.397468  21684.749654  23071.723333  20023.569510   \n",
       "2  2023-09-30     13950.523299  14786.081068  17283.562798  13972.432224   \n",
       "3  2023-10-31     13909.029557  12167.609030  15008.125051  11801.482563   \n",
       "4  2023-11-30     30940.969028  25704.152453  31799.103258  25709.440470   \n",
       "5  2023-12-31     30056.844573  24071.961239  30301.846009  24120.931848   \n",
       "6  2024-01-31     29505.982794  24174.317319  29707.212516  23872.613652   \n",
       "7  2024-02-29     17877.468363  16592.890619  18450.267870  16355.288882   \n",
       "8  2024-03-31     16718.131925  18054.548759  18520.361429  16845.830490   \n",
       "9  2024-04-30     12430.044494  15252.561088  16627.271219  14408.482460   \n",
       "10 2024-05-31      9135.006045  13728.757625  13159.388869  13248.326380   \n",
       "11 2024-06-30      8398.588792  13444.778199  13664.810846  12763.794562   \n",
       "12 2024-07-31      9377.107850  12240.582600  12810.388293  12425.702866   \n",
       "13 2024-08-31     12133.711138  13829.223891  15235.808445  12738.341110   \n",
       "14 2024-09-30      1359.255509   1409.393896   1540.324586   1314.326776   \n",
       "\n",
       "          Cost B        Cost C  Tariff_Cost_Net_Of_Sun  Tariff_Cost A  \\\n",
       "0   14525.826892  26907.178895            17661.656567   22177.617249   \n",
       "1   15524.439077  29084.286575            19836.997468   22830.769510   \n",
       "2   11683.449233  20971.401009            16352.923299   16735.632224   \n",
       "3   11640.593356  16443.192665            20606.629557   16356.682563   \n",
       "4   25609.302381  33359.083922            39500.169028   30347.840470   \n",
       "5   25964.590829  29979.310869            39645.644573   28676.131848   \n",
       "6   25928.096110  28896.189961            43639.582794   29135.013652   \n",
       "7   16000.541391  20566.959947            24793.468363   20868.888882   \n",
       "8   15518.433307  21186.863304            22510.931925   21297.030490   \n",
       "9   10939.848720  18528.293969            14484.844494   16238.882460   \n",
       "10   9380.618786  16147.990629            11849.806045   17137.926380   \n",
       "11   8693.007919  15828.054841            11619.388792   16635.794562   \n",
       "12   8494.979498  13960.524329            11999.507850   16535.302866   \n",
       "13   9974.168014  16058.145597            14558.111138   16020.741110   \n",
       "14   1211.134162   1664.942206             3651.655509    3241.526776   \n",
       "\n",
       "    Tariff_Cost B  Tariff_Cost C    Prediction  Tariff_Gross  \n",
       "0    16370.306892   30567.978895  23048.055074  24785.237879  \n",
       "1    17302.039077   32564.686575  24421.190306  26266.373189  \n",
       "2    13559.609233   24333.001009  17045.549972  20238.830164  \n",
       "3    15526.033356   23099.192665  16304.593206  21720.333349  \n",
       "4    29644.502381   38819.083922  29716.621173  40358.619765  \n",
       "5    30981.550829   35917.710869  28341.690599  39899.101845  \n",
       "6    33798.816110   34886.589961  28937.049111  43840.812516  \n",
       "7    20468.381391   26328.559947  20807.199939  25401.868313  \n",
       "8    19495.393307   26501.263304  22141.299167  25266.713393  \n",
       "9    12488.648720   20829.493969  16982.624632  18948.961505  \n",
       "10   11073.738786   19518.390629  16253.980545  16807.651947  \n",
       "11   10646.607919   19141.254841  16291.391639  17238.373373  \n",
       "12   10385.219498   16763.324329  14911.999788  16200.785211  \n",
       "13   11794.008014   19036.945597  15962.495119  18476.975817  \n",
       "14    2883.134162    4247.742206   3278.362624   4082.467840  "
      ]
     },
     "execution_count": 290,
     "metadata": {},
     "output_type": "execute_result"
    }
   ],
   "source": [
    "#Making function to find the effektledd\n",
    "def find_effect(df,navn_total):\n",
    "    nydf=df.copy()\n",
    "    nydf.set_index('timestamp', inplace=True)\n",
    "    monthly_max_consumption = nydf[navn_total].resample('ME').max()\n",
    "    monthly_max_df = monthly_max_consumption.reset_index()\n",
    "    monthly_max_df.columns = ['timestamp', 'Max Consumption']\n",
    "    monthly_max_df['Adjusted Consumption'] = np.where(\n",
    "        monthly_max_df['timestamp'].dt.month.isin([4, 5, 6, 7, 8, 9]),   # Summer months\n",
    "        monthly_max_df['Max Consumption'] * 44,\n",
    "        monthly_max_df['Max Consumption'] * 104  # Winter months (remaining)\n",
    "    )\n",
    "    return monthly_max_df\n",
    "\n",
    "monthly_max_main=find_effect(main_df, \"value_import\")\n",
    "monthly_max_main.set_index('timestamp', inplace=True)\n",
    "monthly_max_a=find_effect(a_df, \"value_import\")\n",
    "monthly_max_a.set_index('timestamp', inplace=True)\n",
    "monthly_max_b=find_effect(b_df,'value_import')\n",
    "monthly_max_b.set_index('timestamp', inplace=True)\n",
    "monthly_max_c=find_effect(c_df,'value_import')\n",
    "monthly_max_c.set_index('timestamp', inplace=True)\n",
    "monthly_max_pred=find_effect(main_df, \"predicted_consumption\")\n",
    "monthly_max_pred.set_index('timestamp', inplace=True)\n",
    "monthly_max_gross=find_effect(main_df, \"Gross_Consumption\")\n",
    "monthly_max_gross.set_index('timestamp', inplace=True)\n",
    "\n",
    "\n",
    "tariff_cost=monthly_grouped.copy()\n",
    "tariff_cost=tariff_cost*1.05\n",
    "tariff_cost['Tariff_Cost_Net_Of_Sun']=tariff_cost['Cost_Net_Of_Sun']+monthly_max_main['Adjusted Consumption']\n",
    "tariff_cost['Tariff_Cost A']=tariff_cost['Cost A']+monthly_max_a['Adjusted Consumption']\n",
    "tariff_cost['Tariff_Cost B']=tariff_cost['Cost B']+monthly_max_b['Adjusted Consumption']\n",
    "tariff_cost['Tariff_Cost C']=tariff_cost['Cost C']+monthly_max_c['Adjusted Consumption']\n",
    "tariff_cost['Prediction']=tariff_cost['Pred_Cost']+monthly_max_pred['Adjusted Consumption']\n",
    "tariff_cost['Tariff_Gross']=tariff_cost['Cost_Gross']+monthly_max_gross['Adjusted Consumption']\n",
    "\n",
    "tariff_cost=tariff_cost.reset_index()\n",
    "tariff_cost"
   ]
  },
  {
   "cell_type": "markdown",
   "metadata": {},
   "source": [
    "5. Montly Cost with tariff"
   ]
  },
  {
   "cell_type": "code",
   "execution_count": 291,
   "metadata": {},
   "outputs": [
    {
     "data": {
      "application/vnd.plotly.v1+json": {
       "config": {
        "plotlyServerURL": "https://plot.ly"
       },
       "data": [
        {
         "line": {
          "color": "rgba(255, 0, 0, 0.9)"
         },
         "mode": "lines",
         "name": "Cost Main Building",
         "type": "scatter",
         "x": [
          "2023-07-31T00:00:00",
          "2023-08-31T00:00:00",
          "2023-09-30T00:00:00",
          "2023-10-31T00:00:00",
          "2023-11-30T00:00:00",
          "2023-12-31T00:00:00",
          "2024-01-31T00:00:00",
          "2024-02-29T00:00:00",
          "2024-03-31T00:00:00",
          "2024-04-30T00:00:00",
          "2024-05-31T00:00:00",
          "2024-06-30T00:00:00",
          "2024-07-31T00:00:00",
          "2024-08-31T00:00:00",
          "2024-09-30T00:00:00"
         ],
         "y": [
          17661.656567092727,
          19836.997467969697,
          16352.923299440348,
          20606.62955664812,
          39500.169027998025,
          39645.644573365695,
          43639.58279374887,
          24793.46836258879,
          22510.931925252993,
          14484.844493511544,
          11849.806045415968,
          11619.388792056932,
          11999.50785004722,
          14558.1111378087,
          3651.655508563269
         ]
        },
        {
         "line": {
          "color": "rgba(0, 0, 255, 0.9)"
         },
         "mode": "lines",
         "name": "Cost Building A",
         "type": "scatter",
         "x": [
          "2023-07-31T00:00:00",
          "2023-08-31T00:00:00",
          "2023-09-30T00:00:00",
          "2023-10-31T00:00:00",
          "2023-11-30T00:00:00",
          "2023-12-31T00:00:00",
          "2024-01-31T00:00:00",
          "2024-02-29T00:00:00",
          "2024-03-31T00:00:00",
          "2024-04-30T00:00:00",
          "2024-05-31T00:00:00",
          "2024-06-30T00:00:00",
          "2024-07-31T00:00:00",
          "2024-08-31T00:00:00",
          "2024-09-30T00:00:00"
         ],
         "y": [
          22177.617248980165,
          22830.769510298636,
          16735.63222440078,
          16356.682563054983,
          30347.840470378538,
          28676.13184768814,
          29135.013651896665,
          20868.888881985535,
          21297.030489782206,
          16238.882460335117,
          17137.92637968969,
          16635.794562179348,
          16535.30286649408,
          16020.741109631466,
          3241.52677556588
         ]
        },
        {
         "line": {
          "color": "rgba(0, 128, 0, 0.9)"
         },
         "mode": "lines",
         "name": "Cost Building B",
         "type": "scatter",
         "x": [
          "2023-07-31T00:00:00",
          "2023-08-31T00:00:00",
          "2023-09-30T00:00:00",
          "2023-10-31T00:00:00",
          "2023-11-30T00:00:00",
          "2023-12-31T00:00:00",
          "2024-01-31T00:00:00",
          "2024-02-29T00:00:00",
          "2024-03-31T00:00:00",
          "2024-04-30T00:00:00",
          "2024-05-31T00:00:00",
          "2024-06-30T00:00:00",
          "2024-07-31T00:00:00",
          "2024-08-31T00:00:00",
          "2024-09-30T00:00:00"
         ],
         "y": [
          16370.306891601886,
          17302.039076845394,
          13559.609233329125,
          15526.03335555497,
          29644.50238060532,
          30981.5508289084,
          33798.81611007573,
          20468.381391433424,
          19495.393307493407,
          12488.648720051155,
          11073.7387860341,
          10646.60791881453,
          10385.219497784656,
          11794.008013533105,
          2883.134162222286
         ]
        },
        {
         "line": {
          "color": "rgba(255, 165, 0, 0.9)"
         },
         "mode": "lines",
         "name": "Cost Building C",
         "type": "scatter",
         "x": [
          "2023-07-31T00:00:00",
          "2023-08-31T00:00:00",
          "2023-09-30T00:00:00",
          "2023-10-31T00:00:00",
          "2023-11-30T00:00:00",
          "2023-12-31T00:00:00",
          "2024-01-31T00:00:00",
          "2024-02-29T00:00:00",
          "2024-03-31T00:00:00",
          "2024-04-30T00:00:00",
          "2024-05-31T00:00:00",
          "2024-06-30T00:00:00",
          "2024-07-31T00:00:00",
          "2024-08-31T00:00:00",
          "2024-09-30T00:00:00"
         ],
         "y": [
          30567.9788953321,
          32564.68657498462,
          24333.00100934656,
          23099.192665144787,
          38819.08392217175,
          35917.71086939595,
          34886.5899610844,
          26328.559947324735,
          26501.26330442373,
          20829.493969022336,
          19518.39062884648,
          19141.2548412725,
          16763.324328831,
          19036.945596783386,
          4247.742206337034
         ]
        }
       ],
       "layout": {
        "height": 600,
        "hovermode": "x unified",
        "showlegend": true,
        "template": {
         "data": {
          "bar": [
           {
            "error_x": {
             "color": "#2a3f5f"
            },
            "error_y": {
             "color": "#2a3f5f"
            },
            "marker": {
             "line": {
              "color": "#E5ECF6",
              "width": 0.5
             },
             "pattern": {
              "fillmode": "overlay",
              "size": 10,
              "solidity": 0.2
             }
            },
            "type": "bar"
           }
          ],
          "barpolar": [
           {
            "marker": {
             "line": {
              "color": "#E5ECF6",
              "width": 0.5
             },
             "pattern": {
              "fillmode": "overlay",
              "size": 10,
              "solidity": 0.2
             }
            },
            "type": "barpolar"
           }
          ],
          "carpet": [
           {
            "aaxis": {
             "endlinecolor": "#2a3f5f",
             "gridcolor": "white",
             "linecolor": "white",
             "minorgridcolor": "white",
             "startlinecolor": "#2a3f5f"
            },
            "baxis": {
             "endlinecolor": "#2a3f5f",
             "gridcolor": "white",
             "linecolor": "white",
             "minorgridcolor": "white",
             "startlinecolor": "#2a3f5f"
            },
            "type": "carpet"
           }
          ],
          "choropleth": [
           {
            "colorbar": {
             "outlinewidth": 0,
             "ticks": ""
            },
            "type": "choropleth"
           }
          ],
          "contour": [
           {
            "colorbar": {
             "outlinewidth": 0,
             "ticks": ""
            },
            "colorscale": [
             [
              0,
              "#0d0887"
             ],
             [
              0.1111111111111111,
              "#46039f"
             ],
             [
              0.2222222222222222,
              "#7201a8"
             ],
             [
              0.3333333333333333,
              "#9c179e"
             ],
             [
              0.4444444444444444,
              "#bd3786"
             ],
             [
              0.5555555555555556,
              "#d8576b"
             ],
             [
              0.6666666666666666,
              "#ed7953"
             ],
             [
              0.7777777777777778,
              "#fb9f3a"
             ],
             [
              0.8888888888888888,
              "#fdca26"
             ],
             [
              1,
              "#f0f921"
             ]
            ],
            "type": "contour"
           }
          ],
          "contourcarpet": [
           {
            "colorbar": {
             "outlinewidth": 0,
             "ticks": ""
            },
            "type": "contourcarpet"
           }
          ],
          "heatmap": [
           {
            "colorbar": {
             "outlinewidth": 0,
             "ticks": ""
            },
            "colorscale": [
             [
              0,
              "#0d0887"
             ],
             [
              0.1111111111111111,
              "#46039f"
             ],
             [
              0.2222222222222222,
              "#7201a8"
             ],
             [
              0.3333333333333333,
              "#9c179e"
             ],
             [
              0.4444444444444444,
              "#bd3786"
             ],
             [
              0.5555555555555556,
              "#d8576b"
             ],
             [
              0.6666666666666666,
              "#ed7953"
             ],
             [
              0.7777777777777778,
              "#fb9f3a"
             ],
             [
              0.8888888888888888,
              "#fdca26"
             ],
             [
              1,
              "#f0f921"
             ]
            ],
            "type": "heatmap"
           }
          ],
          "heatmapgl": [
           {
            "colorbar": {
             "outlinewidth": 0,
             "ticks": ""
            },
            "colorscale": [
             [
              0,
              "#0d0887"
             ],
             [
              0.1111111111111111,
              "#46039f"
             ],
             [
              0.2222222222222222,
              "#7201a8"
             ],
             [
              0.3333333333333333,
              "#9c179e"
             ],
             [
              0.4444444444444444,
              "#bd3786"
             ],
             [
              0.5555555555555556,
              "#d8576b"
             ],
             [
              0.6666666666666666,
              "#ed7953"
             ],
             [
              0.7777777777777778,
              "#fb9f3a"
             ],
             [
              0.8888888888888888,
              "#fdca26"
             ],
             [
              1,
              "#f0f921"
             ]
            ],
            "type": "heatmapgl"
           }
          ],
          "histogram": [
           {
            "marker": {
             "pattern": {
              "fillmode": "overlay",
              "size": 10,
              "solidity": 0.2
             }
            },
            "type": "histogram"
           }
          ],
          "histogram2d": [
           {
            "colorbar": {
             "outlinewidth": 0,
             "ticks": ""
            },
            "colorscale": [
             [
              0,
              "#0d0887"
             ],
             [
              0.1111111111111111,
              "#46039f"
             ],
             [
              0.2222222222222222,
              "#7201a8"
             ],
             [
              0.3333333333333333,
              "#9c179e"
             ],
             [
              0.4444444444444444,
              "#bd3786"
             ],
             [
              0.5555555555555556,
              "#d8576b"
             ],
             [
              0.6666666666666666,
              "#ed7953"
             ],
             [
              0.7777777777777778,
              "#fb9f3a"
             ],
             [
              0.8888888888888888,
              "#fdca26"
             ],
             [
              1,
              "#f0f921"
             ]
            ],
            "type": "histogram2d"
           }
          ],
          "histogram2dcontour": [
           {
            "colorbar": {
             "outlinewidth": 0,
             "ticks": ""
            },
            "colorscale": [
             [
              0,
              "#0d0887"
             ],
             [
              0.1111111111111111,
              "#46039f"
             ],
             [
              0.2222222222222222,
              "#7201a8"
             ],
             [
              0.3333333333333333,
              "#9c179e"
             ],
             [
              0.4444444444444444,
              "#bd3786"
             ],
             [
              0.5555555555555556,
              "#d8576b"
             ],
             [
              0.6666666666666666,
              "#ed7953"
             ],
             [
              0.7777777777777778,
              "#fb9f3a"
             ],
             [
              0.8888888888888888,
              "#fdca26"
             ],
             [
              1,
              "#f0f921"
             ]
            ],
            "type": "histogram2dcontour"
           }
          ],
          "mesh3d": [
           {
            "colorbar": {
             "outlinewidth": 0,
             "ticks": ""
            },
            "type": "mesh3d"
           }
          ],
          "parcoords": [
           {
            "line": {
             "colorbar": {
              "outlinewidth": 0,
              "ticks": ""
             }
            },
            "type": "parcoords"
           }
          ],
          "pie": [
           {
            "automargin": true,
            "type": "pie"
           }
          ],
          "scatter": [
           {
            "fillpattern": {
             "fillmode": "overlay",
             "size": 10,
             "solidity": 0.2
            },
            "type": "scatter"
           }
          ],
          "scatter3d": [
           {
            "line": {
             "colorbar": {
              "outlinewidth": 0,
              "ticks": ""
             }
            },
            "marker": {
             "colorbar": {
              "outlinewidth": 0,
              "ticks": ""
             }
            },
            "type": "scatter3d"
           }
          ],
          "scattercarpet": [
           {
            "marker": {
             "colorbar": {
              "outlinewidth": 0,
              "ticks": ""
             }
            },
            "type": "scattercarpet"
           }
          ],
          "scattergeo": [
           {
            "marker": {
             "colorbar": {
              "outlinewidth": 0,
              "ticks": ""
             }
            },
            "type": "scattergeo"
           }
          ],
          "scattergl": [
           {
            "marker": {
             "colorbar": {
              "outlinewidth": 0,
              "ticks": ""
             }
            },
            "type": "scattergl"
           }
          ],
          "scattermapbox": [
           {
            "marker": {
             "colorbar": {
              "outlinewidth": 0,
              "ticks": ""
             }
            },
            "type": "scattermapbox"
           }
          ],
          "scatterpolar": [
           {
            "marker": {
             "colorbar": {
              "outlinewidth": 0,
              "ticks": ""
             }
            },
            "type": "scatterpolar"
           }
          ],
          "scatterpolargl": [
           {
            "marker": {
             "colorbar": {
              "outlinewidth": 0,
              "ticks": ""
             }
            },
            "type": "scatterpolargl"
           }
          ],
          "scatterternary": [
           {
            "marker": {
             "colorbar": {
              "outlinewidth": 0,
              "ticks": ""
             }
            },
            "type": "scatterternary"
           }
          ],
          "surface": [
           {
            "colorbar": {
             "outlinewidth": 0,
             "ticks": ""
            },
            "colorscale": [
             [
              0,
              "#0d0887"
             ],
             [
              0.1111111111111111,
              "#46039f"
             ],
             [
              0.2222222222222222,
              "#7201a8"
             ],
             [
              0.3333333333333333,
              "#9c179e"
             ],
             [
              0.4444444444444444,
              "#bd3786"
             ],
             [
              0.5555555555555556,
              "#d8576b"
             ],
             [
              0.6666666666666666,
              "#ed7953"
             ],
             [
              0.7777777777777778,
              "#fb9f3a"
             ],
             [
              0.8888888888888888,
              "#fdca26"
             ],
             [
              1,
              "#f0f921"
             ]
            ],
            "type": "surface"
           }
          ],
          "table": [
           {
            "cells": {
             "fill": {
              "color": "#EBF0F8"
             },
             "line": {
              "color": "white"
             }
            },
            "header": {
             "fill": {
              "color": "#C8D4E3"
             },
             "line": {
              "color": "white"
             }
            },
            "type": "table"
           }
          ]
         },
         "layout": {
          "annotationdefaults": {
           "arrowcolor": "#2a3f5f",
           "arrowhead": 0,
           "arrowwidth": 1
          },
          "autotypenumbers": "strict",
          "coloraxis": {
           "colorbar": {
            "outlinewidth": 0,
            "ticks": ""
           }
          },
          "colorscale": {
           "diverging": [
            [
             0,
             "#8e0152"
            ],
            [
             0.1,
             "#c51b7d"
            ],
            [
             0.2,
             "#de77ae"
            ],
            [
             0.3,
             "#f1b6da"
            ],
            [
             0.4,
             "#fde0ef"
            ],
            [
             0.5,
             "#f7f7f7"
            ],
            [
             0.6,
             "#e6f5d0"
            ],
            [
             0.7,
             "#b8e186"
            ],
            [
             0.8,
             "#7fbc41"
            ],
            [
             0.9,
             "#4d9221"
            ],
            [
             1,
             "#276419"
            ]
           ],
           "sequential": [
            [
             0,
             "#0d0887"
            ],
            [
             0.1111111111111111,
             "#46039f"
            ],
            [
             0.2222222222222222,
             "#7201a8"
            ],
            [
             0.3333333333333333,
             "#9c179e"
            ],
            [
             0.4444444444444444,
             "#bd3786"
            ],
            [
             0.5555555555555556,
             "#d8576b"
            ],
            [
             0.6666666666666666,
             "#ed7953"
            ],
            [
             0.7777777777777778,
             "#fb9f3a"
            ],
            [
             0.8888888888888888,
             "#fdca26"
            ],
            [
             1,
             "#f0f921"
            ]
           ],
           "sequentialminus": [
            [
             0,
             "#0d0887"
            ],
            [
             0.1111111111111111,
             "#46039f"
            ],
            [
             0.2222222222222222,
             "#7201a8"
            ],
            [
             0.3333333333333333,
             "#9c179e"
            ],
            [
             0.4444444444444444,
             "#bd3786"
            ],
            [
             0.5555555555555556,
             "#d8576b"
            ],
            [
             0.6666666666666666,
             "#ed7953"
            ],
            [
             0.7777777777777778,
             "#fb9f3a"
            ],
            [
             0.8888888888888888,
             "#fdca26"
            ],
            [
             1,
             "#f0f921"
            ]
           ]
          },
          "colorway": [
           "#636efa",
           "#EF553B",
           "#00cc96",
           "#ab63fa",
           "#FFA15A",
           "#19d3f3",
           "#FF6692",
           "#B6E880",
           "#FF97FF",
           "#FECB52"
          ],
          "font": {
           "color": "#2a3f5f"
          },
          "geo": {
           "bgcolor": "white",
           "lakecolor": "white",
           "landcolor": "#E5ECF6",
           "showlakes": true,
           "showland": true,
           "subunitcolor": "white"
          },
          "hoverlabel": {
           "align": "left"
          },
          "hovermode": "closest",
          "mapbox": {
           "style": "light"
          },
          "paper_bgcolor": "white",
          "plot_bgcolor": "#E5ECF6",
          "polar": {
           "angularaxis": {
            "gridcolor": "white",
            "linecolor": "white",
            "ticks": ""
           },
           "bgcolor": "#E5ECF6",
           "radialaxis": {
            "gridcolor": "white",
            "linecolor": "white",
            "ticks": ""
           }
          },
          "scene": {
           "xaxis": {
            "backgroundcolor": "#E5ECF6",
            "gridcolor": "white",
            "gridwidth": 2,
            "linecolor": "white",
            "showbackground": true,
            "ticks": "",
            "zerolinecolor": "white"
           },
           "yaxis": {
            "backgroundcolor": "#E5ECF6",
            "gridcolor": "white",
            "gridwidth": 2,
            "linecolor": "white",
            "showbackground": true,
            "ticks": "",
            "zerolinecolor": "white"
           },
           "zaxis": {
            "backgroundcolor": "#E5ECF6",
            "gridcolor": "white",
            "gridwidth": 2,
            "linecolor": "white",
            "showbackground": true,
            "ticks": "",
            "zerolinecolor": "white"
           }
          },
          "shapedefaults": {
           "line": {
            "color": "#2a3f5f"
           }
          },
          "ternary": {
           "aaxis": {
            "gridcolor": "white",
            "linecolor": "white",
            "ticks": ""
           },
           "baxis": {
            "gridcolor": "white",
            "linecolor": "white",
            "ticks": ""
           },
           "bgcolor": "#E5ECF6",
           "caxis": {
            "gridcolor": "white",
            "linecolor": "white",
            "ticks": ""
           }
          },
          "title": {
           "x": 0.05
          },
          "xaxis": {
           "automargin": true,
           "gridcolor": "white",
           "linecolor": "white",
           "ticks": "",
           "title": {
            "standoff": 15
           },
           "zerolinecolor": "white",
           "zerolinewidth": 2
          },
          "yaxis": {
           "automargin": true,
           "gridcolor": "white",
           "linecolor": "white",
           "ticks": "",
           "title": {
            "standoff": 15
           },
           "zerolinecolor": "white",
           "zerolinewidth": 2
          }
         }
        },
        "title": {
         "text": "Monthly Cost Comparison"
        },
        "xaxis": {
         "rangeselector": {
          "buttons": [
           {
            "count": 1,
            "label": "1d",
            "step": "day",
            "stepmode": "backward"
           },
           {
            "count": 7,
            "label": "1w",
            "step": "day",
            "stepmode": "backward"
           },
           {
            "count": 1,
            "label": "1m",
            "step": "month",
            "stepmode": "backward"
           },
           {
            "step": "all"
           }
          ]
         },
         "rangeslider": {
          "visible": true
         },
         "title": {
          "text": "Datetime"
         },
         "type": "date"
        },
        "yaxis": {
         "title": {
          "text": "NOK"
         }
        }
       }
      }
     },
     "metadata": {},
     "output_type": "display_data"
    }
   ],
   "source": [
    "plot_cols_tar =[\n",
    "    ColumnParam(\"Tariff_Cost_Net_Of_Sun\", \"Cost Main Building\"),\n",
    "    ColumnParam(\"Tariff_Cost A\", \"Cost Building A\"),\n",
    "    ColumnParam(\"Tariff_Cost B\", \"Cost Building B\"),\n",
    "    ColumnParam(\"Tariff_Cost C\", \"Cost Building C\"),\n",
    "]\n",
    "\n",
    "\n",
    "plot_energy_usage(tariff_cost, plot_cols_tar,\n",
    "                    titel=\"Monthly Cost Comparison\",\n",
    "                    yaxis_title=\"NOK\",\n",
    "                    tozeroy=False,\n",
    "                    dark_mode=True,\n",
    "                    )"
   ]
  },
  {
   "cell_type": "markdown",
   "metadata": {},
   "source": [
    "6. Spot main vs predicted"
   ]
  },
  {
   "cell_type": "code",
   "execution_count": 292,
   "metadata": {},
   "outputs": [
    {
     "data": {
      "application/vnd.plotly.v1+json": {
       "config": {
        "plotlyServerURL": "https://plot.ly"
       },
       "data": [
        {
         "line": {
          "color": "rgba(255, 0, 0, 0.9)"
         },
         "mode": "lines",
         "name": "Cost Main Building",
         "type": "scatter",
         "x": [
          "2023-07-31T00:00:00",
          "2023-08-31T00:00:00",
          "2023-09-30T00:00:00",
          "2023-10-31T00:00:00",
          "2023-11-30T00:00:00",
          "2023-12-31T00:00:00",
          "2024-01-31T00:00:00",
          "2024-02-29T00:00:00",
          "2024-03-31T00:00:00",
          "2024-04-30T00:00:00",
          "2024-05-31T00:00:00",
          "2024-06-30T00:00:00",
          "2024-07-31T00:00:00",
          "2024-08-31T00:00:00",
          "2024-09-30T00:00:00"
         ],
         "y": [
          14440.434825802597,
          16151.807112352093,
          13286.212666133664,
          13246.694815855351,
          29467.58955047431,
          28625.56626034828,
          28100.935994046544,
          17026.160345322656,
          15922.030405002852,
          11838.137612868135,
          8700.005757539016,
          7998.655992435173,
          8930.578904806875,
          11555.91536934162,
          1294.5290557745418
         ]
        },
        {
         "line": {
          "color": "rgba(0, 0, 255, 0.9)"
         },
         "mode": "lines",
         "name": "Predicted Cost Main Building",
         "type": "scatter",
         "x": [
          "2023-07-31T00:00:00",
          "2023-08-31T00:00:00",
          "2023-09-30T00:00:00",
          "2023-10-31T00:00:00",
          "2023-11-30T00:00:00",
          "2023-12-31T00:00:00",
          "2024-01-31T00:00:00",
          "2024-02-29T00:00:00",
          "2024-03-31T00:00:00",
          "2024-04-30T00:00:00",
          "2024-05-31T00:00:00",
          "2024-06-30T00:00:00",
          "2024-07-31T00:00:00",
          "2024-08-31T00:00:00",
          "2024-09-30T00:00:00"
         ],
         "y": [
          19582.200481843825,
          20652.142527477343,
          14081.981969575296,
          11588.199076522023,
          24480.14519306907,
          22925.67737000275,
          23023.1593514036,
          15802.752970282687,
          17194.808342085817,
          14526.248655168505,
          13075.007261776787,
          12804.550665470444,
          11657.697714537493,
          13170.689419745539,
          1342.2799011022637
         ]
        }
       ],
       "layout": {
        "height": 600,
        "hovermode": "x unified",
        "showlegend": true,
        "template": {
         "data": {
          "bar": [
           {
            "error_x": {
             "color": "#2a3f5f"
            },
            "error_y": {
             "color": "#2a3f5f"
            },
            "marker": {
             "line": {
              "color": "#E5ECF6",
              "width": 0.5
             },
             "pattern": {
              "fillmode": "overlay",
              "size": 10,
              "solidity": 0.2
             }
            },
            "type": "bar"
           }
          ],
          "barpolar": [
           {
            "marker": {
             "line": {
              "color": "#E5ECF6",
              "width": 0.5
             },
             "pattern": {
              "fillmode": "overlay",
              "size": 10,
              "solidity": 0.2
             }
            },
            "type": "barpolar"
           }
          ],
          "carpet": [
           {
            "aaxis": {
             "endlinecolor": "#2a3f5f",
             "gridcolor": "white",
             "linecolor": "white",
             "minorgridcolor": "white",
             "startlinecolor": "#2a3f5f"
            },
            "baxis": {
             "endlinecolor": "#2a3f5f",
             "gridcolor": "white",
             "linecolor": "white",
             "minorgridcolor": "white",
             "startlinecolor": "#2a3f5f"
            },
            "type": "carpet"
           }
          ],
          "choropleth": [
           {
            "colorbar": {
             "outlinewidth": 0,
             "ticks": ""
            },
            "type": "choropleth"
           }
          ],
          "contour": [
           {
            "colorbar": {
             "outlinewidth": 0,
             "ticks": ""
            },
            "colorscale": [
             [
              0,
              "#0d0887"
             ],
             [
              0.1111111111111111,
              "#46039f"
             ],
             [
              0.2222222222222222,
              "#7201a8"
             ],
             [
              0.3333333333333333,
              "#9c179e"
             ],
             [
              0.4444444444444444,
              "#bd3786"
             ],
             [
              0.5555555555555556,
              "#d8576b"
             ],
             [
              0.6666666666666666,
              "#ed7953"
             ],
             [
              0.7777777777777778,
              "#fb9f3a"
             ],
             [
              0.8888888888888888,
              "#fdca26"
             ],
             [
              1,
              "#f0f921"
             ]
            ],
            "type": "contour"
           }
          ],
          "contourcarpet": [
           {
            "colorbar": {
             "outlinewidth": 0,
             "ticks": ""
            },
            "type": "contourcarpet"
           }
          ],
          "heatmap": [
           {
            "colorbar": {
             "outlinewidth": 0,
             "ticks": ""
            },
            "colorscale": [
             [
              0,
              "#0d0887"
             ],
             [
              0.1111111111111111,
              "#46039f"
             ],
             [
              0.2222222222222222,
              "#7201a8"
             ],
             [
              0.3333333333333333,
              "#9c179e"
             ],
             [
              0.4444444444444444,
              "#bd3786"
             ],
             [
              0.5555555555555556,
              "#d8576b"
             ],
             [
              0.6666666666666666,
              "#ed7953"
             ],
             [
              0.7777777777777778,
              "#fb9f3a"
             ],
             [
              0.8888888888888888,
              "#fdca26"
             ],
             [
              1,
              "#f0f921"
             ]
            ],
            "type": "heatmap"
           }
          ],
          "heatmapgl": [
           {
            "colorbar": {
             "outlinewidth": 0,
             "ticks": ""
            },
            "colorscale": [
             [
              0,
              "#0d0887"
             ],
             [
              0.1111111111111111,
              "#46039f"
             ],
             [
              0.2222222222222222,
              "#7201a8"
             ],
             [
              0.3333333333333333,
              "#9c179e"
             ],
             [
              0.4444444444444444,
              "#bd3786"
             ],
             [
              0.5555555555555556,
              "#d8576b"
             ],
             [
              0.6666666666666666,
              "#ed7953"
             ],
             [
              0.7777777777777778,
              "#fb9f3a"
             ],
             [
              0.8888888888888888,
              "#fdca26"
             ],
             [
              1,
              "#f0f921"
             ]
            ],
            "type": "heatmapgl"
           }
          ],
          "histogram": [
           {
            "marker": {
             "pattern": {
              "fillmode": "overlay",
              "size": 10,
              "solidity": 0.2
             }
            },
            "type": "histogram"
           }
          ],
          "histogram2d": [
           {
            "colorbar": {
             "outlinewidth": 0,
             "ticks": ""
            },
            "colorscale": [
             [
              0,
              "#0d0887"
             ],
             [
              0.1111111111111111,
              "#46039f"
             ],
             [
              0.2222222222222222,
              "#7201a8"
             ],
             [
              0.3333333333333333,
              "#9c179e"
             ],
             [
              0.4444444444444444,
              "#bd3786"
             ],
             [
              0.5555555555555556,
              "#d8576b"
             ],
             [
              0.6666666666666666,
              "#ed7953"
             ],
             [
              0.7777777777777778,
              "#fb9f3a"
             ],
             [
              0.8888888888888888,
              "#fdca26"
             ],
             [
              1,
              "#f0f921"
             ]
            ],
            "type": "histogram2d"
           }
          ],
          "histogram2dcontour": [
           {
            "colorbar": {
             "outlinewidth": 0,
             "ticks": ""
            },
            "colorscale": [
             [
              0,
              "#0d0887"
             ],
             [
              0.1111111111111111,
              "#46039f"
             ],
             [
              0.2222222222222222,
              "#7201a8"
             ],
             [
              0.3333333333333333,
              "#9c179e"
             ],
             [
              0.4444444444444444,
              "#bd3786"
             ],
             [
              0.5555555555555556,
              "#d8576b"
             ],
             [
              0.6666666666666666,
              "#ed7953"
             ],
             [
              0.7777777777777778,
              "#fb9f3a"
             ],
             [
              0.8888888888888888,
              "#fdca26"
             ],
             [
              1,
              "#f0f921"
             ]
            ],
            "type": "histogram2dcontour"
           }
          ],
          "mesh3d": [
           {
            "colorbar": {
             "outlinewidth": 0,
             "ticks": ""
            },
            "type": "mesh3d"
           }
          ],
          "parcoords": [
           {
            "line": {
             "colorbar": {
              "outlinewidth": 0,
              "ticks": ""
             }
            },
            "type": "parcoords"
           }
          ],
          "pie": [
           {
            "automargin": true,
            "type": "pie"
           }
          ],
          "scatter": [
           {
            "fillpattern": {
             "fillmode": "overlay",
             "size": 10,
             "solidity": 0.2
            },
            "type": "scatter"
           }
          ],
          "scatter3d": [
           {
            "line": {
             "colorbar": {
              "outlinewidth": 0,
              "ticks": ""
             }
            },
            "marker": {
             "colorbar": {
              "outlinewidth": 0,
              "ticks": ""
             }
            },
            "type": "scatter3d"
           }
          ],
          "scattercarpet": [
           {
            "marker": {
             "colorbar": {
              "outlinewidth": 0,
              "ticks": ""
             }
            },
            "type": "scattercarpet"
           }
          ],
          "scattergeo": [
           {
            "marker": {
             "colorbar": {
              "outlinewidth": 0,
              "ticks": ""
             }
            },
            "type": "scattergeo"
           }
          ],
          "scattergl": [
           {
            "marker": {
             "colorbar": {
              "outlinewidth": 0,
              "ticks": ""
             }
            },
            "type": "scattergl"
           }
          ],
          "scattermapbox": [
           {
            "marker": {
             "colorbar": {
              "outlinewidth": 0,
              "ticks": ""
             }
            },
            "type": "scattermapbox"
           }
          ],
          "scatterpolar": [
           {
            "marker": {
             "colorbar": {
              "outlinewidth": 0,
              "ticks": ""
             }
            },
            "type": "scatterpolar"
           }
          ],
          "scatterpolargl": [
           {
            "marker": {
             "colorbar": {
              "outlinewidth": 0,
              "ticks": ""
             }
            },
            "type": "scatterpolargl"
           }
          ],
          "scatterternary": [
           {
            "marker": {
             "colorbar": {
              "outlinewidth": 0,
              "ticks": ""
             }
            },
            "type": "scatterternary"
           }
          ],
          "surface": [
           {
            "colorbar": {
             "outlinewidth": 0,
             "ticks": ""
            },
            "colorscale": [
             [
              0,
              "#0d0887"
             ],
             [
              0.1111111111111111,
              "#46039f"
             ],
             [
              0.2222222222222222,
              "#7201a8"
             ],
             [
              0.3333333333333333,
              "#9c179e"
             ],
             [
              0.4444444444444444,
              "#bd3786"
             ],
             [
              0.5555555555555556,
              "#d8576b"
             ],
             [
              0.6666666666666666,
              "#ed7953"
             ],
             [
              0.7777777777777778,
              "#fb9f3a"
             ],
             [
              0.8888888888888888,
              "#fdca26"
             ],
             [
              1,
              "#f0f921"
             ]
            ],
            "type": "surface"
           }
          ],
          "table": [
           {
            "cells": {
             "fill": {
              "color": "#EBF0F8"
             },
             "line": {
              "color": "white"
             }
            },
            "header": {
             "fill": {
              "color": "#C8D4E3"
             },
             "line": {
              "color": "white"
             }
            },
            "type": "table"
           }
          ]
         },
         "layout": {
          "annotationdefaults": {
           "arrowcolor": "#2a3f5f",
           "arrowhead": 0,
           "arrowwidth": 1
          },
          "autotypenumbers": "strict",
          "coloraxis": {
           "colorbar": {
            "outlinewidth": 0,
            "ticks": ""
           }
          },
          "colorscale": {
           "diverging": [
            [
             0,
             "#8e0152"
            ],
            [
             0.1,
             "#c51b7d"
            ],
            [
             0.2,
             "#de77ae"
            ],
            [
             0.3,
             "#f1b6da"
            ],
            [
             0.4,
             "#fde0ef"
            ],
            [
             0.5,
             "#f7f7f7"
            ],
            [
             0.6,
             "#e6f5d0"
            ],
            [
             0.7,
             "#b8e186"
            ],
            [
             0.8,
             "#7fbc41"
            ],
            [
             0.9,
             "#4d9221"
            ],
            [
             1,
             "#276419"
            ]
           ],
           "sequential": [
            [
             0,
             "#0d0887"
            ],
            [
             0.1111111111111111,
             "#46039f"
            ],
            [
             0.2222222222222222,
             "#7201a8"
            ],
            [
             0.3333333333333333,
             "#9c179e"
            ],
            [
             0.4444444444444444,
             "#bd3786"
            ],
            [
             0.5555555555555556,
             "#d8576b"
            ],
            [
             0.6666666666666666,
             "#ed7953"
            ],
            [
             0.7777777777777778,
             "#fb9f3a"
            ],
            [
             0.8888888888888888,
             "#fdca26"
            ],
            [
             1,
             "#f0f921"
            ]
           ],
           "sequentialminus": [
            [
             0,
             "#0d0887"
            ],
            [
             0.1111111111111111,
             "#46039f"
            ],
            [
             0.2222222222222222,
             "#7201a8"
            ],
            [
             0.3333333333333333,
             "#9c179e"
            ],
            [
             0.4444444444444444,
             "#bd3786"
            ],
            [
             0.5555555555555556,
             "#d8576b"
            ],
            [
             0.6666666666666666,
             "#ed7953"
            ],
            [
             0.7777777777777778,
             "#fb9f3a"
            ],
            [
             0.8888888888888888,
             "#fdca26"
            ],
            [
             1,
             "#f0f921"
            ]
           ]
          },
          "colorway": [
           "#636efa",
           "#EF553B",
           "#00cc96",
           "#ab63fa",
           "#FFA15A",
           "#19d3f3",
           "#FF6692",
           "#B6E880",
           "#FF97FF",
           "#FECB52"
          ],
          "font": {
           "color": "#2a3f5f"
          },
          "geo": {
           "bgcolor": "white",
           "lakecolor": "white",
           "landcolor": "#E5ECF6",
           "showlakes": true,
           "showland": true,
           "subunitcolor": "white"
          },
          "hoverlabel": {
           "align": "left"
          },
          "hovermode": "closest",
          "mapbox": {
           "style": "light"
          },
          "paper_bgcolor": "white",
          "plot_bgcolor": "#E5ECF6",
          "polar": {
           "angularaxis": {
            "gridcolor": "white",
            "linecolor": "white",
            "ticks": ""
           },
           "bgcolor": "#E5ECF6",
           "radialaxis": {
            "gridcolor": "white",
            "linecolor": "white",
            "ticks": ""
           }
          },
          "scene": {
           "xaxis": {
            "backgroundcolor": "#E5ECF6",
            "gridcolor": "white",
            "gridwidth": 2,
            "linecolor": "white",
            "showbackground": true,
            "ticks": "",
            "zerolinecolor": "white"
           },
           "yaxis": {
            "backgroundcolor": "#E5ECF6",
            "gridcolor": "white",
            "gridwidth": 2,
            "linecolor": "white",
            "showbackground": true,
            "ticks": "",
            "zerolinecolor": "white"
           },
           "zaxis": {
            "backgroundcolor": "#E5ECF6",
            "gridcolor": "white",
            "gridwidth": 2,
            "linecolor": "white",
            "showbackground": true,
            "ticks": "",
            "zerolinecolor": "white"
           }
          },
          "shapedefaults": {
           "line": {
            "color": "#2a3f5f"
           }
          },
          "ternary": {
           "aaxis": {
            "gridcolor": "white",
            "linecolor": "white",
            "ticks": ""
           },
           "baxis": {
            "gridcolor": "white",
            "linecolor": "white",
            "ticks": ""
           },
           "bgcolor": "#E5ECF6",
           "caxis": {
            "gridcolor": "white",
            "linecolor": "white",
            "ticks": ""
           }
          },
          "title": {
           "x": 0.05
          },
          "xaxis": {
           "automargin": true,
           "gridcolor": "white",
           "linecolor": "white",
           "ticks": "",
           "title": {
            "standoff": 15
           },
           "zerolinecolor": "white",
           "zerolinewidth": 2
          },
          "yaxis": {
           "automargin": true,
           "gridcolor": "white",
           "linecolor": "white",
           "ticks": "",
           "title": {
            "standoff": 15
           },
           "zerolinecolor": "white",
           "zerolinewidth": 2
          }
         }
        },
        "title": {
         "text": "Monthly Cost Comparison"
        },
        "xaxis": {
         "rangeselector": {
          "buttons": [
           {
            "count": 1,
            "label": "1d",
            "step": "day",
            "stepmode": "backward"
           },
           {
            "count": 7,
            "label": "1w",
            "step": "day",
            "stepmode": "backward"
           },
           {
            "count": 1,
            "label": "1m",
            "step": "month",
            "stepmode": "backward"
           },
           {
            "step": "all"
           }
          ]
         },
         "rangeslider": {
          "visible": true
         },
         "title": {
          "text": "Datetime"
         },
         "type": "date"
        },
        "yaxis": {
         "title": {
          "text": "NOK"
         }
        }
       }
      }
     },
     "metadata": {},
     "output_type": "display_data"
    }
   ],
   "source": [
    "plot_cols_tar =[\n",
    "    ColumnParam(\"Cost_Net_Of_Sun\", \"Cost Main Building\"),\n",
    "    ColumnParam(\"Pred_Cost\", \"Predicted Cost Main Building\"),\n",
    "]\n",
    "main_df.set_index('timestamp',inplace=True)\n",
    "monthly_mainpred = main_df.groupby(pd.Grouper(freq='ME')).sum().reset_index()\n",
    "\n",
    "\n",
    "plot_energy_usage(monthly_mainpred, plot_cols_tar,\n",
    "                    titel=\"Monthly Cost Comparison\",\n",
    "                    yaxis_title=\"NOK\",\n",
    "                    tozeroy=False,\n",
    "                    dark_mode=True,\n",
    "                    )\n"
   ]
  },
  {
   "cell_type": "markdown",
   "metadata": {},
   "source": [
    "7. Tariff main vs predicted"
   ]
  },
  {
   "cell_type": "code",
   "execution_count": 293,
   "metadata": {},
   "outputs": [
    {
     "data": {
      "application/vnd.plotly.v1+json": {
       "config": {
        "plotlyServerURL": "https://plot.ly"
       },
       "data": [
        {
         "line": {
          "color": "rgba(255, 0, 0, 0.9)"
         },
         "mode": "lines",
         "name": "Cost Main Building",
         "type": "scatter",
         "x": [
          "2023-07-31T00:00:00",
          "2023-08-31T00:00:00",
          "2023-09-30T00:00:00",
          "2023-10-31T00:00:00",
          "2023-11-30T00:00:00",
          "2023-12-31T00:00:00",
          "2024-01-31T00:00:00",
          "2024-02-29T00:00:00",
          "2024-03-31T00:00:00",
          "2024-04-30T00:00:00",
          "2024-05-31T00:00:00",
          "2024-06-30T00:00:00",
          "2024-07-31T00:00:00",
          "2024-08-31T00:00:00",
          "2024-09-30T00:00:00"
         ],
         "y": [
          17661.656567092727,
          19836.997467969697,
          16352.923299440348,
          20606.62955664812,
          39500.169027998025,
          39645.644573365695,
          43639.58279374887,
          24793.46836258879,
          22510.931925252993,
          14484.844493511544,
          11849.806045415968,
          11619.388792056932,
          11999.50785004722,
          14558.1111378087,
          3651.655508563269
         ]
        },
        {
         "line": {
          "color": "rgba(0, 0, 255, 0.9)"
         },
         "mode": "lines",
         "name": "Cost Predicted Building",
         "type": "scatter",
         "x": [
          "2023-07-31T00:00:00",
          "2023-08-31T00:00:00",
          "2023-09-30T00:00:00",
          "2023-10-31T00:00:00",
          "2023-11-30T00:00:00",
          "2023-12-31T00:00:00",
          "2024-01-31T00:00:00",
          "2024-02-29T00:00:00",
          "2024-03-31T00:00:00",
          "2024-04-30T00:00:00",
          "2024-05-31T00:00:00",
          "2024-06-30T00:00:00",
          "2024-07-31T00:00:00",
          "2024-08-31T00:00:00",
          "2024-09-30T00:00:00"
         ],
         "y": [
          23048.05507393602,
          24421.19030585121,
          17045.54997205406,
          16304.593206348125,
          29716.621172722527,
          28341.69059850289,
          28937.049110973778,
          20807.19993879682,
          22141.299167190107,
          16982.62463192693,
          16253.980544865628,
          16291.391638743968,
          14911.999788264367,
          15962.495118732815,
          3278.362624157377
         ]
        }
       ],
       "layout": {
        "height": 600,
        "hovermode": "x unified",
        "showlegend": true,
        "template": {
         "data": {
          "bar": [
           {
            "error_x": {
             "color": "#2a3f5f"
            },
            "error_y": {
             "color": "#2a3f5f"
            },
            "marker": {
             "line": {
              "color": "#E5ECF6",
              "width": 0.5
             },
             "pattern": {
              "fillmode": "overlay",
              "size": 10,
              "solidity": 0.2
             }
            },
            "type": "bar"
           }
          ],
          "barpolar": [
           {
            "marker": {
             "line": {
              "color": "#E5ECF6",
              "width": 0.5
             },
             "pattern": {
              "fillmode": "overlay",
              "size": 10,
              "solidity": 0.2
             }
            },
            "type": "barpolar"
           }
          ],
          "carpet": [
           {
            "aaxis": {
             "endlinecolor": "#2a3f5f",
             "gridcolor": "white",
             "linecolor": "white",
             "minorgridcolor": "white",
             "startlinecolor": "#2a3f5f"
            },
            "baxis": {
             "endlinecolor": "#2a3f5f",
             "gridcolor": "white",
             "linecolor": "white",
             "minorgridcolor": "white",
             "startlinecolor": "#2a3f5f"
            },
            "type": "carpet"
           }
          ],
          "choropleth": [
           {
            "colorbar": {
             "outlinewidth": 0,
             "ticks": ""
            },
            "type": "choropleth"
           }
          ],
          "contour": [
           {
            "colorbar": {
             "outlinewidth": 0,
             "ticks": ""
            },
            "colorscale": [
             [
              0,
              "#0d0887"
             ],
             [
              0.1111111111111111,
              "#46039f"
             ],
             [
              0.2222222222222222,
              "#7201a8"
             ],
             [
              0.3333333333333333,
              "#9c179e"
             ],
             [
              0.4444444444444444,
              "#bd3786"
             ],
             [
              0.5555555555555556,
              "#d8576b"
             ],
             [
              0.6666666666666666,
              "#ed7953"
             ],
             [
              0.7777777777777778,
              "#fb9f3a"
             ],
             [
              0.8888888888888888,
              "#fdca26"
             ],
             [
              1,
              "#f0f921"
             ]
            ],
            "type": "contour"
           }
          ],
          "contourcarpet": [
           {
            "colorbar": {
             "outlinewidth": 0,
             "ticks": ""
            },
            "type": "contourcarpet"
           }
          ],
          "heatmap": [
           {
            "colorbar": {
             "outlinewidth": 0,
             "ticks": ""
            },
            "colorscale": [
             [
              0,
              "#0d0887"
             ],
             [
              0.1111111111111111,
              "#46039f"
             ],
             [
              0.2222222222222222,
              "#7201a8"
             ],
             [
              0.3333333333333333,
              "#9c179e"
             ],
             [
              0.4444444444444444,
              "#bd3786"
             ],
             [
              0.5555555555555556,
              "#d8576b"
             ],
             [
              0.6666666666666666,
              "#ed7953"
             ],
             [
              0.7777777777777778,
              "#fb9f3a"
             ],
             [
              0.8888888888888888,
              "#fdca26"
             ],
             [
              1,
              "#f0f921"
             ]
            ],
            "type": "heatmap"
           }
          ],
          "heatmapgl": [
           {
            "colorbar": {
             "outlinewidth": 0,
             "ticks": ""
            },
            "colorscale": [
             [
              0,
              "#0d0887"
             ],
             [
              0.1111111111111111,
              "#46039f"
             ],
             [
              0.2222222222222222,
              "#7201a8"
             ],
             [
              0.3333333333333333,
              "#9c179e"
             ],
             [
              0.4444444444444444,
              "#bd3786"
             ],
             [
              0.5555555555555556,
              "#d8576b"
             ],
             [
              0.6666666666666666,
              "#ed7953"
             ],
             [
              0.7777777777777778,
              "#fb9f3a"
             ],
             [
              0.8888888888888888,
              "#fdca26"
             ],
             [
              1,
              "#f0f921"
             ]
            ],
            "type": "heatmapgl"
           }
          ],
          "histogram": [
           {
            "marker": {
             "pattern": {
              "fillmode": "overlay",
              "size": 10,
              "solidity": 0.2
             }
            },
            "type": "histogram"
           }
          ],
          "histogram2d": [
           {
            "colorbar": {
             "outlinewidth": 0,
             "ticks": ""
            },
            "colorscale": [
             [
              0,
              "#0d0887"
             ],
             [
              0.1111111111111111,
              "#46039f"
             ],
             [
              0.2222222222222222,
              "#7201a8"
             ],
             [
              0.3333333333333333,
              "#9c179e"
             ],
             [
              0.4444444444444444,
              "#bd3786"
             ],
             [
              0.5555555555555556,
              "#d8576b"
             ],
             [
              0.6666666666666666,
              "#ed7953"
             ],
             [
              0.7777777777777778,
              "#fb9f3a"
             ],
             [
              0.8888888888888888,
              "#fdca26"
             ],
             [
              1,
              "#f0f921"
             ]
            ],
            "type": "histogram2d"
           }
          ],
          "histogram2dcontour": [
           {
            "colorbar": {
             "outlinewidth": 0,
             "ticks": ""
            },
            "colorscale": [
             [
              0,
              "#0d0887"
             ],
             [
              0.1111111111111111,
              "#46039f"
             ],
             [
              0.2222222222222222,
              "#7201a8"
             ],
             [
              0.3333333333333333,
              "#9c179e"
             ],
             [
              0.4444444444444444,
              "#bd3786"
             ],
             [
              0.5555555555555556,
              "#d8576b"
             ],
             [
              0.6666666666666666,
              "#ed7953"
             ],
             [
              0.7777777777777778,
              "#fb9f3a"
             ],
             [
              0.8888888888888888,
              "#fdca26"
             ],
             [
              1,
              "#f0f921"
             ]
            ],
            "type": "histogram2dcontour"
           }
          ],
          "mesh3d": [
           {
            "colorbar": {
             "outlinewidth": 0,
             "ticks": ""
            },
            "type": "mesh3d"
           }
          ],
          "parcoords": [
           {
            "line": {
             "colorbar": {
              "outlinewidth": 0,
              "ticks": ""
             }
            },
            "type": "parcoords"
           }
          ],
          "pie": [
           {
            "automargin": true,
            "type": "pie"
           }
          ],
          "scatter": [
           {
            "fillpattern": {
             "fillmode": "overlay",
             "size": 10,
             "solidity": 0.2
            },
            "type": "scatter"
           }
          ],
          "scatter3d": [
           {
            "line": {
             "colorbar": {
              "outlinewidth": 0,
              "ticks": ""
             }
            },
            "marker": {
             "colorbar": {
              "outlinewidth": 0,
              "ticks": ""
             }
            },
            "type": "scatter3d"
           }
          ],
          "scattercarpet": [
           {
            "marker": {
             "colorbar": {
              "outlinewidth": 0,
              "ticks": ""
             }
            },
            "type": "scattercarpet"
           }
          ],
          "scattergeo": [
           {
            "marker": {
             "colorbar": {
              "outlinewidth": 0,
              "ticks": ""
             }
            },
            "type": "scattergeo"
           }
          ],
          "scattergl": [
           {
            "marker": {
             "colorbar": {
              "outlinewidth": 0,
              "ticks": ""
             }
            },
            "type": "scattergl"
           }
          ],
          "scattermapbox": [
           {
            "marker": {
             "colorbar": {
              "outlinewidth": 0,
              "ticks": ""
             }
            },
            "type": "scattermapbox"
           }
          ],
          "scatterpolar": [
           {
            "marker": {
             "colorbar": {
              "outlinewidth": 0,
              "ticks": ""
             }
            },
            "type": "scatterpolar"
           }
          ],
          "scatterpolargl": [
           {
            "marker": {
             "colorbar": {
              "outlinewidth": 0,
              "ticks": ""
             }
            },
            "type": "scatterpolargl"
           }
          ],
          "scatterternary": [
           {
            "marker": {
             "colorbar": {
              "outlinewidth": 0,
              "ticks": ""
             }
            },
            "type": "scatterternary"
           }
          ],
          "surface": [
           {
            "colorbar": {
             "outlinewidth": 0,
             "ticks": ""
            },
            "colorscale": [
             [
              0,
              "#0d0887"
             ],
             [
              0.1111111111111111,
              "#46039f"
             ],
             [
              0.2222222222222222,
              "#7201a8"
             ],
             [
              0.3333333333333333,
              "#9c179e"
             ],
             [
              0.4444444444444444,
              "#bd3786"
             ],
             [
              0.5555555555555556,
              "#d8576b"
             ],
             [
              0.6666666666666666,
              "#ed7953"
             ],
             [
              0.7777777777777778,
              "#fb9f3a"
             ],
             [
              0.8888888888888888,
              "#fdca26"
             ],
             [
              1,
              "#f0f921"
             ]
            ],
            "type": "surface"
           }
          ],
          "table": [
           {
            "cells": {
             "fill": {
              "color": "#EBF0F8"
             },
             "line": {
              "color": "white"
             }
            },
            "header": {
             "fill": {
              "color": "#C8D4E3"
             },
             "line": {
              "color": "white"
             }
            },
            "type": "table"
           }
          ]
         },
         "layout": {
          "annotationdefaults": {
           "arrowcolor": "#2a3f5f",
           "arrowhead": 0,
           "arrowwidth": 1
          },
          "autotypenumbers": "strict",
          "coloraxis": {
           "colorbar": {
            "outlinewidth": 0,
            "ticks": ""
           }
          },
          "colorscale": {
           "diverging": [
            [
             0,
             "#8e0152"
            ],
            [
             0.1,
             "#c51b7d"
            ],
            [
             0.2,
             "#de77ae"
            ],
            [
             0.3,
             "#f1b6da"
            ],
            [
             0.4,
             "#fde0ef"
            ],
            [
             0.5,
             "#f7f7f7"
            ],
            [
             0.6,
             "#e6f5d0"
            ],
            [
             0.7,
             "#b8e186"
            ],
            [
             0.8,
             "#7fbc41"
            ],
            [
             0.9,
             "#4d9221"
            ],
            [
             1,
             "#276419"
            ]
           ],
           "sequential": [
            [
             0,
             "#0d0887"
            ],
            [
             0.1111111111111111,
             "#46039f"
            ],
            [
             0.2222222222222222,
             "#7201a8"
            ],
            [
             0.3333333333333333,
             "#9c179e"
            ],
            [
             0.4444444444444444,
             "#bd3786"
            ],
            [
             0.5555555555555556,
             "#d8576b"
            ],
            [
             0.6666666666666666,
             "#ed7953"
            ],
            [
             0.7777777777777778,
             "#fb9f3a"
            ],
            [
             0.8888888888888888,
             "#fdca26"
            ],
            [
             1,
             "#f0f921"
            ]
           ],
           "sequentialminus": [
            [
             0,
             "#0d0887"
            ],
            [
             0.1111111111111111,
             "#46039f"
            ],
            [
             0.2222222222222222,
             "#7201a8"
            ],
            [
             0.3333333333333333,
             "#9c179e"
            ],
            [
             0.4444444444444444,
             "#bd3786"
            ],
            [
             0.5555555555555556,
             "#d8576b"
            ],
            [
             0.6666666666666666,
             "#ed7953"
            ],
            [
             0.7777777777777778,
             "#fb9f3a"
            ],
            [
             0.8888888888888888,
             "#fdca26"
            ],
            [
             1,
             "#f0f921"
            ]
           ]
          },
          "colorway": [
           "#636efa",
           "#EF553B",
           "#00cc96",
           "#ab63fa",
           "#FFA15A",
           "#19d3f3",
           "#FF6692",
           "#B6E880",
           "#FF97FF",
           "#FECB52"
          ],
          "font": {
           "color": "#2a3f5f"
          },
          "geo": {
           "bgcolor": "white",
           "lakecolor": "white",
           "landcolor": "#E5ECF6",
           "showlakes": true,
           "showland": true,
           "subunitcolor": "white"
          },
          "hoverlabel": {
           "align": "left"
          },
          "hovermode": "closest",
          "mapbox": {
           "style": "light"
          },
          "paper_bgcolor": "white",
          "plot_bgcolor": "#E5ECF6",
          "polar": {
           "angularaxis": {
            "gridcolor": "white",
            "linecolor": "white",
            "ticks": ""
           },
           "bgcolor": "#E5ECF6",
           "radialaxis": {
            "gridcolor": "white",
            "linecolor": "white",
            "ticks": ""
           }
          },
          "scene": {
           "xaxis": {
            "backgroundcolor": "#E5ECF6",
            "gridcolor": "white",
            "gridwidth": 2,
            "linecolor": "white",
            "showbackground": true,
            "ticks": "",
            "zerolinecolor": "white"
           },
           "yaxis": {
            "backgroundcolor": "#E5ECF6",
            "gridcolor": "white",
            "gridwidth": 2,
            "linecolor": "white",
            "showbackground": true,
            "ticks": "",
            "zerolinecolor": "white"
           },
           "zaxis": {
            "backgroundcolor": "#E5ECF6",
            "gridcolor": "white",
            "gridwidth": 2,
            "linecolor": "white",
            "showbackground": true,
            "ticks": "",
            "zerolinecolor": "white"
           }
          },
          "shapedefaults": {
           "line": {
            "color": "#2a3f5f"
           }
          },
          "ternary": {
           "aaxis": {
            "gridcolor": "white",
            "linecolor": "white",
            "ticks": ""
           },
           "baxis": {
            "gridcolor": "white",
            "linecolor": "white",
            "ticks": ""
           },
           "bgcolor": "#E5ECF6",
           "caxis": {
            "gridcolor": "white",
            "linecolor": "white",
            "ticks": ""
           }
          },
          "title": {
           "x": 0.05
          },
          "xaxis": {
           "automargin": true,
           "gridcolor": "white",
           "linecolor": "white",
           "ticks": "",
           "title": {
            "standoff": 15
           },
           "zerolinecolor": "white",
           "zerolinewidth": 2
          },
          "yaxis": {
           "automargin": true,
           "gridcolor": "white",
           "linecolor": "white",
           "ticks": "",
           "title": {
            "standoff": 15
           },
           "zerolinecolor": "white",
           "zerolinewidth": 2
          }
         }
        },
        "title": {
         "text": "Monthly Cost Comparison"
        },
        "xaxis": {
         "rangeselector": {
          "buttons": [
           {
            "count": 1,
            "label": "1d",
            "step": "day",
            "stepmode": "backward"
           },
           {
            "count": 7,
            "label": "1w",
            "step": "day",
            "stepmode": "backward"
           },
           {
            "count": 1,
            "label": "1m",
            "step": "month",
            "stepmode": "backward"
           },
           {
            "step": "all"
           }
          ]
         },
         "rangeslider": {
          "visible": true
         },
         "title": {
          "text": "Datetime"
         },
         "type": "date"
        },
        "yaxis": {
         "title": {
          "text": "NOK"
         }
        }
       }
      }
     },
     "metadata": {},
     "output_type": "display_data"
    }
   ],
   "source": [
    "plot_cols_tarny =[\n",
    "    ColumnParam(\"Tariff_Cost_Net_Of_Sun\", \"Cost Main Building\"),\n",
    "    ColumnParam(\"Prediction\", \"Cost Predicted Building\"),\n",
    "]\n",
    "\n",
    "tariff_cost=tariff_cost.reset_index()\n",
    "\n",
    "plot_energy_usage(tariff_cost, plot_cols_tarny,\n",
    "                    titel=\"Monthly Cost Comparison\",\n",
    "                    yaxis_title=\"NOK\",\n",
    "                    tozeroy=False,\n",
    "                    dark_mode=True,\n",
    "                    )"
   ]
  },
  {
   "cell_type": "markdown",
   "metadata": {},
   "source": [
    "8. Main without sun panels vs with sun panels tariff"
   ]
  },
  {
   "cell_type": "code",
   "execution_count": 294,
   "metadata": {},
   "outputs": [
    {
     "data": {
      "application/vnd.plotly.v1+json": {
       "config": {
        "plotlyServerURL": "https://plot.ly"
       },
       "data": [
        {
         "line": {
          "color": "rgba(255, 0, 0, 0.9)"
         },
         "mode": "lines",
         "name": "Cost Main Building",
         "type": "scatter",
         "x": [
          "2023-07-31T00:00:00",
          "2023-08-31T00:00:00",
          "2023-09-30T00:00:00",
          "2023-10-31T00:00:00",
          "2023-11-30T00:00:00",
          "2023-12-31T00:00:00",
          "2024-01-31T00:00:00",
          "2024-02-29T00:00:00",
          "2024-03-31T00:00:00",
          "2024-04-30T00:00:00",
          "2024-05-31T00:00:00",
          "2024-06-30T00:00:00",
          "2024-07-31T00:00:00",
          "2024-08-31T00:00:00",
          "2024-09-30T00:00:00"
         ],
         "y": [
          17661.656567092727,
          19836.997467969697,
          16352.923299440348,
          20606.62955664812,
          39500.169027998025,
          39645.644573365695,
          43639.58279374887,
          24793.46836258879,
          22510.931925252993,
          14484.844493511544,
          11849.806045415968,
          11619.388792056932,
          11999.50785004722,
          14558.1111378087,
          3651.655508563269
         ]
        },
        {
         "line": {
          "color": "rgba(0, 0, 255, 0.9)"
         },
         "mode": "lines",
         "name": "Cost Building Without Sun Panels",
         "type": "scatter",
         "x": [
          "2023-07-31T00:00:00",
          "2023-08-31T00:00:00",
          "2023-09-30T00:00:00",
          "2023-10-31T00:00:00",
          "2023-11-30T00:00:00",
          "2023-12-31T00:00:00",
          "2024-01-31T00:00:00",
          "2024-02-29T00:00:00",
          "2024-03-31T00:00:00",
          "2024-04-30T00:00:00",
          "2024-05-31T00:00:00",
          "2024-06-30T00:00:00",
          "2024-07-31T00:00:00",
          "2024-08-31T00:00:00",
          "2024-09-30T00:00:00"
         ],
         "y": [
          24785.23787883343,
          26266.37318934978,
          20238.830164433963,
          21720.33334921502,
          40358.61976484405,
          39899.10184472695,
          43840.812515796075,
          25401.868312806826,
          25266.713392826947,
          18948.96150534979,
          16807.651946995902,
          17238.373373072594,
          16200.785210926595,
          18476.97581680226,
          4082.4678403502567
         ]
        }
       ],
       "layout": {
        "height": 600,
        "hovermode": "x unified",
        "showlegend": true,
        "template": {
         "data": {
          "bar": [
           {
            "error_x": {
             "color": "#2a3f5f"
            },
            "error_y": {
             "color": "#2a3f5f"
            },
            "marker": {
             "line": {
              "color": "#E5ECF6",
              "width": 0.5
             },
             "pattern": {
              "fillmode": "overlay",
              "size": 10,
              "solidity": 0.2
             }
            },
            "type": "bar"
           }
          ],
          "barpolar": [
           {
            "marker": {
             "line": {
              "color": "#E5ECF6",
              "width": 0.5
             },
             "pattern": {
              "fillmode": "overlay",
              "size": 10,
              "solidity": 0.2
             }
            },
            "type": "barpolar"
           }
          ],
          "carpet": [
           {
            "aaxis": {
             "endlinecolor": "#2a3f5f",
             "gridcolor": "white",
             "linecolor": "white",
             "minorgridcolor": "white",
             "startlinecolor": "#2a3f5f"
            },
            "baxis": {
             "endlinecolor": "#2a3f5f",
             "gridcolor": "white",
             "linecolor": "white",
             "minorgridcolor": "white",
             "startlinecolor": "#2a3f5f"
            },
            "type": "carpet"
           }
          ],
          "choropleth": [
           {
            "colorbar": {
             "outlinewidth": 0,
             "ticks": ""
            },
            "type": "choropleth"
           }
          ],
          "contour": [
           {
            "colorbar": {
             "outlinewidth": 0,
             "ticks": ""
            },
            "colorscale": [
             [
              0,
              "#0d0887"
             ],
             [
              0.1111111111111111,
              "#46039f"
             ],
             [
              0.2222222222222222,
              "#7201a8"
             ],
             [
              0.3333333333333333,
              "#9c179e"
             ],
             [
              0.4444444444444444,
              "#bd3786"
             ],
             [
              0.5555555555555556,
              "#d8576b"
             ],
             [
              0.6666666666666666,
              "#ed7953"
             ],
             [
              0.7777777777777778,
              "#fb9f3a"
             ],
             [
              0.8888888888888888,
              "#fdca26"
             ],
             [
              1,
              "#f0f921"
             ]
            ],
            "type": "contour"
           }
          ],
          "contourcarpet": [
           {
            "colorbar": {
             "outlinewidth": 0,
             "ticks": ""
            },
            "type": "contourcarpet"
           }
          ],
          "heatmap": [
           {
            "colorbar": {
             "outlinewidth": 0,
             "ticks": ""
            },
            "colorscale": [
             [
              0,
              "#0d0887"
             ],
             [
              0.1111111111111111,
              "#46039f"
             ],
             [
              0.2222222222222222,
              "#7201a8"
             ],
             [
              0.3333333333333333,
              "#9c179e"
             ],
             [
              0.4444444444444444,
              "#bd3786"
             ],
             [
              0.5555555555555556,
              "#d8576b"
             ],
             [
              0.6666666666666666,
              "#ed7953"
             ],
             [
              0.7777777777777778,
              "#fb9f3a"
             ],
             [
              0.8888888888888888,
              "#fdca26"
             ],
             [
              1,
              "#f0f921"
             ]
            ],
            "type": "heatmap"
           }
          ],
          "heatmapgl": [
           {
            "colorbar": {
             "outlinewidth": 0,
             "ticks": ""
            },
            "colorscale": [
             [
              0,
              "#0d0887"
             ],
             [
              0.1111111111111111,
              "#46039f"
             ],
             [
              0.2222222222222222,
              "#7201a8"
             ],
             [
              0.3333333333333333,
              "#9c179e"
             ],
             [
              0.4444444444444444,
              "#bd3786"
             ],
             [
              0.5555555555555556,
              "#d8576b"
             ],
             [
              0.6666666666666666,
              "#ed7953"
             ],
             [
              0.7777777777777778,
              "#fb9f3a"
             ],
             [
              0.8888888888888888,
              "#fdca26"
             ],
             [
              1,
              "#f0f921"
             ]
            ],
            "type": "heatmapgl"
           }
          ],
          "histogram": [
           {
            "marker": {
             "pattern": {
              "fillmode": "overlay",
              "size": 10,
              "solidity": 0.2
             }
            },
            "type": "histogram"
           }
          ],
          "histogram2d": [
           {
            "colorbar": {
             "outlinewidth": 0,
             "ticks": ""
            },
            "colorscale": [
             [
              0,
              "#0d0887"
             ],
             [
              0.1111111111111111,
              "#46039f"
             ],
             [
              0.2222222222222222,
              "#7201a8"
             ],
             [
              0.3333333333333333,
              "#9c179e"
             ],
             [
              0.4444444444444444,
              "#bd3786"
             ],
             [
              0.5555555555555556,
              "#d8576b"
             ],
             [
              0.6666666666666666,
              "#ed7953"
             ],
             [
              0.7777777777777778,
              "#fb9f3a"
             ],
             [
              0.8888888888888888,
              "#fdca26"
             ],
             [
              1,
              "#f0f921"
             ]
            ],
            "type": "histogram2d"
           }
          ],
          "histogram2dcontour": [
           {
            "colorbar": {
             "outlinewidth": 0,
             "ticks": ""
            },
            "colorscale": [
             [
              0,
              "#0d0887"
             ],
             [
              0.1111111111111111,
              "#46039f"
             ],
             [
              0.2222222222222222,
              "#7201a8"
             ],
             [
              0.3333333333333333,
              "#9c179e"
             ],
             [
              0.4444444444444444,
              "#bd3786"
             ],
             [
              0.5555555555555556,
              "#d8576b"
             ],
             [
              0.6666666666666666,
              "#ed7953"
             ],
             [
              0.7777777777777778,
              "#fb9f3a"
             ],
             [
              0.8888888888888888,
              "#fdca26"
             ],
             [
              1,
              "#f0f921"
             ]
            ],
            "type": "histogram2dcontour"
           }
          ],
          "mesh3d": [
           {
            "colorbar": {
             "outlinewidth": 0,
             "ticks": ""
            },
            "type": "mesh3d"
           }
          ],
          "parcoords": [
           {
            "line": {
             "colorbar": {
              "outlinewidth": 0,
              "ticks": ""
             }
            },
            "type": "parcoords"
           }
          ],
          "pie": [
           {
            "automargin": true,
            "type": "pie"
           }
          ],
          "scatter": [
           {
            "fillpattern": {
             "fillmode": "overlay",
             "size": 10,
             "solidity": 0.2
            },
            "type": "scatter"
           }
          ],
          "scatter3d": [
           {
            "line": {
             "colorbar": {
              "outlinewidth": 0,
              "ticks": ""
             }
            },
            "marker": {
             "colorbar": {
              "outlinewidth": 0,
              "ticks": ""
             }
            },
            "type": "scatter3d"
           }
          ],
          "scattercarpet": [
           {
            "marker": {
             "colorbar": {
              "outlinewidth": 0,
              "ticks": ""
             }
            },
            "type": "scattercarpet"
           }
          ],
          "scattergeo": [
           {
            "marker": {
             "colorbar": {
              "outlinewidth": 0,
              "ticks": ""
             }
            },
            "type": "scattergeo"
           }
          ],
          "scattergl": [
           {
            "marker": {
             "colorbar": {
              "outlinewidth": 0,
              "ticks": ""
             }
            },
            "type": "scattergl"
           }
          ],
          "scattermapbox": [
           {
            "marker": {
             "colorbar": {
              "outlinewidth": 0,
              "ticks": ""
             }
            },
            "type": "scattermapbox"
           }
          ],
          "scatterpolar": [
           {
            "marker": {
             "colorbar": {
              "outlinewidth": 0,
              "ticks": ""
             }
            },
            "type": "scatterpolar"
           }
          ],
          "scatterpolargl": [
           {
            "marker": {
             "colorbar": {
              "outlinewidth": 0,
              "ticks": ""
             }
            },
            "type": "scatterpolargl"
           }
          ],
          "scatterternary": [
           {
            "marker": {
             "colorbar": {
              "outlinewidth": 0,
              "ticks": ""
             }
            },
            "type": "scatterternary"
           }
          ],
          "surface": [
           {
            "colorbar": {
             "outlinewidth": 0,
             "ticks": ""
            },
            "colorscale": [
             [
              0,
              "#0d0887"
             ],
             [
              0.1111111111111111,
              "#46039f"
             ],
             [
              0.2222222222222222,
              "#7201a8"
             ],
             [
              0.3333333333333333,
              "#9c179e"
             ],
             [
              0.4444444444444444,
              "#bd3786"
             ],
             [
              0.5555555555555556,
              "#d8576b"
             ],
             [
              0.6666666666666666,
              "#ed7953"
             ],
             [
              0.7777777777777778,
              "#fb9f3a"
             ],
             [
              0.8888888888888888,
              "#fdca26"
             ],
             [
              1,
              "#f0f921"
             ]
            ],
            "type": "surface"
           }
          ],
          "table": [
           {
            "cells": {
             "fill": {
              "color": "#EBF0F8"
             },
             "line": {
              "color": "white"
             }
            },
            "header": {
             "fill": {
              "color": "#C8D4E3"
             },
             "line": {
              "color": "white"
             }
            },
            "type": "table"
           }
          ]
         },
         "layout": {
          "annotationdefaults": {
           "arrowcolor": "#2a3f5f",
           "arrowhead": 0,
           "arrowwidth": 1
          },
          "autotypenumbers": "strict",
          "coloraxis": {
           "colorbar": {
            "outlinewidth": 0,
            "ticks": ""
           }
          },
          "colorscale": {
           "diverging": [
            [
             0,
             "#8e0152"
            ],
            [
             0.1,
             "#c51b7d"
            ],
            [
             0.2,
             "#de77ae"
            ],
            [
             0.3,
             "#f1b6da"
            ],
            [
             0.4,
             "#fde0ef"
            ],
            [
             0.5,
             "#f7f7f7"
            ],
            [
             0.6,
             "#e6f5d0"
            ],
            [
             0.7,
             "#b8e186"
            ],
            [
             0.8,
             "#7fbc41"
            ],
            [
             0.9,
             "#4d9221"
            ],
            [
             1,
             "#276419"
            ]
           ],
           "sequential": [
            [
             0,
             "#0d0887"
            ],
            [
             0.1111111111111111,
             "#46039f"
            ],
            [
             0.2222222222222222,
             "#7201a8"
            ],
            [
             0.3333333333333333,
             "#9c179e"
            ],
            [
             0.4444444444444444,
             "#bd3786"
            ],
            [
             0.5555555555555556,
             "#d8576b"
            ],
            [
             0.6666666666666666,
             "#ed7953"
            ],
            [
             0.7777777777777778,
             "#fb9f3a"
            ],
            [
             0.8888888888888888,
             "#fdca26"
            ],
            [
             1,
             "#f0f921"
            ]
           ],
           "sequentialminus": [
            [
             0,
             "#0d0887"
            ],
            [
             0.1111111111111111,
             "#46039f"
            ],
            [
             0.2222222222222222,
             "#7201a8"
            ],
            [
             0.3333333333333333,
             "#9c179e"
            ],
            [
             0.4444444444444444,
             "#bd3786"
            ],
            [
             0.5555555555555556,
             "#d8576b"
            ],
            [
             0.6666666666666666,
             "#ed7953"
            ],
            [
             0.7777777777777778,
             "#fb9f3a"
            ],
            [
             0.8888888888888888,
             "#fdca26"
            ],
            [
             1,
             "#f0f921"
            ]
           ]
          },
          "colorway": [
           "#636efa",
           "#EF553B",
           "#00cc96",
           "#ab63fa",
           "#FFA15A",
           "#19d3f3",
           "#FF6692",
           "#B6E880",
           "#FF97FF",
           "#FECB52"
          ],
          "font": {
           "color": "#2a3f5f"
          },
          "geo": {
           "bgcolor": "white",
           "lakecolor": "white",
           "landcolor": "#E5ECF6",
           "showlakes": true,
           "showland": true,
           "subunitcolor": "white"
          },
          "hoverlabel": {
           "align": "left"
          },
          "hovermode": "closest",
          "mapbox": {
           "style": "light"
          },
          "paper_bgcolor": "white",
          "plot_bgcolor": "#E5ECF6",
          "polar": {
           "angularaxis": {
            "gridcolor": "white",
            "linecolor": "white",
            "ticks": ""
           },
           "bgcolor": "#E5ECF6",
           "radialaxis": {
            "gridcolor": "white",
            "linecolor": "white",
            "ticks": ""
           }
          },
          "scene": {
           "xaxis": {
            "backgroundcolor": "#E5ECF6",
            "gridcolor": "white",
            "gridwidth": 2,
            "linecolor": "white",
            "showbackground": true,
            "ticks": "",
            "zerolinecolor": "white"
           },
           "yaxis": {
            "backgroundcolor": "#E5ECF6",
            "gridcolor": "white",
            "gridwidth": 2,
            "linecolor": "white",
            "showbackground": true,
            "ticks": "",
            "zerolinecolor": "white"
           },
           "zaxis": {
            "backgroundcolor": "#E5ECF6",
            "gridcolor": "white",
            "gridwidth": 2,
            "linecolor": "white",
            "showbackground": true,
            "ticks": "",
            "zerolinecolor": "white"
           }
          },
          "shapedefaults": {
           "line": {
            "color": "#2a3f5f"
           }
          },
          "ternary": {
           "aaxis": {
            "gridcolor": "white",
            "linecolor": "white",
            "ticks": ""
           },
           "baxis": {
            "gridcolor": "white",
            "linecolor": "white",
            "ticks": ""
           },
           "bgcolor": "#E5ECF6",
           "caxis": {
            "gridcolor": "white",
            "linecolor": "white",
            "ticks": ""
           }
          },
          "title": {
           "x": 0.05
          },
          "xaxis": {
           "automargin": true,
           "gridcolor": "white",
           "linecolor": "white",
           "ticks": "",
           "title": {
            "standoff": 15
           },
           "zerolinecolor": "white",
           "zerolinewidth": 2
          },
          "yaxis": {
           "automargin": true,
           "gridcolor": "white",
           "linecolor": "white",
           "ticks": "",
           "title": {
            "standoff": 15
           },
           "zerolinecolor": "white",
           "zerolinewidth": 2
          }
         }
        },
        "title": {
         "text": "Monthly Cost Comparison Tariff"
        },
        "xaxis": {
         "rangeselector": {
          "buttons": [
           {
            "count": 1,
            "label": "1d",
            "step": "day",
            "stepmode": "backward"
           },
           {
            "count": 7,
            "label": "1w",
            "step": "day",
            "stepmode": "backward"
           },
           {
            "count": 1,
            "label": "1m",
            "step": "month",
            "stepmode": "backward"
           },
           {
            "step": "all"
           }
          ]
         },
         "rangeslider": {
          "visible": true
         },
         "title": {
          "text": "Datetime"
         },
         "type": "date"
        },
        "yaxis": {
         "title": {
          "text": "NOK"
         }
        }
       }
      }
     },
     "metadata": {},
     "output_type": "display_data"
    }
   ],
   "source": [
    "plot_cols_tarny =[\n",
    "    ColumnParam(\"Tariff_Cost_Net_Of_Sun\", \"Cost Main Building\"),\n",
    "    ColumnParam(\"Tariff_Gross\", \"Cost Building Without Sun Panels\"),\n",
    "]\n",
    "\n",
    "tariff_cost=tariff_cost.reset_index()\n",
    "\n",
    "plot_energy_usage(tariff_cost, plot_cols_tarny,\n",
    "                    titel=\"Monthly Cost Comparison Tariff\",\n",
    "                    yaxis_title=\"NOK\",\n",
    "                    tozeroy=False,\n",
    "                    dark_mode=True,\n",
    "                    )"
   ]
  },
  {
   "cell_type": "code",
   "execution_count": 295,
   "metadata": {},
   "outputs": [
    {
     "name": "stdout",
     "output_type": "stream",
     "text": [
      "Cost Tariff\n",
      "Cost with all upgrades= 312711.31740150886\n",
      "Cost without all the upgrades= 359533.10610633035\n",
      "Cost Tariff Prediction= 294444.10289306665\n"
     ]
    }
   ],
   "source": [
    "sumoppgradert=tariff_cost['Tariff_Cost_Net_Of_Sun'].sum()\n",
    "sumuten=tariff_cost['Tariff_Gross'].sum()\n",
    "costtariiffpred=tariff_cost['Prediction'].sum()\n",
    "\n",
    "print(\"Cost Tariff\")\n",
    "print(\"Cost with all upgrades= \" +str(sumoppgradert))\n",
    "print(\"Cost without all the upgrades= \" + str(sumuten))\n",
    "print(\"Cost Tariff Prediction= \" + str(costtariiffpred))\n",
    "\n"
   ]
  },
  {
   "cell_type": "markdown",
   "metadata": {},
   "source": [
    "9. Main building with and without sun panels spot"
   ]
  },
  {
   "cell_type": "code",
   "execution_count": 296,
   "metadata": {},
   "outputs": [
    {
     "data": {
      "application/vnd.plotly.v1+json": {
       "config": {
        "plotlyServerURL": "https://plot.ly"
       },
       "data": [
        {
         "line": {
          "color": "rgba(255, 0, 0, 0.9)"
         },
         "mode": "lines",
         "name": "Cost Main Building",
         "type": "scatter",
         "x": [
          "2023-07-31T00:00:00",
          "2023-08-31T00:00:00",
          "2023-09-30T00:00:00",
          "2023-10-31T00:00:00",
          "2023-11-30T00:00:00",
          "2023-12-31T00:00:00",
          "2024-01-31T00:00:00",
          "2024-02-29T00:00:00",
          "2024-03-31T00:00:00",
          "2024-04-30T00:00:00",
          "2024-05-31T00:00:00",
          "2024-06-30T00:00:00",
          "2024-07-31T00:00:00",
          "2024-08-31T00:00:00",
          "2024-09-30T00:00:00"
         ],
         "y": [
          14440.434825802597,
          16151.807112352093,
          13286.212666133664,
          13246.694815855351,
          29467.58955047431,
          28625.56626034828,
          28100.935994046544,
          17026.160345322656,
          15922.030405002852,
          11838.137612868135,
          8700.005757539016,
          7998.655992435173,
          8930.578904806875,
          11555.91536934162,
          1294.5290557745418
         ]
        },
        {
         "line": {
          "color": "rgba(0, 0, 255, 0.9)"
         },
         "mode": "lines",
         "name": "Cost Building Without Sun Panels",
         "type": "scatter",
         "x": [
          "2023-07-31T00:00:00",
          "2023-08-31T00:00:00",
          "2023-09-30T00:00:00",
          "2023-10-31T00:00:00",
          "2023-11-30T00:00:00",
          "2023-12-31T00:00:00",
          "2024-01-31T00:00:00",
          "2024-02-29T00:00:00",
          "2024-03-31T00:00:00",
          "2024-04-30T00:00:00",
          "2024-05-31T00:00:00",
          "2024-06-30T00:00:00",
          "2024-07-31T00:00:00",
          "2024-08-31T00:00:00",
          "2024-09-30T00:00:00"
         ],
         "y": [
          20862.051955845825,
          21973.06984074514,
          16460.535997755418,
          14293.452429986219,
          30284.86024588639,
          28858.90096075095,
          28292.58334837721,
          17571.68368586561,
          17638.43945621028,
          15835.496399138008,
          12532.751303512185,
          13014.105567244547,
          12200.369803049512,
          14510.29375682944,
          1466.9757964389514
         ]
        }
       ],
       "layout": {
        "height": 600,
        "hovermode": "x unified",
        "showlegend": true,
        "template": {
         "data": {
          "bar": [
           {
            "error_x": {
             "color": "#2a3f5f"
            },
            "error_y": {
             "color": "#2a3f5f"
            },
            "marker": {
             "line": {
              "color": "#E5ECF6",
              "width": 0.5
             },
             "pattern": {
              "fillmode": "overlay",
              "size": 10,
              "solidity": 0.2
             }
            },
            "type": "bar"
           }
          ],
          "barpolar": [
           {
            "marker": {
             "line": {
              "color": "#E5ECF6",
              "width": 0.5
             },
             "pattern": {
              "fillmode": "overlay",
              "size": 10,
              "solidity": 0.2
             }
            },
            "type": "barpolar"
           }
          ],
          "carpet": [
           {
            "aaxis": {
             "endlinecolor": "#2a3f5f",
             "gridcolor": "white",
             "linecolor": "white",
             "minorgridcolor": "white",
             "startlinecolor": "#2a3f5f"
            },
            "baxis": {
             "endlinecolor": "#2a3f5f",
             "gridcolor": "white",
             "linecolor": "white",
             "minorgridcolor": "white",
             "startlinecolor": "#2a3f5f"
            },
            "type": "carpet"
           }
          ],
          "choropleth": [
           {
            "colorbar": {
             "outlinewidth": 0,
             "ticks": ""
            },
            "type": "choropleth"
           }
          ],
          "contour": [
           {
            "colorbar": {
             "outlinewidth": 0,
             "ticks": ""
            },
            "colorscale": [
             [
              0,
              "#0d0887"
             ],
             [
              0.1111111111111111,
              "#46039f"
             ],
             [
              0.2222222222222222,
              "#7201a8"
             ],
             [
              0.3333333333333333,
              "#9c179e"
             ],
             [
              0.4444444444444444,
              "#bd3786"
             ],
             [
              0.5555555555555556,
              "#d8576b"
             ],
             [
              0.6666666666666666,
              "#ed7953"
             ],
             [
              0.7777777777777778,
              "#fb9f3a"
             ],
             [
              0.8888888888888888,
              "#fdca26"
             ],
             [
              1,
              "#f0f921"
             ]
            ],
            "type": "contour"
           }
          ],
          "contourcarpet": [
           {
            "colorbar": {
             "outlinewidth": 0,
             "ticks": ""
            },
            "type": "contourcarpet"
           }
          ],
          "heatmap": [
           {
            "colorbar": {
             "outlinewidth": 0,
             "ticks": ""
            },
            "colorscale": [
             [
              0,
              "#0d0887"
             ],
             [
              0.1111111111111111,
              "#46039f"
             ],
             [
              0.2222222222222222,
              "#7201a8"
             ],
             [
              0.3333333333333333,
              "#9c179e"
             ],
             [
              0.4444444444444444,
              "#bd3786"
             ],
             [
              0.5555555555555556,
              "#d8576b"
             ],
             [
              0.6666666666666666,
              "#ed7953"
             ],
             [
              0.7777777777777778,
              "#fb9f3a"
             ],
             [
              0.8888888888888888,
              "#fdca26"
             ],
             [
              1,
              "#f0f921"
             ]
            ],
            "type": "heatmap"
           }
          ],
          "heatmapgl": [
           {
            "colorbar": {
             "outlinewidth": 0,
             "ticks": ""
            },
            "colorscale": [
             [
              0,
              "#0d0887"
             ],
             [
              0.1111111111111111,
              "#46039f"
             ],
             [
              0.2222222222222222,
              "#7201a8"
             ],
             [
              0.3333333333333333,
              "#9c179e"
             ],
             [
              0.4444444444444444,
              "#bd3786"
             ],
             [
              0.5555555555555556,
              "#d8576b"
             ],
             [
              0.6666666666666666,
              "#ed7953"
             ],
             [
              0.7777777777777778,
              "#fb9f3a"
             ],
             [
              0.8888888888888888,
              "#fdca26"
             ],
             [
              1,
              "#f0f921"
             ]
            ],
            "type": "heatmapgl"
           }
          ],
          "histogram": [
           {
            "marker": {
             "pattern": {
              "fillmode": "overlay",
              "size": 10,
              "solidity": 0.2
             }
            },
            "type": "histogram"
           }
          ],
          "histogram2d": [
           {
            "colorbar": {
             "outlinewidth": 0,
             "ticks": ""
            },
            "colorscale": [
             [
              0,
              "#0d0887"
             ],
             [
              0.1111111111111111,
              "#46039f"
             ],
             [
              0.2222222222222222,
              "#7201a8"
             ],
             [
              0.3333333333333333,
              "#9c179e"
             ],
             [
              0.4444444444444444,
              "#bd3786"
             ],
             [
              0.5555555555555556,
              "#d8576b"
             ],
             [
              0.6666666666666666,
              "#ed7953"
             ],
             [
              0.7777777777777778,
              "#fb9f3a"
             ],
             [
              0.8888888888888888,
              "#fdca26"
             ],
             [
              1,
              "#f0f921"
             ]
            ],
            "type": "histogram2d"
           }
          ],
          "histogram2dcontour": [
           {
            "colorbar": {
             "outlinewidth": 0,
             "ticks": ""
            },
            "colorscale": [
             [
              0,
              "#0d0887"
             ],
             [
              0.1111111111111111,
              "#46039f"
             ],
             [
              0.2222222222222222,
              "#7201a8"
             ],
             [
              0.3333333333333333,
              "#9c179e"
             ],
             [
              0.4444444444444444,
              "#bd3786"
             ],
             [
              0.5555555555555556,
              "#d8576b"
             ],
             [
              0.6666666666666666,
              "#ed7953"
             ],
             [
              0.7777777777777778,
              "#fb9f3a"
             ],
             [
              0.8888888888888888,
              "#fdca26"
             ],
             [
              1,
              "#f0f921"
             ]
            ],
            "type": "histogram2dcontour"
           }
          ],
          "mesh3d": [
           {
            "colorbar": {
             "outlinewidth": 0,
             "ticks": ""
            },
            "type": "mesh3d"
           }
          ],
          "parcoords": [
           {
            "line": {
             "colorbar": {
              "outlinewidth": 0,
              "ticks": ""
             }
            },
            "type": "parcoords"
           }
          ],
          "pie": [
           {
            "automargin": true,
            "type": "pie"
           }
          ],
          "scatter": [
           {
            "fillpattern": {
             "fillmode": "overlay",
             "size": 10,
             "solidity": 0.2
            },
            "type": "scatter"
           }
          ],
          "scatter3d": [
           {
            "line": {
             "colorbar": {
              "outlinewidth": 0,
              "ticks": ""
             }
            },
            "marker": {
             "colorbar": {
              "outlinewidth": 0,
              "ticks": ""
             }
            },
            "type": "scatter3d"
           }
          ],
          "scattercarpet": [
           {
            "marker": {
             "colorbar": {
              "outlinewidth": 0,
              "ticks": ""
             }
            },
            "type": "scattercarpet"
           }
          ],
          "scattergeo": [
           {
            "marker": {
             "colorbar": {
              "outlinewidth": 0,
              "ticks": ""
             }
            },
            "type": "scattergeo"
           }
          ],
          "scattergl": [
           {
            "marker": {
             "colorbar": {
              "outlinewidth": 0,
              "ticks": ""
             }
            },
            "type": "scattergl"
           }
          ],
          "scattermapbox": [
           {
            "marker": {
             "colorbar": {
              "outlinewidth": 0,
              "ticks": ""
             }
            },
            "type": "scattermapbox"
           }
          ],
          "scatterpolar": [
           {
            "marker": {
             "colorbar": {
              "outlinewidth": 0,
              "ticks": ""
             }
            },
            "type": "scatterpolar"
           }
          ],
          "scatterpolargl": [
           {
            "marker": {
             "colorbar": {
              "outlinewidth": 0,
              "ticks": ""
             }
            },
            "type": "scatterpolargl"
           }
          ],
          "scatterternary": [
           {
            "marker": {
             "colorbar": {
              "outlinewidth": 0,
              "ticks": ""
             }
            },
            "type": "scatterternary"
           }
          ],
          "surface": [
           {
            "colorbar": {
             "outlinewidth": 0,
             "ticks": ""
            },
            "colorscale": [
             [
              0,
              "#0d0887"
             ],
             [
              0.1111111111111111,
              "#46039f"
             ],
             [
              0.2222222222222222,
              "#7201a8"
             ],
             [
              0.3333333333333333,
              "#9c179e"
             ],
             [
              0.4444444444444444,
              "#bd3786"
             ],
             [
              0.5555555555555556,
              "#d8576b"
             ],
             [
              0.6666666666666666,
              "#ed7953"
             ],
             [
              0.7777777777777778,
              "#fb9f3a"
             ],
             [
              0.8888888888888888,
              "#fdca26"
             ],
             [
              1,
              "#f0f921"
             ]
            ],
            "type": "surface"
           }
          ],
          "table": [
           {
            "cells": {
             "fill": {
              "color": "#EBF0F8"
             },
             "line": {
              "color": "white"
             }
            },
            "header": {
             "fill": {
              "color": "#C8D4E3"
             },
             "line": {
              "color": "white"
             }
            },
            "type": "table"
           }
          ]
         },
         "layout": {
          "annotationdefaults": {
           "arrowcolor": "#2a3f5f",
           "arrowhead": 0,
           "arrowwidth": 1
          },
          "autotypenumbers": "strict",
          "coloraxis": {
           "colorbar": {
            "outlinewidth": 0,
            "ticks": ""
           }
          },
          "colorscale": {
           "diverging": [
            [
             0,
             "#8e0152"
            ],
            [
             0.1,
             "#c51b7d"
            ],
            [
             0.2,
             "#de77ae"
            ],
            [
             0.3,
             "#f1b6da"
            ],
            [
             0.4,
             "#fde0ef"
            ],
            [
             0.5,
             "#f7f7f7"
            ],
            [
             0.6,
             "#e6f5d0"
            ],
            [
             0.7,
             "#b8e186"
            ],
            [
             0.8,
             "#7fbc41"
            ],
            [
             0.9,
             "#4d9221"
            ],
            [
             1,
             "#276419"
            ]
           ],
           "sequential": [
            [
             0,
             "#0d0887"
            ],
            [
             0.1111111111111111,
             "#46039f"
            ],
            [
             0.2222222222222222,
             "#7201a8"
            ],
            [
             0.3333333333333333,
             "#9c179e"
            ],
            [
             0.4444444444444444,
             "#bd3786"
            ],
            [
             0.5555555555555556,
             "#d8576b"
            ],
            [
             0.6666666666666666,
             "#ed7953"
            ],
            [
             0.7777777777777778,
             "#fb9f3a"
            ],
            [
             0.8888888888888888,
             "#fdca26"
            ],
            [
             1,
             "#f0f921"
            ]
           ],
           "sequentialminus": [
            [
             0,
             "#0d0887"
            ],
            [
             0.1111111111111111,
             "#46039f"
            ],
            [
             0.2222222222222222,
             "#7201a8"
            ],
            [
             0.3333333333333333,
             "#9c179e"
            ],
            [
             0.4444444444444444,
             "#bd3786"
            ],
            [
             0.5555555555555556,
             "#d8576b"
            ],
            [
             0.6666666666666666,
             "#ed7953"
            ],
            [
             0.7777777777777778,
             "#fb9f3a"
            ],
            [
             0.8888888888888888,
             "#fdca26"
            ],
            [
             1,
             "#f0f921"
            ]
           ]
          },
          "colorway": [
           "#636efa",
           "#EF553B",
           "#00cc96",
           "#ab63fa",
           "#FFA15A",
           "#19d3f3",
           "#FF6692",
           "#B6E880",
           "#FF97FF",
           "#FECB52"
          ],
          "font": {
           "color": "#2a3f5f"
          },
          "geo": {
           "bgcolor": "white",
           "lakecolor": "white",
           "landcolor": "#E5ECF6",
           "showlakes": true,
           "showland": true,
           "subunitcolor": "white"
          },
          "hoverlabel": {
           "align": "left"
          },
          "hovermode": "closest",
          "mapbox": {
           "style": "light"
          },
          "paper_bgcolor": "white",
          "plot_bgcolor": "#E5ECF6",
          "polar": {
           "angularaxis": {
            "gridcolor": "white",
            "linecolor": "white",
            "ticks": ""
           },
           "bgcolor": "#E5ECF6",
           "radialaxis": {
            "gridcolor": "white",
            "linecolor": "white",
            "ticks": ""
           }
          },
          "scene": {
           "xaxis": {
            "backgroundcolor": "#E5ECF6",
            "gridcolor": "white",
            "gridwidth": 2,
            "linecolor": "white",
            "showbackground": true,
            "ticks": "",
            "zerolinecolor": "white"
           },
           "yaxis": {
            "backgroundcolor": "#E5ECF6",
            "gridcolor": "white",
            "gridwidth": 2,
            "linecolor": "white",
            "showbackground": true,
            "ticks": "",
            "zerolinecolor": "white"
           },
           "zaxis": {
            "backgroundcolor": "#E5ECF6",
            "gridcolor": "white",
            "gridwidth": 2,
            "linecolor": "white",
            "showbackground": true,
            "ticks": "",
            "zerolinecolor": "white"
           }
          },
          "shapedefaults": {
           "line": {
            "color": "#2a3f5f"
           }
          },
          "ternary": {
           "aaxis": {
            "gridcolor": "white",
            "linecolor": "white",
            "ticks": ""
           },
           "baxis": {
            "gridcolor": "white",
            "linecolor": "white",
            "ticks": ""
           },
           "bgcolor": "#E5ECF6",
           "caxis": {
            "gridcolor": "white",
            "linecolor": "white",
            "ticks": ""
           }
          },
          "title": {
           "x": 0.05
          },
          "xaxis": {
           "automargin": true,
           "gridcolor": "white",
           "linecolor": "white",
           "ticks": "",
           "title": {
            "standoff": 15
           },
           "zerolinecolor": "white",
           "zerolinewidth": 2
          },
          "yaxis": {
           "automargin": true,
           "gridcolor": "white",
           "linecolor": "white",
           "ticks": "",
           "title": {
            "standoff": 15
           },
           "zerolinecolor": "white",
           "zerolinewidth": 2
          }
         }
        },
        "title": {
         "text": "Monthly Cost Comparison Spot"
        },
        "xaxis": {
         "rangeselector": {
          "buttons": [
           {
            "count": 1,
            "label": "1d",
            "step": "day",
            "stepmode": "backward"
           },
           {
            "count": 7,
            "label": "1w",
            "step": "day",
            "stepmode": "backward"
           },
           {
            "count": 1,
            "label": "1m",
            "step": "month",
            "stepmode": "backward"
           },
           {
            "step": "all"
           }
          ]
         },
         "rangeslider": {
          "visible": true
         },
         "title": {
          "text": "Datetime"
         },
         "type": "date"
        },
        "yaxis": {
         "title": {
          "text": "NOK"
         }
        }
       }
      }
     },
     "metadata": {},
     "output_type": "display_data"
    }
   ],
   "source": [
    "plot_cols_spot =[\n",
    "    ColumnParam(\"Cost_Net_Of_Sun\", \"Cost Main Building\"),\n",
    "    ColumnParam(\"Cost_Gross\", \"Cost Building Without Sun Panels\"),\n",
    "]\n",
    "\n",
    "monthly_grouped=monthly_grouped.reset_index()\n",
    "\n",
    "plot_energy_usage(monthly_grouped, plot_cols_spot,\n",
    "                    titel=\"Monthly Cost Comparison Spot\",\n",
    "                    yaxis_title=\"NOK\",\n",
    "                    tozeroy=False,\n",
    "                    dark_mode=True,\n",
    "                    )"
   ]
  },
  {
   "cell_type": "code",
   "execution_count": 297,
   "metadata": {},
   "outputs": [
    {
     "name": "stdout",
     "output_type": "stream",
     "text": [
      "Cost Spot\n",
      "--------------\n",
      "Cost with all upgrades= 226585.2546681037\n",
      "Cost without all the upgrades= 265795.57054763567\n",
      "Predicted Cost= 235907.54090006347\n",
      "--------------\n",
      "\n",
      "Consumption of Energy\n",
      "--------------\n",
      "Consumption with all upgrades= 325321.29\n",
      "Consumption without all the upgrades= 402892.43177550426\n",
      "Predicted Consumption= 358515.856929\n"
     ]
    }
   ],
   "source": [
    "\n",
    "#Numbers for Spot Cost\n",
    "sumoppgradert=main_df['Cost_Net_Of_Sun'].sum()\n",
    "sumuten=main_df['Cost_Gross'].sum()\n",
    "costspotpred=main_df['Pred_Cost'].sum()\n",
    "\n",
    "#Numbers for total consumption\n",
    "energypredicted=main_df['predicted_consumption'].sum()\n",
    "energyimport=main_df['value_import'].sum()\n",
    "sumtotalconsumption=energyimport+main_df['solar_consumption'].sum()\n",
    "\n",
    "#Lists for making plots\n",
    "list_consumption=[sumtotalconsumption,energypredicted]\n",
    "names=[\"Total consumption of main building\", \"Consumption of prediction\"]\n",
    "\n",
    "\n",
    "print(\"Cost Spot\")\n",
    "print(\"--------------\")\n",
    "print(\"Cost with all upgrades= \" +str(sumoppgradert))\n",
    "print(\"Cost without all the upgrades= \" + str(sumuten))\n",
    "print(\"Predicted Cost= \" + str(costspotpred))\n",
    "print(\"--------------\")\n",
    "\n",
    "print()\n",
    "print(\"Consumption of Energy\")\n",
    "print(\"--------------\")\n",
    "print(\"Consumption with all upgrades= \" +str(energyimport))\n",
    "print(\"Consumption without all the upgrades= \" + str(sumtotalconsumption))\n",
    "print(\"Predicted Consumption= \" + str(energypredicted))"
   ]
  },
  {
   "cell_type": "markdown",
   "metadata": {},
   "source": [
    "10. Bar charts of consumption and cost"
   ]
  },
  {
   "cell_type": "code",
   "execution_count": 298,
   "metadata": {},
   "outputs": [
    {
     "data": {
      "text/plain": [
       "Text(0, 0.5, 'Energy Consumption (kWh)')"
      ]
     },
     "execution_count": 298,
     "metadata": {},
     "output_type": "execute_result"
    },
    {
     "data": {
      "image/png": "[encoded data removed]",
      "text/plain": [
       "<Figure size 1200x600 with 1 Axes>"
      ]
     },
     "metadata": {},
     "output_type": "display_data"
    }
   ],
   "source": [
    "colors = ['skyblue', 'salmon', 'lightgreen']\n",
    "\n",
    "#Create bar chart\n",
    "plt.figure(figsize=(12,6))\n",
    "plt.bar(names, list_consumption, color=colors)\n",
    "\n",
    "# Add titles and labels\n",
    "plt.title('Energy Consumption of Buildings')\n",
    "plt.xlabel('Buildings')\n",
    "plt.ylabel('Energy Consumption (kWh)')"
   ]
  },
  {
   "cell_type": "code",
   "execution_count": 299,
   "metadata": {},
   "outputs": [
    {
     "data": {
      "text/plain": [
       "Text(0, 0.5, 'Energy Consumption (kWh)')"
      ]
     },
     "execution_count": 299,
     "metadata": {},
     "output_type": "execute_result"
    },
    {
     "data": {
      "image/png": "[encoded data removed]",
      "text/plain": [
       "<Figure size 1200x600 with 1 Axes>"
      ]
     },
     "metadata": {},
     "output_type": "display_data"
    }
   ],
   "source": [
    "buildings=[\"Main building consumption net of sun\", \"Consumption of prediction\"]\n",
    "forbruk=[energyimport,energypredicted]\n",
    "\n",
    "#Create bar chart\n",
    "plt.figure(figsize=(12,6))\n",
    "plt.bar(buildings, forbruk, color=colors)\n",
    "\n",
    "# Add titles and labels\n",
    "plt.title('Energy Consumption of Buildings')\n",
    "plt.xlabel('Buildings')\n",
    "plt.ylabel('Energy Consumption (kWh)')"
   ]
  },
  {
   "cell_type": "code",
   "execution_count": 300,
   "metadata": {},
   "outputs": [
    {
     "data": {
      "text/plain": [
       "Text(0, 0.5, 'Energy Consumption (kWh)')"
      ]
     },
     "execution_count": 300,
     "metadata": {},
     "output_type": "execute_result"
    },
    {
     "data": {
      "image/png": "[encoded data removed]",
      "text/plain": [
       "<Figure size 1200x600 with 1 Axes>"
      ]
     },
     "metadata": {},
     "output_type": "display_data"
    }
   ],
   "source": [
    "buildings=[\"Main building consumption net of sun\", \"Total Consumption of Main Building\"]\n",
    "forbruk=[energyimport,sumtotalconsumption]\n",
    "\n",
    "#Create bar chart\n",
    "plt.figure(figsize=(12,6))\n",
    "plt.bar(buildings, forbruk, color=colors)\n",
    "\n",
    "# Add titles and labels\n",
    "plt.title('Energy Consumption of Buildings')\n",
    "plt.xlabel('Buildings')\n",
    "plt.ylabel('Energy Consumption (kWh)')"
   ]
  }
 ],
 "metadata": {
  "kernelspec": {
   "display_name": "Python 3",
   "language": "python",
   "name": "python3"
  },
  "language_info": {
   "codemirror_mode": {
    "name": "ipython",
    "version": 3
   },
   "file_extension": ".py",
   "mimetype": "text/x-python",
   "name": "python",
   "nbconvert_exporter": "python",
   "pygments_lexer": "ipython3",
   "version": "3.10.11"
  }
 },
 "nbformat": 4,
 "nbformat_minor": 2
}
