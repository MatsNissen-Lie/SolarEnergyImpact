{
 "cells": [
  {
   "cell_type": "code",
   "execution_count": 9,
   "metadata": {},
   "outputs": [],
   "source": [
    "%load_ext autoreload"
   ]
  },
  {
   "cell_type": "code",
   "execution_count": 10,
   "metadata": {},
   "outputs": [],
   "source": [
    "# Import necessary libraries\n",
    "import pandas as pd\n",
    "import matplotlib.pyplot as plt\n",
    "import seaborn as sns\n",
    "from autogluon.tabular import TabularPredictor\n",
    "from sklearn.model_selection import train_test_split\n",
    "\n",
    "pd.set_option('display.max_rows', 200)\n",
    "pd.set_option('display.max_columns', None)"
   ]
  },
  {
   "cell_type": "code",
   "execution_count": 12,
   "metadata": {},
   "outputs": [
    {
     "name": "stdout",
     "output_type": "stream",
     "text": [
      "/Users/matsalexander/Desktop/SolarEnergyImpact\n"
     ]
    }
   ],
   "source": [
    "%autoreload\n",
    "from pathlib import Path\n",
    "import sys\n",
    "root = Path().resolve().absolute().parent.parent\n",
    "print(root)\n",
    "sys.path.append(str(root))\n",
    "\n",
    "from src.pipeline import Pipeline, BuilingIdsEnum\n",
    "pipe = Pipeline()\n",
    "\n"
   ]
  },
  {
   "cell_type": "code",
   "execution_count": 13,
   "metadata": {},
   "outputs": [],
   "source": [
    "building_b = pipe.get_data(BuilingIdsEnum.B)\n",
    "building_c = pipe.get_data(BuilingIdsEnum.C)\n",
    "\n",
    "# remove from 2024-01-15 from dataset A\n",
    "mask = (building_b['timestamp'] >= '2024-01-15') & (building_b['timestamp'] <= '2024-01-15')\n",
    "building_b = building_b[~mask]\n",
    "# let value_import be equal to net_consumption for main\n",
    "\n",
    "\n",
    "# normalize the value_import by area and call it value for main and building_b\n",
    "building_b['value'] = building_b['value_import'] / building_b['area']\n",
    "building_c['value'] = building_c['net_consumption'] / building_c['area']\n",
    "\n",
    "combined_df = pd.concat([ building_b, building_c], ignore_index=True)\n",
    "# reset index\n",
    "combined_df = combined_df.reset_index(drop=True)\n",
    "# Perform the train-test split with stratification based on 'building_id'\n",
    "train_data, test_data = train_test_split(\n",
    "    combined_df,\n",
    "    test_size=0.20,\n",
    "    random_state=42,\n",
    "    stratify=combined_df['building']\n",
    ")\n",
    "\n",
    "# select features\n",
    "target = \"value\"\n",
    "features = [\"timestamp\", \"temperature\", \"wind_speed\"] #, \"cloud_fraction\", \"precipitation\", \"area\"\n",
    "\n",
    "train_data = train_data[features + [target]]\n",
    "test_data = test_data[features + [target]]\n",
    "\n"
   ]
  },
  {
   "cell_type": "code",
   "execution_count": null,
   "metadata": {},
   "outputs": [
    {
     "name": "stderr",
     "output_type": "stream",
     "text": [
      "No path specified. Models will be saved in: \"AutogluonModels/ag-20241112_140917\"\n",
      "Verbosity: 2 (Standard Logging)\n",
      "=================== System Info ===================\n",
      "AutoGluon Version:  1.1.1\n",
      "Python Version:     3.10.13\n",
      "Operating System:   Darwin\n",
      "Platform Machine:   arm64\n",
      "Platform Version:   Darwin Kernel Version 23.6.0: Mon Jul 29 21:14:30 PDT 2024; root:xnu-10063.141.2~1/RELEASE_ARM64_T6000\n",
      "CPU Count:          10\n",
      "Memory Avail:       13.97 GB / 32.00 GB (43.7%)\n",
      "Disk Space Avail:   612.91 GB / 926.35 GB (66.2%)\n",
      "===================================================\n",
      "Presets specified: ['best_quality']\n",
      "Setting dynamic_stacking from 'auto' to True. Reason: Enable dynamic_stacking when use_bag_holdout is disabled. (use_bag_holdout=False)\n",
      "Stack configuration (auto_stack=True): num_stack_levels=1, num_bag_folds=8, num_bag_sets=1\n",
      "DyStack is enabled (dynamic_stacking=True). AutoGluon will try to determine whether the input data is affected by stacked overfitting and enable or disable stacking as a consequence.\n",
      "\tThis is used to identify the optimal `num_stack_levels` value. Copies of AutoGluon will be fit on subsets of the data. Then holdout validation data is used to detect stacked overfitting.\n",
      "\tRunning DyStack for up to 900s of the 3600s of remaining time (25%).\n",
      "/opt/homebrew/Caskroom/miniconda/base/envs/ag/lib/python3.10/site-packages/autogluon/tabular/predictor/predictor.py:1242: UserWarning: Failed to use ray for memory safe fits. Falling back to normal fit. Error: ValueError('ray==2.31.0 detected. 2.10.0 <= ray < 2.11.0 is required. You can use pip to install certain version of ray `pip install ray==2.10.0` ')\n",
      "  stacked_overfitting = self._sub_fit_memory_save_wrapper(\n",
      "\t\tContext path: \"AutogluonModels/ag-20241112_140917/ds_sub_fit/sub_fit_ho\"\n",
      "Running DyStack sub-fit ...\n",
      "Beginning AutoGluon training ... Time limit = 899s\n",
      "AutoGluon will save models to \"AutogluonModels/ag-20241112_140917/ds_sub_fit/sub_fit_ho\"\n",
      "Train Data Rows:    14743\n",
      "Train Data Columns: 3\n",
      "Label Column:       value\n",
      "Problem Type:       regression\n",
      "Preprocessing data ...\n",
      "Using Feature Generators to preprocess the data ...\n",
      "Fitting AutoMLPipelineFeatureGenerator...\n",
      "\tAvailable Memory:                    14238.38 MB\n",
      "\tTrain Data (Original)  Memory Usage: 0.34 MB (0.0% of available memory)\n",
      "\tInferring data type of each feature based on column values. Set feature_metadata_in to manually specify special dtypes of the features.\n",
      "\tStage 1 Generators:\n",
      "\t\tFitting AsTypeFeatureGenerator...\n",
      "\tStage 2 Generators:\n",
      "\t\tFitting FillNaFeatureGenerator...\n",
      "\tStage 3 Generators:\n",
      "\t\tFitting IdentityFeatureGenerator...\n",
      "\t\tFitting DatetimeFeatureGenerator...\n",
      "\tStage 4 Generators:\n",
      "\t\tFitting DropUniqueFeatureGenerator...\n",
      "\tStage 5 Generators:\n",
      "\t\tFitting DropDuplicatesFeatureGenerator...\n",
      "\tTypes of features in original data (raw dtype, special dtypes):\n",
      "\t\t('datetime', []) : 1 | ['timestamp']\n",
      "\t\t('float', [])    : 2 | ['temperature', 'wind_speed']\n",
      "\tTypes of features in processed data (raw dtype, special dtypes):\n",
      "\t\t('float', [])                : 2 | ['temperature', 'wind_speed']\n",
      "\t\t('int', ['datetime_as_int']) : 5 | ['timestamp', 'timestamp.year', 'timestamp.month', 'timestamp.day', 'timestamp.dayofweek']\n",
      "\t0.1s = Fit runtime\n",
      "\t3 features in original data used to generate 7 features in processed data.\n",
      "\tTrain Data (Processed) Memory Usage: 0.79 MB (0.0% of available memory)\n",
      "Data preprocessing and feature engineering runtime = 0.08s ...\n",
      "AutoGluon will gauge predictive performance using evaluation metric: 'mean_absolute_error'\n",
      "\tThis metric's sign has been flipped to adhere to being higher_is_better. The metric score can be multiplied by -1 to get the metric value.\n",
      "\tTo change this, specify the eval_metric parameter of Predictor()\n",
      "Large model count detected (112 configs) ... Only displaying the first 3 models of each family. To see all, set `verbosity=3`.\n",
      "User-specified model hyperparameters to be fit:\n",
      "{\n",
      "\t'NN_TORCH': [{}, {'activation': 'elu', 'dropout_prob': 0.10077639529843717, 'hidden_size': 108, 'learning_rate': 0.002735937344002146, 'num_layers': 4, 'use_batchnorm': True, 'weight_decay': 1.356433327634438e-12, 'ag_args': {'name_suffix': '_r79', 'priority': -2}}, {'activation': 'elu', 'dropout_prob': 0.11897478034205347, 'hidden_size': 213, 'learning_rate': 0.0010474382260641949, 'num_layers': 4, 'use_batchnorm': False, 'weight_decay': 5.594471067786272e-10, 'ag_args': {'name_suffix': '_r22', 'priority': -7}}],\n",
      "\t'GBM': [{'extra_trees': True, 'ag_args': {'name_suffix': 'XT'}}, {}, 'GBMLarge'],\n",
      "\t'CAT': [{}, {'depth': 6, 'grow_policy': 'SymmetricTree', 'l2_leaf_reg': 2.1542798306067823, 'learning_rate': 0.06864209415792857, 'max_ctr_complexity': 4, 'one_hot_max_size': 10, 'ag_args': {'name_suffix': '_r177', 'priority': -1}}, {'depth': 8, 'grow_policy': 'Depthwise', 'l2_leaf_reg': 2.7997999596449104, 'learning_rate': 0.031375015734637225, 'max_ctr_complexity': 2, 'one_hot_max_size': 3, 'ag_args': {'name_suffix': '_r9', 'priority': -5}}],\n",
      "\t'XGB': [{}, {'colsample_bytree': 0.6917311125174739, 'enable_categorical': False, 'learning_rate': 0.018063876087523967, 'max_depth': 10, 'min_child_weight': 0.6028633586934382, 'ag_args': {'name_suffix': '_r33', 'priority': -8}}, {'colsample_bytree': 0.6628423832084077, 'enable_categorical': False, 'learning_rate': 0.08775715546881824, 'max_depth': 5, 'min_child_weight': 0.6294123374222513, 'ag_args': {'name_suffix': '_r89', 'priority': -16}}],\n",
      "\t'FASTAI': [{}, {'bs': 256, 'emb_drop': 0.5411770367537934, 'epochs': 43, 'layers': [800, 400], 'lr': 0.01519848858318159, 'ps': 0.23782946566604385, 'ag_args': {'name_suffix': '_r191', 'priority': -4}}, {'bs': 2048, 'emb_drop': 0.05070411322605811, 'epochs': 29, 'layers': [200, 100], 'lr': 0.08974235041576624, 'ps': 0.10393466140748028, 'ag_args': {'name_suffix': '_r102', 'priority': -11}}],\n",
      "\t'RF': [{'criterion': 'gini', 'ag_args': {'name_suffix': 'Gini', 'problem_types': ['binary', 'multiclass']}}, {'criterion': 'entropy', 'ag_args': {'name_suffix': 'Entr', 'problem_types': ['binary', 'multiclass']}}, {'criterion': 'squared_error', 'ag_args': {'name_suffix': 'MSE', 'problem_types': ['regression', 'quantile']}}],\n",
      "\t'XT': [{'criterion': 'gini', 'ag_args': {'name_suffix': 'Gini', 'problem_types': ['binary', 'multiclass']}}, {'criterion': 'entropy', 'ag_args': {'name_suffix': 'Entr', 'problem_types': ['binary', 'multiclass']}}, {'criterion': 'squared_error', 'ag_args': {'name_suffix': 'MSE', 'problem_types': ['regression', 'quantile']}}],\n",
      "\t'KNN': [{'weights': 'uniform', 'ag_args': {'name_suffix': 'Unif'}}, {'weights': 'distance', 'ag_args': {'name_suffix': 'Dist'}}],\n",
      "}\n",
      "AutoGluon will fit 2 stack levels (L1 to L2) ...\n",
      "Excluded models: ['KNN'] (Specified by `excluded_model_types`)\n",
      "Fitting 106 L1 models ...\n",
      "Fitting model: LightGBMXT_BAG_L1 ... Training model for up to 599.37s of the 899.27s of remaining time.\n",
      "Will use sequential fold fitting strategy because import of ray failed. Reason: ray==2.31.0 detected. 2.10.0 <= ray < 2.11.0 is required. You can use pip to install certain version of ray `pip install ray==2.10.0` \n",
      "\tFitting 8 child models (S1F1 - S1F8) | Fitting with SequentialLocalFoldFittingStrategy\n"
     ]
    },
    {
     "name": "stdout",
     "output_type": "stream",
     "text": [
      "[1000]\tvalid_set's l1: 0.0050427\n",
      "[2000]\tvalid_set's l1: 0.0048166\n",
      "[3000]\tvalid_set's l1: 0.00468685\n",
      "[4000]\tvalid_set's l1: 0.0046119\n",
      "[5000]\tvalid_set's l1: 0.00455073\n",
      "[6000]\tvalid_set's l1: 0.00450212\n"
     ]
    },
    {
     "name": "stderr",
     "output_type": "stream",
     "text": [
      "\tRan out of time, early stopping on iteration 6066. Best iteration is:\n",
      "\t[6066]\tvalid_set's l1: 0.00449917\n"
     ]
    },
    {
     "name": "stdout",
     "output_type": "stream",
     "text": [
      "[1000]\tvalid_set's l1: 0.00509813\n",
      "[2000]\tvalid_set's l1: 0.00486942\n",
      "[3000]\tvalid_set's l1: 0.00474949\n",
      "[4000]\tvalid_set's l1: 0.0046603\n"
     ]
    },
    {
     "name": "stderr",
     "output_type": "stream",
     "text": [
      "\tRan out of time, early stopping on iteration 4279. Best iteration is:\n",
      "\t[4277]\tvalid_set's l1: 0.00463909\n"
     ]
    },
    {
     "name": "stdout",
     "output_type": "stream",
     "text": [
      "[1000]\tvalid_set's l1: 0.00526409\n",
      "[2000]\tvalid_set's l1: 0.00505519\n",
      "[3000]\tvalid_set's l1: 0.0049291\n",
      "[4000]\tvalid_set's l1: 0.00483639\n"
     ]
    },
    {
     "name": "stderr",
     "output_type": "stream",
     "text": [
      "\tRan out of time, early stopping on iteration 4047. Best iteration is:\n",
      "\t[4032]\tvalid_set's l1: 0.00483488\n"
     ]
    },
    {
     "name": "stdout",
     "output_type": "stream",
     "text": [
      "[1000]\tvalid_set's l1: 0.0050918\n",
      "[2000]\tvalid_set's l1: 0.0049003\n",
      "[3000]\tvalid_set's l1: 0.00480255\n",
      "[4000]\tvalid_set's l1: 0.00472503\n",
      "[5000]\tvalid_set's l1: 0.00466189\n"
     ]
    },
    {
     "name": "stderr",
     "output_type": "stream",
     "text": [
      "\tRan out of time, early stopping on iteration 5067. Best iteration is:\n",
      "\t[5061]\tvalid_set's l1: 0.00465795\n"
     ]
    },
    {
     "name": "stdout",
     "output_type": "stream",
     "text": [
      "[1000]\tvalid_set's l1: 0.00517396\n",
      "[2000]\tvalid_set's l1: 0.00498147\n",
      "[3000]\tvalid_set's l1: 0.00485486\n",
      "[4000]\tvalid_set's l1: 0.00477652\n"
     ]
    },
    {
     "name": "stderr",
     "output_type": "stream",
     "text": [
      "\tRan out of time, early stopping on iteration 4365. Best iteration is:\n",
      "\t[4365]\tvalid_set's l1: 0.00475629\n"
     ]
    },
    {
     "name": "stdout",
     "output_type": "stream",
     "text": [
      "[1000]\tvalid_set's l1: 0.00495455\n",
      "[2000]\tvalid_set's l1: 0.00475867\n",
      "[3000]\tvalid_set's l1: 0.00463911\n",
      "[4000]\tvalid_set's l1: 0.00455257\n",
      "[5000]\tvalid_set's l1: 0.00449342\n"
     ]
    },
    {
     "name": "stderr",
     "output_type": "stream",
     "text": [
      "\tRan out of time, early stopping on iteration 5412. Best iteration is:\n",
      "\t[5412]\tvalid_set's l1: 0.00447316\n"
     ]
    },
    {
     "name": "stdout",
     "output_type": "stream",
     "text": [
      "[1000]\tvalid_set's l1: 0.00505714\n",
      "[2000]\tvalid_set's l1: 0.00483328\n",
      "[3000]\tvalid_set's l1: 0.00471061\n",
      "[4000]\tvalid_set's l1: 0.00462436\n",
      "[5000]\tvalid_set's l1: 0.00457172\n",
      "[6000]\tvalid_set's l1: 0.0045222\n"
     ]
    },
    {
     "name": "stderr",
     "output_type": "stream",
     "text": [
      "\tRan out of time, early stopping on iteration 6153. Best iteration is:\n",
      "\t[6153]\tvalid_set's l1: 0.00451529\n"
     ]
    },
    {
     "name": "stdout",
     "output_type": "stream",
     "text": [
      "[1000]\tvalid_set's l1: 0.00503092\n",
      "[2000]\tvalid_set's l1: 0.00484437\n",
      "[3000]\tvalid_set's l1: 0.00474133\n",
      "[4000]\tvalid_set's l1: 0.00467646\n",
      "[5000]\tvalid_set's l1: 0.00462165\n",
      "[6000]\tvalid_set's l1: 0.00458402\n",
      "[7000]\tvalid_set's l1: 0.00456324\n"
     ]
    },
    {
     "name": "stderr",
     "output_type": "stream",
     "text": [
      "\tRan out of time, early stopping on iteration 7453. Best iteration is:\n",
      "\t[7419]\tvalid_set's l1: 0.00455079\n",
      "\t-0.0046\t = Validation score   (-mean_absolute_error)\n",
      "\t573.05s\t = Training   runtime\n",
      "\t1.91s\t = Validation runtime\n",
      "Fitting model: LightGBM_BAG_L1 ... Training model for up to 21.43s of the 321.33s of remaining time.\n",
      "\tFitting 8 child models (S1F1 - S1F8) | Fitting with SequentialLocalFoldFittingStrategy\n",
      "\tRan out of time, early stopping on iteration 128. Best iteration is:\n",
      "\t[128]\tvalid_set's l1: 0.004876\n",
      "\tRan out of time, early stopping on iteration 161. Best iteration is:\n",
      "\t[161]\tvalid_set's l1: 0.00491341\n",
      "\tRan out of time, early stopping on iteration 144. Best iteration is:\n",
      "\t[144]\tvalid_set's l1: 0.0052203\n",
      "\tRan out of time, early stopping on iteration 178. Best iteration is:\n",
      "\t[178]\tvalid_set's l1: 0.00490846\n",
      "\tRan out of time, early stopping on iteration 198. Best iteration is:\n",
      "\t[197]\tvalid_set's l1: 0.00497621\n",
      "\tRan out of time, early stopping on iteration 176. Best iteration is:\n",
      "\t[176]\tvalid_set's l1: 0.00476609\n",
      "\tRan out of time, early stopping on iteration 170. Best iteration is:\n",
      "\t[170]\tvalid_set's l1: 0.00485083\n",
      "\tRan out of time, early stopping on iteration 271. Best iteration is:\n",
      "\t[271]\tvalid_set's l1: 0.00478482\n",
      "\t-0.0049\t = Validation score   (-mean_absolute_error)\n",
      "\t20.52s\t = Training   runtime\n",
      "\t0.05s\t = Validation runtime\n",
      "Fitting model: RandomForestMSE_BAG_L1 ... Training model for up to 0.78s of the 300.68s of remaining time.\n",
      "\t-0.0038\t = Validation score   (-mean_absolute_error)\n",
      "\t2.8s\t = Training   runtime\n",
      "\t0.58s\t = Validation runtime\n",
      "Fitting model: WeightedEnsemble_L2 ... Training model for up to 360.0s of the 296.93s of remaining time.\n",
      "\tEnsemble Weights: {'RandomForestMSE_BAG_L1': 1.0}\n",
      "\t-0.0038\t = Validation score   (-mean_absolute_error)\n",
      "\t0.02s\t = Training   runtime\n",
      "\t0.0s\t = Validation runtime\n",
      "Excluded models: ['KNN'] (Specified by `excluded_model_types`)\n",
      "Fitting 106 L2 models ...\n",
      "Fitting model: LightGBMXT_BAG_L2 ... Training model for up to 296.9s of the 296.88s of remaining time.\n",
      "\tFitting 8 child models (S1F1 - S1F8) | Fitting with SequentialLocalFoldFittingStrategy\n",
      "\t-0.0037\t = Validation score   (-mean_absolute_error)\n",
      "\t59.45s\t = Training   runtime\n",
      "\t0.09s\t = Validation runtime\n",
      "Fitting model: LightGBM_BAG_L2 ... Training model for up to 237.22s of the 237.2s of remaining time.\n",
      "\tFitting 8 child models (S1F1 - S1F8) | Fitting with SequentialLocalFoldFittingStrategy\n",
      "\t-0.0037\t = Validation score   (-mean_absolute_error)\n",
      "\t37.58s\t = Training   runtime\n",
      "\t0.06s\t = Validation runtime\n",
      "Fitting model: RandomForestMSE_BAG_L2 ... Training model for up to 199.5s of the 199.47s of remaining time.\n",
      "\t-0.0038\t = Validation score   (-mean_absolute_error)\n",
      "\t7.5s\t = Training   runtime\n",
      "\t0.64s\t = Validation runtime\n",
      "Fitting model: CatBoost_BAG_L2 ... Training model for up to 191.01s of the 190.98s of remaining time.\n",
      "\tFitting 8 child models (S1F1 - S1F8) | Fitting with SequentialLocalFoldFittingStrategy\n",
      "\t-0.0037\t = Validation score   (-mean_absolute_error)\n",
      "\t14.45s\t = Training   runtime\n",
      "\t0.01s\t = Validation runtime\n",
      "Fitting model: ExtraTreesMSE_BAG_L2 ... Training model for up to 176.5s of the 176.47s of remaining time.\n",
      "\t-0.0038\t = Validation score   (-mean_absolute_error)\n",
      "\t1.79s\t = Training   runtime\n",
      "\t0.59s\t = Validation runtime\n",
      "Fitting model: NeuralNetFastAI_BAG_L2 ... Training model for up to 173.65s of the 173.63s of remaining time.\n",
      "\tFitting 8 child models (S1F1 - S1F8) | Fitting with SequentialLocalFoldFittingStrategy\n",
      "/opt/homebrew/Caskroom/miniconda/base/envs/ag/lib/python3.10/site-packages/fastai/learner.py:53: FutureWarning: You are using `torch.load` with `weights_only=False` (the current default value), which uses the default pickle module implicitly. It is possible to construct malicious pickle data which will execute arbitrary code during unpickling (See https://github.com/pytorch/pytorch/blob/main/SECURITY.md#untrusted-models for more details). In a future release, the default value for `weights_only` will be flipped to `True`. This limits the functions that could be executed during unpickling. Arbitrary objects will no longer be allowed to be loaded via this mode unless they are explicitly allowlisted by the user via `torch.serialization.add_safe_globals`. We recommend you start setting `weights_only=True` for any use case where you don't have full control of the loaded file. Please open an issue on GitHub for any issues related to this experimental feature.\n",
      "  state = torch.load(file, map_location=device, **torch_load_kwargs)\n",
      "\tRan out of time, stopping training early. (Stopping on epoch 7)\n",
      "/opt/homebrew/Caskroom/miniconda/base/envs/ag/lib/python3.10/site-packages/fastai/learner.py:53: FutureWarning: You are using `torch.load` with `weights_only=False` (the current default value), which uses the default pickle module implicitly. It is possible to construct malicious pickle data which will execute arbitrary code during unpickling (See https://github.com/pytorch/pytorch/blob/main/SECURITY.md#untrusted-models for more details). In a future release, the default value for `weights_only` will be flipped to `True`. This limits the functions that could be executed during unpickling. Arbitrary objects will no longer be allowed to be loaded via this mode unless they are explicitly allowlisted by the user via `torch.serialization.add_safe_globals`. We recommend you start setting `weights_only=True` for any use case where you don't have full control of the loaded file. Please open an issue on GitHub for any issues related to this experimental feature.\n",
      "  state = torch.load(file, map_location=device, **torch_load_kwargs)\n",
      "/opt/homebrew/Caskroom/miniconda/base/envs/ag/lib/python3.10/site-packages/fastai/learner.py:53: FutureWarning: You are using `torch.load` with `weights_only=False` (the current default value), which uses the default pickle module implicitly. It is possible to construct malicious pickle data which will execute arbitrary code during unpickling (See https://github.com/pytorch/pytorch/blob/main/SECURITY.md#untrusted-models for more details). In a future release, the default value for `weights_only` will be flipped to `True`. This limits the functions that could be executed during unpickling. Arbitrary objects will no longer be allowed to be loaded via this mode unless they are explicitly allowlisted by the user via `torch.serialization.add_safe_globals`. We recommend you start setting `weights_only=True` for any use case where you don't have full control of the loaded file. Please open an issue on GitHub for any issues related to this experimental feature.\n",
      "  state = torch.load(file, map_location=device, **torch_load_kwargs)\n",
      "/opt/homebrew/Caskroom/miniconda/base/envs/ag/lib/python3.10/site-packages/fastai/learner.py:53: FutureWarning: You are using `torch.load` with `weights_only=False` (the current default value), which uses the default pickle module implicitly. It is possible to construct malicious pickle data which will execute arbitrary code during unpickling (See https://github.com/pytorch/pytorch/blob/main/SECURITY.md#untrusted-models for more details). In a future release, the default value for `weights_only` will be flipped to `True`. This limits the functions that could be executed during unpickling. Arbitrary objects will no longer be allowed to be loaded via this mode unless they are explicitly allowlisted by the user via `torch.serialization.add_safe_globals`. We recommend you start setting `weights_only=True` for any use case where you don't have full control of the loaded file. Please open an issue on GitHub for any issues related to this experimental feature.\n",
      "  state = torch.load(file, map_location=device, **torch_load_kwargs)\n",
      "/opt/homebrew/Caskroom/miniconda/base/envs/ag/lib/python3.10/site-packages/fastai/learner.py:53: FutureWarning: You are using `torch.load` with `weights_only=False` (the current default value), which uses the default pickle module implicitly. It is possible to construct malicious pickle data which will execute arbitrary code during unpickling (See https://github.com/pytorch/pytorch/blob/main/SECURITY.md#untrusted-models for more details). In a future release, the default value for `weights_only` will be flipped to `True`. This limits the functions that could be executed during unpickling. Arbitrary objects will no longer be allowed to be loaded via this mode unless they are explicitly allowlisted by the user via `torch.serialization.add_safe_globals`. We recommend you start setting `weights_only=True` for any use case where you don't have full control of the loaded file. Please open an issue on GitHub for any issues related to this experimental feature.\n",
      "  state = torch.load(file, map_location=device, **torch_load_kwargs)\n",
      "/opt/homebrew/Caskroom/miniconda/base/envs/ag/lib/python3.10/site-packages/fastai/learner.py:53: FutureWarning: You are using `torch.load` with `weights_only=False` (the current default value), which uses the default pickle module implicitly. It is possible to construct malicious pickle data which will execute arbitrary code during unpickling (See https://github.com/pytorch/pytorch/blob/main/SECURITY.md#untrusted-models for more details). In a future release, the default value for `weights_only` will be flipped to `True`. This limits the functions that could be executed during unpickling. Arbitrary objects will no longer be allowed to be loaded via this mode unless they are explicitly allowlisted by the user via `torch.serialization.add_safe_globals`. We recommend you start setting `weights_only=True` for any use case where you don't have full control of the loaded file. Please open an issue on GitHub for any issues related to this experimental feature.\n",
      "  state = torch.load(file, map_location=device, **torch_load_kwargs)\n",
      "\tRan out of time, stopping training early. (Stopping on epoch 11)\n",
      "/opt/homebrew/Caskroom/miniconda/base/envs/ag/lib/python3.10/site-packages/fastai/learner.py:53: FutureWarning: You are using `torch.load` with `weights_only=False` (the current default value), which uses the default pickle module implicitly. It is possible to construct malicious pickle data which will execute arbitrary code during unpickling (See https://github.com/pytorch/pytorch/blob/main/SECURITY.md#untrusted-models for more details). In a future release, the default value for `weights_only` will be flipped to `True`. This limits the functions that could be executed during unpickling. Arbitrary objects will no longer be allowed to be loaded via this mode unless they are explicitly allowlisted by the user via `torch.serialization.add_safe_globals`. We recommend you start setting `weights_only=True` for any use case where you don't have full control of the loaded file. Please open an issue on GitHub for any issues related to this experimental feature.\n",
      "  state = torch.load(file, map_location=device, **torch_load_kwargs)\n",
      "/opt/homebrew/Caskroom/miniconda/base/envs/ag/lib/python3.10/site-packages/fastai/learner.py:53: FutureWarning: You are using `torch.load` with `weights_only=False` (the current default value), which uses the default pickle module implicitly. It is possible to construct malicious pickle data which will execute arbitrary code during unpickling (See https://github.com/pytorch/pytorch/blob/main/SECURITY.md#untrusted-models for more details). In a future release, the default value for `weights_only` will be flipped to `True`. This limits the functions that could be executed during unpickling. Arbitrary objects will no longer be allowed to be loaded via this mode unless they are explicitly allowlisted by the user via `torch.serialization.add_safe_globals`. We recommend you start setting `weights_only=True` for any use case where you don't have full control of the loaded file. Please open an issue on GitHub for any issues related to this experimental feature.\n",
      "  state = torch.load(file, map_location=device, **torch_load_kwargs)\n",
      "\t-0.0037\t = Validation score   (-mean_absolute_error)\n",
      "\t161.72s\t = Training   runtime\n",
      "\t0.9s\t = Validation runtime\n",
      "Fitting model: XGBoost_BAG_L2 ... Training model for up to 10.9s of the 10.87s of remaining time.\n",
      "\tFitting 8 child models (S1F1 - S1F8) | Fitting with SequentialLocalFoldFittingStrategy\n",
      "\t-0.0037\t = Validation score   (-mean_absolute_error)\n",
      "\t10.07s\t = Training   runtime\n",
      "\t0.06s\t = Validation runtime\n",
      "Fitting model: WeightedEnsemble_L3 ... Training model for up to 360.0s of the 0.47s of remaining time.\n",
      "\tEnsemble Weights: {'CatBoost_BAG_L2': 0.25, 'NeuralNetFastAI_BAG_L2': 0.25, 'XGBoost_BAG_L2': 0.25, 'RandomForestMSE_BAG_L2': 0.125, 'ExtraTreesMSE_BAG_L2': 0.125}\n",
      "\t-0.0037\t = Validation score   (-mean_absolute_error)\n",
      "\t0.14s\t = Training   runtime\n",
      "\t0.0s\t = Validation runtime\n",
      "AutoGluon training complete, total runtime = 899.06s ... Best model: WeightedEnsemble_L3 | Estimated inference throughput: 582.1 rows/s (1843 batch size)\n",
      "TabularPredictor saved. To load, use: predictor = TabularPredictor.load(\"AutogluonModels/ag-20241112_140917/ds_sub_fit/sub_fit_ho\")\n",
      "Deleting DyStack predictor artifacts (clean_up_fits=True) ...\n",
      "Leaderboard on holdout data (DyStack):\n",
      "                     model  score_holdout  score_val          eval_metric  pred_time_test  pred_time_val    fit_time  pred_time_test_marginal  pred_time_val_marginal  fit_time_marginal  stack_level  can_infer  fit_order\n",
      "0          LightGBM_BAG_L2      -0.003649  -0.003727  mean_absolute_error        2.616821       2.610764  633.953588                 0.044088                0.064431          37.582086            2       True          6\n",
      "1          CatBoost_BAG_L2      -0.003652  -0.003712  mean_absolute_error        2.624027       2.557869  610.816947                 0.051294                0.011537          14.445445            2       True          8\n",
      "2      WeightedEnsemble_L3      -0.003653  -0.003690  mean_absolute_error        4.064606       4.751943  792.028840                 0.001551                0.000483           0.135399            3       True         12\n",
      "3           XGBoost_BAG_L2      -0.003661  -0.003719  mean_absolute_error        2.677552       2.605198  606.440621                 0.104819                0.058865          10.069119            2       True         11\n",
      "4   NeuralNetFastAI_BAG_L2      -0.003668  -0.003730  mean_absolute_error        3.298084       3.449607  758.090172                 0.725351                0.903275         161.718670            2       True         10\n",
      "5        LightGBMXT_BAG_L2      -0.003670  -0.003738  mean_absolute_error        2.717267       2.631673  655.825953                 0.144534                0.085340          59.454451            2       True          5\n",
      "6   RandomForestMSE_BAG_L2      -0.003736  -0.003782  mean_absolute_error        2.863905       3.187029  603.870506                 0.291172                0.640696           7.499004            2       True          7\n",
      "7   RandomForestMSE_BAG_L1      -0.003747  -0.003791  mean_absolute_error        0.309113       0.580392    2.798142                 0.309113                0.580392           2.798142            1       True          3\n",
      "8      WeightedEnsemble_L2      -0.003747  -0.003791  mean_absolute_error        0.311210       0.580770    2.821766                 0.002097                0.000378           0.023624            2       True          4\n",
      "9     ExtraTreesMSE_BAG_L2      -0.003750  -0.003760  mean_absolute_error        2.890419       3.137087  598.161203                 0.317686                0.590754           1.789701            2       True          9\n",
      "10       LightGBMXT_BAG_L1      -0.004570  -0.004616  mean_absolute_error        2.155035       1.913661  573.049389                 2.155035                1.913661         573.049389            1       True          1\n",
      "11         LightGBM_BAG_L1      -0.004867  -0.004912  mean_absolute_error        0.108585       0.052280   20.523971                 0.108585                0.052280          20.523971            1       True          2\n",
      "\t1\t = Optimal   num_stack_levels (Stacked Overfitting Occurred: False)\n",
      "\t904s\t = DyStack   runtime |\t2696s\t = Remaining runtime\n",
      "Starting main fit with num_stack_levels=1.\n",
      "\tFor future fit calls on this dataset, you can skip DyStack to save time: `predictor.fit(..., dynamic_stacking=False, num_stack_levels=1)`\n",
      "Beginning AutoGluon training ... Time limit = 2696s\n",
      "AutoGluon will save models to \"AutogluonModels/ag-20241112_140917\"\n",
      "Train Data Rows:    16586\n",
      "Train Data Columns: 3\n",
      "Label Column:       value\n",
      "Problem Type:       regression\n",
      "Preprocessing data ...\n",
      "Using Feature Generators to preprocess the data ...\n",
      "Fitting AutoMLPipelineFeatureGenerator...\n",
      "\tAvailable Memory:                    13918.94 MB\n",
      "\tTrain Data (Original)  Memory Usage: 0.38 MB (0.0% of available memory)\n",
      "\tInferring data type of each feature based on column values. Set feature_metadata_in to manually specify special dtypes of the features.\n",
      "\tStage 1 Generators:\n",
      "\t\tFitting AsTypeFeatureGenerator...\n",
      "\tStage 2 Generators:\n",
      "\t\tFitting FillNaFeatureGenerator...\n",
      "\tStage 3 Generators:\n",
      "\t\tFitting IdentityFeatureGenerator...\n",
      "\t\tFitting DatetimeFeatureGenerator...\n",
      "\tStage 4 Generators:\n",
      "\t\tFitting DropUniqueFeatureGenerator...\n",
      "\tStage 5 Generators:\n",
      "\t\tFitting DropDuplicatesFeatureGenerator...\n",
      "\tTypes of features in original data (raw dtype, special dtypes):\n",
      "\t\t('datetime', []) : 1 | ['timestamp']\n",
      "\t\t('float', [])    : 2 | ['temperature', 'wind_speed']\n",
      "\tTypes of features in processed data (raw dtype, special dtypes):\n",
      "\t\t('float', [])                : 2 | ['temperature', 'wind_speed']\n",
      "\t\t('int', ['datetime_as_int']) : 5 | ['timestamp', 'timestamp.year', 'timestamp.month', 'timestamp.day', 'timestamp.dayofweek']\n",
      "\t0.1s = Fit runtime\n",
      "\t3 features in original data used to generate 7 features in processed data.\n",
      "\tTrain Data (Processed) Memory Usage: 0.89 MB (0.0% of available memory)\n",
      "Data preprocessing and feature engineering runtime = 0.1s ...\n",
      "AutoGluon will gauge predictive performance using evaluation metric: 'mean_absolute_error'\n",
      "\tThis metric's sign has been flipped to adhere to being higher_is_better. The metric score can be multiplied by -1 to get the metric value.\n",
      "\tTo change this, specify the eval_metric parameter of Predictor()\n",
      "Large model count detected (112 configs) ... Only displaying the first 3 models of each family. To see all, set `verbosity=3`.\n",
      "User-specified model hyperparameters to be fit:\n",
      "{\n",
      "\t'NN_TORCH': [{}, {'activation': 'elu', 'dropout_prob': 0.10077639529843717, 'hidden_size': 108, 'learning_rate': 0.002735937344002146, 'num_layers': 4, 'use_batchnorm': True, 'weight_decay': 1.356433327634438e-12, 'ag_args': {'name_suffix': '_r79', 'priority': -2}}, {'activation': 'elu', 'dropout_prob': 0.11897478034205347, 'hidden_size': 213, 'learning_rate': 0.0010474382260641949, 'num_layers': 4, 'use_batchnorm': False, 'weight_decay': 5.594471067786272e-10, 'ag_args': {'name_suffix': '_r22', 'priority': -7}}],\n",
      "\t'GBM': [{'extra_trees': True, 'ag_args': {'name_suffix': 'XT'}}, {}, 'GBMLarge'],\n",
      "\t'CAT': [{}, {'depth': 6, 'grow_policy': 'SymmetricTree', 'l2_leaf_reg': 2.1542798306067823, 'learning_rate': 0.06864209415792857, 'max_ctr_complexity': 4, 'one_hot_max_size': 10, 'ag_args': {'name_suffix': '_r177', 'priority': -1}}, {'depth': 8, 'grow_policy': 'Depthwise', 'l2_leaf_reg': 2.7997999596449104, 'learning_rate': 0.031375015734637225, 'max_ctr_complexity': 2, 'one_hot_max_size': 3, 'ag_args': {'name_suffix': '_r9', 'priority': -5}}],\n",
      "\t'XGB': [{}, {'colsample_bytree': 0.6917311125174739, 'enable_categorical': False, 'learning_rate': 0.018063876087523967, 'max_depth': 10, 'min_child_weight': 0.6028633586934382, 'ag_args': {'name_suffix': '_r33', 'priority': -8}}, {'colsample_bytree': 0.6628423832084077, 'enable_categorical': False, 'learning_rate': 0.08775715546881824, 'max_depth': 5, 'min_child_weight': 0.6294123374222513, 'ag_args': {'name_suffix': '_r89', 'priority': -16}}],\n",
      "\t'FASTAI': [{}, {'bs': 256, 'emb_drop': 0.5411770367537934, 'epochs': 43, 'layers': [800, 400], 'lr': 0.01519848858318159, 'ps': 0.23782946566604385, 'ag_args': {'name_suffix': '_r191', 'priority': -4}}, {'bs': 2048, 'emb_drop': 0.05070411322605811, 'epochs': 29, 'layers': [200, 100], 'lr': 0.08974235041576624, 'ps': 0.10393466140748028, 'ag_args': {'name_suffix': '_r102', 'priority': -11}}],\n",
      "\t'RF': [{'criterion': 'gini', 'ag_args': {'name_suffix': 'Gini', 'problem_types': ['binary', 'multiclass']}}, {'criterion': 'entropy', 'ag_args': {'name_suffix': 'Entr', 'problem_types': ['binary', 'multiclass']}}, {'criterion': 'squared_error', 'ag_args': {'name_suffix': 'MSE', 'problem_types': ['regression', 'quantile']}}],\n",
      "\t'XT': [{'criterion': 'gini', 'ag_args': {'name_suffix': 'Gini', 'problem_types': ['binary', 'multiclass']}}, {'criterion': 'entropy', 'ag_args': {'name_suffix': 'Entr', 'problem_types': ['binary', 'multiclass']}}, {'criterion': 'squared_error', 'ag_args': {'name_suffix': 'MSE', 'problem_types': ['regression', 'quantile']}}],\n",
      "\t'KNN': [{'weights': 'uniform', 'ag_args': {'name_suffix': 'Unif'}}, {'weights': 'distance', 'ag_args': {'name_suffix': 'Dist'}}],\n",
      "}\n",
      "AutoGluon will fit 2 stack levels (L1 to L2) ...\n",
      "Excluded models: ['KNN'] (Specified by `excluded_model_types`)\n",
      "Fitting 106 L1 models ...\n",
      "Fitting model: LightGBMXT_BAG_L1 ... Training model for up to 1796.75s of the 2695.79s of remaining time.\n",
      "\tFitting 8 child models (S1F1 - S1F8) | Fitting with SequentialLocalFoldFittingStrategy\n"
     ]
    },
    {
     "name": "stdout",
     "output_type": "stream",
     "text": [
      "[1000]\tvalid_set's l1: 0.00512664\n",
      "[2000]\tvalid_set's l1: 0.00490928\n",
      "[3000]\tvalid_set's l1: 0.00476967\n",
      "[4000]\tvalid_set's l1: 0.00469281\n",
      "[5000]\tvalid_set's l1: 0.00463895\n",
      "[6000]\tvalid_set's l1: 0.00458621\n",
      "[7000]\tvalid_set's l1: 0.00454226\n",
      "[8000]\tvalid_set's l1: 0.00450308\n",
      "[9000]\tvalid_set's l1: 0.00447325\n",
      "[10000]\tvalid_set's l1: 0.00444994\n",
      "[1000]\tvalid_set's l1: 0.00519622\n",
      "[2000]\tvalid_set's l1: 0.00498774\n",
      "[3000]\tvalid_set's l1: 0.00484808\n",
      "[4000]\tvalid_set's l1: 0.00474986\n",
      "[5000]\tvalid_set's l1: 0.00467298\n",
      "[6000]\tvalid_set's l1: 0.0046111\n",
      "[7000]\tvalid_set's l1: 0.0045611\n",
      "[8000]\tvalid_set's l1: 0.00452505\n",
      "[9000]\tvalid_set's l1: 0.00449004\n",
      "[10000]\tvalid_set's l1: 0.00446546\n",
      "[1000]\tvalid_set's l1: 0.0050778\n",
      "[2000]\tvalid_set's l1: 0.00488511\n",
      "[3000]\tvalid_set's l1: 0.00477208\n",
      "[4000]\tvalid_set's l1: 0.00468454\n",
      "[5000]\tvalid_set's l1: 0.00462089\n",
      "[6000]\tvalid_set's l1: 0.00457365\n",
      "[7000]\tvalid_set's l1: 0.0045338\n",
      "[8000]\tvalid_set's l1: 0.00450254\n",
      "[9000]\tvalid_set's l1: 0.00447729\n",
      "[10000]\tvalid_set's l1: 0.00445223\n",
      "[1000]\tvalid_set's l1: 0.00499904\n",
      "[2000]\tvalid_set's l1: 0.00476185\n",
      "[3000]\tvalid_set's l1: 0.00462327\n",
      "[4000]\tvalid_set's l1: 0.00453697\n",
      "[5000]\tvalid_set's l1: 0.00447772\n",
      "[6000]\tvalid_set's l1: 0.00442722\n",
      "[7000]\tvalid_set's l1: 0.0043909\n",
      "[8000]\tvalid_set's l1: 0.00436183\n",
      "[9000]\tvalid_set's l1: 0.00433443\n",
      "[10000]\tvalid_set's l1: 0.0043158\n",
      "[1000]\tvalid_set's l1: 0.00505977\n",
      "[2000]\tvalid_set's l1: 0.00483424\n",
      "[3000]\tvalid_set's l1: 0.00470142\n",
      "[4000]\tvalid_set's l1: 0.00460992\n",
      "[5000]\tvalid_set's l1: 0.00454984\n",
      "[6000]\tvalid_set's l1: 0.0045031\n",
      "[7000]\tvalid_set's l1: 0.00446105\n",
      "[8000]\tvalid_set's l1: 0.00443447\n",
      "[9000]\tvalid_set's l1: 0.00440576\n",
      "[10000]\tvalid_set's l1: 0.00438284\n",
      "[1000]\tvalid_set's l1: 0.00515537\n",
      "[2000]\tvalid_set's l1: 0.00493593\n",
      "[3000]\tvalid_set's l1: 0.00480022\n",
      "[4000]\tvalid_set's l1: 0.00471396\n",
      "[5000]\tvalid_set's l1: 0.00464997\n",
      "[6000]\tvalid_set's l1: 0.00459958\n",
      "[7000]\tvalid_set's l1: 0.00456015\n",
      "[8000]\tvalid_set's l1: 0.00452088\n",
      "[9000]\tvalid_set's l1: 0.00448881\n",
      "[10000]\tvalid_set's l1: 0.00446181\n",
      "[1000]\tvalid_set's l1: 0.00486684\n",
      "[2000]\tvalid_set's l1: 0.00466692\n",
      "[3000]\tvalid_set's l1: 0.00454806\n",
      "[4000]\tvalid_set's l1: 0.00446047\n",
      "[5000]\tvalid_set's l1: 0.00439643\n",
      "[6000]\tvalid_set's l1: 0.00435465\n",
      "[7000]\tvalid_set's l1: 0.00431715\n",
      "[8000]\tvalid_set's l1: 0.00428497\n",
      "[9000]\tvalid_set's l1: 0.00425981\n",
      "[10000]\tvalid_set's l1: 0.00424303\n",
      "[1000]\tvalid_set's l1: 0.00504172\n",
      "[2000]\tvalid_set's l1: 0.00480705\n",
      "[3000]\tvalid_set's l1: 0.00468163\n",
      "[4000]\tvalid_set's l1: 0.00460185\n",
      "[5000]\tvalid_set's l1: 0.004552\n",
      "[6000]\tvalid_set's l1: 0.00450861\n",
      "[7000]\tvalid_set's l1: 0.0044799\n",
      "[8000]\tvalid_set's l1: 0.0044528\n",
      "[9000]\tvalid_set's l1: 0.00443556\n",
      "[10000]\tvalid_set's l1: 0.00441681\n"
     ]
    },
    {
     "name": "stderr",
     "output_type": "stream",
     "text": [
      "\t-0.0044\t = Validation score   (-mean_absolute_error)\n",
      "\t882.33s\t = Training   runtime\n",
      "\t3.95s\t = Validation runtime\n",
      "Fitting model: LightGBM_BAG_L1 ... Training model for up to 907.8s of the 1806.84s of remaining time.\n",
      "\tFitting 8 child models (S1F1 - S1F8) | Fitting with SequentialLocalFoldFittingStrategy\n"
     ]
    },
    {
     "name": "stdout",
     "output_type": "stream",
     "text": [
      "[1000]\tvalid_set's l1: 0.00447772\n",
      "[2000]\tvalid_set's l1: 0.00434355\n",
      "[3000]\tvalid_set's l1: 0.00429339\n",
      "[4000]\tvalid_set's l1: 0.00429393\n",
      "[1000]\tvalid_set's l1: 0.00447983\n",
      "[2000]\tvalid_set's l1: 0.0043389\n",
      "[3000]\tvalid_set's l1: 0.00429342\n",
      "[4000]\tvalid_set's l1: 0.00426614\n",
      "[5000]\tvalid_set's l1: 0.004256\n",
      "[6000]\tvalid_set's l1: 0.0042495\n",
      "[7000]\tvalid_set's l1: 0.00424525\n",
      "[8000]\tvalid_set's l1: 0.00424912\n",
      "[9000]\tvalid_set's l1: 0.00425948\n",
      "[1000]\tvalid_set's l1: 0.00453015\n",
      "[2000]\tvalid_set's l1: 0.00442871\n",
      "[3000]\tvalid_set's l1: 0.00438256\n",
      "[4000]\tvalid_set's l1: 0.00436422\n",
      "[5000]\tvalid_set's l1: 0.00435392\n",
      "[6000]\tvalid_set's l1: 0.0043555\n"
     ]
    },
    {
     "name": "stderr",
     "output_type": "stream",
     "text": [
      "\tRan out of time, early stopping on iteration 6951. Best iteration is:\n",
      "\t[5708]\tvalid_set's l1: 0.00435171\n"
     ]
    },
    {
     "name": "stdout",
     "output_type": "stream",
     "text": [
      "[1000]\tvalid_set's l1: 0.0043989\n",
      "[2000]\tvalid_set's l1: 0.00429926\n",
      "[3000]\tvalid_set's l1: 0.00427417\n",
      "[1000]\tvalid_set's l1: 0.00439734\n",
      "[2000]\tvalid_set's l1: 0.00429482\n",
      "[3000]\tvalid_set's l1: 0.00427288\n",
      "[4000]\tvalid_set's l1: 0.00425781\n",
      "[5000]\tvalid_set's l1: 0.0042636\n",
      "[1000]\tvalid_set's l1: 0.00453581\n",
      "[2000]\tvalid_set's l1: 0.00440453\n",
      "[3000]\tvalid_set's l1: 0.00433946\n",
      "[4000]\tvalid_set's l1: 0.00430923\n",
      "[5000]\tvalid_set's l1: 0.00430594\n",
      "[6000]\tvalid_set's l1: 0.00430389\n",
      "[7000]\tvalid_set's l1: 0.00430536\n",
      "[8000]\tvalid_set's l1: 0.0043131\n",
      "[1000]\tvalid_set's l1: 0.00427014\n",
      "[2000]\tvalid_set's l1: 0.00414756\n",
      "[3000]\tvalid_set's l1: 0.00410766\n",
      "[4000]\tvalid_set's l1: 0.00409732\n",
      "[5000]\tvalid_set's l1: 0.00410152\n",
      "[1000]\tvalid_set's l1: 0.00438552\n",
      "[2000]\tvalid_set's l1: 0.00429525\n",
      "[3000]\tvalid_set's l1: 0.00427662\n",
      "[4000]\tvalid_set's l1: 0.00427578\n"
     ]
    },
    {
     "name": "stderr",
     "output_type": "stream",
     "text": [
      "\t-0.0043\t = Validation score   (-mean_absolute_error)\n",
      "\t564.33s\t = Training   runtime\n",
      "\t1.61s\t = Validation runtime\n",
      "Fitting model: RandomForestMSE_BAG_L1 ... Training model for up to 340.54s of the 1239.58s of remaining time.\n",
      "\t-0.0037\t = Validation score   (-mean_absolute_error)\n",
      "\t2.79s\t = Training   runtime\n",
      "\t0.84s\t = Validation runtime\n",
      "Fitting model: CatBoost_BAG_L1 ... Training model for up to 336.48s of the 1235.52s of remaining time.\n",
      "\tFitting 8 child models (S1F1 - S1F8) | Fitting with SequentialLocalFoldFittingStrategy\n",
      "\tRan out of time, early stopping on iteration 5230.\n",
      "\tRan out of time, early stopping on iteration 5302.\n",
      "\tRan out of time, early stopping on iteration 5403.\n",
      "\tRan out of time, early stopping on iteration 5376.\n",
      "\tRan out of time, early stopping on iteration 5694.\n",
      "\tRan out of time, early stopping on iteration 5930.\n",
      "\tRan out of time, early stopping on iteration 6256.\n",
      "\tRan out of time, early stopping on iteration 6895.\n",
      "\t-0.0044\t = Validation score   (-mean_absolute_error)\n",
      "\t322.71s\t = Training   runtime\n",
      "\t0.04s\t = Validation runtime\n",
      "Fitting model: ExtraTreesMSE_BAG_L1 ... Training model for up to 13.65s of the 912.7s of remaining time.\n",
      "\t-0.0037\t = Validation score   (-mean_absolute_error)\n",
      "\t1.46s\t = Training   runtime\n",
      "\t0.7s\t = Validation runtime\n",
      "Fitting model: NeuralNetFastAI_BAG_L1 ... Training model for up to 11.09s of the 910.13s of remaining time.\n",
      "\tFitting 8 child models (S1F1 - S1F8) | Fitting with SequentialLocalFoldFittingStrategy\n",
      "\tTime limit exceeded... Skipping NeuralNetFastAI_BAG_L1.\n",
      "Fitting model: XGBoost_BAG_L1 ... Training model for up to 9.8s of the 908.84s of remaining time.\n",
      "\tFitting 8 child models (S1F1 - S1F8) | Fitting with SequentialLocalFoldFittingStrategy\n",
      "\t-0.0046\t = Validation score   (-mean_absolute_error)\n",
      "\t9.37s\t = Training   runtime\n",
      "\t0.05s\t = Validation runtime\n",
      "Fitting model: NeuralNetTorch_BAG_L1 ... Training model for up to 0.32s of the 899.36s of remaining time.\n",
      "\tFitting 8 child models (S1F1 - S1F8) | Fitting with SequentialLocalFoldFittingStrategy\n",
      "\tTime limit exceeded... Skipping NeuralNetTorch_BAG_L1.\n",
      "Fitting model: WeightedEnsemble_L2 ... Training model for up to 360.0s of the 898.63s of remaining time.\n",
      "\tEnsemble Weights: {'RandomForestMSE_BAG_L1': 0.667, 'ExtraTreesMSE_BAG_L1': 0.333}\n",
      "\t-0.0037\t = Validation score   (-mean_absolute_error)\n",
      "\t0.03s\t = Training   runtime\n",
      "\t0.0s\t = Validation runtime\n",
      "Excluded models: ['KNN'] (Specified by `excluded_model_types`)\n",
      "Fitting 106 L2 models ...\n",
      "Fitting model: LightGBMXT_BAG_L2 ... Training model for up to 898.59s of the 898.56s of remaining time.\n",
      "\tFitting 8 child models (S1F1 - S1F8) | Fitting with SequentialLocalFoldFittingStrategy\n",
      "\t-0.0035\t = Validation score   (-mean_absolute_error)\n",
      "\t40.82s\t = Training   runtime\n",
      "\t0.08s\t = Validation runtime\n",
      "Fitting model: LightGBM_BAG_L2 ... Training model for up to 857.55s of the 857.51s of remaining time.\n",
      "\tFitting 8 child models (S1F1 - S1F8) | Fitting with SequentialLocalFoldFittingStrategy\n",
      "\t-0.0035\t = Validation score   (-mean_absolute_error)\n",
      "\t25.39s\t = Training   runtime\n",
      "\t0.05s\t = Validation runtime\n",
      "Fitting model: RandomForestMSE_BAG_L2 ... Training model for up to 832.03s of the 831.99s of remaining time.\n",
      "\t-0.0036\t = Validation score   (-mean_absolute_error)\n",
      "\t11.66s\t = Training   runtime\n",
      "\t0.71s\t = Validation runtime\n",
      "Fitting model: CatBoost_BAG_L2 ... Training model for up to 819.23s of the 819.19s of remaining time.\n",
      "\tFitting 8 child models (S1F1 - S1F8) | Fitting with SequentialLocalFoldFittingStrategy\n",
      "\t-0.0035\t = Validation score   (-mean_absolute_error)\n",
      "\t16.18s\t = Training   runtime\n",
      "\t0.02s\t = Validation runtime\n",
      "Fitting model: ExtraTreesMSE_BAG_L2 ... Training model for up to 802.97s of the 802.93s of remaining time.\n",
      "\t-0.0036\t = Validation score   (-mean_absolute_error)\n",
      "\t2.42s\t = Training   runtime\n",
      "\t0.71s\t = Validation runtime\n",
      "Fitting model: NeuralNetFastAI_BAG_L2 ... Training model for up to 799.43s of the 799.39s of remaining time.\n",
      "\tFitting 8 child models (S1F1 - S1F8) | Fitting with SequentialLocalFoldFittingStrategy\n",
      "/opt/homebrew/Caskroom/miniconda/base/envs/ag/lib/python3.10/site-packages/fastai/learner.py:53: FutureWarning: You are using `torch.load` with `weights_only=False` (the current default value), which uses the default pickle module implicitly. It is possible to construct malicious pickle data which will execute arbitrary code during unpickling (See https://github.com/pytorch/pytorch/blob/main/SECURITY.md#untrusted-models for more details). In a future release, the default value for `weights_only` will be flipped to `True`. This limits the functions that could be executed during unpickling. Arbitrary objects will no longer be allowed to be loaded via this mode unless they are explicitly allowlisted by the user via `torch.serialization.add_safe_globals`. We recommend you start setting `weights_only=True` for any use case where you don't have full control of the loaded file. Please open an issue on GitHub for any issues related to this experimental feature.\n",
      "  state = torch.load(file, map_location=device, **torch_load_kwargs)\n",
      "/opt/homebrew/Caskroom/miniconda/base/envs/ag/lib/python3.10/site-packages/fastai/learner.py:53: FutureWarning: You are using `torch.load` with `weights_only=False` (the current default value), which uses the default pickle module implicitly. It is possible to construct malicious pickle data which will execute arbitrary code during unpickling (See https://github.com/pytorch/pytorch/blob/main/SECURITY.md#untrusted-models for more details). In a future release, the default value for `weights_only` will be flipped to `True`. This limits the functions that could be executed during unpickling. Arbitrary objects will no longer be allowed to be loaded via this mode unless they are explicitly allowlisted by the user via `torch.serialization.add_safe_globals`. We recommend you start setting `weights_only=True` for any use case where you don't have full control of the loaded file. Please open an issue on GitHub for any issues related to this experimental feature.\n",
      "  state = torch.load(file, map_location=device, **torch_load_kwargs)\n",
      "\tRan out of time, stopping training early. (Stopping on epoch 27)\n",
      "/opt/homebrew/Caskroom/miniconda/base/envs/ag/lib/python3.10/site-packages/fastai/learner.py:53: FutureWarning: You are using `torch.load` with `weights_only=False` (the current default value), which uses the default pickle module implicitly. It is possible to construct malicious pickle data which will execute arbitrary code during unpickling (See https://github.com/pytorch/pytorch/blob/main/SECURITY.md#untrusted-models for more details). In a future release, the default value for `weights_only` will be flipped to `True`. This limits the functions that could be executed during unpickling. Arbitrary objects will no longer be allowed to be loaded via this mode unless they are explicitly allowlisted by the user via `torch.serialization.add_safe_globals`. We recommend you start setting `weights_only=True` for any use case where you don't have full control of the loaded file. Please open an issue on GitHub for any issues related to this experimental feature.\n",
      "  state = torch.load(file, map_location=device, **torch_load_kwargs)\n",
      "\tTime limit exceeded... Skipping NeuralNetFastAI_BAG_L2.\n",
      "Fitting model: WeightedEnsemble_L3 ... Training model for up to 360.0s of the -1790.57s of remaining time.\n",
      "\tEnsemble Weights: {'LightGBMXT_BAG_L2': 0.25, 'LightGBM_BAG_L2': 0.25, 'RandomForestMSE_BAG_L2': 0.25, 'CatBoost_BAG_L2': 0.25}\n",
      "\t-0.0035\t = Validation score   (-mean_absolute_error)\n",
      "\t0.09s\t = Training   runtime\n",
      "\t0.0s\t = Validation runtime\n",
      "AutoGluon training complete, total runtime = 4486.58s ... Best model: WeightedEnsemble_L3 | Estimated inference throughput: 341.7 rows/s (2074 batch size)\n",
      "TabularPredictor saved. To load, use: predictor = TabularPredictor.load(\"AutogluonModels/ag-20241112_140917\")\n"
     ]
    }
   ],
   "source": [
    "# Train the model using AutoGluon\n",
    "predictor = TabularPredictor(label=target, eval_metric='mean_absolute_error').fit(\n",
    "    train_data, \n",
    "    presets='best_quality',\n",
    "    excluded_model_types=['KNN']\n",
    "    )"
   ]
  },
  {
   "cell_type": "code",
   "execution_count": 14,
   "metadata": {},
   "outputs": [
    {
     "name": "stdout",
     "output_type": "stream",
     "text": [
      "Evaluation Performance:\n",
      "\n",
      "Feature Importance:\n",
      "             importance    stddev       p_value  n  p99_high   p99_low\n",
      "timestamp      0.004313  0.000077  1.187729e-08  5  0.004471  0.004156\n",
      "temperature    0.003152  0.000072  3.180458e-08  5  0.003299  0.003005\n",
      "wind_speed     0.002211  0.000047  2.539095e-08  5  0.002308  0.002113\n"
     ]
    }
   ],
   "source": [
    "predictor = TabularPredictor.load(\"AutogluonModels/ag-20241112_140917\")\n",
    "# Evaluate on test data\n",
    "performance = predictor.evaluate(test_data)\n",
    "# best model: ag-20241022_161331\n",
    "\n",
    "print(\"Evaluation Performance:\")\n",
    "performance\n",
    "# reset index \n",
    "test_data = test_data.reset_index(drop=True)\n",
    "# To see feature importance\n",
    "global_importance = predictor.feature_importance(test_data)\n",
    "print(\"\\nFeature Importance:\")\n",
    "print(global_importance)  # Shows which features had the most impact on model predictions\n"
   ]
  },
  {
   "cell_type": "code",
   "execution_count": null,
   "metadata": {},
   "outputs": [
    {
     "data": {
      "text/plain": [
       "{'mean_absolute_error': -0.0034799417174892645,\n",
       " 'root_mean_squared_error': -0.0050093331443007445,\n",
       " 'mean_squared_error': -2.509341855058998e-05,\n",
       " 'r2': 0.6475561667855734,\n",
       " 'pearsonr': 0.8049922939535121,\n",
       " 'median_absolute_error': -0.0023045561561694725}"
      ]
     },
     "execution_count": 15,
     "metadata": {},
     "output_type": "execute_result"
    }
   ],
   "source": [
    "performance"
   ]
  },
  {
   "cell_type": "code",
   "execution_count": 16,
   "metadata": {},
   "outputs": [
    {
     "data": {
      "text/html": [
       "<div>\n",
       "<style scoped>\n",
       "    .dataframe tbody tr th:only-of-type {\n",
       "        vertical-align: middle;\n",
       "    }\n",
       "\n",
       "    .dataframe tbody tr th {\n",
       "        vertical-align: top;\n",
       "    }\n",
       "\n",
       "    .dataframe thead th {\n",
       "        text-align: right;\n",
       "    }\n",
       "</style>\n",
       "<table border=\"1\" class=\"dataframe\">\n",
       "  <thead>\n",
       "    <tr style=\"text-align: right;\">\n",
       "      <th></th>\n",
       "      <th>timestamp</th>\n",
       "      <th>temperature</th>\n",
       "      <th>wind_speed</th>\n",
       "    </tr>\n",
       "  </thead>\n",
       "  <tbody>\n",
       "    <tr>\n",
       "      <th>0</th>\n",
       "      <td>2023-07-01 00:00:00</td>\n",
       "      <td>13.6</td>\n",
       "      <td>1.6</td>\n",
       "    </tr>\n",
       "    <tr>\n",
       "      <th>1</th>\n",
       "      <td>2023-07-01 01:00:00</td>\n",
       "      <td>13.2</td>\n",
       "      <td>2.0</td>\n",
       "    </tr>\n",
       "    <tr>\n",
       "      <th>2</th>\n",
       "      <td>2023-07-01 02:00:00</td>\n",
       "      <td>12.3</td>\n",
       "      <td>1.6</td>\n",
       "    </tr>\n",
       "    <tr>\n",
       "      <th>3</th>\n",
       "      <td>2023-07-01 03:00:00</td>\n",
       "      <td>11.9</td>\n",
       "      <td>0.6</td>\n",
       "    </tr>\n",
       "    <tr>\n",
       "      <th>4</th>\n",
       "      <td>2023-07-01 04:00:00</td>\n",
       "      <td>11.9</td>\n",
       "      <td>0.2</td>\n",
       "    </tr>\n",
       "    <tr>\n",
       "      <th>...</th>\n",
       "      <td>...</td>\n",
       "      <td>...</td>\n",
       "      <td>...</td>\n",
       "    </tr>\n",
       "    <tr>\n",
       "      <th>10338</th>\n",
       "      <td>2024-09-03 18:00:00</td>\n",
       "      <td>17.8</td>\n",
       "      <td>2.5</td>\n",
       "    </tr>\n",
       "    <tr>\n",
       "      <th>10339</th>\n",
       "      <td>2024-09-03 19:00:00</td>\n",
       "      <td>17.8</td>\n",
       "      <td>1.8</td>\n",
       "    </tr>\n",
       "    <tr>\n",
       "      <th>10340</th>\n",
       "      <td>2024-09-03 20:00:00</td>\n",
       "      <td>17.7</td>\n",
       "      <td>1.1</td>\n",
       "    </tr>\n",
       "    <tr>\n",
       "      <th>10341</th>\n",
       "      <td>2024-09-03 21:00:00</td>\n",
       "      <td>18.0</td>\n",
       "      <td>3.4</td>\n",
       "    </tr>\n",
       "    <tr>\n",
       "      <th>10342</th>\n",
       "      <td>2024-09-03 22:00:00</td>\n",
       "      <td>17.9</td>\n",
       "      <td>3.0</td>\n",
       "    </tr>\n",
       "  </tbody>\n",
       "</table>\n",
       "<p>10343 rows × 3 columns</p>\n",
       "</div>"
      ],
      "text/plain": [
       "                timestamp  temperature  wind_speed\n",
       "0     2023-07-01 00:00:00         13.6         1.6\n",
       "1     2023-07-01 01:00:00         13.2         2.0\n",
       "2     2023-07-01 02:00:00         12.3         1.6\n",
       "3     2023-07-01 03:00:00         11.9         0.6\n",
       "4     2023-07-01 04:00:00         11.9         0.2\n",
       "...                   ...          ...         ...\n",
       "10338 2024-09-03 18:00:00         17.8         2.5\n",
       "10339 2024-09-03 19:00:00         17.8         1.8\n",
       "10340 2024-09-03 20:00:00         17.7         1.1\n",
       "10341 2024-09-03 21:00:00         18.0         3.4\n",
       "10342 2024-09-03 22:00:00         17.9         3.0\n",
       "\n",
       "[10343 rows x 3 columns]"
      ]
     },
     "execution_count": 16,
     "metadata": {},
     "output_type": "execute_result"
    }
   ],
   "source": [
    "# model location => AutogluonModels/ag-20241016_095906\n",
    "main_building = pipe.get_data(BuilingIdsEnum.MAIN)\n",
    "\n",
    "data_predict = main_building[features]\n",
    "data_predict\n"
   ]
  },
  {
   "cell_type": "code",
   "execution_count": 18,
   "metadata": {},
   "outputs": [],
   "source": [
    "prediciton1 = predictor.predict(data_predict)"
   ]
  },
  {
   "cell_type": "code",
   "execution_count": 19,
   "metadata": {},
   "outputs": [],
   "source": [
    "# save predicitons as a csv in data folder from root.\n",
    "import datetime\n",
    "from pathlib import Path\n",
    "\n",
    "\n",
    "prediciton1_df = pd.DataFrame(prediciton1)\n",
    "date_time = datetime.datetime.now().strftime(\"%Y%m%d_%H\")\n",
    "my_path = Path().resolve().parent.parent / 'data'/ \"pred\" / 'prediction_b_c.csv'\n",
    "if my_path.exists():\n",
    "    my_path = Path().resolve().parent.parent / 'data'/ \"pred\" / f'prediction_b_c_{date_time}.csv'\n",
    "# create folder\n",
    "my_path.parent.mkdir(parents=True, exist_ok=True)\n",
    "prediciton1_df.to_csv(my_path, index=False)"
   ]
  },
  {
   "cell_type": "code",
   "execution_count": null,
   "metadata": {},
   "outputs": [
    {
     "name": "stdout",
     "output_type": "stream",
     "text": [
      "\n",
      "SMAPE: 13.32%\n",
      "Mean Percentage Error: 17.44%\n",
      "Median Percentage Error: 7.85%\n",
      "Max Percentage Error: 10232.00%\n"
     ]
    },
    {
     "data": {
      "image/png": "[encoded data removed]",
      "text/plain": [
       "<Figure size 1000x600 with 1 Axes>"
      ]
     },
     "metadata": {},
     "output_type": "display_data"
    },
    {
     "name": "stdout",
     "output_type": "stream",
     "text": [
      "\n",
      "Feature Importance:\n",
      "             importance    stddev       p_value  n  p99_high   p99_low\n",
      "timestamp      0.004313  0.000077  1.187729e-08  5  0.004471  0.004156\n",
      "temperature    0.003152  0.000072  3.180458e-08  5  0.003299  0.003005\n",
      "wind_speed     0.002211  0.000047  2.539095e-08  5  0.002308  0.002113\n"
     ]
    },
    {
     "data": {
      "text/plain": [
       "<Figure size 1200x800 with 0 Axes>"
      ]
     },
     "metadata": {},
     "output_type": "display_data"
    },
    {
     "data": {
      "image/png": "[encoded data removed]",
      "text/plain": [
       "<Figure size 640x480 with 1 Axes>"
      ]
     },
     "metadata": {},
     "output_type": "display_data"
    },
    {
     "ename": "AttributeError",
     "evalue": "'TabularPredictor' object has no attribute 'explain'",
     "output_type": "error",
     "traceback": [
      "\u001b[0;31m---------------------------------------------------------------------------\u001b[0m",
      "\u001b[0;31mAttributeError\u001b[0m                            Traceback (most recent call last)",
      "Cell \u001b[0;32mIn[21], line 53\u001b[0m\n\u001b[1;32m     50\u001b[0m plt\u001b[38;5;241m.\u001b[39mshow()\n\u001b[1;32m     52\u001b[0m \u001b[38;5;66;03m# Optional: SHAP Values for advanced insights\u001b[39;00m\n\u001b[0;32m---> 53\u001b[0m explainer \u001b[38;5;241m=\u001b[39m \u001b[43mpredictor\u001b[49m\u001b[38;5;241;43m.\u001b[39;49m\u001b[43mexplain\u001b[49m(test_data, model\u001b[38;5;241m=\u001b[39m\u001b[38;5;124m'\u001b[39m\u001b[38;5;124mbest\u001b[39m\u001b[38;5;124m'\u001b[39m)\n\u001b[1;32m     54\u001b[0m explainer\u001b[38;5;241m.\u001b[39mplot_feature_importance()\n",
      "\u001b[0;31mAttributeError\u001b[0m: 'TabularPredictor' object has no attribute 'explain'"
     ]
    }
   ],
   "source": [
    "import numpy as np\n",
    "# Reset index if needed\n",
    "test_data = test_data.reset_index(drop=True)\n",
    "\n",
    "# Compute SMAPE\n",
    "def smape(y_true, y_pred):\n",
    "    denominator = (np.abs(y_true) + np.abs(y_pred)) / 2\n",
    "    diff = np.abs(y_true - y_pred)\n",
    "    smape_values = np.where(denominator != 0, diff / denominator, 0)\n",
    "    return np.mean(smape_values) * 100\n",
    "\n",
    "# Replace 'target_column' with your actual target column name\n",
    "y_true = test_data[target]\n",
    "y_pred = predictor.predict(test_data)\n",
    "smape_value = smape(y_true, y_pred)\n",
    "print(f\"\\nSMAPE: {smape_value:.2f}%\")\n",
    "\n",
    "# Analyze percent-wise errors\n",
    "percentage_errors = np.abs((y_true - y_pred) / y_true) * 100\n",
    "percentage_errors = np.where(y_true != 0, percentage_errors, 0)\n",
    "\n",
    "mean_percentage_error = np.mean(percentage_errors)\n",
    "median_percentage_error = np.median(percentage_errors)\n",
    "max_percentage_error = np.max(percentage_errors)"
   ]
  },
  {
   "cell_type": "code",
   "execution_count": 31,
   "metadata": {},
   "outputs": [
    {
     "name": "stdout",
     "output_type": "stream",
     "text": [
      "Mean Percentage Error: 17.44%\n",
      "Median Percentage Error: 7.85%\n",
      "Max Percentage Error: 10232.00%\n"
     ]
    },
    {
     "data": {
      "image/png": "[encoded data removed]",
      "text/plain": [
       "<Figure size 1000x600 with 1 Axes>"
      ]
     },
     "metadata": {},
     "output_type": "display_data"
    },
    {
     "name": "stdout",
     "output_type": "stream",
     "text": [
      "\n",
      "Feature Importance:\n",
      "             importance    stddev       p_value  p99_high   p99_low\n",
      "timestamp      0.004313  0.000077  1.187729e-08  0.004471  0.004156\n",
      "temperature    0.003152  0.000072  3.180458e-08  0.003299  0.003005\n",
      "wind_speed     0.002211  0.000047  2.539095e-08  0.002308  0.002113\n"
     ]
    },
    {
     "data": {
      "image/png": "[encoded data removed]",
      "text/plain": [
       "<Figure size 640x480 with 1 Axes>"
      ]
     },
     "metadata": {},
     "output_type": "display_data"
    },
    {
     "data": {
      "text/plain": [
       "<Figure size 1200x800 with 0 Axes>"
      ]
     },
     "metadata": {},
     "output_type": "display_data"
    },
    {
     "data": {
      "image/png": "[encoded data removed]",
      "text/plain": [
       "<Figure size 640x480 with 1 Axes>"
      ]
     },
     "metadata": {},
     "output_type": "display_data"
    }
   ],
   "source": [
    "trimmed_percentage_errors = percentage_errors[percentage_errors < 100]\n",
    "\n",
    "print(f\"Mean Percentage Error: {mean_percentage_error:.2f}%\")\n",
    "print(f\"Median Percentage Error: {median_percentage_error:.2f}%\")\n",
    "print(f\"Max Percentage Error: {max_percentage_error:.2f}%\")\n",
    "\n",
    "# Plot percentage error distribution\n",
    "plt.figure(figsize=(10, 6))\n",
    "plt.hist(trimmed_percentage_errors, bins=50, color='skyblue', edgecolor='black')\n",
    "plt.xlabel('Percentage Error (%)')\n",
    "plt.ylabel('Frequency')\n",
    "plt.title('Distribution of Percentage Errors')\n",
    "plt.grid(True)\n",
    "plt.show()\n",
    "\n",
    "# Feature Importance\n",
    "# global_importance = predictor.feature_importance(test_data)\n",
    "print(\"\\nFeature Importance:\")\n",
    "print(global_importance)\n",
    "if 'n' in global_importance.columns:\n",
    "    global_importance = global_importance.drop(columns=['n'])\n",
    "global_importance.head(20).plot(kind='barh')\n",
    "\n",
    "\n",
    "# Plot top 20 feature importances\n",
    "plt.figure(figsize=(12, 8))\n",
    "global_importance.head(20).plot(kind='barh')\n",
    "plt.xlabel('Importance')\n",
    "plt.title('Top 20 Feature Importances')\n",
    "plt.gca().invert_yaxis()\n",
    "# plt.show()\n",
    "\n"
   ]
  }
 ],
 "metadata": {
  "kernelspec": {
   "display_name": "ag",
   "language": "python",
   "name": "python3"
  },
  "language_info": {
   "codemirror_mode": {
    "name": "ipython",
    "version": 3
   },
   "file_extension": ".py",
   "mimetype": "text/x-python",
   "name": "python",
   "nbconvert_exporter": "python",
   "pygments_lexer": "ipython3",
   "version": "3.10.13"
  }
 },
 "nbformat": 4,
 "nbformat_minor": 2
}
