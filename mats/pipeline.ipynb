{
 "cells": [
  {
   "cell_type": "code",
   "execution_count": 13,
   "metadata": {},
   "outputs": [
    {
     "name": "stdout",
     "output_type": "stream",
     "text": [
      "The autoreload extension is already loaded. To reload it, use:\n",
      "  %reload_ext autoreload\n"
     ]
    }
   ],
   "source": [
    "%load_ext autoreload"
   ]
  },
  {
   "cell_type": "code",
   "execution_count": 14,
   "metadata": {},
   "outputs": [],
   "source": [
    "# Import necessary libraries\n",
    "%autoreload\n",
    "import pandas as pd\n",
    "import matplotlib.pyplot as plt\n",
    "import seaborn as sns\n",
    "\n",
    "pd.set_option('display.max_rows', 200)\n",
    "pd.set_option('display.max_columns', None)"
   ]
  },
  {
   "cell_type": "code",
   "execution_count": 15,
   "metadata": {},
   "outputs": [],
   "source": [
    "energy_df = pd.read_csv('../data/energy_import_export.csv')\n",
    "solar_df = pd.read_csv('../data/solar_self_consumption_main_building.csv')\n",
    "met_df = pd.read_csv('../data/met_data.csv')\n",
    "\n",
    "# Convert timestamp columns to datetime\n",
    "energy_df['Tidspunkt'] = pd.to_datetime(energy_df['Tidspunkt'], format=\"mixed\")\n",
    "solar_df['starting_at'] = pd.to_datetime(solar_df['starting_at'], format='mixed')\n",
    "\n",
    "# remove utc from the time string\n",
    "met_df['starting_at'] = met_df['starting_at'].str.split('+').str[0]\n",
    "met_df['starting_at'] = pd.to_datetime(met_df['starting_at'], format='mixed')\n",
    "\n",
    "energy_df.rename(columns={\n",
    "    'Energikilde': 'energy_source',\n",
    "    'Retning': 'direction',\n",
    "    'Målernavn': 'meter_name',\n",
    "    'Måler-Id': 'meter_id',\n",
    "    'Verdi': 'value',\n",
    "    'Tidspunkt': 'timestamp'\n",
    "}, inplace=True)\n",
    "\n",
    "\n",
    "solar_df.rename(columns={\n",
    "    'starting_at': 'timestamp'\n",
    "}, inplace=True)\n",
    "met_df.rename(columns={\n",
    "    'starting_at': 'timestamp'\n",
    "}, inplace=True)\n",
    "\n",
    "meter_property_mapping = {\n",
    "    '707057500042745649': 10724, #main building\n",
    "    '707057500038344962': 10703, # building A\n",
    "    '707057500085390523': 4462, # building B\n",
    "    '707057500042201572': 4746 # building C\n",
    "}\n",
    "id_to_name_property_mapping= {\n",
    "    10724: 'main building',\n",
    "    10703: 'building A',\n",
    "    4462: 'building B',\n",
    "    4746: 'building C'\n",
    "}\n",
    "def get_name(id):\n",
    "    return id_to_name_property_mapping[id]\n",
    "\n",
    "energy_df['meter_id'] = energy_df['meter_id'].astype(str)\n",
    "energy_df['meter_id'] = energy_df['meter_id'].str.strip()\n",
    "\n",
    "energy_df['property_id'] = energy_df['meter_id'].map(meter_property_mapping)\n",
    "energy_df['building'] = energy_df['property_id'].map(id_to_name_property_mapping)\n",
    "merged_df = pd.merge(energy_df, met_df, on=['property_id', 'timestamp'], how='left')\n",
    "# Separate import (consumption) and export (production)\n",
    "import_df = merged_df[merged_df['direction'] == 'IMPORT']\n",
    "export_df = merged_df[merged_df['direction'] == 'EXPORT']\n"
   ]
  },
  {
   "cell_type": "code",
   "execution_count": 16,
   "metadata": {},
   "outputs": [
    {
     "name": "stderr",
     "output_type": "stream",
     "text": [
      "/var/folders/b0/slnc__2x31jczblnsfgfmjw00000gn/T/ipykernel_54716/254535094.py:28: SettingWithCopyWarning: \n",
      "A value is trying to be set on a copy of a slice from a DataFrame.\n",
      "Try using .loc[row_indexer,col_indexer] = value instead\n",
      "\n",
      "See the caveats in the documentation: https://pandas.pydata.org/pandas-docs/stable/user_guide/indexing.html#returning-a-view-versus-a-copy\n",
      "  ref_buildings_df['year'] = ref_buildings_df['timestamp'].dt.isocalendar().year\n",
      "/var/folders/b0/slnc__2x31jczblnsfgfmjw00000gn/T/ipykernel_54716/254535094.py:29: SettingWithCopyWarning: \n",
      "A value is trying to be set on a copy of a slice from a DataFrame.\n",
      "Try using .loc[row_indexer,col_indexer] = value instead\n",
      "\n",
      "See the caveats in the documentation: https://pandas.pydata.org/pandas-docs/stable/user_guide/indexing.html#returning-a-view-versus-a-copy\n",
      "  ref_buildings_df['week'] = ref_buildings_df['timestamp'].dt.isocalendar().week\n"
     ]
    }
   ],
   "source": [
    "main_building_import = import_df[import_df['property_id'] == 10724]\n",
    "main_building_export = export_df[export_df['property_id'] == 10724]\n",
    "\n",
    "main_building_df = pd.merge(main_building_import, solar_df, left_on='timestamp', right_on='timestamp', how='left')\n",
    "\n",
    "# Replace NaN in solar_consumption with 0\n",
    "main_building_df['solar_consumption'] = main_building_df['solar_consumption'].fillna(0)\n",
    "\n",
    "# Calculate total consumption including self-consumed solar energy\n",
    "main_building_df['total_consumption'] = main_building_df['value'] + main_building_df['solar_consumption']\n",
    "# Get import data for reference buildings\n",
    "ref_buildings = [10703, 4462, 4746]\n",
    "ref_buildings_df = import_df[import_df['property_id'].isin(ref_buildings)]\n",
    "\n",
    "# Aggregate data to daily or monthly consumption\n",
    "main_daily_consumption = main_building_df.groupby(main_building_df['timestamp'].dt.date)['value'].sum()#.reset_index()\n",
    "ref_daily_consumption = ref_buildings_df.groupby(['property_id', ref_buildings_df['timestamp'].dt.date])['value'].sum().reset_index()\n",
    "\n",
    "\n",
    "\n",
    "# Add 'year' and 'week' columns\n",
    "import datetime\n",
    "\n",
    "\n",
    "main_building_df['year'] = main_building_df['timestamp'].dt.isocalendar().year\n",
    "main_building_df['week'] = main_building_df['timestamp'].dt.isocalendar().week\n",
    "\n",
    "ref_buildings_df['year'] = ref_buildings_df['timestamp'].dt.isocalendar().year\n",
    "ref_buildings_df['week'] = ref_buildings_df['timestamp'].dt.isocalendar().week\n",
    "\n",
    "# Weekly Aggregation for Main Building\n",
    "main_weekly_consumption = main_building_df.groupby(['year', 'week'])['value'].sum()\n",
    "main_weekly_consumption.index = pd.MultiIndex.from_tuples(main_weekly_consumption.index, names=['year', 'week'])\n",
    "\n",
    "main_weekly_consumption = main_weekly_consumption.reset_index()\n",
    "main_weekly_consumption['timestamp'] = main_weekly_consumption.apply(lambda x: datetime.date.fromisocalendar(int(x['year']), int(x['week']), 1), axis=1)\n",
    "main_weekly_consumption['timestamp'] = pd.to_datetime(main_weekly_consumption['timestamp'])\n",
    "main_weekly_consumption.index = main_weekly_consumption['timestamp']\n",
    "main_weekly_consumption.drop(columns=['timestamp', \"year\", \"week\"], inplace=True)\n",
    "\n",
    "# Weekly Aggregation for Reference Buildings\n",
    "ref_weekly_consumption = ref_buildings_df.groupby(['property_id', 'year', 'week'])['value'].sum().reset_index()\n",
    "# Optionally, create a representative timestamp for the week (e.g., the first day of the week)\n",
    "# Convert 'year' and 'week' to integers\n",
    "ref_weekly_consumption['year'] = ref_weekly_consumption['year'].astype(int)\n",
    "ref_weekly_consumption['week'] = ref_weekly_consumption['week'].astype(int)\n",
    "\n",
    "ref_weekly_consumption['timestamp'] = ref_weekly_consumption.apply(lambda x: datetime.date.fromisocalendar(int(x['year']), int(x['week']), 1), axis=1)\n",
    "ref_weekly_consumption['timestamp'] = pd.to_datetime(ref_weekly_consumption['timestamp'])\n"
   ]
  },
  {
   "cell_type": "code",
   "execution_count": null,
   "metadata": {},
   "outputs": [],
   "source": []
  },
  {
   "cell_type": "code",
   "execution_count": null,
   "metadata": {},
   "outputs": [],
   "source": []
  }
 ],
 "metadata": {
  "kernelspec": {
   "display_name": "ads",
   "language": "python",
   "name": "python3"
  },
  "language_info": {
   "codemirror_mode": {
    "name": "ipython",
    "version": 3
   },
   "file_extension": ".py",
   "mimetype": "text/x-python",
   "name": "python",
   "nbconvert_exporter": "python",
   "pygments_lexer": "ipython3",
   "version": "3.10.13"
  }
 },
 "nbformat": 4,
 "nbformat_minor": 2
}
